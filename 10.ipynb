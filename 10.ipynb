{
 "cells": [
  {
   "cell_type": "code",
   "execution_count": null,
   "metadata": {
    "collapsed": true
   },
   "outputs": [],
   "source": [
    "Given an array of integers, return indices of the two numbers such that they add up to a specific target.\n",
    "\n",
    "You may assume that each input would have exactly one solution, and you may not use the same element twice.\n",
    "\n",
    "Example:\n",
    "\n",
    "Given nums = [2, 7, 11, 15], target = 9,\n",
    "\n",
    "Because nums[0] + nums[1] = 2 + 7 = 9, return [0, 1]."
   ]
  },
  {
   "cell_type": "code",
   "execution_count": 8,
   "metadata": {
    "collapsed": true
   },
   "outputs": [],
   "source": [
    "def binarySearch(A, target, l, r):\n",
    "    m = int (l + (r-l)/2)\n",
    "    while l<=r:\n",
    "        if A[m] == target:\n",
    "            return m\n",
    "        elif A[m] < target:\n",
    "            return binarySearch(A, target, m+1, r)\n",
    "        else:\n",
    "            return binarySearch(A, target, l, m-1)\n",
    "    return -1\n",
    "                    "
   ]
  },
  {
   "cell_type": "code",
   "execution_count": 61,
   "metadata": {},
   "outputs": [
    {
     "data": {
      "text/plain": [
       "1"
      ]
     },
     "execution_count": 61,
     "metadata": {},
     "output_type": "execute_result"
    }
   ],
   "source": [
    "A = [1,5,38,50]\n",
    "binarySearch(A, 5, 0, 2)"
   ]
  },
  {
   "cell_type": "code",
   "execution_count": 32,
   "metadata": {
    "collapsed": true
   },
   "outputs": [],
   "source": [
    "def twoSum(A, target):\n",
    "    for i,v in enumerate(A):\n",
    "        a = binarySearch(A[i+1:], target-v, 0, len(A[i+1:])-1)\n",
    "        if a != -1:\n",
    "            return (i,a+i+1)\n",
    "    return -1"
   ]
  },
  {
   "cell_type": "code",
   "execution_count": 35,
   "metadata": {},
   "outputs": [
    {
     "data": {
      "text/plain": [
       "-1"
      ]
     },
     "execution_count": 35,
     "metadata": {},
     "output_type": "execute_result"
    }
   ],
   "source": [
    "twoSum(A,10)"
   ]
  },
  {
   "cell_type": "code",
   "execution_count": 64,
   "metadata": {
    "collapsed": true
   },
   "outputs": [],
   "source": [
    "def twoSumHash(A, target):\n",
    "    hash_table = {}\n",
    "    for i,v in enumerate(A):\n",
    "        hash_table[v] = i\n",
    "    for i,v in enumerate(A):\n",
    "        if (target - v) in hash_table:\n",
    "            if hash_table[target-v] != i:\n",
    "                return (i, hash_table[target-v])\n",
    "    return -1"
   ]
  },
  {
   "cell_type": "code",
   "execution_count": 65,
   "metadata": {},
   "outputs": [
    {
     "data": {
      "text/plain": [
       "-1"
      ]
     },
     "execution_count": 65,
     "metadata": {},
     "output_type": "execute_result"
    }
   ],
   "source": [
    "twoSumHash(A,10)"
   ]
  },
  {
   "cell_type": "code",
   "execution_count": null,
   "metadata": {
    "collapsed": true
   },
   "outputs": [],
   "source": []
  },
  {
   "cell_type": "code",
   "execution_count": null,
   "metadata": {
    "collapsed": true
   },
   "outputs": [],
   "source": []
  },
  {
   "cell_type": "code",
   "execution_count": null,
   "metadata": {
    "collapsed": true
   },
   "outputs": [],
   "source": []
  },
  {
   "cell_type": "code",
   "execution_count": null,
   "metadata": {
    "collapsed": true
   },
   "outputs": [],
   "source": []
  },
  {
   "cell_type": "code",
   "execution_count": null,
   "metadata": {
    "collapsed": true
   },
   "outputs": [],
   "source": [
    "You are given two non-empty linked lists representing two non-negative integers. The digits are stored in reverse order and \n",
    "each of their nodes contain a single digit. Add the two numbers and return it as a linked list.\n",
    "\n",
    "You may assume the two numbers do not contain any leading zero, except the number 0 itself.\n",
    "\n",
    "Input: (2 -> 4 -> 3) + (5 -> 6 -> 4) Output: 7 -> 0 -> 8"
   ]
  },
  {
   "cell_type": "code",
   "execution_count": 55,
   "metadata": {
    "collapsed": true
   },
   "outputs": [],
   "source": [
    "class node:\n",
    "    def __init__(self, value):\n",
    "        self.value = value\n",
    "        self.next = None\n",
    "    \n",
    "    def printNode(self):\n",
    "        print(\" -> \", self.value, end=\"\")"
   ]
  },
  {
   "cell_type": "code",
   "execution_count": 41,
   "metadata": {},
   "outputs": [
    {
     "name": "stdout",
     "output_type": "stream",
     "text": [
      " ->  1\n"
     ]
    }
   ],
   "source": [
    "a = node(1)\n",
    "a.printNode()"
   ]
  },
  {
   "cell_type": "code",
   "execution_count": 58,
   "metadata": {
    "collapsed": true
   },
   "outputs": [],
   "source": [
    "def addTwoNum(A, B):\n",
    "    r = 0\n",
    "    if A == None or B == None:\n",
    "        return -1\n",
    "    a = node(A[0]+B[0])\n",
    "    start = a\n",
    "    A.pop(0)\n",
    "    B.pop(0)\n",
    "    if len(A) >= len(B):\n",
    "        for i, v in enumerate(B):\n",
    "            if A[i] + B[i] >= 10:\n",
    "                a.next = node(A[i] + B[i]-10+r)\n",
    "                r = 1\n",
    "            else:\n",
    "                a. next = node(A[i]+B[i]+r)\n",
    "                r = 0\n",
    "            a = a.next\n",
    "    a = start\n",
    "    print(a.value, end= \" \")\n",
    "    a= a.next\n",
    "    while a.next:\n",
    "        a.printNode()\n",
    "        a = a.next\n",
    "    a.printNode()"
   ]
  },
  {
   "cell_type": "code",
   "execution_count": 59,
   "metadata": {},
   "outputs": [
    {
     "name": "stdout",
     "output_type": "stream",
     "text": [
      "7  ->  0 ->  8"
     ]
    }
   ],
   "source": [
    "addTwoNum([2,4,3], [5,6,4])"
   ]
  },
  {
   "cell_type": "code",
   "execution_count": null,
   "metadata": {
    "collapsed": true
   },
   "outputs": [],
   "source": []
  },
  {
   "cell_type": "code",
   "execution_count": null,
   "metadata": {
    "collapsed": true
   },
   "outputs": [],
   "source": []
  },
  {
   "cell_type": "code",
   "execution_count": null,
   "metadata": {
    "collapsed": true
   },
   "outputs": [],
   "source": []
  },
  {
   "cell_type": "code",
   "execution_count": null,
   "metadata": {
    "collapsed": true
   },
   "outputs": [],
   "source": []
  },
  {
   "cell_type": "code",
   "execution_count": null,
   "metadata": {
    "collapsed": true
   },
   "outputs": [],
   "source": []
  },
  {
   "cell_type": "code",
   "execution_count": null,
   "metadata": {
    "collapsed": true
   },
   "outputs": [],
   "source": [
    "Given a string, find the length of the longest substring without repeating characters.\n",
    "\n",
    "Examples:\n",
    "\n",
    "Given \"abcabcbb\", the answer is \"abc\", which the length is 3.\n",
    "\n",
    "Given \"bbbbb\", the answer is \"b\", with the length of 1.\n",
    "\n",
    "Given \"pwwkew\", the answer is \"wke\", with the length of 3. Note that the answer must be a substring, \"pwke\" is a subsequence\n",
    "and not a substring."
   ]
  },
  {
   "cell_type": "code",
   "execution_count": 94,
   "metadata": {
    "collapsed": true
   },
   "outputs": [],
   "source": [
    "def longestSubstring(s):\n",
    "    m = 1\n",
    "    for i,v in enumerate(s[:-1]):\n",
    "        m = max(m, s.find(v,i+1)-i)\n",
    "    return m"
   ]
  },
  {
   "cell_type": "code",
   "execution_count": 96,
   "metadata": {},
   "outputs": [
    {
     "data": {
      "text/plain": [
       "1"
      ]
     },
     "execution_count": 96,
     "metadata": {},
     "output_type": "execute_result"
    }
   ],
   "source": [
    "longestSubstring(\"bbb\")"
   ]
  },
  {
   "cell_type": "code",
   "execution_count": null,
   "metadata": {
    "collapsed": true
   },
   "outputs": [],
   "source": [
    "There are two sorted arrays nums1 and nums2 of size m and n respectively.\n",
    "\n",
    "Find the median of the two sorted arrays. The overall run time complexity should be O(log (m+n)).\n",
    "\n",
    "Example 1:\n",
    "\n",
    "nums1 = [1, 3] nums2 = [2]\n",
    "\n",
    "The median is 2.0\n",
    "\n",
    "Example 2:\n",
    "\n",
    "nums1 = [1, 2] nums2 = [3, 4]\n",
    "\n",
    "The median is (2 + 3)/2 = 2.5"
   ]
  },
  {
   "cell_type": "code",
   "execution_count": 6,
   "metadata": {},
   "outputs": [],
   "source": [
    "def findMedianOfSortedArrays(nums1, nums2):\n",
    "    length1 = len(nums1)\n",
    "    length2 = len(nums2)\n",
    "    k = length1 + (length2 - length1) //2\n",
    "    if (length1 + length2) %  2 == 0:\n",
    "        return (findK(nums1, nums2, k) + findK(nums1, nums2, k-1))/2\n",
    "    else:\n",
    "        return findK(nums1, nums2, k)\n",
    "    \n",
    "    \n",
    "    \n",
    "    \n",
    "def findK(nums1, nums2, k):\n",
    "    if not nums1:\n",
    "        return nums2[k]\n",
    "    if not nums2:\n",
    "        return nums1[k]\n",
    "    if k == 0:\n",
    "        return min(nums1[0], nums2[0])\n",
    "    length1 = len(nums1)\n",
    "    length2 = len(nums2)\n",
    "    if nums1[length1//2] > nums2[length2//2]:\n",
    "        if k > length1//2 + length2//2:\n",
    "            return findK(nums1, nums2[length2//2+1:], k-length2//2-1)\n",
    "        else:\n",
    "            return findK(nums1[:length1//2], nums2, k)\n",
    "    else:\n",
    "        if k > length1//2 + length2//2:\n",
    "            return findK(nums1[length1//2+1:], nums2, k-length1//2-1)\n",
    "        else:\n",
    "            return findK(nums1, nums2[:length2//2], k)\n",
    "#     l1,l2=0\n",
    "#     r1 = len(num1)-1\n",
    "#     r2 = len(num2)-1\n",
    "#     m1 = l1 + (r1-l1)//2\n",
    "#     m2 = l2 + (r2-l2)//2\n",
    "    "
   ]
  },
  {
   "cell_type": "code",
   "execution_count": 8,
   "metadata": {},
   "outputs": [
    {
     "data": {
      "text/plain": [
       "2.5"
      ]
     },
     "execution_count": 8,
     "metadata": {},
     "output_type": "execute_result"
    }
   ],
   "source": [
    "findMedianOfSortedArrays([1,3],[2,4])"
   ]
  },
  {
   "cell_type": "code",
   "execution_count": null,
   "metadata": {
    "collapsed": true
   },
   "outputs": [],
   "source": [
    "Given a string s, find the longest palindromic substring in s. You may assume that the maximum length of s is 1000.\n",
    "\n",
    "Example:\n",
    "\n",
    "Input: \"babad\"\n",
    "\n",
    "Output: \"bab\"\n",
    "\n",
    "Note: \"aba\" is also a valid answer.\n",
    "\n",
    "Example:\n",
    "\n",
    "Input: \"cbbd\"\n",
    "\n",
    "Output: \"bb\""
   ]
  },
  {
   "cell_type": "code",
   "execution_count": 15,
   "metadata": {
    "collapsed": true
   },
   "outputs": [],
   "source": [
    "def getPalindromicNums(s):\n",
    "    nums = 0\n",
    "    for i,v in enumerate(s):\n",
    "        nums += palindromicCenteredAt(i,s)\n",
    "    return nums\n",
    "\n",
    "def palindromicCenteredAt(i,s):\n",
    "    d = 1\n",
    "    nums = 1\n",
    "    while i-d>=0 and i+d < len(s):\n",
    "        if s[i-d] == s[i+d]:\n",
    "            nums += 1\n",
    "            d += 1\n",
    "        else:\n",
    "            break\n",
    "    if i!=0 and s[i]==s[i-1]:\n",
    "        d = 1\n",
    "        nums += 1\n",
    "        while i-1-d>=0 and i+d < len(s):\n",
    "            if s[i-d-1] == s[i+d]:\n",
    "                nums += 1\n",
    "                d += 1\n",
    "            else:\n",
    "                break\n",
    "    return nums"
   ]
  },
  {
   "cell_type": "code",
   "execution_count": 16,
   "metadata": {},
   "outputs": [
    {
     "data": {
      "text/plain": [
       "12"
      ]
     },
     "execution_count": 16,
     "metadata": {},
     "output_type": "execute_result"
    }
   ],
   "source": [
    "getPalindromicNums(\"abcddcba\")"
   ]
  },
  {
   "cell_type": "code",
   "execution_count": 12,
   "metadata": {
    "collapsed": true
   },
   "outputs": [],
   "source": [
    "# def getLongestPalindromic(s):\n",
    "#     if not s:\n",
    "#         return\n",
    "#     if n == 1:\n",
    "#         return s\n",
    "#     l,r,m,c = 0\n",
    "#     b= Ture\n",
    "#     for i in range(0,n):\n",
    "#         # Odd situation\n",
    "#         for j in range(0, min(n-i,i+1)):\n",
    "#             if(s[i-j] != s[i+j]):\n",
    "#                 b = False\n",
    "#                 break\n",
    "#             else:\n",
    "#                 c = 2*j+1\n",
    "#         if c>m:\n",
    "#             l = i-j+1-b\n",
    "#             r=i+j+b\n",
    "#             m=c\n",
    "#         b=True\n",
    "        \n",
    "            \n",
    "    "
   ]
  },
  {
   "cell_type": "code",
   "execution_count": 14,
   "metadata": {},
   "outputs": [
    {
     "name": "stdout",
     "output_type": "stream",
     "text": [
      "0\n",
      "1\n"
     ]
    }
   ],
   "source": [
    "The string \"PAYPALISHIRING\" is written in a zigzag pattern on a given number of rows like this: (you may want to display this pattern in a fixed font for better legibility)\n",
    "\n",
    "P A H N A P L S I I G Y I R\n",
    "\n",
    "And then read line by line: \"PAHNAPLSIIGYIR\"\n",
    "\n",
    "Write the code that will take a string and make this conversion given a number of rows:\n",
    "\n",
    "string convert(string text, int nRows);\n",
    "\n",
    "convert(\"PAYPALISHIRING\", 3) should return \"PAHNAPLSIIGYIR\"."
   ]
  },
  {
   "cell_type": "code",
   "execution_count": 21,
   "metadata": {},
   "outputs": [
    {
     "name": "stdout",
     "output_type": "stream",
     "text": [
      "3412\n"
     ]
    }
   ],
   "source": [
    "def convert(s, n):\n",
    "    "
   ]
  },
  {
   "cell_type": "code",
   "execution_count": 24,
   "metadata": {
    "collapsed": true
   },
   "outputs": [],
   "source": [
    "def isPalindrome(x):\n",
    "    div = 1\n",
    "    while x/div >= 10:\n",
    "        div *= 10\n",
    "    while x > 0:\n",
    "        l = x // div\n",
    "        r = x % 10\n",
    "        if l != r:\n",
    "            return False\n",
    "        x %= div\n",
    "        x //= 10\n",
    "        div /= 100\n",
    "    return True"
   ]
  },
  {
   "cell_type": "code",
   "execution_count": 25,
   "metadata": {},
   "outputs": [
    {
     "data": {
      "text/plain": [
       "True"
      ]
     },
     "execution_count": 25,
     "metadata": {},
     "output_type": "execute_result"
    }
   ],
   "source": [
    "isPalindrome(101)"
   ]
  },
  {
   "cell_type": "code",
   "execution_count": 26,
   "metadata": {
    "collapsed": true
   },
   "outputs": [],
   "source": [
    "def mostWater(A):\n",
    "    m = 0\n",
    "    for i,v in enumerate(A):\n",
    "        for j,u in enumerate(A[i+1:]):\n",
    "            height = min(v,u)\n",
    "            m = max(m, (j+1)*height)\n",
    "    return m"
   ]
  },
  {
   "cell_type": "code",
   "execution_count": 29,
   "metadata": {},
   "outputs": [
    {
     "data": {
      "text/plain": [
       "3"
      ]
     },
     "execution_count": 29,
     "metadata": {},
     "output_type": "execute_result"
    }
   ],
   "source": [
    "mostWater([1,1,1,2])"
   ]
  },
  {
   "cell_type": "code",
   "execution_count": 31,
   "metadata": {
    "collapsed": true
   },
   "outputs": [],
   "source": [
    "digit2letters = {\n",
    "    '2':\"abc\",\n",
    "    '3':\"def\",\n",
    "    '4':\"ghi\",\n",
    "    '5':\"jkl\",\n",
    "    '6':\"mno\",\n",
    "    '7':\"pqrs\",\n",
    "    '8':\"tuv\",\n",
    "    '9':\"wxyz\",\n",
    "}"
   ]
  },
  {
   "cell_type": "code",
   "execution_count": 35,
   "metadata": {
    "collapsed": true
   },
   "outputs": [],
   "source": [
    "def letterCombinations(digits):\n",
    "    if not digits:\n",
    "        return []\n",
    "    result = []\n",
    "    dfs(digits, \"\", result)\n",
    "    return result\n",
    "    \n",
    "def dfs(digits, current, result):\n",
    "    if not digits:\n",
    "        result.append(current)\n",
    "        return\n",
    "    for c in digit2letters[digits[0]]:\n",
    "        dfs(digits[1:], current+c, result)"
   ]
  },
  {
   "cell_type": "code",
   "execution_count": 36,
   "metadata": {},
   "outputs": [
    {
     "data": {
      "text/plain": [
       "['ad', 'ae', 'af', 'bd', 'be', 'bf', 'cd', 'ce', 'cf']"
      ]
     },
     "execution_count": 36,
     "metadata": {},
     "output_type": "execute_result"
    }
   ],
   "source": [
    "letterCombinations(\"23\")"
   ]
  },
  {
   "cell_type": "code",
   "execution_count": null,
   "metadata": {
    "collapsed": true
   },
   "outputs": [],
   "source": []
  },
  {
   "cell_type": "code",
   "execution_count": null,
   "metadata": {
    "collapsed": true
   },
   "outputs": [],
   "source": []
  },
  {
   "cell_type": "code",
   "execution_count": null,
   "metadata": {
    "collapsed": true
   },
   "outputs": [],
   "source": []
  },
  {
   "cell_type": "code",
   "execution_count": null,
   "metadata": {
    "collapsed": true
   },
   "outputs": [],
   "source": []
  },
  {
   "cell_type": "code",
   "execution_count": null,
   "metadata": {
    "collapsed": true
   },
   "outputs": [],
   "source": []
  },
  {
   "cell_type": "code",
   "execution_count": null,
   "metadata": {
    "collapsed": true
   },
   "outputs": [],
   "source": []
  },
  {
   "cell_type": "code",
   "execution_count": null,
   "metadata": {
    "collapsed": true
   },
   "outputs": [],
   "source": []
  },
  {
   "cell_type": "code",
   "execution_count": 37,
   "metadata": {
    "collapsed": true
   },
   "outputs": [],
   "source": [
    "def letterCombinations(digits):\n",
    "    if not digits:\n",
    "        return\n",
    "    result = []\n",
    "    dfs(digits, \"\", result)\n",
    "    return result\n",
    "\n",
    "def dfs(digits, current, result):\n",
    "    if not digits:\n",
    "        result.append(current)\n",
    "        return\n",
    "    for c in digit2letters[digits[0]]:\n",
    "        dfs(digits[1:], current+c, result)"
   ]
  },
  {
   "cell_type": "code",
   "execution_count": 38,
   "metadata": {},
   "outputs": [
    {
     "data": {
      "text/plain": [
       "['ad', 'ae', 'af', 'bd', 'be', 'bf', 'cd', 'ce', 'cf']"
      ]
     },
     "execution_count": 38,
     "metadata": {},
     "output_type": "execute_result"
    }
   ],
   "source": [
    "letterCombinations(\"23\")"
   ]
  },
  {
   "cell_type": "code",
   "execution_count": 44,
   "metadata": {},
   "outputs": [],
   "source": [
    "class node:\n",
    "    def __init__(self, x):\n",
    "        self.val = x\n",
    "        self.next = None\n",
    "    \n",
    "\n",
    "    \n",
    "def myPrint(head):\n",
    "    print(head.val, end=' ')\n",
    "    curr = head\n",
    "    while curr.next:\n",
    "        print(\" -> \", curr.next.val, end=' ')\n",
    "        curr = curr.next\n",
    "def removeNnodeFromEnd(head, n):\n",
    "    c = 0\n",
    "    curr = head\n",
    "    while curr.next and c < n-1:\n",
    "        c += 1\n",
    "        curr = curr.next\n",
    "    if curr.next == None:\n",
    "        return head.next\n",
    "    temp = curr\n",
    "    curr = head\n",
    "    while temp.next.next:\n",
    "        curr = curr.next\n",
    "        temp = temp.next\n",
    "    t = curr.next.next\n",
    "    curr.next = None\n",
    "    curr.next = t\n",
    "#     print(curr.next.val)\n",
    "    return head\n",
    "    \n",
    "        "
   ]
  },
  {
   "cell_type": "code",
   "execution_count": 42,
   "metadata": {},
   "outputs": [],
   "source": [
    "def removeNthFromEnd(head, n):\n",
    "    if not head:\n",
    "        return head\n",
    "    dummy = node(-1)\n",
    "    dummy.next = head\n",
    "    prev= dummy\n",
    "    curr = dummy\n",
    "    while prev and n >= 0:\n",
    "        prev = prev.next\n",
    "        n -=1\n",
    "    while prev:\n",
    "        prev = prev.next\n",
    "        curr = curr.next\n",
    "    curr.nexy = curr.next.next\n",
    "    return dummy.next"
   ]
  },
  {
   "cell_type": "code",
   "execution_count": 47,
   "metadata": {},
   "outputs": [],
   "source": [
    "def removeNthFromEnd(head,n):\n",
    "    if not head:\n",
    "        return head\n",
    "    dummy = node(-1)\n",
    "    dummy.next = head\n",
    "    prev = dummy\n",
    "    curr = dummy\n",
    "    while n >= 0 and prev:\n",
    "        prev= prev.next\n",
    "        n -= 1\n",
    "    while prev:\n",
    "        prev = prev.next\n",
    "        curr = curr.next\n",
    "    curr.next = curr.next.next\n",
    "    return dummy.next"
   ]
  },
  {
   "cell_type": "code",
   "execution_count": 50,
   "metadata": {},
   "outputs": [
    {
     "name": "stdout",
     "output_type": "stream",
     "text": [
      "1  ->  2  ->  3  ->  5 "
     ]
    }
   ],
   "source": [
    "a5= node(5)\n",
    "a4 = node(4)\n",
    "a3 = node(3)\n",
    "a2 = node(2)\n",
    "a1 = node(1)\n",
    "a1.next=a2\n",
    "a2.next = a3\n",
    "a3.next = a4\n",
    "a4.next = a5\n",
    "a = removeNnodeFromEnd(a1, 2)\n",
    "myPrint(a)"
   ]
  },
  {
   "cell_type": "code",
   "execution_count": 90,
   "metadata": {},
   "outputs": [
    {
     "ename": "AttributeError",
     "evalue": "'dict' object has no attribute 'value'",
     "output_type": "error",
     "traceback": [
      "\u001b[1;31m---------------------------------------------------------------------------\u001b[0m",
      "\u001b[1;31mAttributeError\u001b[0m                            Traceback (most recent call last)",
      "\u001b[1;32m<ipython-input-90-52fa587afbc9>\u001b[0m in \u001b[0;36m<module>\u001b[1;34m()\u001b[0m\n\u001b[0;32m      6\u001b[0m \u001b[1;31m# def validParentheses(s):\u001b[0m\u001b[1;33m\u001b[0m\u001b[1;33m\u001b[0m\u001b[0m\n\u001b[0;32m      7\u001b[0m \u001b[1;31m#     stack = []\u001b[0m\u001b[1;33m\u001b[0m\u001b[1;33m\u001b[0m\u001b[0m\n\u001b[1;32m----> 8\u001b[1;33m \u001b[0mprint\u001b[0m\u001b[1;33m(\u001b[0m\u001b[0mleft2right\u001b[0m\u001b[1;33m.\u001b[0m\u001b[0mvalue\u001b[0m\u001b[1;33m)\u001b[0m\u001b[1;33m\u001b[0m\u001b[0m\n\u001b[0m\u001b[0;32m      9\u001b[0m \u001b[1;33m\u001b[0m\u001b[0m\n",
      "\u001b[1;31mAttributeError\u001b[0m: 'dict' object has no attribute 'value'"
     ]
    }
   ],
   "source": [
    "# left2right = {\n",
    "#     '(':\")\",\n",
    "#     '{':\"}\",\n",
    "#     '[':\"]\"\n",
    "# }\n",
    "# def validParentheses(s):\n",
    "#     stack = []\n",
    "# print(left2right.value)   \n",
    "    "
   ]
  },
  {
   "cell_type": "code",
   "execution_count": 92,
   "metadata": {
    "collapsed": true
   },
   "outputs": [],
   "source": [
    "def validParentheses(s):\n",
    "    if len(s)%2 != 0:\n",
    "        return False\n",
    "    stack =[]\n",
    "    left = (\"(\",\"[\",\"{\")\n",
    "    right = (\")\", \"]\", \"}\")\n",
    "    zip(left, right)\n",
    "    for v in s:\n",
    "        if v in left:\n",
    "            stack.append(v)\n",
    "        else:\n",
    "            if not stack:\n",
    "                return False\n",
    "            t = stack.pop()\n",
    "            if left.index(t) != right.index(v):\n",
    "                return False\n",
    "    return len(stack)==0"
   ]
  },
  {
   "cell_type": "code",
   "execution_count": 94,
   "metadata": {},
   "outputs": [
    {
     "data": {
      "text/plain": [
       "False"
      ]
     },
     "execution_count": 94,
     "metadata": {},
     "output_type": "execute_result"
    }
   ],
   "source": [
    "validParentheses(\"{){{}()}}\")"
   ]
  },
  {
   "cell_type": "code",
   "execution_count": 102,
   "metadata": {
    "collapsed": true
   },
   "outputs": [],
   "source": [
    "# def mergeTwoList(a,b):\n",
    "#     if a.val < b.val:\n",
    "#         c = a\n",
    "#     else:\n",
    "#         c = b\n",
    "#     while a:\n",
    "#         while b:\n",
    "#             if a.val < b.val:\n",
    "#                 t = a.next\n",
    "#                 a.next = b\n",
    "#                 c = a\n",
    "#                 a = t\n",
    "#             else:\n",
    "#                 t = b.next\n",
    "#                 b.next = a\n",
    "#                 c = b\n",
    "#                 b = t\n",
    "#     if a:\n",
    "#         c.next = a\n",
    "#     if b:\n",
    "#         c.next = b\n",
    "#     return c\n",
    "            "
   ]
  },
  {
   "cell_type": "code",
   "execution_count": 112,
   "metadata": {},
   "outputs": [
    {
     "ename": "KeyboardInterrupt",
     "evalue": "",
     "output_type": "error",
     "traceback": [
      "\u001b[1;31m---------------------------------------------------------------------------\u001b[0m",
      "\u001b[1;31mKeyboardInterrupt\u001b[0m                         Traceback (most recent call last)",
      "\u001b[1;32m<ipython-input-112-e1ac519c5ddd>\u001b[0m in \u001b[0;36m<module>\u001b[1;34m()\u001b[0m\n\u001b[1;32m----> 1\u001b[1;33m \u001b[0ma\u001b[0m \u001b[1;33m=\u001b[0m \u001b[0mmergeTwoLists\u001b[0m\u001b[1;33m(\u001b[0m\u001b[0ma1\u001b[0m\u001b[1;33m,\u001b[0m\u001b[0ma2\u001b[0m\u001b[1;33m)\u001b[0m\u001b[1;33m\u001b[0m\u001b[0m\n\u001b[0m\u001b[0;32m      2\u001b[0m \u001b[0mmyPrint\u001b[0m\u001b[1;33m(\u001b[0m\u001b[0ma\u001b[0m\u001b[1;33m)\u001b[0m\u001b[1;33m\u001b[0m\u001b[0m\n",
      "\u001b[1;32m<ipython-input-111-d2511dceb7e3>\u001b[0m in \u001b[0;36mmergeTwoLists\u001b[1;34m(l1, l2)\u001b[0m\n\u001b[0;32m      9\u001b[0m             \u001b[0mtemp\u001b[0m\u001b[1;33m.\u001b[0m\u001b[0mnext\u001b[0m \u001b[1;33m=\u001b[0m \u001b[0ml1\u001b[0m\u001b[1;33m\u001b[0m\u001b[0m\n\u001b[0;32m     10\u001b[0m             \u001b[0ml1\u001b[0m \u001b[1;33m=\u001b[0m \u001b[0ml1\u001b[0m\u001b[1;33m.\u001b[0m\u001b[0mnext\u001b[0m\u001b[1;33m\u001b[0m\u001b[0m\n\u001b[1;32m---> 11\u001b[1;33m         \u001b[0mtemp\u001b[0m \u001b[1;33m=\u001b[0m \u001b[0mtemp\u001b[0m\u001b[1;33m.\u001b[0m\u001b[0mnext\u001b[0m\u001b[1;33m\u001b[0m\u001b[0m\n\u001b[0m\u001b[0;32m     12\u001b[0m     \u001b[1;32mif\u001b[0m \u001b[0ml1\u001b[0m\u001b[1;33m:\u001b[0m\u001b[1;33m\u001b[0m\u001b[0m\n\u001b[0;32m     13\u001b[0m         \u001b[0mtemp\u001b[0m\u001b[1;33m.\u001b[0m\u001b[0mnext\u001b[0m \u001b[1;33m=\u001b[0m \u001b[0ml1\u001b[0m\u001b[1;33m\u001b[0m\u001b[0m\n",
      "\u001b[1;31mKeyboardInterrupt\u001b[0m: "
     ]
    }
   ],
   "source": [
    "a = mergeTwoLists(a1,a2)\n",
    "myPrint(a)"
   ]
  },
  {
   "cell_type": "code",
   "execution_count": 107,
   "metadata": {
    "collapsed": true
   },
   "outputs": [],
   "source": [
    "def mergeTwoList(a,b):\n",
    "    temp = node(-1)\n",
    "    head = temp\n",
    "    while a and b:\n",
    "        if a.val <= b.val:\n",
    "            temp.next=a\n",
    "            a = a.next\n",
    "        else:\n",
    "            temp.next = b\n",
    "            b = b.next\n",
    "        temp = temp.next\n",
    "    if a:\n",
    "        temp.next = a\n",
    "    if b:\n",
    "        temp.next = b\n",
    "    return head.next"
   ]
  },
  {
   "cell_type": "code",
   "execution_count": 111,
   "metadata": {},
   "outputs": [],
   "source": [
    "def mergeTwoLists(l1, l2):\n",
    "    temp = node(-1)\n",
    "    head = temp\n",
    "    while l1 and l2:\n",
    "        if l1.val > l2.val:\n",
    "            temp.next = l2\n",
    "            l2 = l2.next\n",
    "        else:\n",
    "            temp.next = l1\n",
    "            l1 = l1.next\n",
    "        temp = temp.next\n",
    "    if l1:\n",
    "        temp.next = l1\n",
    "    else:\n",
    "        temp.next = l2\n",
    "    return head.next"
   ]
  },
  {
   "cell_type": "code",
   "execution_count": 113,
   "metadata": {
    "collapsed": true
   },
   "outputs": [],
   "source": [
    "def generateParenthesis(n):\n",
    "    result = []\n",
    "    generate(n,n,\"\",result)\n",
    "    return result\n",
    "def generate(left,right,s,result):\n",
    "    if left == 0 and right == 0:\n",
    "        result.append(s)\n",
    "        return\n",
    "    if left > 0:\n",
    "        generate(left-1, right, s+\"(\", result)\n",
    "    if right > left:\n",
    "        generate(left, right-1, s+\")\", result)"
   ]
  },
  {
   "cell_type": "code",
   "execution_count": 114,
   "metadata": {},
   "outputs": [
    {
     "data": {
      "text/plain": [
       "['((()))', '(()())', '(())()', '()(())', '()()()']"
      ]
     },
     "execution_count": 114,
     "metadata": {},
     "output_type": "execute_result"
    }
   ],
   "source": [
    "generateParenthesis(3)"
   ]
  },
  {
   "cell_type": "code",
   "execution_count": 115,
   "metadata": {
    "collapsed": true
   },
   "outputs": [],
   "source": [
    "import heapq"
   ]
  },
  {
   "cell_type": "code",
   "execution_count": 118,
   "metadata": {
    "collapsed": true
   },
   "outputs": [],
   "source": [
    "def mergeKLists(lists):\n",
    "    heap =[]\n",
    "    for n in lists:\n",
    "        if n:\n",
    "            heapq.heappush(heap, (n.val, n))\n",
    "    temp = node(-1)\n",
    "    head= temp\n",
    "    while heap:\n",
    "        smallestNode = heapq.heappop(heap)[1]\n",
    "        temp.next = smallestNode\n",
    "        temp = temp.next\n",
    "        if smallestNode.next:\n",
    "            heapq.heappush(heap, (smallestNode.next.val, smallestNode.next))\n",
    "    return head.next"
   ]
  },
  {
   "cell_type": "code",
   "execution_count": 119,
   "metadata": {},
   "outputs": [
    {
     "ename": "KeyboardInterrupt",
     "evalue": "",
     "output_type": "error",
     "traceback": [
      "\u001b[1;31m---------------------------------------------------------------------------\u001b[0m",
      "\u001b[1;31mKeyboardInterrupt\u001b[0m                         Traceback (most recent call last)",
      "\u001b[1;32m<ipython-input-119-114a350710fa>\u001b[0m in \u001b[0;36m<module>\u001b[1;34m()\u001b[0m\n\u001b[1;32m----> 1\u001b[1;33m \u001b[0mmergeKLists\u001b[0m\u001b[1;33m(\u001b[0m\u001b[1;33m[\u001b[0m\u001b[0ma1\u001b[0m\u001b[1;33m,\u001b[0m\u001b[0ma2\u001b[0m\u001b[1;33m]\u001b[0m\u001b[1;33m)\u001b[0m\u001b[1;33m\u001b[0m\u001b[0m\n\u001b[0m",
      "\u001b[1;32m<ipython-input-118-6d39ef7a80f2>\u001b[0m in \u001b[0;36mmergeKLists\u001b[1;34m(lists)\u001b[0m\n\u001b[0;32m      7\u001b[0m     \u001b[0mhead\u001b[0m\u001b[1;33m=\u001b[0m \u001b[0mtemp\u001b[0m\u001b[1;33m\u001b[0m\u001b[0m\n\u001b[0;32m      8\u001b[0m     \u001b[1;32mwhile\u001b[0m \u001b[0mheap\u001b[0m\u001b[1;33m:\u001b[0m\u001b[1;33m\u001b[0m\u001b[0m\n\u001b[1;32m----> 9\u001b[1;33m         \u001b[0msmallestNode\u001b[0m \u001b[1;33m=\u001b[0m \u001b[0mheapq\u001b[0m\u001b[1;33m.\u001b[0m\u001b[0mheappop\u001b[0m\u001b[1;33m(\u001b[0m\u001b[0mheap\u001b[0m\u001b[1;33m)\u001b[0m\u001b[1;33m[\u001b[0m\u001b[1;36m1\u001b[0m\u001b[1;33m]\u001b[0m\u001b[1;33m\u001b[0m\u001b[0m\n\u001b[0m\u001b[0;32m     10\u001b[0m         \u001b[0mtemp\u001b[0m\u001b[1;33m.\u001b[0m\u001b[0mnext\u001b[0m \u001b[1;33m=\u001b[0m \u001b[0msmallestNode\u001b[0m\u001b[1;33m\u001b[0m\u001b[0m\n\u001b[0;32m     11\u001b[0m         \u001b[0mtemp\u001b[0m \u001b[1;33m=\u001b[0m \u001b[0mtemp\u001b[0m\u001b[1;33m.\u001b[0m\u001b[0mnext\u001b[0m\u001b[1;33m\u001b[0m\u001b[0m\n",
      "\u001b[1;31mKeyboardInterrupt\u001b[0m: "
     ]
    }
   ],
   "source": [
    "mergeKLists([a1,a2])"
   ]
  },
  {
   "cell_type": "code",
   "execution_count": 16,
   "metadata": {},
   "outputs": [],
   "source": [
    "import heapq\n",
    "def  MergeStrings(strings):\n",
    "    heap =[]\n",
    "    # s = strings[0]\n",
    "    for s in strings:\n",
    "        for i in s:\n",
    "            heapq.heappush(heap,i)\n",
    "    output = \"\"\n",
    "    while heap:\n",
    "        a = heapq.heappop(heap)\n",
    "        print(a)\n",
    "        output += a\n",
    "    return output"
   ]
  },
  {
   "cell_type": "code",
   "execution_count": 21,
   "metadata": {},
   "outputs": [
    {
     "name": "stdout",
     "output_type": "stream",
     "text": [
      "a\n",
      "a\n",
      "a\n",
      "a\n",
      "a\n",
      "a\n",
      "a\n",
      "a\n",
      "a\n",
      "a\n",
      "a\n",
      "a\n",
      "a\n",
      "a\n",
      "a\n",
      "a\n",
      "a\n",
      "a\n",
      "a\n",
      "a\n",
      "a\n",
      "a\n",
      "a\n",
      "a\n",
      "a\n",
      "a\n",
      "a\n",
      "a\n",
      "a\n",
      "a\n",
      "a\n",
      "a\n",
      "a\n",
      "b\n",
      "b\n",
      "b\n",
      "b\n",
      "b\n",
      "b\n",
      "b\n",
      "b\n",
      "b\n",
      "b\n",
      "b\n",
      "b\n",
      "b\n",
      "b\n",
      "b\n",
      "b\n",
      "b\n",
      "b\n",
      "b\n",
      "b\n",
      "b\n",
      "b\n",
      "b\n",
      "b\n",
      "b\n",
      "b\n",
      "b\n",
      "b\n",
      "b\n",
      "c\n",
      "c\n",
      "c\n",
      "c\n",
      "c\n",
      "c\n",
      "c\n",
      "c\n",
      "c\n",
      "c\n",
      "c\n",
      "c\n",
      "c\n",
      "c\n",
      "c\n",
      "c\n",
      "c\n",
      "c\n",
      "c\n",
      "c\n",
      "c\n",
      "c\n",
      "c\n",
      "c\n",
      "c\n",
      "c\n",
      "c\n",
      "c\n",
      "c\n",
      "c\n",
      "c\n",
      "c\n",
      "c\n",
      "c\n",
      "c\n",
      "c\n",
      "c\n",
      "c\n",
      "c\n",
      "c\n",
      "c\n",
      "c\n",
      "c\n",
      "c\n",
      "c\n",
      "c\n",
      "c\n",
      "c\n",
      "c\n",
      "c\n",
      "d\n",
      "d\n",
      "d\n",
      "d\n",
      "d\n",
      "d\n",
      "d\n",
      "d\n",
      "d\n",
      "d\n",
      "d\n",
      "d\n",
      "d\n",
      "d\n",
      "d\n",
      "d\n",
      "d\n",
      "d\n",
      "d\n",
      "d\n",
      "d\n",
      "d\n",
      "d\n",
      "d\n",
      "d\n",
      "d\n",
      "d\n",
      "d\n",
      "d\n",
      "d\n",
      "d\n",
      "d\n",
      "d\n",
      "d\n",
      "d\n",
      "d\n",
      "d\n",
      "d\n",
      "d\n",
      "d\n",
      "d\n",
      "d\n",
      "d\n",
      "d\n",
      "d\n",
      "d\n",
      "d\n",
      "d\n",
      "e\n",
      "e\n",
      "e\n",
      "e\n",
      "e\n",
      "e\n",
      "e\n",
      "e\n",
      "e\n",
      "e\n",
      "e\n",
      "e\n",
      "e\n",
      "e\n",
      "e\n",
      "e\n",
      "e\n",
      "e\n",
      "e\n",
      "e\n",
      "e\n",
      "e\n",
      "e\n",
      "e\n",
      "e\n",
      "e\n",
      "e\n",
      "e\n",
      "e\n",
      "e\n",
      "e\n",
      "e\n",
      "e\n",
      "e\n",
      "e\n",
      "f\n",
      "f\n",
      "f\n",
      "f\n",
      "f\n",
      "f\n",
      "f\n",
      "f\n",
      "f\n",
      "f\n",
      "f\n",
      "f\n",
      "f\n",
      "f\n",
      "f\n",
      "f\n",
      "f\n",
      "f\n",
      "f\n",
      "f\n",
      "f\n",
      "f\n",
      "f\n",
      "f\n",
      "f\n",
      "f\n",
      "f\n",
      "f\n",
      "f\n",
      "f\n",
      "f\n",
      "f\n",
      "f\n",
      "f\n",
      "f\n",
      "f\n",
      "f\n",
      "f\n",
      "f\n",
      "f\n",
      "f\n",
      "f\n",
      "f\n",
      "g\n",
      "g\n",
      "g\n",
      "g\n",
      "g\n",
      "g\n",
      "g\n",
      "g\n",
      "g\n",
      "g\n",
      "g\n",
      "g\n",
      "g\n",
      "g\n",
      "g\n",
      "g\n",
      "g\n",
      "g\n",
      "g\n",
      "g\n",
      "g\n",
      "g\n",
      "g\n",
      "g\n",
      "g\n",
      "g\n",
      "g\n",
      "g\n",
      "g\n",
      "g\n",
      "g\n",
      "g\n",
      "g\n",
      "g\n",
      "g\n",
      "g\n",
      "g\n",
      "g\n",
      "g\n",
      "g\n",
      "g\n",
      "g\n",
      "h\n",
      "h\n",
      "h\n",
      "h\n",
      "h\n",
      "h\n",
      "h\n",
      "h\n",
      "h\n",
      "h\n",
      "h\n",
      "h\n",
      "h\n",
      "h\n",
      "h\n",
      "h\n",
      "h\n",
      "h\n",
      "h\n",
      "h\n",
      "h\n",
      "h\n",
      "h\n",
      "h\n",
      "h\n",
      "h\n",
      "h\n",
      "h\n",
      "h\n",
      "h\n",
      "h\n",
      "h\n",
      "h\n",
      "h\n",
      "h\n",
      "h\n",
      "h\n",
      "h\n",
      "h\n",
      "h\n",
      "h\n",
      "h\n",
      "h\n",
      "i\n",
      "i\n",
      "i\n",
      "i\n",
      "i\n",
      "i\n",
      "i\n",
      "i\n",
      "i\n",
      "i\n",
      "i\n",
      "i\n",
      "i\n",
      "i\n",
      "i\n",
      "i\n",
      "i\n",
      "i\n",
      "i\n",
      "i\n",
      "i\n",
      "i\n",
      "i\n",
      "i\n",
      "i\n",
      "i\n",
      "i\n",
      "i\n",
      "i\n",
      "i\n",
      "i\n",
      "i\n",
      "i\n",
      "i\n",
      "i\n",
      "i\n",
      "i\n",
      "i\n",
      "i\n",
      "i\n",
      "i\n",
      "i\n",
      "i\n",
      "i\n",
      "i\n",
      "i\n",
      "i\n",
      "i\n",
      "j\n",
      "j\n",
      "j\n",
      "j\n",
      "j\n",
      "j\n",
      "j\n",
      "j\n",
      "j\n",
      "j\n",
      "j\n",
      "j\n",
      "j\n",
      "j\n",
      "j\n",
      "j\n",
      "j\n",
      "j\n",
      "j\n",
      "j\n",
      "j\n",
      "j\n",
      "j\n",
      "j\n",
      "j\n",
      "j\n",
      "j\n",
      "j\n",
      "j\n",
      "j\n",
      "j\n",
      "j\n",
      "j\n",
      "j\n",
      "j\n",
      "j\n",
      "k\n",
      "k\n",
      "k\n",
      "k\n",
      "k\n",
      "k\n",
      "k\n",
      "k\n",
      "k\n",
      "k\n",
      "k\n",
      "k\n",
      "k\n",
      "k\n",
      "k\n",
      "k\n",
      "k\n",
      "k\n",
      "k\n",
      "k\n",
      "k\n",
      "k\n",
      "k\n",
      "k\n",
      "k\n",
      "k\n",
      "k\n",
      "k\n",
      "k\n",
      "k\n",
      "k\n",
      "k\n",
      "k\n",
      "k\n",
      "k\n",
      "k\n",
      "l\n",
      "l\n",
      "l\n",
      "l\n",
      "l\n",
      "l\n",
      "l\n",
      "l\n",
      "l\n",
      "l\n",
      "l\n",
      "l\n",
      "l\n",
      "l\n",
      "l\n",
      "l\n",
      "l\n",
      "l\n",
      "l\n",
      "l\n",
      "l\n",
      "l\n",
      "l\n",
      "l\n",
      "l\n",
      "l\n",
      "l\n",
      "l\n",
      "l\n",
      "l\n",
      "l\n",
      "l\n",
      "l\n",
      "l\n",
      "l\n",
      "l\n",
      "l\n",
      "l\n",
      "l\n",
      "m\n",
      "m\n",
      "m\n",
      "m\n",
      "m\n",
      "m\n",
      "m\n",
      "m\n",
      "m\n",
      "m\n",
      "m\n",
      "m\n",
      "m\n",
      "m\n",
      "m\n",
      "m\n",
      "m\n",
      "m\n",
      "m\n",
      "m\n",
      "m\n",
      "m\n",
      "m\n",
      "m\n",
      "m\n",
      "m\n",
      "m\n",
      "m\n",
      "m\n",
      "m\n",
      "m\n",
      "m\n",
      "n\n",
      "n\n",
      "n\n",
      "n\n",
      "n\n",
      "n\n",
      "n\n",
      "n\n",
      "n\n",
      "n\n",
      "n\n",
      "n\n",
      "n\n",
      "n\n",
      "n\n",
      "n\n",
      "n\n",
      "n\n",
      "n\n",
      "n\n",
      "n\n",
      "n\n",
      "n\n",
      "n\n",
      "n\n",
      "n\n",
      "n\n",
      "n\n",
      "n\n",
      "n\n",
      "n\n",
      "n\n",
      "n\n",
      "n\n",
      "n\n",
      "n\n",
      "n\n",
      "o\n",
      "o\n",
      "o\n",
      "o\n",
      "o\n",
      "o\n",
      "o\n",
      "o\n",
      "o\n",
      "o\n",
      "o\n",
      "o\n",
      "o\n",
      "o\n",
      "o\n",
      "o\n",
      "o\n",
      "o\n",
      "o\n",
      "o\n",
      "o\n",
      "o\n",
      "o\n",
      "o\n",
      "o\n",
      "o\n",
      "o\n",
      "o\n",
      "o\n",
      "o\n",
      "p\n",
      "p\n",
      "p\n",
      "p\n",
      "p\n",
      "p\n",
      "p\n",
      "p\n",
      "p\n",
      "p\n",
      "p\n",
      "p\n",
      "p\n",
      "p\n",
      "p\n",
      "p\n",
      "p\n",
      "p\n",
      "p\n",
      "p\n",
      "p\n",
      "p\n",
      "p\n",
      "p\n",
      "p\n",
      "p\n",
      "p\n",
      "p\n",
      "p\n",
      "p\n",
      "p\n",
      "p\n",
      "p\n",
      "p\n",
      "p\n",
      "p\n",
      "p\n",
      "p\n",
      "p\n",
      "p\n",
      "p\n",
      "q\n",
      "q\n",
      "q\n",
      "q\n",
      "q\n",
      "q\n",
      "q\n",
      "q\n",
      "q\n",
      "q\n",
      "q\n",
      "q\n",
      "q\n",
      "q\n",
      "q\n",
      "q\n",
      "q\n",
      "q\n",
      "q\n",
      "q\n",
      "q\n",
      "q\n",
      "q\n",
      "q\n",
      "q\n",
      "q\n",
      "q\n",
      "q\n",
      "q\n",
      "q\n",
      "q\n",
      "q\n",
      "q\n",
      "q\n",
      "q\n",
      "q\n",
      "r\n",
      "r\n",
      "r\n",
      "r\n",
      "r\n",
      "r\n",
      "r\n",
      "r\n",
      "r\n",
      "r\n",
      "r\n",
      "r\n",
      "r\n",
      "r\n",
      "r\n",
      "r\n",
      "r\n",
      "r\n",
      "r\n",
      "r\n",
      "r\n",
      "r\n",
      "r\n",
      "r\n",
      "r\n",
      "r\n",
      "r\n",
      "r\n",
      "r\n",
      "r\n",
      "r\n",
      "r\n",
      "r\n",
      "s\n",
      "s\n",
      "s\n",
      "s\n",
      "s\n",
      "s\n",
      "s\n",
      "s\n",
      "s\n",
      "s\n",
      "s\n",
      "s\n",
      "s\n",
      "s\n",
      "s\n",
      "s\n",
      "s\n",
      "s\n",
      "s\n",
      "s\n",
      "s\n",
      "s\n",
      "s\n",
      "s\n",
      "s\n",
      "s\n",
      "s\n",
      "s\n",
      "s\n",
      "s\n",
      "s\n",
      "s\n",
      "s\n",
      "s\n",
      "s\n",
      "s\n",
      "s\n",
      "s\n",
      "s\n",
      "s\n",
      "t\n",
      "t\n",
      "t\n",
      "t\n",
      "t\n",
      "t\n",
      "t\n",
      "t\n",
      "t\n",
      "t\n",
      "t\n",
      "t\n",
      "t\n",
      "t\n",
      "t\n",
      "t\n",
      "t\n",
      "t\n",
      "t\n",
      "t\n",
      "t\n",
      "t\n",
      "t\n",
      "t\n",
      "t\n",
      "t\n",
      "t\n",
      "t\n",
      "t\n",
      "t\n",
      "t\n",
      "t\n",
      "t\n",
      "t\n",
      "t\n",
      "t\n",
      "t\n",
      "t\n",
      "t\n",
      "t\n",
      "t\n",
      "t\n",
      "t\n",
      "t\n",
      "t\n",
      "t\n",
      "t\n",
      "t\n",
      "t\n",
      "t\n",
      "t\n",
      "u\n",
      "u\n",
      "u\n",
      "u\n",
      "u\n",
      "u\n",
      "u\n",
      "u\n",
      "u\n",
      "u\n",
      "u\n",
      "u\n",
      "u\n",
      "u\n",
      "u\n",
      "u\n",
      "u\n",
      "u\n",
      "u\n",
      "u\n",
      "u\n",
      "u\n",
      "u\n",
      "u\n",
      "u\n",
      "u\n",
      "u\n",
      "u\n",
      "u\n",
      "u\n",
      "u\n",
      "u\n",
      "u\n",
      "v\n",
      "v\n",
      "v\n",
      "v\n",
      "v\n",
      "v\n",
      "v\n",
      "v\n",
      "v\n",
      "v\n",
      "v\n",
      "v\n",
      "v\n",
      "v\n",
      "v\n",
      "v\n",
      "v\n",
      "v\n",
      "v\n",
      "v\n",
      "v\n",
      "v\n",
      "v\n",
      "v\n",
      "v\n",
      "v\n",
      "v\n",
      "v\n",
      "v\n",
      "v\n",
      "v\n",
      "v\n",
      "v\n",
      "v\n",
      "v\n",
      "v\n",
      "v\n",
      "v\n",
      "v\n",
      "w\n",
      "w\n",
      "w\n",
      "w\n",
      "w\n",
      "w\n",
      "w\n",
      "w\n",
      "w\n",
      "w\n",
      "w\n",
      "w\n",
      "w\n",
      "w\n",
      "w\n",
      "w\n",
      "w\n",
      "w\n",
      "w\n",
      "w\n",
      "w\n",
      "w\n",
      "w\n",
      "w\n",
      "w\n",
      "w\n",
      "w\n",
      "w\n",
      "w\n",
      "w\n",
      "w\n",
      "w\n",
      "w\n",
      "w\n",
      "w\n",
      "w\n",
      "w\n",
      "w\n",
      "w\n",
      "w\n",
      "w\n",
      "w\n",
      "w\n",
      "w\n",
      "w\n",
      "w\n",
      "w\n",
      "x\n",
      "x\n",
      "x\n",
      "x\n",
      "x\n",
      "x\n",
      "x\n",
      "x\n",
      "x\n",
      "x\n",
      "x\n",
      "x\n",
      "x\n",
      "x\n",
      "x\n",
      "x\n",
      "x\n",
      "x\n",
      "x\n",
      "x\n",
      "x\n",
      "x\n",
      "x\n",
      "x\n",
      "x\n",
      "x\n",
      "x\n",
      "x\n",
      "x\n",
      "x\n",
      "x\n",
      "x\n",
      "x\n",
      "x\n",
      "x\n",
      "x\n",
      "x\n",
      "x\n",
      "x\n",
      "x\n",
      "y\n",
      "y\n",
      "y\n",
      "y\n",
      "y\n",
      "y\n",
      "y\n",
      "y\n",
      "y\n",
      "y\n",
      "y\n",
      "y\n",
      "y\n",
      "y\n",
      "y\n",
      "y\n",
      "y\n",
      "y\n",
      "y\n",
      "y\n",
      "y\n",
      "y\n",
      "y\n",
      "y\n",
      "y\n",
      "y\n",
      "y\n",
      "y\n",
      "y\n",
      "y\n",
      "y\n",
      "y\n",
      "y\n",
      "y\n",
      "y\n",
      "z\n",
      "z\n",
      "z\n",
      "z\n",
      "z\n",
      "z\n",
      "z\n",
      "z\n",
      "z\n",
      "z\n",
      "z\n",
      "z\n",
      "z\n",
      "z\n",
      "z\n",
      "z\n",
      "z\n",
      "z\n",
      "z\n",
      "z\n",
      "z\n",
      "z\n",
      "z\n",
      "z\n",
      "z\n",
      "z\n",
      "z\n",
      "z\n",
      "z\n",
      "z\n",
      "z\n",
      "z\n",
      "z\n",
      "z\n",
      "z\n",
      "z\n",
      "z\n",
      "z\n",
      "z\n",
      "z\n",
      "z\n"
     ]
    },
    {
     "data": {
      "text/plain": [
       "'aaaaaaaaaaaaaaaaaaaaaaaaaaaaaaaaabbbbbbbbbbbbbbbbbbbbbbbbbbbbbccccccccccccccccccccccccccccccccccccccccccccccccccddddddddddddddddddddddddddddddddddddddddddddddddeeeeeeeeeeeeeeeeeeeeeeeeeeeeeeeeeeefffffffffffffffffffffffffffffffffffffffffffgggggggggggggggggggggggggggggggggggggggggghhhhhhhhhhhhhhhhhhhhhhhhhhhhhhhhhhhhhhhhhhhiiiiiiiiiiiiiiiiiiiiiiiiiiiiiiiiiiiiiiiiiiiiiiiijjjjjjjjjjjjjjjjjjjjjjjjjjjjjjjjjjjjkkkkkkkkkkkkkkkkkkkkkkkkkkkkkkkkkkkklllllllllllllllllllllllllllllllllllllllmmmmmmmmmmmmmmmmmmmmmmmmmmmmmmmmnnnnnnnnnnnnnnnnnnnnnnnnnnnnnnnnnnnnnoooooooooooooooooooooooooooooopppppppppppppppppppppppppppppppppppppppppqqqqqqqqqqqqqqqqqqqqqqqqqqqqqqqqqqqqrrrrrrrrrrrrrrrrrrrrrrrrrrrrrrrrrsssssssssssssssssssssssssssssssssssssssstttttttttttttttttttttttttttttttttttttttttttttttttttuuuuuuuuuuuuuuuuuuuuuuuuuuuuuuuuuvvvvvvvvvvvvvvvvvvvvvvvvvvvvvvvvvvvvvvvwwwwwwwwwwwwwwwwwwwwwwwwwwwwwwwwwwwwwwwwwwwwwwwxxxxxxxxxxxxxxxxxxxxxxxxxxxxxxxxxxxxxxxxyyyyyyyyyyyyyyyyyyyyyyyyyyyyyyyyyyyzzzzzzzzzzzzzzzzzzzzzzzzzzzzzzzzzzzzzzzzz'"
      ]
     },
     "execution_count": 21,
     "metadata": {},
     "output_type": "execute_result"
    }
   ],
   "source": [
    "MergeStrings([\"qqlslpjdwupvkegdqwjfowiplngfynbhiizltaylnqpcfsvlhsrxuiuuhwhyiefithncfvjpxxsxhgjtsvxgwdnznedxtzdjlgjxesgliczxqwnbmngngzmpunoarmvxtimawmpzolxtepjqqckgtqdltudrefuvhbdhkmeayhyubtkedxjocoedfahcjxuirbmdmcgexkilrikzjyngwfttwzbjecqampdzhhsbqfrrfslwqhskjnmlitgmaxzutiycfkscfmpqocndoftwkgqzcrroagbtfwxxtjrgppfxyvwffcxvecjnrzzosecylwlsepkennhvatahvlixjfpdmkgtkdnkmhmbkebqsthruonxyssgwepfghfuiqukzxithzwqkrfpyyiyxiuskgnirgvczghcywrxftqzvcwezzgizgxzvcatjabaetrdkcrbgksdsvwhkjisamdsjhhwvyofsqvcksuxieboothzgsiarjarqzucvvfiwmlczuxsoljvlodqahqdpooiqdllyrbnyssbiealvqlfzegcvdcnectiycmviltxjwwsvbhvhehydijlxjpuooiwzkdfsedkxnvcingtwhgavueptbyzvzjvoatlycccbxbpmgcjdwyghhaefnlrgdoxeaoiuvvtedzxtpcnyowzacnhzpfkqlwxidlmsuohaecdickqkysrhpwcmhifpkdshcppdqvdaoywzjywepzstfptgizlmjsqbjwgnumudpqtraccimaalkzbmwjvrjrqviupnsikcfpdovcgfwdajrfqkutrlrdtyaxifmppdqxfvvnrucpugqheddfszrylbwfoxtathnxttzvohcxicjmhttfbhwqlrmdzqztacwmttnkdirkwupisjyudnzlkxlbgvwyiiwggwsnfjbtpmtqbelprepnckbwimdiltcnyjcwqkoulfwyduzckhgdtidwuwftgthwjfssbpygpvbxodsnnayemyupfg\"])"
   ]
  },
  {
   "cell_type": "code",
   "execution_count": 41,
   "metadata": {},
   "outputs": [],
   "source": [
    "class node:\n",
    "    def __init__(self, x):\n",
    "        self.val = x\n",
    "        self.next = None"
   ]
  },
  {
   "cell_type": "code",
   "execution_count": null,
   "metadata": {},
   "outputs": [],
   "source": [
    "def swapPair(head):\n",
    "    prev = node(-1)\n",
    "    prev.next = head\n",
    "    temp = prev\n",
    "    while temp.next and temp.next.next:\n",
    "        a = temp.next\n",
    "        b = temp.next.next\n",
    "        temp.next = "
   ]
  },
  {
   "cell_type": "code",
   "execution_count": null,
   "metadata": {},
   "outputs": [],
   "source": []
  },
  {
   "cell_type": "code",
   "execution_count": 120,
   "metadata": {
    "collapsed": true
   },
   "outputs": [],
   "source": [
    "def swapPairs(head):\n",
    "    if not head:\n",
    "        return\n",
    "    temp = node(-1)\n",
    "    temp.next = head\n",
    "    output = temp\n",
    "    while temp.next and temp.next.next:\n",
    "        a = temp.next\n",
    "        b = temp.next.next\n",
    "        temp.next = b\n",
    "        a.next = b.next\n",
    "        b.next = a\n",
    "        temp = temp.next.next\n",
    "    return output.next"
   ]
  },
  {
   "cell_type": "code",
   "execution_count": 122,
   "metadata": {},
   "outputs": [
    {
     "name": "stdout",
     "output_type": "stream",
     "text": [
      "2  ->  1  ->  4  ->  3  ->  5 "
     ]
    }
   ],
   "source": [
    "a5= node(5)\n",
    "a4 = node(4)\n",
    "a3 = node(3)\n",
    "a2 = node(2)\n",
    "a1 = node(1)\n",
    "a1.next=a2\n",
    "a2.next = a3\n",
    "a3.next = a4\n",
    "a4.next = a5\n",
    "a = swapPairs(a1)\n",
    "myPrint(a)"
   ]
  },
  {
   "cell_type": "code",
   "execution_count": 123,
   "metadata": {
    "collapsed": true
   },
   "outputs": [],
   "source": [
    "def reverseKGroup(head,k):\n",
    "    if not head or k <= 1:\n",
    "        return head\n",
    "    dummy = node(-1)\n",
    "    dummy.next = head\n",
    "    temp = dummy\n",
    "    while temp:\n",
    "        temp = reverseNextK(temp,k)\n",
    "    return dummy.next\n",
    "\n",
    "def reverseNextK(head,k):\n",
    "    # check if k nodes left\n",
    "    temp = head\n",
    "    for i in range(k):\n",
    "        if not temp.next:\n",
    "            return None\n",
    "        temp = temp.next\n",
    "    \n",
    "    out = head.next\n",
    "    prev = head\n",
    "    curr = head.next\n",
    "    for i in range(k):\n",
    "        nextNode = curr.next\n",
    "        curr.next = prev\n",
    "        prev = curr\n",
    "        curr = nextNode\n",
    "    node.next = curr\n",
    "    head.next = curr\n",
    "    curr = nextNode"
   ]
  },
  {
   "cell_type": "code",
   "execution_count": 126,
   "metadata": {
    "collapsed": true
   },
   "outputs": [],
   "source": [
    "def removeDuplicates(a):\n",
    "    if not a:\n",
    "        return\n",
    "    index = 0\n",
    "    start = 0\n",
    "    for i,v in enumerate(a):\n",
    "        if i == 0:\n",
    "            index += 1\n",
    "            continue\n",
    "        if v!=a[start]:\n",
    "            a[index] = v\n",
    "            index += 1\n",
    "            start += 1\n",
    "        else:\n",
    "            continue\n",
    "    return a[:index]"
   ]
  },
  {
   "cell_type": "code",
   "execution_count": 127,
   "metadata": {},
   "outputs": [
    {
     "data": {
      "text/plain": [
       "[1, 3, 5, 6, 7]"
      ]
     },
     "execution_count": 127,
     "metadata": {},
     "output_type": "execute_result"
    }
   ],
   "source": [
    "removeDuplicates([1,1,3,5,6,6,6,7])"
   ]
  },
  {
   "cell_type": "code",
   "execution_count": null,
   "metadata": {
    "collapsed": true
   },
   "outputs": [],
   "source": []
  },
  {
   "cell_type": "code",
   "execution_count": 170,
   "metadata": {},
   "outputs": [
    {
     "ename": "AssertionError",
     "evalue": "",
     "output_type": "error",
     "traceback": [
      "\u001b[1;31m---------------------------------------------------------------------------\u001b[0m",
      "\u001b[1;31mAssertionError\u001b[0m                            Traceback (most recent call last)",
      "\u001b[1;32m<ipython-input-170-873cb9f098f2>\u001b[0m in \u001b[0;36m<module>\u001b[1;34m()\u001b[0m\n\u001b[0;32m     32\u001b[0m \u001b[1;32massert\u001b[0m\u001b[1;33m(\u001b[0m\u001b[0mvalidate_gtin\u001b[0m\u001b[1;33m(\u001b[0m\u001b[1;34m'0083701340420'\u001b[0m\u001b[1;33m,\u001b[0m \u001b[1;34m'EAN'\u001b[0m\u001b[1;33m)\u001b[0m \u001b[1;33m==\u001b[0m \u001b[1;33m(\u001b[0m\u001b[1;34m'0083701340420'\u001b[0m\u001b[1;33m,\u001b[0m \u001b[1;32mFalse\u001b[0m\u001b[1;33m)\u001b[0m\u001b[1;33m)\u001b[0m\u001b[1;33m\u001b[0m\u001b[0m\n\u001b[0;32m     33\u001b[0m \u001b[1;32massert\u001b[0m\u001b[1;33m(\u001b[0m\u001b[0mvalidate_gtin\u001b[0m\u001b[1;33m(\u001b[0m\u001b[1;34m'837013404200'\u001b[0m\u001b[1;33m,\u001b[0m \u001b[1;34m'EAN'\u001b[0m\u001b[1;33m)\u001b[0m \u001b[1;33m==\u001b[0m \u001b[1;33m(\u001b[0m\u001b[1;34m'8370134042002'\u001b[0m\u001b[1;33m,\u001b[0m \u001b[1;32mTrue\u001b[0m\u001b[1;33m)\u001b[0m\u001b[1;33m)\u001b[0m\u001b[1;33m\u001b[0m\u001b[0m\n\u001b[1;32m---> 34\u001b[1;33m \u001b[1;32massert\u001b[0m\u001b[1;33m(\u001b[0m\u001b[0mvalidate_gtin\u001b[0m\u001b[1;33m(\u001b[0m\u001b[1;34m'8370134042008'\u001b[0m\u001b[1;33m,\u001b[0m \u001b[1;34m'EAN'\u001b[0m\u001b[1;33m)\u001b[0m \u001b[1;33m==\u001b[0m \u001b[1;33m(\u001b[0m\u001b[1;34m'8370134042008'\u001b[0m\u001b[1;33m,\u001b[0m \u001b[1;32mTrue\u001b[0m\u001b[1;33m)\u001b[0m\u001b[1;33m)\u001b[0m\u001b[1;33m\u001b[0m\u001b[0m\n\u001b[0m",
      "\u001b[1;31mAssertionError\u001b[0m: "
     ]
    }
   ],
   "source": [
    "def validate_gtin(test_gtin, subtype):\n",
    "    gtin = test_gtin.lstrip('0')\n",
    "    c = 0\n",
    "    for i,v in enumerate(gtin):\n",
    "        if len(gtin) %2 == 0:\n",
    "            if i%2 == 0:\n",
    "                c += ord(v)-ord('0')\n",
    "            else:\n",
    "                t = 3*(ord(v)-ord('0'))\n",
    "                c += t\n",
    "        else:\n",
    "            if i%2 == 0:\n",
    "                c += 3*(ord(v)-ord('0'))\n",
    "            else:\n",
    "                c += ord(v)-ord('0')\n",
    "    c %= 10\n",
    "    if c!=0:\n",
    "        c = 10-c\n",
    "    gtin += str(c)\n",
    "    is_valid = False\n",
    "    if subtype == 'GTIN-14':\n",
    "        is_valid = (len(gtin)==14)\n",
    "    elif subtype == 'EAN':\n",
    "        is_valid = (len(gtin)==13)\n",
    "    elif subtype == 'UPC':\n",
    "        is_valid = (len(gtin)==12)\n",
    "    if is_valid == False:\n",
    "        gtin = test_gtin\n",
    "    return gtin, is_valid\n",
    "\n",
    "assert(validate_gtin('0083701340420', 'UPC') == ('837013404200', True))\n",
    "assert(validate_gtin('0083701340420', 'EAN') == ('0083701340420', False))\n",
    "assert(validate_gtin('837013404200', 'EAN') == ('8370134042002', True))\n",
    "assert(validate_gtin('8370134042008', 'EAN') == ('8370134042008', False))"
   ]
  },
  {
   "cell_type": "code",
   "execution_count": null,
   "metadata": {
    "collapsed": true
   },
   "outputs": [],
   "source": []
  },
  {
   "cell_type": "code",
   "execution_count": null,
   "metadata": {
    "collapsed": true
   },
   "outputs": [],
   "source": []
  },
  {
   "cell_type": "code",
   "execution_count": null,
   "metadata": {
    "collapsed": true
   },
   "outputs": [],
   "source": []
  },
  {
   "cell_type": "code",
   "execution_count": null,
   "metadata": {
    "collapsed": true
   },
   "outputs": [],
   "source": []
  },
  {
   "cell_type": "code",
   "execution_count": 168,
   "metadata": {},
   "outputs": [
    {
     "data": {
      "text/plain": [
       "('8370134042008', False)"
      ]
     },
     "execution_count": 168,
     "metadata": {},
     "output_type": "execute_result"
    }
   ],
   "source": [
    "validate_gtin('8370134042008', 'EAN')"
   ]
  },
  {
   "cell_type": "code",
   "execution_count": null,
   "metadata": {
    "collapsed": true
   },
   "outputs": [],
   "source": []
  },
  {
   "cell_type": "code",
   "execution_count": null,
   "metadata": {
    "collapsed": true
   },
   "outputs": [],
   "source": []
  },
  {
   "cell_type": "code",
   "execution_count": 134,
   "metadata": {},
   "outputs": [
    {
     "name": "stdout",
     "output_type": "stream",
     "text": [
      "1102\n"
     ]
    }
   ],
   "source": [
    "a = \"00110\"\n",
    "a= a.lstrip('0')\n",
    "print(a+'2')"
   ]
  },
  {
   "cell_type": "code",
   "execution_count": 135,
   "metadata": {
    "collapsed": true
   },
   "outputs": [],
   "source": [
    "a = '1'\n",
    "c = ord(a)-ord('0')"
   ]
  },
  {
   "cell_type": "code",
   "execution_count": 136,
   "metadata": {},
   "outputs": [
    {
     "data": {
      "text/plain": [
       "1"
      ]
     },
     "execution_count": 136,
     "metadata": {},
     "output_type": "execute_result"
    }
   ],
   "source": [
    "c"
   ]
  },
  {
   "cell_type": "code",
   "execution_count": 137,
   "metadata": {},
   "outputs": [
    {
     "data": {
      "text/plain": [
       "'1'"
      ]
     },
     "execution_count": 137,
     "metadata": {},
     "output_type": "execute_result"
    }
   ],
   "source": [
    "str(c)"
   ]
  },
  {
   "cell_type": "code",
   "execution_count": null,
   "metadata": {
    "collapsed": true
   },
   "outputs": [],
   "source": [
    "class node:\n",
    "    def __init__(self, x):\n",
    "        self.val = x\n",
    "        self.next = None"
   ]
  },
  {
   "cell_type": "code",
   "execution_count": 9,
   "metadata": {},
   "outputs": [],
   "source": [
    "def removeElement(a, x):\n",
    "    if a.count(x) == 0:\n",
    "        return a\n",
    "    l = 0\n",
    "    r = len(a)-1\n",
    "    while l <= r:\n",
    "        if a[l]!=x:\n",
    "            l += 1\n",
    "#             continue\n",
    "        if a[r]==x:\n",
    "            r -= 1\n",
    "        if a[l]==x and a[r]!=x:\n",
    "            a[l]=a[r]\n",
    "            l += 1\n",
    "            r -= 1\n",
    "    return a[:l]"
   ]
  },
  {
   "cell_type": "code",
   "execution_count": 11,
   "metadata": {},
   "outputs": [
    {
     "data": {
      "text/plain": [
       "[1, 2, 3, 1, 3, 2]"
      ]
     },
     "execution_count": 11,
     "metadata": {},
     "output_type": "execute_result"
    }
   ],
   "source": [
    "removeElement([1,2,3,4,3,2,1],4)"
   ]
  },
  {
   "cell_type": "code",
   "execution_count": 12,
   "metadata": {},
   "outputs": [],
   "source": [
    "def removeElement2(a,x):\n",
    "    l = 0 \n",
    "    r = len(a)-1\n",
    "    while l <= r:\n",
    "        while l <= r and a[l]!=x:\n",
    "            l += 1\n",
    "        while l <= r and a[r]==x:\n",
    "            r -= 1\n",
    "        if l < r:\n",
    "            a[l] = a[r]\n",
    "            l += 1\n",
    "            r -= 1\n",
    "    return r+1"
   ]
  },
  {
   "cell_type": "code",
   "execution_count": 18,
   "metadata": {},
   "outputs": [],
   "source": [
    "def strStr(long,short):\n",
    "    if not short:\n",
    "        return 0\n",
    "    if not long:\n",
    "        return -1\n",
    "    i = 0\n",
    "    shortLen = len(short)\n",
    "    while i < len(long):\n",
    "        a = long[i:i+shortLen]\n",
    "        if a == short:\n",
    "            return i\n",
    "        else:\n",
    "            index = 0\n",
    "            try:\n",
    "                index = short.rindex(long[i+shortLen])\n",
    "                i += shortLen - index\n",
    "            except Exception:\n",
    "                i += shortLen + 1\n",
    "            \n",
    "    return -1"
   ]
  },
  {
   "cell_type": "code",
   "execution_count": 22,
   "metadata": {},
   "outputs": [
    {
     "data": {
      "text/plain": [
       "3"
      ]
     },
     "execution_count": 22,
     "metadata": {},
     "output_type": "execute_result"
    }
   ],
   "source": [
    "strStr(\"abcdefg\", \"de\")"
   ]
  },
  {
   "cell_type": "code",
   "execution_count": 23,
   "metadata": {},
   "outputs": [],
   "source": [
    "def divide(a,b): #a/b\n",
    "    MAX_INT = 2147483647\n",
    "    sign = 1\n",
    "    if a >= 0 and b < 0 or a <= 0 and b > 0:\n",
    "        sign = -1\n",
    "    a = abs(a)\n",
    "    b = abs(b)\n",
    "    output = 0\n",
    "    curr = b\n",
    "    currOutput = 1\n",
    "    while curr <= a:\n",
    "        curr <<= 1\n",
    "        currOutput <<= 1\n",
    "    while b <= a:\n",
    "        curr >>= 1\n",
    "        currOutput >>= 1\n",
    "        if curr <= a:\n",
    "            a -= curr\n",
    "            output += currOutput\n",
    "    return min(sign*output, MAX_INT)"
   ]
  },
  {
   "cell_type": "code",
   "execution_count": 24,
   "metadata": {},
   "outputs": [
    {
     "data": {
      "text/plain": [
       "11"
      ]
     },
     "execution_count": 24,
     "metadata": {},
     "output_type": "execute_result"
    }
   ],
   "source": [
    "divide(121,11)"
   ]
  },
  {
   "cell_type": "code",
   "execution_count": null,
   "metadata": {
    "collapsed": true
   },
   "outputs": [],
   "source": []
  },
  {
   "cell_type": "code",
   "execution_count": null,
   "metadata": {
    "collapsed": true
   },
   "outputs": [],
   "source": [
    "def subStringOfConcatOfAllWords(s, words):\n",
    "    i = 0\n",
    "    dict = [(i,0) for i in words]\n",
    "    start = 0\n",
    "    while 3*i < len(s):\n",
    "        if s[i:i+3] in words\n",
    "        "
   ]
  },
  {
   "cell_type": "code",
   "execution_count": 12,
   "metadata": {},
   "outputs": [
    {
     "name": "stdout",
     "output_type": "stream",
     "text": [
      "None\n"
     ]
    }
   ],
   "source": [
    "a = [\"2\",\"w\"]\n",
    "dict = [(i, 0) for i in a]\n",
    "print(dict.clear())"
   ]
  },
  {
   "cell_type": "code",
   "execution_count": 20,
   "metadata": {},
   "outputs": [],
   "source": [
    "def findSubstring(s, words):\n",
    "    s_length = len(s)\n",
    "    word_num = len(words)\n",
    "    word_length = len(words[0])\n",
    "    words_length = word_num * word_length\n",
    "    output = []\n",
    "    dict = {}\n",
    "    for word in words:\n",
    "        dict[word] = dict[word]+1 if word in dict else 1\n",
    "    for i in range(word_length):\n",
    "        l = i\n",
    "        r = i\n",
    "        curr_dict = {}\n",
    "        while r+word_length <= s_length:\n",
    "            word = s[r:r+word_length]\n",
    "            r += word_length\n",
    "            if word not in dict:\n",
    "                curr_dict.clear()\n",
    "                l = r\n",
    "            else:\n",
    "                curr_dict[word] = curr_dict[word]+1 if word in curr_dict else 1\n",
    "                while curr_dict[word] > dict[word]:\n",
    "                    curr_dict[s[l:l+word_length]] -= 1\n",
    "                    l += word_length\n",
    "                if r - l == words_length:\n",
    "                    output.append(l)\n",
    "    return output"
   ]
  },
  {
   "cell_type": "code",
   "execution_count": 21,
   "metadata": {},
   "outputs": [
    {
     "data": {
      "text/plain": [
       "[0, 9]"
      ]
     },
     "execution_count": 21,
     "metadata": {},
     "output_type": "execute_result"
    }
   ],
   "source": [
    "findSubstring(\"barfoothefoobarman\",[\"foo\", \"bar\"])"
   ]
  },
  {
   "cell_type": "code",
   "execution_count": 8,
   "metadata": {},
   "outputs": [],
   "source": [
    "words = [\"a\",\"d\",\"v\",\"d\"]\n",
    "dict = {}\n",
    "for word in words:\n",
    "    dict[word] = dict[word]+1 if word in dict else 1"
   ]
  },
  {
   "cell_type": "code",
   "execution_count": 9,
   "metadata": {},
   "outputs": [
    {
     "name": "stdout",
     "output_type": "stream",
     "text": [
      "{'a': 1, 'd': 2, 'v': 1}\n"
     ]
    }
   ],
   "source": [
    "print(dict)"
   ]
  },
  {
   "cell_type": "code",
   "execution_count": null,
   "metadata": {},
   "outputs": [],
   "source": []
  },
  {
   "cell_type": "code",
   "execution_count": 32,
   "metadata": {},
   "outputs": [],
   "source": [
    "def nextPermutation(nums):\n",
    "    length = len(nums)\n",
    "    targetIndex = 0\n",
    "    changeIndex = 0\n",
    "    for i in range(length-1, 0, -1):\n",
    "        if nums[i] > nums[i-1]:\n",
    "            targetIndex = i-1\n",
    "            break\n",
    "    for i in range(length-1, 0, -1):\n",
    "        if nums[i] > nums[targetIndex]:\n",
    "            changeIndex = i\n",
    "            break\n",
    "    nums[targetIndex], nums[changeIndex] = nums[changeIndex], nums[targetIndex]\n",
    "    if targetIndex == changeIndex == 0:\n",
    "        nums.reverse()\n",
    "    else:\n",
    "        nums[targetIndex+1:] = reversed(nums[targetIndex+1:])\n",
    "    return nums"
   ]
  },
  {
   "cell_type": "code",
   "execution_count": 33,
   "metadata": {},
   "outputs": [
    {
     "data": {
      "text/plain": [
       "[1, 5, 6, 3, 3, 2, 4, 4]"
      ]
     },
     "execution_count": 33,
     "metadata": {},
     "output_type": "execute_result"
    }
   ],
   "source": [
    "nextPermutation([1,5,6,3,2,4,4,3])"
   ]
  },
  {
   "cell_type": "code",
   "execution_count": 34,
   "metadata": {},
   "outputs": [
    {
     "data": {
      "text/plain": [
       "[1, 2, 3]"
      ]
     },
     "execution_count": 34,
     "metadata": {},
     "output_type": "execute_result"
    }
   ],
   "source": [
    "nextPermutation([3,2,1])"
   ]
  },
  {
   "cell_type": "code",
   "execution_count": 35,
   "metadata": {},
   "outputs": [],
   "source": [
    "def longestValidParentheses(s):\n",
    "    if not s:\n",
    "        return 0\n",
    "    length = len(s)\n",
    "    dp = [0 for __ in range(length)]\n",
    "    for i in range(1, length):\n",
    "        if s[i] == \")\":\n",
    "            j = i-1-dp[i-1]\n",
    "            if j >= 0 and s[j] == \"(\":\n",
    "                dp[i] = dp[i-1] + 2\n",
    "                if j-1 >= 0:\n",
    "                    dp[i] += dp[j-1]\n",
    "    return max(dp)"
   ]
  },
  {
   "cell_type": "code",
   "execution_count": 36,
   "metadata": {},
   "outputs": [
    {
     "data": {
      "text/plain": [
       "6"
      ]
     },
     "execution_count": 36,
     "metadata": {},
     "output_type": "execute_result"
    }
   ],
   "source": [
    "longestValidParentheses(\")()(()))\")"
   ]
  },
  {
   "cell_type": "code",
   "execution_count": 37,
   "metadata": {},
   "outputs": [],
   "source": [
    "def searchInRotatedList(nums, target):\n",
    "    left = 0\n",
    "    right = len(nums)-1\n",
    "    while left <= right:\n",
    "        mid = left + (right-left)//1\n",
    "        if nums[mid] == target:\n",
    "            return mid\n",
    "        if nums[mid] > nums[left]:\n",
    "            if nums[left] <= target <= nums[mid]:\n",
    "                right = mid-1\n",
    "            else:\n",
    "                left = mid + 1\n",
    "        elif nums[mid] < nums[left]:\n",
    "            if nums[mid] <= target <= nums[right]:\n",
    "                left = mid + 1\n",
    "            else:\n",
    "                right = mid - 1\n",
    "        else:\n",
    "            left += 1\n",
    "    return -1"
   ]
  },
  {
   "cell_type": "code",
   "execution_count": 41,
   "metadata": {},
   "outputs": [
    {
     "data": {
      "text/plain": [
       "6"
      ]
     },
     "execution_count": 41,
     "metadata": {},
     "output_type": "execute_result"
    }
   ],
   "source": [
    "searchInRotatedList([4,5,6,7,0,1,2],2)"
   ]
  },
  {
   "cell_type": "code",
   "execution_count": 42,
   "metadata": {},
   "outputs": [],
   "source": [
    "class node:\n",
    "    def __init__(self, val):\n",
    "        self.next = None\n",
    "        self.val = val\n",
    "    def myPrint(self):\n",
    "        print(self.val)\n",
    "        if self.next:\n",
    "            slef.next.myPrint()"
   ]
  },
  {
   "cell_type": "code",
   "execution_count": 43,
   "metadata": {},
   "outputs": [],
   "source": [
    "def RemoveNthFromEndOfList(head, n):\n",
    "    if not head:\n",
    "        return head\n",
    "    dummy = node(-1)\n",
    "    dummy.next = head\n",
    "    prev= dummy\n",
    "    curr = dummy\n",
    "    while prev and n>=0:\n",
    "        prev= prev.next\n",
    "        n-=1\n",
    "    while prev:\n",
    "        prev = prev.next\n",
    "        curr = curr.next\n",
    "    curr.next = curr.next.next\n",
    "    return dummy.next"
   ]
  },
  {
   "cell_type": "code",
   "execution_count": 44,
   "metadata": {},
   "outputs": [],
   "source": [
    "def swapNodesInPairs(head):\n",
    "    prev = node(-1)\n",
    "    prev.next = head\n",
    "    temp = prev\n",
    "    while temp.next and temp.next.next:\n",
    "        a = temp.next\n",
    "        b = temp.next.next\n",
    "        temp.next = b\n",
    "        a.next = b.next\n",
    "        b.next = a\n",
    "        temp = temp.next.next\n",
    "    return prev.next"
   ]
  },
  {
   "cell_type": "code",
   "execution_count": 46,
   "metadata": {},
   "outputs": [
    {
     "name": "stdout",
     "output_type": "stream",
     "text": [
      "0\n",
      "1\n",
      "2\n",
      "3\n",
      "4\n"
     ]
    }
   ],
   "source": [
    "for i in range (5):\n",
    "    print(i)"
   ]
  },
  {
   "cell_type": "code",
   "execution_count": 47,
   "metadata": {},
   "outputs": [],
   "source": [
    "import sys\n",
    "def solution(N):\n",
    "    # write your code in Python 3.6\n",
    "    for i in range(1,N):\n",
    "        if (i%2 != 0 and i%3 != 0 and i%5 != 0):\n",
    "            sys.stdout.write(str(i))\n",
    "            sys.stdout.write(\"\\n\")\n",
    "            continue\n",
    "        if i%2 == 0:\n",
    "            sys.stdout.write(\"Codility\")\n",
    "        if i%3 == 0:\n",
    "            sys.stdout.write(\"Test\")\n",
    "        if i%5 == 0:\n",
    "            sys.stdout.write(\"Coders\")\n",
    "        sys.stdout.write(\"\\n\")  "
   ]
  },
  {
   "cell_type": "code",
   "execution_count": 48,
   "metadata": {},
   "outputs": [
    {
     "name": "stdout",
     "output_type": "stream",
     "text": [
      "1\n",
      "Codility\n",
      "Test\n",
      "Codility\n",
      "Coders\n",
      "CodilityTest\n",
      "7\n",
      "Codility\n",
      "Test\n",
      "CodilityCoders\n",
      "11\n",
      "CodilityTest\n",
      "13\n",
      "Codility\n",
      "TestCoders\n",
      "Codility\n",
      "17\n",
      "CodilityTest\n",
      "19\n",
      "CodilityCoders\n",
      "Test\n",
      "Codility\n",
      "23\n"
     ]
    }
   ],
   "source": [
    "solution(24)"
   ]
  },
  {
   "cell_type": "code",
   "execution_count": 60,
   "metadata": {},
   "outputs": [
    {
     "name": "stdout",
     "output_type": "stream",
     "text": [
      "w\n"
     ]
    }
   ],
   "source": [
    "t = \"00000\".lstrip('0')\n",
    "if not (t):\n",
    "    print(\"w\")"
   ]
  },
  {
   "cell_type": "code",
   "execution_count": 52,
   "metadata": {},
   "outputs": [
    {
     "ename": "SyntaxError",
     "evalue": "invalid syntax (<ipython-input-52-c7e22db53153>, line 1)",
     "output_type": "error",
     "traceback": [
      "\u001b[1;36m  File \u001b[1;32m\"<ipython-input-52-c7e22db53153>\"\u001b[1;36m, line \u001b[1;32m1\u001b[0m\n\u001b[1;33m    def solution(A) {\u001b[0m\n\u001b[1;37m                    ^\u001b[0m\n\u001b[1;31mSyntaxError\u001b[0m\u001b[1;31m:\u001b[0m invalid syntax\n"
     ]
    }
   ],
   "source": [
    "int solution(A) {\n",
    "    ################### rip here ............ ####################\n",
    "    int ans = A[0];\n",
    "    for (int i = 1; i < A.length; i++) {\n",
    "        if (ans > A[i]) {\n",
    "            ans = A[i];\n",
    "        }\n",
    "    }\n",
    "    return ans;\n",
    "}"
   ]
  },
  {
   "cell_type": "code",
   "execution_count": 53,
   "metadata": {},
   "outputs": [],
   "source": [
    "import sys\n",
    "def solution(N):\n",
    "    # write your code in Python 3.6\n",
    "    for i in range(1,N+1):\n",
    "        if (i%2 != 0 and i%3 != 0 and i%5 != 0):\n",
    "            sys.stdout.write(str(i))\n",
    "            sys.stdout.write(\"\\n\")\n",
    "            continue\n",
    "        if i%2 == 0:\n",
    "            sys.stdout.write(\"Codility\")\n",
    "        if i%3 == 0:\n",
    "            sys.stdout.write(\"Test\")\n",
    "        if i%5 == 0:\n",
    "            sys.stdout.write(\"Coders\")\n",
    "        sys.stdout.write(\"\\n\")    \n",
    "        "
   ]
  },
  {
   "cell_type": "code",
   "execution_count": 56,
   "metadata": {},
   "outputs": [
    {
     "name": "stdout",
     "output_type": "stream",
     "text": [
      "1\n",
      "Codility\n",
      "Test\n",
      "Codility\n",
      "Coders\n",
      "CodilityTest\n",
      "7\n",
      "Codility\n",
      "Test\n",
      "CodilityCoders\n",
      "11\n",
      "CodilityTest\n",
      "13\n",
      "Codility\n",
      "TestCoders\n",
      "Codility\n",
      "17\n",
      "CodilityTest\n",
      "19\n",
      "CodilityCoders\n",
      "Test\n",
      "Codility\n",
      "23\n",
      "CodilityTest\n",
      "Coders\n",
      "Codility\n",
      "Test\n",
      "Codility\n",
      "29\n",
      "CodilityTestCoders\n"
     ]
    }
   ],
   "source": [
    "solution(30)"
   ]
  },
  {
   "cell_type": "code",
   "execution_count": null,
   "metadata": {
    "collapsed": true
   },
   "outputs": [],
   "source": []
  },
  {
   "cell_type": "code",
   "execution_count": 5,
   "metadata": {},
   "outputs": [],
   "source": [
    "def searchForARange(nums, target):\n",
    "    result = []\n",
    "    length = len(nums)\n",
    "    start = 0\n",
    "    end = length\n",
    "    while start < end:\n",
    "        mid = (start+end)//2\n",
    "        if nums[mid]==target and (mid==0 or nums[mid-1]!= target):\n",
    "            result.append(mid) #left range\n",
    "            break\n",
    "        if nums[mid] < target:\n",
    "            start = mid + 1\n",
    "        else:\n",
    "            end = mid\n",
    "    if not result:\n",
    "        return [-1,-1]\n",
    "    end = length\n",
    "    while start < end:\n",
    "        mid = (start+end)//2\n",
    "        if nums[mid] == target and (mid==length - 1 or nums[mid+1]!= target):\n",
    "            result.append(mid)\n",
    "            break\n",
    "        if nums[mid] <= target:\n",
    "            start = mid + 1\n",
    "        else:\n",
    "            end = mid\n",
    "    return result\n",
    "        "
   ]
  },
  {
   "cell_type": "code",
   "execution_count": 8,
   "metadata": {},
   "outputs": [
    {
     "data": {
      "text/plain": [
       "[1, 4]"
      ]
     },
     "execution_count": 8,
     "metadata": {},
     "output_type": "execute_result"
    }
   ],
   "source": [
    "searchForARange([5,7,7,7,7,8,8,9],7)"
   ]
  },
  {
   "cell_type": "code",
   "execution_count": 5,
   "metadata": {},
   "outputs": [],
   "source": [
    "def searchInsert(nums, target):\n",
    "    length = len(nums)\n",
    "    start = 0\n",
    "    end = length\n",
    "    while start < end:\n",
    "        mid = (start+end)//2\n",
    "        if nums[mid] == target:\n",
    "            return mid\n",
    "        if nums[mid] > target and (mid == 0 or nums[mid-1] < target):\n",
    "            return mid\n",
    "        if nums[mid] < target and (mid== length-1):\n",
    "            return mid+1\n",
    "        if nums[mid] < target:\n",
    "            start = mid + 1\n",
    "        else:\n",
    "            end = mid"
   ]
  },
  {
   "cell_type": "code",
   "execution_count": 9,
   "metadata": {},
   "outputs": [
    {
     "name": "stdout",
     "output_type": "stream",
     "text": [
      "2\n"
     ]
    }
   ],
   "source": [
    "a = searchInsert([1,3,5,6],5)\n",
    "print(a)"
   ]
  },
  {
   "cell_type": "code",
   "execution_count": null,
   "metadata": {},
   "outputs": [],
   "source": []
  },
  {
   "cell_type": "code",
   "execution_count": 10,
   "metadata": {},
   "outputs": [],
   "source": [
    "def isVludSudoku(board):\n",
    "    point = \".\"\n",
    "    for i in range(9):\n",
    "        row = []\n",
    "        column = []\n",
    "        square = []\n",
    "        for j in range(9):\n",
    "            element = board[i][j]\n",
    "            if element != point:\n",
    "                if element in row:\n",
    "                    print(\"row\", i , j)\n",
    "                    return False\n",
    "                else:\n",
    "                    row.append(element)\n",
    "                    \n",
    "            element = board[j][i]\n",
    "            if element != point:\n",
    "                if element in column:\n",
    "                    print(\"column\", i , j)\n",
    "                    return False\n",
    "                else:\n",
    "                    column.append(element)\n",
    "            \n",
    "            # TODO RECITE\n",
    "            element = board[i//3*3 + j//3][i%3*3 + j%3]\n",
    "            if element != point:\n",
    "                if element in square:\n",
    "                    print(\"square\", i , j)\n",
    "                    return False\n",
    "                else:\n",
    "                    square.append(element)\n",
    "    return True"
   ]
  },
  {
   "cell_type": "code",
   "execution_count": 8,
   "metadata": {},
   "outputs": [
    {
     "name": "stdout",
     "output_type": "stream",
     "text": [
      "-------------\n",
      "0\n",
      "0\n",
      "-------------\n",
      "0\n",
      "1\n",
      "-------------\n",
      "0\n",
      "2\n",
      "-------------\n",
      "1\n",
      "0\n",
      "-------------\n",
      "1\n",
      "1\n",
      "-------------\n",
      "1\n",
      "2\n",
      "-------------\n",
      "2\n",
      "0\n",
      "-------------\n",
      "2\n",
      "1\n",
      "-------------\n",
      "2\n",
      "2\n",
      "-------------\n",
      "0\n",
      "3\n",
      "-------------\n",
      "0\n",
      "4\n",
      "-------------\n",
      "0\n",
      "5\n",
      "-------------\n",
      "1\n",
      "3\n",
      "-------------\n",
      "1\n",
      "4\n",
      "-------------\n",
      "1\n",
      "5\n",
      "-------------\n",
      "2\n",
      "3\n",
      "-------------\n",
      "2\n",
      "4\n",
      "-------------\n",
      "2\n",
      "5\n",
      "-------------\n",
      "0\n",
      "6\n",
      "-------------\n",
      "0\n",
      "7\n",
      "-------------\n",
      "0\n",
      "8\n",
      "-------------\n",
      "1\n",
      "6\n",
      "-------------\n",
      "1\n",
      "7\n",
      "-------------\n",
      "1\n",
      "8\n",
      "-------------\n",
      "2\n",
      "6\n",
      "-------------\n",
      "2\n",
      "7\n",
      "-------------\n",
      "2\n",
      "8\n",
      "-------------\n",
      "3\n",
      "0\n",
      "-------------\n",
      "3\n",
      "1\n",
      "-------------\n",
      "3\n",
      "2\n",
      "-------------\n",
      "4\n",
      "0\n",
      "-------------\n",
      "4\n",
      "1\n",
      "-------------\n",
      "4\n",
      "2\n",
      "-------------\n",
      "5\n",
      "0\n",
      "-------------\n",
      "5\n",
      "1\n",
      "-------------\n",
      "5\n",
      "2\n",
      "-------------\n",
      "3\n",
      "3\n",
      "-------------\n",
      "3\n",
      "4\n",
      "-------------\n",
      "3\n",
      "5\n",
      "-------------\n",
      "4\n",
      "3\n",
      "-------------\n",
      "4\n",
      "4\n",
      "-------------\n",
      "4\n",
      "5\n",
      "-------------\n",
      "5\n",
      "3\n",
      "-------------\n",
      "5\n",
      "4\n",
      "-------------\n",
      "5\n",
      "5\n",
      "-------------\n",
      "3\n",
      "6\n",
      "-------------\n",
      "3\n",
      "7\n",
      "-------------\n",
      "3\n",
      "8\n",
      "-------------\n",
      "4\n",
      "6\n",
      "-------------\n",
      "4\n",
      "7\n",
      "-------------\n",
      "4\n",
      "8\n",
      "-------------\n",
      "5\n",
      "6\n",
      "-------------\n",
      "5\n",
      "7\n",
      "-------------\n",
      "5\n",
      "8\n",
      "-------------\n",
      "6\n",
      "0\n",
      "-------------\n",
      "6\n",
      "1\n",
      "-------------\n",
      "6\n",
      "2\n",
      "-------------\n",
      "7\n",
      "0\n",
      "-------------\n",
      "7\n",
      "1\n",
      "-------------\n",
      "7\n",
      "2\n",
      "-------------\n",
      "8\n",
      "0\n",
      "-------------\n",
      "8\n",
      "1\n",
      "-------------\n",
      "8\n",
      "2\n",
      "-------------\n",
      "6\n",
      "3\n",
      "-------------\n",
      "6\n",
      "4\n",
      "-------------\n",
      "6\n",
      "5\n",
      "-------------\n",
      "7\n",
      "3\n",
      "-------------\n",
      "7\n",
      "4\n",
      "-------------\n",
      "7\n",
      "5\n",
      "-------------\n",
      "8\n",
      "3\n",
      "-------------\n",
      "8\n",
      "4\n",
      "-------------\n",
      "8\n",
      "5\n",
      "-------------\n",
      "6\n",
      "6\n",
      "-------------\n",
      "6\n",
      "7\n",
      "-------------\n",
      "6\n",
      "8\n",
      "-------------\n",
      "7\n",
      "6\n",
      "-------------\n",
      "7\n",
      "7\n",
      "-------------\n",
      "7\n",
      "8\n",
      "-------------\n",
      "8\n",
      "6\n",
      "-------------\n",
      "8\n",
      "7\n",
      "-------------\n",
      "8\n",
      "8\n"
     ]
    }
   ],
   "source": [
    "for i in range(9):\n",
    "    for j in range(9):\n",
    "        print(\"-------------\")\n",
    "        print(i // 3 * 3 + j // 3)\n",
    "        print(i % 3 * 3 + j % 3)"
   ]
  },
  {
   "cell_type": "code",
   "execution_count": 13,
   "metadata": {},
   "outputs": [
    {
     "name": "stdout",
     "output_type": "stream",
     "text": [
      "column 3 6\n"
     ]
    },
    {
     "data": {
      "text/plain": [
       "False"
      ]
     },
     "execution_count": 13,
     "metadata": {},
     "output_type": "execute_result"
    }
   ],
   "source": [
    "isVludSudoku([\"..4...63.\",\".........\",\"5......9.\",\"...56....\",\"4.3.....1\",\"...7.....\",\"...5.....\",\".........\",\".........\"])"
   ]
  },
  {
   "cell_type": "code",
   "execution_count": 15,
   "metadata": {},
   "outputs": [],
   "source": [
    "def isValidSudoku(board):\n",
    "    \"\"\"\n",
    "    :type board: List[List[str]]\n",
    "    :rtype: bool\n",
    "    \"\"\"\n",
    "    point = \".\"\n",
    "    for i in range(9):\n",
    "        row = []\n",
    "        column = []\n",
    "        square = []\n",
    "        for j in range(9):\n",
    "            element = board[i][j]\n",
    "            if element != point:\n",
    "                if element in row:\n",
    "                    return False\n",
    "                else:\n",
    "                    row.append(element)\n",
    "            element = board[j][i]\n",
    "            if element != point:\n",
    "                if element in column:\n",
    "                    return False\n",
    "                else:\n",
    "                    column.append(element)\n",
    "            element = board[i // 3 * 3 + j // 3][i % 3 * 3 +j % 3]\n",
    "            if element != point:\n",
    "                if element in square:\n",
    "                    return False\n",
    "                else:\n",
    "                    square.append(element)\n",
    "    return True"
   ]
  },
  {
   "cell_type": "code",
   "execution_count": 16,
   "metadata": {},
   "outputs": [
    {
     "data": {
      "text/plain": [
       "True"
      ]
     },
     "execution_count": 16,
     "metadata": {},
     "output_type": "execute_result"
    }
   ],
   "source": [
    "isValidSudoku( [\"53..7....\",\"6..195...\",\".98....6.\",\"8...6...3\",\"4..8.3..1\",\"7...2...6\",\".6....28.\",\"...419..5\",\"....8..79\"])"
   ]
  },
  {
   "cell_type": "code",
   "execution_count": 17,
   "metadata": {},
   "outputs": [
    {
     "data": {
      "text/plain": [
       "True"
      ]
     },
     "execution_count": 17,
     "metadata": {},
     "output_type": "execute_result"
    }
   ],
   "source": [
    "isVludSudoku([\"53..7....\",\"6..195...\",\".98....6.\",\"8...6...3\",\"4..8.3..1\",\"7...2...6\",\".6....28.\",\"...419..5\",\"....8..79\"])"
   ]
  },
  {
   "cell_type": "code",
   "execution_count": 1,
   "metadata": {},
   "outputs": [],
   "source": [
    "sudoku = [\"53..7....\",\"6..195...\",\".98....6.\",\"8...6...3\",\"4..8.3..1\",\"7...2...6\",\".6....28.\",\"...419..5\",\"....8..79\"]"
   ]
  },
  {
   "cell_type": "code",
   "execution_count": 7,
   "metadata": {},
   "outputs": [],
   "source": [
    "def solveSudoku(board):\n",
    "    for row in range(9):\n",
    "        board[row] = list(board[row])\n",
    "        recursive(0,0,board)\n",
    "    for col in range(9):\n",
    "        board[row] = \"\".join(board[row])"
   ]
  },
  {
   "cell_type": "code",
   "execution_count": 3,
   "metadata": {},
   "outputs": [
    {
     "name": "stdout",
     "output_type": "stream",
     "text": [
      "['5', '3', '.', '.', '7', '.', '.', '.', '.']\n",
      "['6', '.', '.', '1', '9', '5', '.', '.', '.']\n",
      "['.', '9', '8', '.', '.', '.', '.', '6', '.']\n",
      "['8', '.', '.', '.', '6', '.', '.', '.', '3']\n",
      "['4', '.', '.', '8', '.', '3', '.', '.', '1']\n",
      "['7', '.', '.', '.', '2', '.', '.', '.', '6']\n",
      "['.', '6', '.', '.', '.', '.', '2', '8', '.']\n",
      "['.', '.', '.', '4', '1', '9', '.', '.', '5']\n",
      "['.', '.', '.', '.', '8', '.', '.', '7', '9']\n"
     ]
    }
   ],
   "source": [
    "for row in range(9):\n",
    "    sudoku[row] = list(sudoku[row])\n",
    "    print(sudoku[row])"
   ]
  },
  {
   "cell_type": "code",
   "execution_count": 5,
   "metadata": {},
   "outputs": [],
   "source": [
    "def recursive(i,j,board):\n",
    "    if j >= 9:\n",
    "        return recursive(1+i, 0, board)\n",
    "    if i == 9:\n",
    "        return True\n",
    "    if board[i][j] == \".\":\n",
    "        for num in range(1,10):\n",
    "            num_str = str(num)\n",
    "            if all([board[i][col] != num_str for col in range(9)]) and all([board[i // 3 * 3 + count // 3][j // 3 * 3 + count % 3] != num_str for count in range(9)]):\n",
    "                board[i][j] = num_str\n",
    "                if not recursive(i,j+1,board):\n",
    "                    board[i][j] = \".\"\n",
    "                else:\n",
    "                    return True\n",
    "    else:\n",
    "        return recursive(i,j+1,board)\n",
    "    return False"
   ]
  },
  {
   "cell_type": "code",
   "execution_count": null,
   "metadata": {},
   "outputs": [],
   "source": [
    "def getCombination(candidates, target):\n",
    "    output = []\n",
    "    candidates.sort()\n",
    "    combination(candidates, target, [], result)\n",
    "    return result\n",
    "def combination(candidates, target, current, result):\n",
    "    s = sum(current) if current else 0\n",
    "    if s > target:\n",
    "        return\n",
    "    elif s == target:\n",
    "        result.append(current)\n",
    "        return\n",
    "    else:\n",
    "        for i,v in enumerate(candidates):\n",
    "            combination(candidates[i:], target, current+[v], result)"
   ]
  },
  {
   "cell_type": "code",
   "execution_count": 14,
   "metadata": {},
   "outputs": [
    {
     "name": "stdout",
     "output_type": "stream",
     "text": [
      "None\n",
      "[1, 2, 4, 8, 3]\n"
     ]
    }
   ],
   "source": [
    "a=[8, 1,2,4]\n",
    "# sorted(a)\n",
    "a.sort()\n",
    "print(a+[3])"
   ]
  },
  {
   "cell_type": "code",
   "execution_count": 15,
   "metadata": {},
   "outputs": [],
   "source": [
    "# def firstMissingPositive(a):\n",
    "#     for i,v in enumerate(a):\n",
    "#         while a[i]!=i+1:\n",
    "#             t = a[v]\n",
    "#             a[v] = v\n",
    "#             a[i] = t\n",
    "def firstMissingPositive(nums):\n",
    "    if not nums:\n",
    "        return 1\n",
    "    i = 0\n",
    "    length = len(nums)\n",
    "    while i < length:\n",
    "        current = nums[i]\n",
    "        if current <= 0 or current > length or nums[current-1]==current:\n",
    "            i += 1\n",
    "        else:\n",
    "            nums[current - 1], nums[i] = nums[i], nums[current-1]\n",
    "    for i in range(length):\n",
    "        if nums[i]!= i+1:\n",
    "            return i+1\n",
    "    return length + 1\n",
    "            "
   ]
  },
  {
   "cell_type": "code",
   "execution_count": 19,
   "metadata": {},
   "outputs": [
    {
     "data": {
      "text/plain": [
       "3"
      ]
     },
     "execution_count": 19,
     "metadata": {},
     "output_type": "execute_result"
    }
   ],
   "source": [
    "firstMissingPositive([1,-1,4,2,0])"
   ]
  },
  {
   "cell_type": "code",
   "execution_count": 18,
   "metadata": {},
   "outputs": [],
   "source": [
    "def firstMissingPositive(a):\n",
    "    if not a:\n",
    "        return 1\n",
    "    length = len(a)\n",
    "    i = 0\n",
    "    while i < length:\n",
    "        current = a[i]\n",
    "        if current <= 0 or current > length or a[current-1] == current:\n",
    "            i += 1\n",
    "        else:\n",
    "            a[current-1], a[i] = a[i], a[current-1]\n",
    "    for i in range(length):\n",
    "        if a[i]!=i+1:\n",
    "            return i+1\n",
    "    return length+1"
   ]
  },
  {
   "cell_type": "code",
   "execution_count": null,
   "metadata": {},
   "outputs": [],
   "source": [
    "class Solution:\n",
    "    def combinationSum(self, candidates: 'List[int]', target: 'int') -> 'List[List[int]]':\n",
    "        if not candidates:\n",
    "            return []\n",
    "        candidates.sort()\n",
    "        output = []\n",
    "        self.combination(candidates, target, [], output)\n",
    "        return output\n",
    "    def combination(self, candidates, target, curr, output):\n",
    "        s = sum(curr) if curr else 0\n",
    "        if s == target:\n",
    "            output.append(curr)\n",
    "            return\n",
    "        elif s > target:\n",
    "            return\n",
    "        else:\n",
    "            for i,v in enumerate(candidates):\n",
    "                self.combination(candidates[i:], target, curr+[v], output)"
   ]
  },
  {
   "cell_type": "code",
   "execution_count": null,
   "metadata": {},
   "outputs": [],
   "source": []
  },
  {
   "cell_type": "code",
   "execution_count": 21,
   "metadata": {},
   "outputs": [
    {
     "name": "stdout",
     "output_type": "stream",
     "text": [
      "[1, 5, 3, 3, 6]\n"
     ]
    }
   ],
   "source": [
    "a = [1,5,3]\n",
    "c = [3,6]\n",
    "b = a.extend(c)\n",
    "print(a)"
   ]
  },
  {
   "cell_type": "code",
   "execution_count": 24,
   "metadata": {},
   "outputs": [
    {
     "name": "stdout",
     "output_type": "stream",
     "text": [
      "0\n",
      "2\n",
      "1\n",
      "2\n",
      "3\n",
      "4\n",
      "5\n"
     ]
    }
   ],
   "source": [
    "dp = [[] for _ in range(6)]\n",
    "dp[0].append([])\n",
    "for i in range(len(dp)):\n",
    "    print(i)\n",
    "    if dp[i]:\n",
    "        print(\"2\")"
   ]
  },
  {
   "cell_type": "code",
   "execution_count": 35,
   "metadata": {},
   "outputs": [],
   "source": [
    "def cs(candidates,target):\n",
    "    dp = [[] for _ in range(target+1)]\n",
    "    dp[0].append([])\n",
    "    for c in candidates:\n",
    "        for subtarget in range(target+1):\n",
    "            if dp[subtarget]:\n",
    "                print(\"------\")\n",
    "                print(dp[subtarget])\n",
    "                temp = [combo + [c] for combo in dp[subtarget]]\n",
    "                print(temp)\n",
    "                if subtarget + c <= target:\n",
    "                    print(dp[subtarget+c])\n",
    "                    dp[subtarget+c].extend(temp)\n",
    "                    print(dp[subtarget+c])\n",
    "                else:\n",
    "                    break\n",
    "    return dp[target]"
   ]
  },
  {
   "cell_type": "code",
   "execution_count": 36,
   "metadata": {},
   "outputs": [
    {
     "name": "stdout",
     "output_type": "stream",
     "text": [
      "------\n",
      "[[]]\n",
      "[[2]]\n",
      "[]\n",
      "[[2]]\n",
      "------\n",
      "[[2]]\n",
      "[[2, 2]]\n",
      "[]\n",
      "[[2, 2]]\n",
      "------\n",
      "[[2, 2]]\n",
      "[[2, 2, 2]]\n",
      "[]\n",
      "[[2, 2, 2]]\n",
      "------\n",
      "[[2, 2, 2]]\n",
      "[[2, 2, 2, 2]]\n",
      "[]\n",
      "[[2, 2, 2, 2]]\n",
      "------\n",
      "[[2, 2, 2, 2]]\n",
      "[[2, 2, 2, 2, 2]]\n",
      "[]\n",
      "[[2, 2, 2, 2, 2]]\n",
      "------\n",
      "[[2, 2, 2, 2, 2]]\n",
      "[[2, 2, 2, 2, 2, 2]]\n",
      "------\n",
      "[[]]\n",
      "[[3]]\n",
      "[]\n",
      "[[3]]\n",
      "------\n",
      "[[2]]\n",
      "[[2, 3]]\n",
      "[]\n",
      "[[2, 3]]\n",
      "------\n",
      "[[3]]\n",
      "[[3, 3]]\n",
      "[[2, 2, 2]]\n",
      "[[2, 2, 2], [3, 3]]\n",
      "------\n",
      "[[2, 2]]\n",
      "[[2, 2, 3]]\n",
      "[]\n",
      "[[2, 2, 3]]\n",
      "------\n",
      "[[2, 3]]\n",
      "[[2, 3, 3]]\n",
      "[[2, 2, 2, 2]]\n",
      "[[2, 2, 2, 2], [2, 3, 3]]\n",
      "------\n",
      "[[2, 2, 2], [3, 3]]\n",
      "[[2, 2, 2, 3], [3, 3, 3]]\n",
      "[]\n",
      "[[2, 2, 2, 3], [3, 3, 3]]\n",
      "------\n",
      "[[2, 2, 3]]\n",
      "[[2, 2, 3, 3]]\n",
      "[[2, 2, 2, 2, 2]]\n",
      "[[2, 2, 2, 2, 2], [2, 2, 3, 3]]\n",
      "------\n",
      "[[2, 2, 2, 2], [2, 3, 3]]\n",
      "[[2, 2, 2, 2, 3], [2, 3, 3, 3]]\n",
      "------\n",
      "[[]]\n",
      "[[5]]\n",
      "[[2, 3]]\n",
      "[[2, 3], [5]]\n",
      "------\n",
      "[[2]]\n",
      "[[2, 5]]\n",
      "[[2, 2, 3]]\n",
      "[[2, 2, 3], [2, 5]]\n",
      "------\n",
      "[[3]]\n",
      "[[3, 5]]\n",
      "[[2, 2, 2, 2], [2, 3, 3]]\n",
      "[[2, 2, 2, 2], [2, 3, 3], [3, 5]]\n",
      "------\n",
      "[[2, 2]]\n",
      "[[2, 2, 5]]\n",
      "[[2, 2, 2, 3], [3, 3, 3]]\n",
      "[[2, 2, 2, 3], [3, 3, 3], [2, 2, 5]]\n",
      "------\n",
      "[[2, 3], [5]]\n",
      "[[2, 3, 5], [5, 5]]\n",
      "[[2, 2, 2, 2, 2], [2, 2, 3, 3]]\n",
      "[[2, 2, 2, 2, 2], [2, 2, 3, 3], [2, 3, 5], [5, 5]]\n",
      "------\n",
      "[[2, 2, 2], [3, 3]]\n",
      "[[2, 2, 2, 5], [3, 3, 5]]\n"
     ]
    },
    {
     "data": {
      "text/plain": [
       "[[2, 2, 2, 2, 2], [2, 2, 3, 3], [2, 3, 5], [5, 5]]"
      ]
     },
     "execution_count": 36,
     "metadata": {},
     "output_type": "execute_result"
    }
   ],
   "source": [
    "c = [2,3,5]\n",
    "cs(c,10)"
   ]
  },
  {
   "cell_type": "code",
   "execution_count": null,
   "metadata": {},
   "outputs": [],
   "source": []
  },
  {
   "cell_type": "code",
   "execution_count": null,
   "metadata": {},
   "outputs": [],
   "source": [
    "def combinationSum(self, candidates: 'List[int]', target: 'int') -> 'List[List[int]]':\n",
    "        if not candidates:\n",
    "            return []\n",
    "        candidates.sort()\n",
    "        output = []\n",
    "        self.combination(candidates, target, [], output)\n",
    "        return output\n",
    "    def combination(self, candidates, target, curr, output):\n",
    "        s = sum(curr) if curr else 0\n",
    "        if s == target:\n",
    "            output.append(curr)\n",
    "            return\n",
    "        elif s > target:\n",
    "            return\n",
    "        else:\n",
    "            for i,v in enumerate(candidates):\n",
    "                self.combination(candidates[i:], target, curr+[v], output)\n",
    "        # dp = [[] for _ in range(target+1)]\n",
    "        # dp[0].append([])\n",
    "        # for c in candidates:\n",
    "        #     for subtarget in range(target+1):\n",
    "        #         if dp[subtarget]:\n",
    "        #             temp = [combo + [c] for combo in dp[subtarget]]\n",
    "        #             if subtarget + c <= target:\n",
    "        #                 dp[subtarget+c].extend(temp)\n",
    "        #             else:\n",
    "        #                 break\n",
    "        # return dp[target]"
   ]
  },
  {
   "cell_type": "code",
   "execution_count": null,
   "metadata": {},
   "outputs": [],
   "source": []
  },
  {
   "cell_type": "code",
   "execution_count": null,
   "metadata": {},
   "outputs": [],
   "source": []
  },
  {
   "cell_type": "code",
   "execution_count": null,
   "metadata": {},
   "outputs": [],
   "source": [
    "# bool hasEmtpy(time, num)\n",
    "# Class table:\n",
    "#     enum Size\n",
    "#     enum location\n",
    "#     available number\n",
    "#     waitingList\n",
    "\n",
    "# calling service\n",
    "# online reservation service\n",
    "\n",
    "# order\n",
    "# waitingBeforeYou\n",
    "\n",
    "\n"
   ]
  },
  {
   "cell_type": "code",
   "execution_count": null,
   "metadata": {},
   "outputs": [],
   "source": []
  },
  {
   "cell_type": "code",
   "execution_count": 7,
   "metadata": {},
   "outputs": [],
   "source": [
    "def trapWater(height):\n",
    "    if not height:\n",
    "        return 0\n",
    "    length = len(height)\n",
    "    maxh = [0 for _ in range(length)]\n",
    "    h = height[length-1]\n",
    "    for i in range(length-2, -1, -1):\n",
    "        maxh[i] = h\n",
    "        print(\"i is \", i, \", height[i] is \", height[i], \", h is \", h)\n",
    "        h = max(h, height[i])\n",
    "    h = height[0]\n",
    "    result = 0\n",
    "    print(maxh)\n",
    "    print(\"---------\")\n",
    "    for i in range(1, length-1):\n",
    "        h = max(h, height[i])\n",
    "        result += max(0,min(maxh[i],h)-height[i])\n",
    "#         print(max(0,min(maxh[i],h)-height[i]))        \n",
    "        print(\"i is \", i, \", height[i] is \", height[i], \", h is \", h)\n",
    "\n",
    "    return result"
   ]
  },
  {
   "cell_type": "raw",
   "metadata": {},
   "source": []
  },
  {
   "cell_type": "code",
   "execution_count": 8,
   "metadata": {},
   "outputs": [
    {
     "name": "stdout",
     "output_type": "stream",
     "text": [
      "i is  10 , height[i] is  2 , h is  1\n",
      "i is  9 , height[i] is  1 , h is  2\n",
      "i is  8 , height[i] is  2 , h is  2\n",
      "i is  7 , height[i] is  3 , h is  2\n",
      "i is  6 , height[i] is  1 , h is  3\n",
      "i is  5 , height[i] is  0 , h is  3\n",
      "i is  4 , height[i] is  1 , h is  3\n",
      "i is  3 , height[i] is  2 , h is  3\n",
      "i is  2 , height[i] is  0 , h is  3\n",
      "i is  1 , height[i] is  1 , h is  3\n",
      "i is  0 , height[i] is  0 , h is  3\n",
      "[3, 3, 3, 3, 3, 3, 3, 2, 2, 2, 1, 0]\n",
      "---------\n",
      "i is  1 , height[i] is  1 , h is  1\n",
      "i is  2 , height[i] is  0 , h is  1\n",
      "i is  3 , height[i] is  2 , h is  2\n",
      "i is  4 , height[i] is  1 , h is  2\n",
      "i is  5 , height[i] is  0 , h is  2\n",
      "i is  6 , height[i] is  1 , h is  2\n",
      "i is  7 , height[i] is  3 , h is  3\n",
      "i is  8 , height[i] is  2 , h is  3\n",
      "i is  9 , height[i] is  1 , h is  3\n",
      "i is  10 , height[i] is  2 , h is  3\n"
     ]
    },
    {
     "data": {
      "text/plain": [
       "6"
      ]
     },
     "execution_count": 8,
     "metadata": {},
     "output_type": "execute_result"
    }
   ],
   "source": [
    "trapWater([0,1,0,2,1,0,1,3,2,1,2,1])"
   ]
  },
  {
   "cell_type": "code",
   "execution_count": 39,
   "metadata": {},
   "outputs": [],
   "source": [
    "def multiplyInt(num1, num2):\n",
    "    num1 = num1[::-1]\n",
    "    num2 = num2[::-1]\n",
    "    length1 = len(num1)\n",
    "    length2 = len(num2)\n",
    "    temp = [0 for _ in range(length1+length2)]\n",
    "    for i in range(length1):\n",
    "        for j in range(length2):\n",
    "            t = ((ord(num1[i])-ord('0')) * (ord(num2[j])-ord('0')))\n",
    "            temp[i+j] = temp[i+j] + t\n",
    "    carry = 0\n",
    "    output = []\n",
    "    print(temp)\n",
    "    for n in temp:\n",
    "        s = carry + n\n",
    "        carry = s // 10\n",
    "        output.append(str(s%10))\n",
    "    out = \"\".join(output)[::-1]\n",
    "#     out = out.lstrip('0')\n",
    "    sub_index = 0\n",
    "    for i in range(length1+length2-1):\n",
    "        if out[i] == \"0\":\n",
    "            sub_index += 1\n",
    "        else:\n",
    "            break\n",
    "    return out[sub_index:]"
   ]
  },
  {
   "cell_type": "code",
   "execution_count": 40,
   "metadata": {},
   "outputs": [
    {
     "name": "stdout",
     "output_type": "stream",
     "text": [
      "[0, 0, 0, 0, 0, 0]\n"
     ]
    },
    {
     "data": {
      "text/plain": [
       "'0'"
      ]
     },
     "execution_count": 40,
     "metadata": {},
     "output_type": "execute_result"
    }
   ],
   "source": [
    "multiplyInt(\"0\",\"20000\")"
   ]
  },
  {
   "cell_type": "code",
   "execution_count": 23,
   "metadata": {},
   "outputs": [
    {
     "data": {
      "text/plain": [
       "1"
      ]
     },
     "execution_count": 23,
     "metadata": {},
     "output_type": "execute_result"
    }
   ],
   "source": [
    "s = \"00123\"\n",
    "s.lstrip('0')\n",
    "ord('1')-ord('0')"
   ]
  },
  {
   "cell_type": "code",
   "execution_count": null,
   "metadata": {},
   "outputs": [],
   "source": []
  },
  {
   "cell_type": "code",
   "execution_count": null,
   "metadata": {},
   "outputs": [],
   "source": []
  },
  {
   "cell_type": "code",
   "execution_count": null,
   "metadata": {},
   "outputs": [],
   "source": []
  },
  {
   "cell_type": "code",
   "execution_count": null,
   "metadata": {},
   "outputs": [],
   "source": []
  }
 ],
 "metadata": {
  "kernelspec": {
   "display_name": "Python 3",
   "language": "python",
   "name": "python3"
  },
  "language_info": {
   "codemirror_mode": {
    "name": "ipython",
    "version": 3
   },
   "file_extension": ".py",
   "mimetype": "text/x-python",
   "name": "python",
   "nbconvert_exporter": "python",
   "pygments_lexer": "ipython3",
   "version": "3.7.1"
  }
 },
 "nbformat": 4,
 "nbformat_minor": 2
}
