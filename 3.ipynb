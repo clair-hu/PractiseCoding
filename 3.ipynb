{
 "cells": [
  {
   "cell_type": "code",
   "execution_count": null,
   "metadata": {
    "collapsed": true
   },
   "outputs": [],
   "source": [
    "Given an array of integers, return indices of the two numbers such that they add up to a specific target.\n",
    "\n",
    "You may assume that each input would have exactly one solution, and you may not use the same element twice.\n",
    "\n",
    "Example:\n",
    "\n",
    "Given nums = [2, 7, 11, 15], target = 9,\n",
    "\n",
    "Because nums[0] + nums[1] = 2 + 7 = 9, return [0, 1]."
   ]
  },
  {
   "cell_type": "code",
   "execution_count": 8,
   "metadata": {
    "collapsed": true
   },
   "outputs": [],
   "source": [
    "def binarySearch(A, target, l, r):\n",
    "    m = int (l + (r-l)/2)\n",
    "    while l<=r:\n",
    "        if A[m] == target:\n",
    "            return m\n",
    "        elif A[m] < target:\n",
    "            return binarySearch(A, target, m+1, r)\n",
    "        else:\n",
    "            return binarySearch(A, target, l, m-1)\n",
    "    return -1\n",
    "                    "
   ]
  },
  {
   "cell_type": "code",
   "execution_count": 61,
   "metadata": {},
   "outputs": [
    {
     "data": {
      "text/plain": [
       "1"
      ]
     },
     "execution_count": 61,
     "metadata": {},
     "output_type": "execute_result"
    }
   ],
   "source": [
    "A = [1,5,38,50]\n",
    "binarySearch(A, 5, 0, 2)"
   ]
  },
  {
   "cell_type": "code",
   "execution_count": 32,
   "metadata": {
    "collapsed": true
   },
   "outputs": [],
   "source": [
    "def twoSum(A, target):\n",
    "    for i,v in enumerate(A):\n",
    "        a = binarySearch(A[i+1:], target-v, 0, len(A[i+1:])-1)\n",
    "        if a != -1:\n",
    "            return (i,a+i+1)\n",
    "    return -1"
   ]
  },
  {
   "cell_type": "code",
   "execution_count": 35,
   "metadata": {},
   "outputs": [
    {
     "data": {
      "text/plain": [
       "-1"
      ]
     },
     "execution_count": 35,
     "metadata": {},
     "output_type": "execute_result"
    }
   ],
   "source": [
    "twoSum(A,10)"
   ]
  },
  {
   "cell_type": "code",
   "execution_count": 64,
   "metadata": {
    "collapsed": true
   },
   "outputs": [],
   "source": [
    "def twoSumHash(A, target):\n",
    "    hash_table = {}\n",
    "    for i,v in enumerate(A):\n",
    "        hash_table[v] = i\n",
    "    for i,v in enumerate(A):\n",
    "        if (target - v) in hash_table:\n",
    "            if hash_table[target-v] != i:\n",
    "                return (i, hash_table[target-v])\n",
    "    return -1"
   ]
  },
  {
   "cell_type": "code",
   "execution_count": 65,
   "metadata": {},
   "outputs": [
    {
     "data": {
      "text/plain": [
       "-1"
      ]
     },
     "execution_count": 65,
     "metadata": {},
     "output_type": "execute_result"
    }
   ],
   "source": [
    "twoSumHash(A,10)"
   ]
  },
  {
   "cell_type": "code",
   "execution_count": null,
   "metadata": {
    "collapsed": true
   },
   "outputs": [],
   "source": []
  },
  {
   "cell_type": "code",
   "execution_count": null,
   "metadata": {
    "collapsed": true
   },
   "outputs": [],
   "source": []
  },
  {
   "cell_type": "code",
   "execution_count": null,
   "metadata": {
    "collapsed": true
   },
   "outputs": [],
   "source": []
  },
  {
   "cell_type": "code",
   "execution_count": null,
   "metadata": {
    "collapsed": true
   },
   "outputs": [],
   "source": []
  },
  {
   "cell_type": "code",
   "execution_count": null,
   "metadata": {
    "collapsed": true
   },
   "outputs": [],
   "source": [
    "You are given two non-empty linked lists representing two non-negative integers. The digits are stored in reverse order and \n",
    "each of their nodes contain a single digit. Add the two numbers and return it as a linked list.\n",
    "\n",
    "You may assume the two numbers do not contain any leading zero, except the number 0 itself.\n",
    "\n",
    "Input: (2 -> 4 -> 3) + (5 -> 6 -> 4) Output: 7 -> 0 -> 8"
   ]
  },
  {
   "cell_type": "code",
   "execution_count": 55,
   "metadata": {
    "collapsed": true
   },
   "outputs": [],
   "source": [
    "class node:\n",
    "    def __init__(self, value):\n",
    "        self.value = value\n",
    "        self.next = None\n",
    "    \n",
    "    def printNode(self):\n",
    "        print(\" -> \", self.value, end=\"\")"
   ]
  },
  {
   "cell_type": "code",
   "execution_count": 41,
   "metadata": {},
   "outputs": [
    {
     "name": "stdout",
     "output_type": "stream",
     "text": [
      " ->  1\n"
     ]
    }
   ],
   "source": [
    "a = node(1)\n",
    "a.printNode()"
   ]
  },
  {
   "cell_type": "code",
   "execution_count": 58,
   "metadata": {
    "collapsed": true
   },
   "outputs": [],
   "source": [
    "def addTwoNum(A, B):\n",
    "    r = 0\n",
    "    if A == None or B == None:\n",
    "        return -1\n",
    "    a = node(A[0]+B[0])\n",
    "    start = a\n",
    "    A.pop(0)\n",
    "    B.pop(0)\n",
    "    if len(A) >= len(B):\n",
    "        for i, v in enumerate(B):\n",
    "            if A[i] + B[i] >= 10:\n",
    "                a.next = node(A[i] + B[i]-10+r)\n",
    "                r = 1\n",
    "            else:\n",
    "                a. next = node(A[i]+B[i]+r)\n",
    "                r = 0\n",
    "            a = a.next\n",
    "    a = start\n",
    "    print(a.value, end= \" \")\n",
    "    a= a.next\n",
    "    while a.next:\n",
    "        a.printNode()\n",
    "        a = a.next\n",
    "    a.printNode()"
   ]
  },
  {
   "cell_type": "code",
   "execution_count": 59,
   "metadata": {},
   "outputs": [
    {
     "name": "stdout",
     "output_type": "stream",
     "text": [
      "7  ->  0 ->  8"
     ]
    }
   ],
   "source": [
    "addTwoNum([2,4,3], [5,6,4])"
   ]
  },
  {
   "cell_type": "code",
   "execution_count": null,
   "metadata": {
    "collapsed": true
   },
   "outputs": [],
   "source": []
  },
  {
   "cell_type": "code",
   "execution_count": null,
   "metadata": {
    "collapsed": true
   },
   "outputs": [],
   "source": []
  },
  {
   "cell_type": "code",
   "execution_count": null,
   "metadata": {
    "collapsed": true
   },
   "outputs": [],
   "source": []
  },
  {
   "cell_type": "code",
   "execution_count": null,
   "metadata": {
    "collapsed": true
   },
   "outputs": [],
   "source": []
  },
  {
   "cell_type": "code",
   "execution_count": null,
   "metadata": {
    "collapsed": true
   },
   "outputs": [],
   "source": []
  },
  {
   "cell_type": "code",
   "execution_count": null,
   "metadata": {
    "collapsed": true
   },
   "outputs": [],
   "source": [
    "Given a string, find the length of the longest substring without repeating characters.\n",
    "\n",
    "Examples:\n",
    "\n",
    "Given \"abcabcbb\", the answer is \"abc\", which the length is 3.\n",
    "\n",
    "Given \"bbbbb\", the answer is \"b\", with the length of 1.\n",
    "\n",
    "Given \"pwwkew\", the answer is \"wke\", with the length of 3. Note that the answer must be a substring, \"pwke\" is a subsequence\n",
    "and not a substring."
   ]
  },
  {
   "cell_type": "code",
   "execution_count": 94,
   "metadata": {
    "collapsed": true
   },
   "outputs": [],
   "source": [
    "def longestSubstring(s):\n",
    "    m = 1\n",
    "    for i,v in enumerate(s[:-1]):\n",
    "        m = max(m, s.find(v,i+1)-i)\n",
    "    return m"
   ]
  },
  {
   "cell_type": "code",
   "execution_count": 96,
   "metadata": {},
   "outputs": [
    {
     "data": {
      "text/plain": [
       "1"
      ]
     },
     "execution_count": 96,
     "metadata": {},
     "output_type": "execute_result"
    }
   ],
   "source": [
    "longestSubstring(\"bbb\")"
   ]
  },
  {
   "cell_type": "code",
   "execution_count": null,
   "metadata": {
    "collapsed": true
   },
   "outputs": [],
   "source": [
    "There are two sorted arrays nums1 and nums2 of size m and n respectively.\n",
    "\n",
    "Find the median of the two sorted arrays. The overall run time complexity should be O(log (m+n)).\n",
    "\n",
    "Example 1:\n",
    "\n",
    "nums1 = [1, 3] nums2 = [2]\n",
    "\n",
    "The median is 2.0\n",
    "\n",
    "Example 2:\n",
    "\n",
    "nums1 = [1, 2] nums2 = [3, 4]\n",
    "\n",
    "The median is (2 + 3)/2 = 2.5"
   ]
  },
  {
   "cell_type": "code",
   "execution_count": 6,
   "metadata": {},
   "outputs": [],
   "source": [
    "def findMedianOfSortedArrays(nums1, nums2):\n",
    "    length1 = len(nums1)\n",
    "    length2 = len(nums2)\n",
    "    k = length1 + (length2 - length1) //2\n",
    "    if (length1 + length2) %  2 == 0:\n",
    "        return (findK(nums1, nums2, k) + findK(nums1, nums2, k-1))/2\n",
    "    else:\n",
    "        return findK(nums1, nums2, k)\n",
    "    \n",
    "    \n",
    "    \n",
    "    \n",
    "def findK(nums1, nums2, k):\n",
    "    if not nums1:\n",
    "        return nums2[k]\n",
    "    if not nums2:\n",
    "        return nums1[k]\n",
    "    if k == 0:\n",
    "        return min(nums1[0], nums2[0])\n",
    "    length1 = len(nums1)\n",
    "    length2 = len(nums2)\n",
    "    if nums1[length1//2] > nums2[length2//2]:\n",
    "        if k > length1//2 + length2//2:\n",
    "            return findK(nums1, nums2[length2//2+1:], k-length2//2-1)\n",
    "        else:\n",
    "            return findK(nums1[:length1//2], nums2, k)\n",
    "    else:\n",
    "        if k > length1//2 + length2//2:\n",
    "            return findK(nums1[length1//2+1:], nums2, k-length1//2-1)\n",
    "        else:\n",
    "            return findK(nums1, nums2[:length2//2], k)\n",
    "#     l1,l2=0\n",
    "#     r1 = len(num1)-1\n",
    "#     r2 = len(num2)-1\n",
    "#     m1 = l1 + (r1-l1)//2\n",
    "#     m2 = l2 + (r2-l2)//2\n",
    "    "
   ]
  },
  {
   "cell_type": "code",
   "execution_count": 8,
   "metadata": {},
   "outputs": [
    {
     "data": {
      "text/plain": [
       "2.5"
      ]
     },
     "execution_count": 8,
     "metadata": {},
     "output_type": "execute_result"
    }
   ],
   "source": [
    "findMedianOfSortedArrays([1,3],[2,4])"
   ]
  },
  {
   "cell_type": "code",
   "execution_count": null,
   "metadata": {
    "collapsed": true
   },
   "outputs": [],
   "source": [
    "Given a string s, find the longest palindromic substring in s. You may assume that the maximum length of s is 1000.\n",
    "\n",
    "Example:\n",
    "\n",
    "Input: \"babad\"\n",
    "\n",
    "Output: \"bab\"\n",
    "\n",
    "Note: \"aba\" is also a valid answer.\n",
    "\n",
    "Example:\n",
    "\n",
    "Input: \"cbbd\"\n",
    "\n",
    "Output: \"bb\""
   ]
  },
  {
   "cell_type": "code",
   "execution_count": 15,
   "metadata": {
    "collapsed": true
   },
   "outputs": [],
   "source": [
    "def getPalindromicNums(s):\n",
    "    nums = 0\n",
    "    for i,v in enumerate(s):\n",
    "        nums += palindromicCenteredAt(i,s)\n",
    "    return nums\n",
    "\n",
    "def palindromicCenteredAt(i,s):\n",
    "    d = 1\n",
    "    nums = 1\n",
    "    while i-d>=0 and i+d < len(s):\n",
    "        if s[i-d] == s[i+d]:\n",
    "            nums += 1\n",
    "            d += 1\n",
    "        else:\n",
    "            break\n",
    "    if i!=0 and s[i]==s[i-1]:\n",
    "        d = 1\n",
    "        nums += 1\n",
    "        while i-1-d>=0 and i+d < len(s):\n",
    "            if s[i-d-1] == s[i+d]:\n",
    "                nums += 1\n",
    "                d += 1\n",
    "            else:\n",
    "                break\n",
    "    return nums"
   ]
  },
  {
   "cell_type": "code",
   "execution_count": 16,
   "metadata": {},
   "outputs": [
    {
     "data": {
      "text/plain": [
       "12"
      ]
     },
     "execution_count": 16,
     "metadata": {},
     "output_type": "execute_result"
    }
   ],
   "source": [
    "getPalindromicNums(\"abcddcba\")"
   ]
  },
  {
   "cell_type": "code",
   "execution_count": 12,
   "metadata": {
    "collapsed": true
   },
   "outputs": [],
   "source": [
    "# def getLongestPalindromic(s):\n",
    "#     if not s:\n",
    "#         return\n",
    "#     if n == 1:\n",
    "#         return s\n",
    "#     l,r,m,c = 0\n",
    "#     b= Ture\n",
    "#     for i in range(0,n):\n",
    "#         # Odd situation\n",
    "#         for j in range(0, min(n-i,i+1)):\n",
    "#             if(s[i-j] != s[i+j]):\n",
    "#                 b = False\n",
    "#                 break\n",
    "#             else:\n",
    "#                 c = 2*j+1\n",
    "#         if c>m:\n",
    "#             l = i-j+1-b\n",
    "#             r=i+j+b\n",
    "#             m=c\n",
    "#         b=True\n",
    "        \n",
    "            \n",
    "    "
   ]
  },
  {
   "cell_type": "code",
   "execution_count": 14,
   "metadata": {},
   "outputs": [
    {
     "name": "stdout",
     "output_type": "stream",
     "text": [
      "0\n",
      "1\n"
     ]
    }
   ],
   "source": [
    "The string \"PAYPALISHIRING\" is written in a zigzag pattern on a given number of rows like this: (you may want to display this pattern in a fixed font for better legibility)\n",
    "\n",
    "P A H N A P L S I I G Y I R\n",
    "\n",
    "And then read line by line: \"PAHNAPLSIIGYIR\"\n",
    "\n",
    "Write the code that will take a string and make this conversion given a number of rows:\n",
    "\n",
    "string convert(string text, int nRows);\n",
    "\n",
    "convert(\"PAYPALISHIRING\", 3) should return \"PAHNAPLSIIGYIR\"."
   ]
  },
  {
   "cell_type": "code",
   "execution_count": 21,
   "metadata": {},
   "outputs": [
    {
     "name": "stdout",
     "output_type": "stream",
     "text": [
      "3412\n"
     ]
    }
   ],
   "source": [
    "def convert(s, n):\n",
    "    "
   ]
  },
  {
   "cell_type": "code",
   "execution_count": 24,
   "metadata": {
    "collapsed": true
   },
   "outputs": [],
   "source": [
    "def isPalindrome(x):\n",
    "    div = 1\n",
    "    while x/div >= 10:\n",
    "        div *= 10\n",
    "    while x > 0:\n",
    "        l = x // div\n",
    "        r = x % 10\n",
    "        if l != r:\n",
    "            return False\n",
    "        x %= div\n",
    "        x //= 10\n",
    "        div /= 100\n",
    "    return True"
   ]
  },
  {
   "cell_type": "code",
   "execution_count": 25,
   "metadata": {},
   "outputs": [
    {
     "data": {
      "text/plain": [
       "True"
      ]
     },
     "execution_count": 25,
     "metadata": {},
     "output_type": "execute_result"
    }
   ],
   "source": [
    "isPalindrome(101)"
   ]
  },
  {
   "cell_type": "code",
   "execution_count": 26,
   "metadata": {
    "collapsed": true
   },
   "outputs": [],
   "source": [
    "def mostWater(A):\n",
    "    m = 0\n",
    "    for i,v in enumerate(A):\n",
    "        for j,u in enumerate(A[i+1:]):\n",
    "            height = min(v,u)\n",
    "            m = max(m, (j+1)*height)\n",
    "    return m"
   ]
  },
  {
   "cell_type": "code",
   "execution_count": 29,
   "metadata": {},
   "outputs": [
    {
     "data": {
      "text/plain": [
       "3"
      ]
     },
     "execution_count": 29,
     "metadata": {},
     "output_type": "execute_result"
    }
   ],
   "source": [
    "mostWater([1,1,1,2])"
   ]
  },
  {
   "cell_type": "code",
   "execution_count": 31,
   "metadata": {
    "collapsed": true
   },
   "outputs": [],
   "source": [
    "digit2letters = {\n",
    "    '2':\"abc\",\n",
    "    '3':\"def\",\n",
    "    '4':\"ghi\",\n",
    "    '5':\"jkl\",\n",
    "    '6':\"mno\",\n",
    "    '7':\"pqrs\",\n",
    "    '8':\"tuv\",\n",
    "    '9':\"wxyz\",\n",
    "}"
   ]
  },
  {
   "cell_type": "code",
   "execution_count": 35,
   "metadata": {
    "collapsed": true
   },
   "outputs": [],
   "source": [
    "def letterCombinations(digits):\n",
    "    if not digits:\n",
    "        return []\n",
    "    result = []\n",
    "    dfs(digits, \"\", result)\n",
    "    return result\n",
    "    \n",
    "def dfs(digits, current, result):\n",
    "    if not digits:\n",
    "        result.append(current)\n",
    "        return\n",
    "    for c in digit2letters[digits[0]]:\n",
    "        dfs(digits[1:], current+c, result)"
   ]
  },
  {
   "cell_type": "code",
   "execution_count": 36,
   "metadata": {},
   "outputs": [
    {
     "data": {
      "text/plain": [
       "['ad', 'ae', 'af', 'bd', 'be', 'bf', 'cd', 'ce', 'cf']"
      ]
     },
     "execution_count": 36,
     "metadata": {},
     "output_type": "execute_result"
    }
   ],
   "source": [
    "letterCombinations(\"23\")"
   ]
  },
  {
   "cell_type": "code",
   "execution_count": null,
   "metadata": {
    "collapsed": true
   },
   "outputs": [],
   "source": []
  },
  {
   "cell_type": "code",
   "execution_count": null,
   "metadata": {
    "collapsed": true
   },
   "outputs": [],
   "source": []
  },
  {
   "cell_type": "code",
   "execution_count": null,
   "metadata": {
    "collapsed": true
   },
   "outputs": [],
   "source": []
  },
  {
   "cell_type": "code",
   "execution_count": null,
   "metadata": {
    "collapsed": true
   },
   "outputs": [],
   "source": []
  },
  {
   "cell_type": "code",
   "execution_count": null,
   "metadata": {
    "collapsed": true
   },
   "outputs": [],
   "source": []
  },
  {
   "cell_type": "code",
   "execution_count": null,
   "metadata": {
    "collapsed": true
   },
   "outputs": [],
   "source": []
  },
  {
   "cell_type": "code",
   "execution_count": null,
   "metadata": {
    "collapsed": true
   },
   "outputs": [],
   "source": []
  },
  {
   "cell_type": "code",
   "execution_count": 37,
   "metadata": {
    "collapsed": true
   },
   "outputs": [],
   "source": [
    "def letterCombinations(digits):\n",
    "    if not digits:\n",
    "        return\n",
    "    result = []\n",
    "    dfs(digits, \"\", result)\n",
    "    return result\n",
    "\n",
    "def dfs(digits, current, result):\n",
    "    if not digits:\n",
    "        result.append(current)\n",
    "        return\n",
    "    for c in digit2letters[digits[0]]:\n",
    "        dfs(digits[1:], current+c, result)"
   ]
  },
  {
   "cell_type": "code",
   "execution_count": 38,
   "metadata": {},
   "outputs": [
    {
     "data": {
      "text/plain": [
       "['ad', 'ae', 'af', 'bd', 'be', 'bf', 'cd', 'ce', 'cf']"
      ]
     },
     "execution_count": 38,
     "metadata": {},
     "output_type": "execute_result"
    }
   ],
   "source": [
    "letterCombinations(\"23\")"
   ]
  },
  {
   "cell_type": "code",
   "execution_count": 80,
   "metadata": {
    "collapsed": true
   },
   "outputs": [],
   "source": [
    "class node:\n",
    "    def __init__(self, x):\n",
    "        self.val = x\n",
    "        self.next = None\n",
    "    \n",
    "\n",
    "    \n",
    "def myPrint(head):\n",
    "    print(head.val, end=' ')\n",
    "    curr = head\n",
    "    while curr.next:\n",
    "        print(\" -> \", curr.next.val, end=' ')\n",
    "        curr = curr.next\n",
    "def removeNnodeFromEnd(head, n):\n",
    "    c = 0\n",
    "    curr = head\n",
    "    while curr.next and c < n-1:\n",
    "        c += 1\n",
    "        curr = curr.next\n",
    "    if curr.next == None:\n",
    "        return head.next\n",
    "    temp = curr\n",
    "    curr = head\n",
    "    while temp.next.next:\n",
    "        curr = curr.next\n",
    "        temp = temp.next\n",
    "    t = curr.next.next\n",
    "    curr.next = None\n",
    "    curr.next = t\n",
    "#     print(curr.next.val)\n",
    "    return head\n",
    "    \n",
    "        "
   ]
  },
  {
   "cell_type": "code",
   "execution_count": 81,
   "metadata": {
    "collapsed": true
   },
   "outputs": [],
   "source": [
    "def removeNthFromEnd(head, n):\n",
    "    if not head:\n",
    "        return head\n",
    "    dummy = node(-1)\n",
    "    dummy.next = head\n",
    "    prev= dummy\n",
    "    curr = dummy\n",
    "    while prev and n >= 0:\n",
    "        prev = prev.next\n",
    "        n -=1\n",
    "    while prev:\n",
    "        prev = prev.next\n",
    "        curr = curr.next\n",
    "    curr.nexy = curr.next.next\n",
    "    return dummy.next"
   ]
  },
  {
   "cell_type": "code",
   "execution_count": 96,
   "metadata": {},
   "outputs": [
    {
     "name": "stdout",
     "output_type": "stream",
     "text": [
      "4  ->  5 "
     ]
    }
   ],
   "source": [
    "a5= node(5)\n",
    "a4 = node(4)\n",
    "a3 = node(3)\n",
    "a2 = node(2)\n",
    "a1 = node(1)\n",
    "a1.next=a4\n",
    "a2.next = a3\n",
    "\n",
    "a4.next = a5\n",
    "a = removeNnodeFromEnd(a1, 5)\n",
    "myPrint(a)"
   ]
  },
  {
   "cell_type": "code",
   "execution_count": 90,
   "metadata": {},
   "outputs": [
    {
     "ename": "AttributeError",
     "evalue": "'dict' object has no attribute 'value'",
     "output_type": "error",
     "traceback": [
      "\u001b[1;31m---------------------------------------------------------------------------\u001b[0m",
      "\u001b[1;31mAttributeError\u001b[0m                            Traceback (most recent call last)",
      "\u001b[1;32m<ipython-input-90-52fa587afbc9>\u001b[0m in \u001b[0;36m<module>\u001b[1;34m()\u001b[0m\n\u001b[0;32m      6\u001b[0m \u001b[1;31m# def validParentheses(s):\u001b[0m\u001b[1;33m\u001b[0m\u001b[1;33m\u001b[0m\u001b[0m\n\u001b[0;32m      7\u001b[0m \u001b[1;31m#     stack = []\u001b[0m\u001b[1;33m\u001b[0m\u001b[1;33m\u001b[0m\u001b[0m\n\u001b[1;32m----> 8\u001b[1;33m \u001b[0mprint\u001b[0m\u001b[1;33m(\u001b[0m\u001b[0mleft2right\u001b[0m\u001b[1;33m.\u001b[0m\u001b[0mvalue\u001b[0m\u001b[1;33m)\u001b[0m\u001b[1;33m\u001b[0m\u001b[0m\n\u001b[0m\u001b[0;32m      9\u001b[0m \u001b[1;33m\u001b[0m\u001b[0m\n",
      "\u001b[1;31mAttributeError\u001b[0m: 'dict' object has no attribute 'value'"
     ]
    }
   ],
   "source": [
    "# left2right = {\n",
    "#     '(':\")\",\n",
    "#     '{':\"}\",\n",
    "#     '[':\"]\"\n",
    "# }\n",
    "# def validParentheses(s):\n",
    "#     stack = []\n",
    "# print(left2right.value)   \n",
    "    "
   ]
  },
  {
   "cell_type": "code",
   "execution_count": 92,
   "metadata": {
    "collapsed": true
   },
   "outputs": [],
   "source": [
    "def validParentheses(s):\n",
    "    if len(s)%2 != 0:\n",
    "        return False\n",
    "    stack =[]\n",
    "    left = (\"(\",\"[\",\"{\")\n",
    "    right = (\")\", \"]\", \"}\")\n",
    "    zip(left, right)\n",
    "    for v in s:\n",
    "        if v in left:\n",
    "            stack.append(v)\n",
    "        else:\n",
    "            if not stack:\n",
    "                return False\n",
    "            t = stack.pop()\n",
    "            if left.index(t) != right.index(v):\n",
    "                return False\n",
    "    return len(stack)==0"
   ]
  },
  {
   "cell_type": "code",
   "execution_count": 94,
   "metadata": {},
   "outputs": [
    {
     "data": {
      "text/plain": [
       "False"
      ]
     },
     "execution_count": 94,
     "metadata": {},
     "output_type": "execute_result"
    }
   ],
   "source": [
    "validParentheses(\"{){{}()}}\")"
   ]
  },
  {
   "cell_type": "code",
   "execution_count": 102,
   "metadata": {
    "collapsed": true
   },
   "outputs": [],
   "source": [
    "# def mergeTwoList(a,b):\n",
    "#     if a.val < b.val:\n",
    "#         c = a\n",
    "#     else:\n",
    "#         c = b\n",
    "#     while a:\n",
    "#         while b:\n",
    "#             if a.val < b.val:\n",
    "#                 t = a.next\n",
    "#                 a.next = b\n",
    "#                 c = a\n",
    "#                 a = t\n",
    "#             else:\n",
    "#                 t = b.next\n",
    "#                 b.next = a\n",
    "#                 c = b\n",
    "#                 b = t\n",
    "#     if a:\n",
    "#         c.next = a\n",
    "#     if b:\n",
    "#         c.next = b\n",
    "#     return c\n",
    "            "
   ]
  },
  {
   "cell_type": "code",
   "execution_count": 112,
   "metadata": {},
   "outputs": [
    {
     "ename": "KeyboardInterrupt",
     "evalue": "",
     "output_type": "error",
     "traceback": [
      "\u001b[1;31m---------------------------------------------------------------------------\u001b[0m",
      "\u001b[1;31mKeyboardInterrupt\u001b[0m                         Traceback (most recent call last)",
      "\u001b[1;32m<ipython-input-112-e1ac519c5ddd>\u001b[0m in \u001b[0;36m<module>\u001b[1;34m()\u001b[0m\n\u001b[1;32m----> 1\u001b[1;33m \u001b[0ma\u001b[0m \u001b[1;33m=\u001b[0m \u001b[0mmergeTwoLists\u001b[0m\u001b[1;33m(\u001b[0m\u001b[0ma1\u001b[0m\u001b[1;33m,\u001b[0m\u001b[0ma2\u001b[0m\u001b[1;33m)\u001b[0m\u001b[1;33m\u001b[0m\u001b[0m\n\u001b[0m\u001b[0;32m      2\u001b[0m \u001b[0mmyPrint\u001b[0m\u001b[1;33m(\u001b[0m\u001b[0ma\u001b[0m\u001b[1;33m)\u001b[0m\u001b[1;33m\u001b[0m\u001b[0m\n",
      "\u001b[1;32m<ipython-input-111-d2511dceb7e3>\u001b[0m in \u001b[0;36mmergeTwoLists\u001b[1;34m(l1, l2)\u001b[0m\n\u001b[0;32m      9\u001b[0m             \u001b[0mtemp\u001b[0m\u001b[1;33m.\u001b[0m\u001b[0mnext\u001b[0m \u001b[1;33m=\u001b[0m \u001b[0ml1\u001b[0m\u001b[1;33m\u001b[0m\u001b[0m\n\u001b[0;32m     10\u001b[0m             \u001b[0ml1\u001b[0m \u001b[1;33m=\u001b[0m \u001b[0ml1\u001b[0m\u001b[1;33m.\u001b[0m\u001b[0mnext\u001b[0m\u001b[1;33m\u001b[0m\u001b[0m\n\u001b[1;32m---> 11\u001b[1;33m         \u001b[0mtemp\u001b[0m \u001b[1;33m=\u001b[0m \u001b[0mtemp\u001b[0m\u001b[1;33m.\u001b[0m\u001b[0mnext\u001b[0m\u001b[1;33m\u001b[0m\u001b[0m\n\u001b[0m\u001b[0;32m     12\u001b[0m     \u001b[1;32mif\u001b[0m \u001b[0ml1\u001b[0m\u001b[1;33m:\u001b[0m\u001b[1;33m\u001b[0m\u001b[0m\n\u001b[0;32m     13\u001b[0m         \u001b[0mtemp\u001b[0m\u001b[1;33m.\u001b[0m\u001b[0mnext\u001b[0m \u001b[1;33m=\u001b[0m \u001b[0ml1\u001b[0m\u001b[1;33m\u001b[0m\u001b[0m\n",
      "\u001b[1;31mKeyboardInterrupt\u001b[0m: "
     ]
    }
   ],
   "source": [
    "a = mergeTwoLists(a1,a2)\n",
    "myPrint(a)"
   ]
  },
  {
   "cell_type": "code",
   "execution_count": 107,
   "metadata": {
    "collapsed": true
   },
   "outputs": [],
   "source": [
    "def mergeTwoList(a,b):\n",
    "    temp = node(-1)\n",
    "    head = temp\n",
    "    while a and b:\n",
    "        if a.val <= b.val:\n",
    "            temp.next=a\n",
    "            a = a.next\n",
    "        else:\n",
    "            temp.next = b\n",
    "            b = b.next\n",
    "        temp = temp.next\n",
    "    if a:\n",
    "        temp.next = a\n",
    "    if b:\n",
    "        temp.next = b\n",
    "    return head.next"
   ]
  },
  {
   "cell_type": "code",
   "execution_count": 111,
   "metadata": {},
   "outputs": [],
   "source": [
    "def mergeTwoLists(l1, l2):\n",
    "    temp = node(-1)\n",
    "    head = temp\n",
    "    while l1 and l2:\n",
    "        if l1.val > l2.val:\n",
    "            temp.next = l2\n",
    "            l2 = l2.next\n",
    "        else:\n",
    "            temp.next = l1\n",
    "            l1 = l1.next\n",
    "        temp = temp.next\n",
    "    if l1:\n",
    "        temp.next = l1\n",
    "    else:\n",
    "        temp.next = l2\n",
    "    return head.next"
   ]
  },
  {
   "cell_type": "code",
   "execution_count": 113,
   "metadata": {
    "collapsed": true
   },
   "outputs": [],
   "source": [
    "def generateParenthesis(n):\n",
    "    result = []\n",
    "    generate(n,n,\"\",result)\n",
    "    return result\n",
    "def generate(left,right,s,result):\n",
    "    if left == 0 and right == 0:\n",
    "        result.append(s)\n",
    "        return\n",
    "    if left > 0:\n",
    "        generate(left-1, right, s+\"(\", result)\n",
    "    if right > left:\n",
    "        generate(left, right-1, s+\")\", result)"
   ]
  },
  {
   "cell_type": "code",
   "execution_count": 114,
   "metadata": {},
   "outputs": [
    {
     "data": {
      "text/plain": [
       "['((()))', '(()())', '(())()', '()(())', '()()()']"
      ]
     },
     "execution_count": 114,
     "metadata": {},
     "output_type": "execute_result"
    }
   ],
   "source": [
    "generateParenthesis(3)"
   ]
  },
  {
   "cell_type": "code",
   "execution_count": 115,
   "metadata": {
    "collapsed": true
   },
   "outputs": [],
   "source": [
    "import heapq"
   ]
  },
  {
   "cell_type": "code",
   "execution_count": 118,
   "metadata": {
    "collapsed": true
   },
   "outputs": [],
   "source": [
    "def mergeKLists(lists):\n",
    "    heap =[]\n",
    "    for n in lists:\n",
    "        if n:\n",
    "            heapq.heappush(heap, (n.val, n))\n",
    "    temp = node(-1)\n",
    "    head= temp\n",
    "    while heap:\n",
    "        smallestNode = heapq.heappop(heap)[1]\n",
    "        temp.next = smallestNode\n",
    "        temp = temp.next\n",
    "        if smallestNode.next:\n",
    "            heapq.heappush(heap, (smallestNode.next.val, smallestNode.next))\n",
    "    return head.next"
   ]
  },
  {
   "cell_type": "code",
   "execution_count": 119,
   "metadata": {},
   "outputs": [
    {
     "ename": "KeyboardInterrupt",
     "evalue": "",
     "output_type": "error",
     "traceback": [
      "\u001b[1;31m---------------------------------------------------------------------------\u001b[0m",
      "\u001b[1;31mKeyboardInterrupt\u001b[0m                         Traceback (most recent call last)",
      "\u001b[1;32m<ipython-input-119-114a350710fa>\u001b[0m in \u001b[0;36m<module>\u001b[1;34m()\u001b[0m\n\u001b[1;32m----> 1\u001b[1;33m \u001b[0mmergeKLists\u001b[0m\u001b[1;33m(\u001b[0m\u001b[1;33m[\u001b[0m\u001b[0ma1\u001b[0m\u001b[1;33m,\u001b[0m\u001b[0ma2\u001b[0m\u001b[1;33m]\u001b[0m\u001b[1;33m)\u001b[0m\u001b[1;33m\u001b[0m\u001b[0m\n\u001b[0m",
      "\u001b[1;32m<ipython-input-118-6d39ef7a80f2>\u001b[0m in \u001b[0;36mmergeKLists\u001b[1;34m(lists)\u001b[0m\n\u001b[0;32m      7\u001b[0m     \u001b[0mhead\u001b[0m\u001b[1;33m=\u001b[0m \u001b[0mtemp\u001b[0m\u001b[1;33m\u001b[0m\u001b[0m\n\u001b[0;32m      8\u001b[0m     \u001b[1;32mwhile\u001b[0m \u001b[0mheap\u001b[0m\u001b[1;33m:\u001b[0m\u001b[1;33m\u001b[0m\u001b[0m\n\u001b[1;32m----> 9\u001b[1;33m         \u001b[0msmallestNode\u001b[0m \u001b[1;33m=\u001b[0m \u001b[0mheapq\u001b[0m\u001b[1;33m.\u001b[0m\u001b[0mheappop\u001b[0m\u001b[1;33m(\u001b[0m\u001b[0mheap\u001b[0m\u001b[1;33m)\u001b[0m\u001b[1;33m[\u001b[0m\u001b[1;36m1\u001b[0m\u001b[1;33m]\u001b[0m\u001b[1;33m\u001b[0m\u001b[0m\n\u001b[0m\u001b[0;32m     10\u001b[0m         \u001b[0mtemp\u001b[0m\u001b[1;33m.\u001b[0m\u001b[0mnext\u001b[0m \u001b[1;33m=\u001b[0m \u001b[0msmallestNode\u001b[0m\u001b[1;33m\u001b[0m\u001b[0m\n\u001b[0;32m     11\u001b[0m         \u001b[0mtemp\u001b[0m \u001b[1;33m=\u001b[0m \u001b[0mtemp\u001b[0m\u001b[1;33m.\u001b[0m\u001b[0mnext\u001b[0m\u001b[1;33m\u001b[0m\u001b[0m\n",
      "\u001b[1;31mKeyboardInterrupt\u001b[0m: "
     ]
    }
   ],
   "source": [
    "mergeKLists([a1,a2])"
   ]
  },
  {
   "cell_type": "code",
   "execution_count": 120,
   "metadata": {
    "collapsed": true
   },
   "outputs": [],
   "source": [
    "def swapPairs(head):\n",
    "    if not head:\n",
    "        return\n",
    "    temp = node(-1)\n",
    "    temp.next = head\n",
    "    output = temp\n",
    "    while temp.next and temp.next.next:\n",
    "        a = temp.next\n",
    "        b = temp.next.next\n",
    "        temp.next = b\n",
    "        a.next = b.next\n",
    "        b.next = a\n",
    "        temp = temp.next.next\n",
    "    return output.next"
   ]
  },
  {
   "cell_type": "code",
   "execution_count": 122,
   "metadata": {},
   "outputs": [
    {
     "name": "stdout",
     "output_type": "stream",
     "text": [
      "2  ->  1  ->  4  ->  3  ->  5 "
     ]
    }
   ],
   "source": [
    "a5= node(5)\n",
    "a4 = node(4)\n",
    "a3 = node(3)\n",
    "a2 = node(2)\n",
    "a1 = node(1)\n",
    "a1.next=a2\n",
    "a2.next = a3\n",
    "a3.next = a4\n",
    "a4.next = a5\n",
    "a = swapPairs(a1)\n",
    "myPrint(a)"
   ]
  },
  {
   "cell_type": "code",
   "execution_count": 123,
   "metadata": {
    "collapsed": true
   },
   "outputs": [],
   "source": [
    "def reverseKGroup(head,k):\n",
    "    if not head or k <= 1:\n",
    "        return head\n",
    "    dummy = node(-1)\n",
    "    dummy.next = head\n",
    "    temp = dummy\n",
    "    while temp:\n",
    "        temp = reverseNextK(temp,k)\n",
    "    return dummy.next\n",
    "\n",
    "def reverseNextK(head,k):\n",
    "    # check if k nodes left\n",
    "    temp = head\n",
    "    for i in range(k):\n",
    "        if not temp.next:\n",
    "            return None\n",
    "        temp = temp.next\n",
    "    \n",
    "    out = head.next\n",
    "    prev = head\n",
    "    curr = head.next\n",
    "    for i in range(k):\n",
    "        nextNode = curr.next\n",
    "        curr.next = prev\n",
    "        prev = curr\n",
    "        curr = nextNode\n",
    "    node.next = curr\n",
    "    head.next = curr\n",
    "    curr = nextNode"
   ]
  },
  {
   "cell_type": "code",
   "execution_count": 126,
   "metadata": {
    "collapsed": true
   },
   "outputs": [],
   "source": [
    "def removeDuplicates(a):\n",
    "    if not a:\n",
    "        return\n",
    "    index = 0\n",
    "    start = 0\n",
    "    for i,v in enumerate(a):\n",
    "        if i == 0:\n",
    "            index += 1\n",
    "            continue\n",
    "        if v!=a[start]:\n",
    "            a[index] = v\n",
    "            index += 1\n",
    "            start += 1\n",
    "        else:\n",
    "            continue\n",
    "    return a[:index]"
   ]
  },
  {
   "cell_type": "code",
   "execution_count": 127,
   "metadata": {},
   "outputs": [
    {
     "data": {
      "text/plain": [
       "[1, 3, 5, 6, 7]"
      ]
     },
     "execution_count": 127,
     "metadata": {},
     "output_type": "execute_result"
    }
   ],
   "source": [
    "removeDuplicates([1,1,3,5,6,6,6,7])"
   ]
  },
  {
   "cell_type": "code",
   "execution_count": null,
   "metadata": {
    "collapsed": true
   },
   "outputs": [],
   "source": []
  },
  {
   "cell_type": "code",
   "execution_count": 170,
   "metadata": {},
   "outputs": [
    {
     "ename": "AssertionError",
     "evalue": "",
     "output_type": "error",
     "traceback": [
      "\u001b[1;31m---------------------------------------------------------------------------\u001b[0m",
      "\u001b[1;31mAssertionError\u001b[0m                            Traceback (most recent call last)",
      "\u001b[1;32m<ipython-input-170-873cb9f098f2>\u001b[0m in \u001b[0;36m<module>\u001b[1;34m()\u001b[0m\n\u001b[0;32m     32\u001b[0m \u001b[1;32massert\u001b[0m\u001b[1;33m(\u001b[0m\u001b[0mvalidate_gtin\u001b[0m\u001b[1;33m(\u001b[0m\u001b[1;34m'0083701340420'\u001b[0m\u001b[1;33m,\u001b[0m \u001b[1;34m'EAN'\u001b[0m\u001b[1;33m)\u001b[0m \u001b[1;33m==\u001b[0m \u001b[1;33m(\u001b[0m\u001b[1;34m'0083701340420'\u001b[0m\u001b[1;33m,\u001b[0m \u001b[1;32mFalse\u001b[0m\u001b[1;33m)\u001b[0m\u001b[1;33m)\u001b[0m\u001b[1;33m\u001b[0m\u001b[0m\n\u001b[0;32m     33\u001b[0m \u001b[1;32massert\u001b[0m\u001b[1;33m(\u001b[0m\u001b[0mvalidate_gtin\u001b[0m\u001b[1;33m(\u001b[0m\u001b[1;34m'837013404200'\u001b[0m\u001b[1;33m,\u001b[0m \u001b[1;34m'EAN'\u001b[0m\u001b[1;33m)\u001b[0m \u001b[1;33m==\u001b[0m \u001b[1;33m(\u001b[0m\u001b[1;34m'8370134042002'\u001b[0m\u001b[1;33m,\u001b[0m \u001b[1;32mTrue\u001b[0m\u001b[1;33m)\u001b[0m\u001b[1;33m)\u001b[0m\u001b[1;33m\u001b[0m\u001b[0m\n\u001b[1;32m---> 34\u001b[1;33m \u001b[1;32massert\u001b[0m\u001b[1;33m(\u001b[0m\u001b[0mvalidate_gtin\u001b[0m\u001b[1;33m(\u001b[0m\u001b[1;34m'8370134042008'\u001b[0m\u001b[1;33m,\u001b[0m \u001b[1;34m'EAN'\u001b[0m\u001b[1;33m)\u001b[0m \u001b[1;33m==\u001b[0m \u001b[1;33m(\u001b[0m\u001b[1;34m'8370134042008'\u001b[0m\u001b[1;33m,\u001b[0m \u001b[1;32mTrue\u001b[0m\u001b[1;33m)\u001b[0m\u001b[1;33m)\u001b[0m\u001b[1;33m\u001b[0m\u001b[0m\n\u001b[0m",
      "\u001b[1;31mAssertionError\u001b[0m: "
     ]
    }
   ],
   "source": []
  },
  {
   "cell_type": "code",
   "execution_count": 168,
   "metadata": {},
   "outputs": [
    {
     "data": {
      "text/plain": [
       "('8370134042008', False)"
      ]
     },
     "execution_count": 168,
     "metadata": {},
     "output_type": "execute_result"
    }
   ],
   "source": [
    "validate_gtin('8370134042008', 'EAN')"
   ]
  },
  {
   "cell_type": "code",
   "execution_count": null,
   "metadata": {
    "collapsed": true
   },
   "outputs": [],
   "source": []
  },
  {
   "cell_type": "code",
   "execution_count": null,
   "metadata": {
    "collapsed": true
   },
   "outputs": [],
   "source": []
  },
  {
   "cell_type": "code",
   "execution_count": 134,
   "metadata": {},
   "outputs": [
    {
     "name": "stdout",
     "output_type": "stream",
     "text": [
      "1102\n"
     ]
    }
   ],
   "source": [
    "a = \"00110\"\n",
    "a= a.lstrip('0')\n",
    "print(a+'2')"
   ]
  },
  {
   "cell_type": "code",
   "execution_count": 135,
   "metadata": {
    "collapsed": true
   },
   "outputs": [],
   "source": [
    "a = '1'\n",
    "c = ord(a)-ord('0')"
   ]
  },
  {
   "cell_type": "code",
   "execution_count": 136,
   "metadata": {},
   "outputs": [
    {
     "data": {
      "text/plain": [
       "1"
      ]
     },
     "execution_count": 136,
     "metadata": {},
     "output_type": "execute_result"
    }
   ],
   "source": [
    "c"
   ]
  },
  {
   "cell_type": "code",
   "execution_count": 137,
   "metadata": {},
   "outputs": [
    {
     "data": {
      "text/plain": [
       "'1'"
      ]
     },
     "execution_count": 137,
     "metadata": {},
     "output_type": "execute_result"
    }
   ],
   "source": [
    "str(c)"
   ]
  }
 ],
 "metadata": {
  "kernelspec": {
   "display_name": "Python 3",
   "language": "python",
   "name": "python3"
  },
  "language_info": {
   "codemirror_mode": {
    "name": "ipython",
    "version": 3
   },
   "file_extension": ".py",
   "mimetype": "text/x-python",
   "name": "python",
   "nbconvert_exporter": "python",
   "pygments_lexer": "ipython3",
   "version": "3.6.2"
  }
 },
 "nbformat": 4,
 "nbformat_minor": 2
}
