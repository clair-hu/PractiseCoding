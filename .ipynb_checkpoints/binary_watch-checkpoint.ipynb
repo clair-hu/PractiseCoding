{
 "cells": [
  {
   "cell_type": "code",
   "execution_count": 44,
   "metadata": {},
   "outputs": [],
   "source": [
    "def readBinaryWatch(num):\n",
    "    output = []\n",
    "    hours = [8, 4, 2, 1]\n",
    "    minutes = [32, 16, 8, 4, 2, 1]\n",
    "    assert(num>=0)\n",
    "    assert(num<=10)\n",
    "    all_possible_hours = build_time(4, hours, 11)\n",
    "    all_possible_minutes = build_time(6, minutes, 59)\n",
    "    for i in range(0, num+1):\n",
    "        h = i\n",
    "        m = num - i\n",
    "        p_hours = [j[0] for j in all_possible_hours if j[1]==h]\n",
    "        p_minutes = [j[0] for j in all_possible_minutes if j[1]==m]\n",
    "        t = combine_hour_and_minute(p_hours, p_minutes)\n",
    "        output.extend(t)\n",
    "    return output"
   ]
  },
  {
   "cell_type": "code",
   "execution_count": 45,
   "metadata": {},
   "outputs": [],
   "source": [
    "def build_time(n, enum_list, max_num):\n",
    "    l = [[0,0]]\n",
    "    for i in range(n):\n",
    "        temp = l[:]\n",
    "        for j in temp:\n",
    "            t1 = j[0] + enum_list[i]\n",
    "            if t1 > max_num:\n",
    "                continue\n",
    "            t2 = j[1] + 1\n",
    "            l.append([t1, t2])\n",
    "    return l"
   ]
  },
  {
   "cell_type": "code",
   "execution_count": 46,
   "metadata": {},
   "outputs": [],
   "source": [
    "def combine_hour_and_minute(hl, ml):\n",
    "    l = []\n",
    "    for h in hl:\n",
    "        for m in ml:\n",
    "            if m < 10:\n",
    "                l.append(str(h) + \":0\" + str(m))\n",
    "            else:\n",
    "                l.append(str(h) + \":\" + str(m))\n",
    "    return l"
   ]
  },
  {
   "cell_type": "code",
   "execution_count": 48,
   "metadata": {},
   "outputs": [
    {
     "data": {
      "text/plain": [
       "['0:48',\n",
       " '0:40',\n",
       " '0:24',\n",
       " '0:36',\n",
       " '0:20',\n",
       " '0:12',\n",
       " '0:34',\n",
       " '0:18',\n",
       " '0:10',\n",
       " '0:06',\n",
       " '0:33',\n",
       " '0:17',\n",
       " '0:09',\n",
       " '0:05',\n",
       " '0:03',\n",
       " '8:32',\n",
       " '8:16',\n",
       " '8:08',\n",
       " '8:04',\n",
       " '8:02',\n",
       " '8:01',\n",
       " '4:32',\n",
       " '4:16',\n",
       " '4:08',\n",
       " '4:04',\n",
       " '4:02',\n",
       " '4:01',\n",
       " '2:32',\n",
       " '2:16',\n",
       " '2:08',\n",
       " '2:04',\n",
       " '2:02',\n",
       " '2:01',\n",
       " '1:32',\n",
       " '1:16',\n",
       " '1:08',\n",
       " '1:04',\n",
       " '1:02',\n",
       " '1:01',\n",
       " '10:00',\n",
       " '6:00',\n",
       " '9:00',\n",
       " '5:00',\n",
       " '3:00']"
      ]
     },
     "execution_count": 48,
     "metadata": {},
     "output_type": "execute_result"
    }
   ],
   "source": [
    "readBinaryWatch(2)"
   ]
  },
  {
   "cell_type": "code",
   "execution_count": 49,
   "metadata": {},
   "outputs": [],
   "source": [
    "def solution(num):\n",
    "    output = []\n",
    "    for h in range(12):\n",
    "        for m in range(59):\n",
    "            if((len(bin(h)) + len(bin(m)))==num):\n",
    "                output.append(\"{}:{:02d}\".format(h,m))\n",
    "    return output"
   ]
  },
  {
   "cell_type": "code",
   "execution_count": 28,
   "metadata": {},
   "outputs": [],
   "source": []
  },
  {
   "cell_type": "code",
   "execution_count": 36,
   "metadata": {},
   "outputs": [
    {
     "name": "stdout",
     "output_type": "stream",
     "text": [
      "[15]\n"
     ]
    }
   ],
   "source": []
  },
  {
   "cell_type": "code",
   "execution_count": null,
   "metadata": {},
   "outputs": [],
   "source": []
  },
  {
   "cell_type": "code",
   "execution_count": null,
   "metadata": {},
   "outputs": [],
   "source": []
  },
  {
   "cell_type": "code",
   "execution_count": null,
   "metadata": {},
   "outputs": [],
   "source": []
  },
  {
   "cell_type": "code",
   "execution_count": null,
   "metadata": {},
   "outputs": [],
   "source": []
  },
  {
   "cell_type": "code",
   "execution_count": null,
   "metadata": {},
   "outputs": [],
   "source": []
  },
  {
   "cell_type": "code",
   "execution_count": null,
   "metadata": {},
   "outputs": [],
   "source": []
  },
  {
   "cell_type": "code",
   "execution_count": null,
   "metadata": {},
   "outputs": [],
   "source": []
  },
  {
   "cell_type": "code",
   "execution_count": null,
   "metadata": {},
   "outputs": [],
   "source": []
  },
  {
   "cell_type": "code",
   "execution_count": null,
   "metadata": {},
   "outputs": [],
   "source": []
  }
 ],
 "metadata": {
  "kernelspec": {
   "display_name": "Python 3",
   "language": "python",
   "name": "python3"
  },
  "language_info": {
   "codemirror_mode": {
    "name": "ipython",
    "version": 3
   },
   "file_extension": ".py",
   "mimetype": "text/x-python",
   "name": "python",
   "nbconvert_exporter": "python",
   "pygments_lexer": "ipython3",
   "version": "3.7.3"
  }
 },
 "nbformat": 4,
 "nbformat_minor": 2
}
