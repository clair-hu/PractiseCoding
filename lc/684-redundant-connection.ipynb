{
 "cells": [
  {
   "cell_type": "code",
   "execution_count": 1,
   "metadata": {},
   "outputs": [],
   "source": [
    "class UnionFind:\n",
    "\n",
    "    def __init__(self, n):\n",
    "        self.node_to_root = [i for i in range(n+1)]\n",
    "        self.ranks = [0 for i in range(n+1)]\n",
    "\n",
    "    def union(self, x, y):\n",
    "    \n",
    "        root_x = self.find(x)\n",
    "        root_y = self.find(y)\n",
    "        if root_x == root_y:\n",
    "            return\n",
    "        #input: edges = [[1,2],[2,3],[4,5],[1,4],[1,5]] \n",
    "        # ranks = [0 2 0 0 1 0 0]\n",
    "        if self.ranks[root_x] > self.ranks[root_y]:\n",
    "            self.node_to_root[root_y] = root_x\n",
    "        elif self.ranks[root_y] > self.ranks[root_x]:\n",
    "            self.node_to_root[root_x] = root_y\n",
    "        else:\n",
    "            self.ranks[root_x] += 1\n",
    "            self.node_to_root[root_y] = root_x\n",
    "\n",
    "    def find(self, x):\n",
    "        root_x = self.node_to_root[x]\n",
    "        if root_x == x:\n",
    "            return root_x\n",
    "        return self.find(root_x)\n",
    "\n",
    "def redundant_connection(edges, n):\n",
    "    uf = UnionFind(n)\n",
    "    for x, y in edges:\n",
    "        root_x = uf.find(x)\n",
    "        root_y = uf.find(y)\n",
    "        if root_x == root_y:\n",
    "            return [x, y]\n",
    "        uf.union(x, y)"
   ]
  },
  {
   "cell_type": "code",
   "execution_count": null,
   "metadata": {},
   "outputs": [],
   "source": []
  }
 ],
 "metadata": {
  "kernelspec": {
   "display_name": "Python 3",
   "language": "python",
   "name": "python3"
  },
  "language_info": {
   "codemirror_mode": {
    "name": "ipython",
    "version": 3
   },
   "file_extension": ".py",
   "mimetype": "text/x-python",
   "name": "python",
   "nbconvert_exporter": "python",
   "pygments_lexer": "ipython3",
   "version": "3.9.6"
  }
 },
 "nbformat": 4,
 "nbformat_minor": 2
}
