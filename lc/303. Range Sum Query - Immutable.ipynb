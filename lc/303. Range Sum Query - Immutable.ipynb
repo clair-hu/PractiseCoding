{
 "cells": [
  {
   "cell_type": "code",
   "execution_count": 27,
   "metadata": {},
   "outputs": [],
   "source": [
    "### Fast solution ###\n",
    "class NumArray:\n",
    "\n",
    "    def __init__(self, nums):\n",
    "        c = 0\n",
    "        self.preSum = [c]\n",
    "        for i in nums:\n",
    "            c += i\n",
    "            self.preSum.append(c)\n",
    "        \n",
    "\n",
    "    def sumRange(self, left: int, right: int) -> int:\n",
    "        return self.preSum[right+1] - self.preSum[left]\n"
   ]
  },
  {
   "cell_type": "code",
   "execution_count": 12,
   "metadata": {},
   "outputs": [],
   "source": [
    "### Passed but not fast solution ###\n",
    "class NumArray:\n",
    "\n",
    "    def __init__(self, nums):\n",
    "        self.nums = nums\n",
    "        \n",
    "\n",
    "    def sumRange(self, left: int, right: int) -> int:\n",
    "        return sum(self.nums[left:(right+1)])\n",
    "        \n",
    "    \n",
    "\n",
    "\n",
    "# Your NumArray object will be instantiated and called as such:\n",
    "# obj = NumArray(nums)\n",
    "# param_1 = obj.sumRange(left,right)"
   ]
  },
  {
   "cell_type": "code",
   "execution_count": 28,
   "metadata": {},
   "outputs": [
    {
     "name": "stdout",
     "output_type": "stream",
     "text": [
      "1\n"
     ]
    }
   ],
   "source": [
    "numArray1 = NumArray([-2, 0, 3, -5, 2, -1])\n",
    "print(numArray1.sumRange(0,2))"
   ]
  },
  {
   "cell_type": "code",
   "execution_count": 22,
   "metadata": {},
   "outputs": [],
   "source": [
    "### Memory limit exceeded solution ###\n",
    "class NumArray:\n",
    "\n",
    "    def __init__(self, nums):\n",
    "        self.nums = nums\n",
    "        dimension = len(nums)\n",
    "        self.rangeSum = [[0] * dimension for _ in range(dimension)]\n",
    "        for r in range(dimension):\n",
    "            for c in range(r, dimension):\n",
    "                if r == c:\n",
    "                    self.rangeSum[r][c] = self.nums[r]\n",
    "                else:\n",
    "                    self.rangeSum[r][c] = self.rangeSum[r][c-1] + self.nums[c]\n",
    "\n",
    "    def sumRange(self, left: int, right: int) -> int:\n",
    "        return self.rangeSum[left][right]\n",
    "        \n",
    "    "
   ]
  },
  {
   "cell_type": "code",
   "execution_count": 24,
   "metadata": {},
   "outputs": [
    {
     "name": "stdout",
     "output_type": "stream",
     "text": [
      "-1\n"
     ]
    }
   ],
   "source": [
    "numArray1 = NumArray([-2, 0, 3, -5, 2, -1])\n",
    "print(numArray1.sumRange(2,5))"
   ]
  },
  {
   "cell_type": "code",
   "execution_count": 19,
   "metadata": {},
   "outputs": [
    {
     "name": "stdout",
     "output_type": "stream",
     "text": [
      "[[0, 0, 5, 0], [0, 0, 0, 0], [0, 0, 0, 0], [0, 0, 0, 0]]\n"
     ]
    }
   ],
   "source": [
    "arrayOfArray = [[0] * 4 for _ in range(4)]\n",
    "arrayOfArray[0][2] = 5\n",
    "print(arrayOfArray)"
   ]
  },
  {
   "cell_type": "code",
   "execution_count": null,
   "metadata": {},
   "outputs": [],
   "source": []
  },
  {
   "cell_type": "code",
   "execution_count": null,
   "metadata": {},
   "outputs": [],
   "source": []
  }
 ],
 "metadata": {
  "kernelspec": {
   "display_name": "Python 3",
   "language": "python",
   "name": "python3"
  },
  "language_info": {
   "codemirror_mode": {
    "name": "ipython",
    "version": 3
   },
   "file_extension": ".py",
   "mimetype": "text/x-python",
   "name": "python",
   "nbconvert_exporter": "python",
   "pygments_lexer": "ipython3",
   "version": "3.9.6"
  }
 },
 "nbformat": 4,
 "nbformat_minor": 2
}
