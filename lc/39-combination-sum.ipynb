{
 "cells": [
  {
   "cell_type": "code",
   "execution_count": 14,
   "metadata": {},
   "outputs": [],
   "source": [
    "def dfs(nums, combinations, currCombinations, currIndex, target):\n",
    "    currSum = sum(currCombinations)\n",
    "    if currSum == target:\n",
    "        combinations.append(currCombinations[:])\n",
    "        print(combinations)\n",
    "        return\n",
    "    elif currSum > target:\n",
    "        return\n",
    "    for i in range(currIndex, len(nums)):\n",
    "        currCombinations.append(nums[i])\n",
    "        dfs(nums, combinations, currCombinations, i, target)\n",
    "        currCombinations.pop()\n",
    "    \n",
    "def combinationSum(candidates, target):\n",
    "    result = []\n",
    "    dfs(candidates, result, [], 0, target)\n",
    "    return result"
   ]
  },
  {
   "cell_type": "code",
   "execution_count": 5,
   "metadata": {},
   "outputs": [],
   "source": []
  },
  {
   "cell_type": "code",
   "execution_count": 15,
   "metadata": {},
   "outputs": [
    {
     "name": "stdout",
     "output_type": "stream",
     "text": [
      "[[2, 2, 3]]\n",
      "[[2, 2, 3], [7]]\n"
     ]
    },
    {
     "data": {
      "text/plain": [
       "[[2, 2, 3], [7]]"
      ]
     },
     "execution_count": 15,
     "metadata": {},
     "output_type": "execute_result"
    }
   ],
   "source": [
    "combinationSum([2,3,6,7], 7)"
   ]
  }
 ],
 "metadata": {
  "kernelspec": {
   "display_name": "Python 3",
   "language": "python",
   "name": "python3"
  },
  "language_info": {
   "codemirror_mode": {
    "name": "ipython",
    "version": 3
   },
   "file_extension": ".py",
   "mimetype": "text/x-python",
   "name": "python",
   "nbconvert_exporter": "python",
   "pygments_lexer": "ipython3",
   "version": "3.9.6"
  }
 },
 "nbformat": 4,
 "nbformat_minor": 2
}
