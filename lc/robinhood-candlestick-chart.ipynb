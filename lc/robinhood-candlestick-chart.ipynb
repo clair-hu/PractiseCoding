{
 "cells": [
  {
   "cell_type": "code",
   "execution_count": 22,
   "metadata": {},
   "outputs": [],
   "source": [
    "class Datapoint:\n",
    "    def __init__(self, start_time, prices): #prices won't be null\n",
    "        self.start_time = start_time\n",
    "        self.first_price = prices[0]\n",
    "        self.last_price = prices[-1]\n",
    "        self.max_price = max(prices)\n",
    "        self.min_price = min(prices)\n",
    "            \n",
    "def candlestick_chart(s):\n",
    "    #1:0,3:10,2:12,4:19,5:35\n",
    "    threshold = 0\n",
    "    points = []\n",
    "    prices = []\n",
    "    prev_price = 0\n",
    "    for data in s.split(\",\"):\n",
    "        price, timestamp = int(data.split(\":\")[0]), int(data.split(\":\")[1])\n",
    "        if timestamp < threshold + 10:\n",
    "            prices.append(price)\n",
    "            continue\n",
    "        while timestamp >= threshold + 10:\n",
    "            if len(prices) > 0:\n",
    "                # create a datapoint for current threshold\n",
    "                new_point = Datapoint(threshold, prices)\n",
    "                points.append(new_point)\n",
    "                prev_price = prices[-1]\n",
    "            else:\n",
    "                if prev_price != 0:\n",
    "                    new_point = Datapoint(threshold, [prev_price])\n",
    "                    points.append(new_point)\n",
    "                prev_price = 0\n",
    "            threshold += 10\n",
    "            prices = []\n",
    "    \n",
    "        prices = [price]\n",
    "\n",
    "    if len(prices) > 0:\n",
    "        # create a datapoint for current threshold\n",
    "        new_point = Datapoint(threshold, prices)\n",
    "        points.append(new_point)\n",
    "    else:\n",
    "        if prev_price != 0:\n",
    "            new_point = Datapoint(threshold, [prev_price])\n",
    "            points.append(new_point)\n",
    "\n",
    "    for point in points:\n",
    "        attrs = vars(point)    \n",
    "        print(', '.join(\"%s: %s\" % item for item in attrs.items()))\n",
    "    return points"
   ]
  },
  {
   "cell_type": "code",
   "execution_count": 24,
   "metadata": {},
   "outputs": [
    {
     "name": "stdout",
     "output_type": "stream",
     "text": [
      "start_time: 0, first_price: 1, last_price: 1, max_price: 1, min_price: 1\n",
      "start_time: 10, first_price: 3, last_price: 4, max_price: 4, min_price: 2\n",
      "start_time: 20, first_price: 4, last_price: 4, max_price: 4, min_price: 4\n",
      "start_time: 40, first_price: 5, last_price: 5, max_price: 5, min_price: 5\n"
     ]
    },
    {
     "data": {
      "text/plain": [
       "[<__main__.Datapoint at 0x10a8c8370>,\n",
       " <__main__.Datapoint at 0x10a8c8610>,\n",
       " <__main__.Datapoint at 0x10a8c8850>,\n",
       " <__main__.Datapoint at 0x10a8c8820>]"
      ]
     },
     "execution_count": 24,
     "metadata": {},
     "output_type": "execute_result"
    }
   ],
   "source": [
    "candlestick_chart(\"1:0,3:10,2:12,4:19,5:45\")"
   ]
  },
  {
   "cell_type": "code",
   "execution_count": 10,
   "metadata": {},
   "outputs": [
    {
     "name": "stdout",
     "output_type": "stream",
     "text": [
      "[{'0,1,10,10,1'}, {'10,11,20,20,11'}, {'20,24,24,24,24'}, {'30,24,24,24,24'}, {'50,25,25,25,25'}]\n"
     ]
    }
   ],
   "source": [
    "class Datapoint:\n",
    "    def __init__(self, start_time, prices): #prices won't be null\n",
    "        self.start_time = start_time\n",
    "        self.first_price = prices[0]\n",
    "        self.last_price = prices[-1]\n",
    "        self.max_price = max(prices)\n",
    "        self.min_price = min(prices)\n",
    "\n",
    "class CandlestickChart:\n",
    "    def __init__(self, s):\n",
    "        self.price_to_times = {}\n",
    "        for val in s.split(\",\"):\n",
    "            price, time = val.split(\":\")\n",
    "            self.price_to_times[int(price)] = int(time)\n",
    "        self.datapoints = []\n",
    "\n",
    "    def construct_output(self):\n",
    "        result = []\n",
    "        for data in self.datapoints:\n",
    "            attrs = vars(data)\n",
    "            result.append({\",\".join(\"%s\" % item for item in attrs.values())})\n",
    "        print(result)\n",
    "\n",
    "    def candlestick(self, granularity):\n",
    "        # If an interval has no prices, use the previous datapoint’s last price for all prices. \n",
    "        # If there are no prices and no previous datapoints, skip the interval\n",
    "        curr_start_time = 0\n",
    "        prices = []\n",
    "        prev_last_price = -1\n",
    "        for price, time in self.price_to_times.items():\n",
    "            if time < curr_start_time + granularity:\n",
    "                prices.append(price)\n",
    "                continue\n",
    "            while time >= curr_start_time + granularity:\n",
    "                if prices:\n",
    "                    newpoint = Datapoint(curr_start_time, prices)\n",
    "                    self.datapoints.append(newpoint)\n",
    "                    curr_start_time += granularity\n",
    "                    prev_last_price = newpoint.last_price\n",
    "                    prices = []\n",
    "                    continue\n",
    "                if not prices:\n",
    "                    if prev_last_price == -1:\n",
    "                        curr_start_time += granularity\n",
    "                        continue\n",
    "                    newpoint = Datapoint(curr_start_time, [prev_last_price])\n",
    "                    self.datapoints.append(newpoint)\n",
    "                    prev_last_price = -1\n",
    "                    curr_start_time += granularity\n",
    "            prices.append(price)\n",
    "        if prices:\n",
    "            # create a datapoint for current threshold\n",
    "            new_point = Datapoint(curr_start_time, prices)\n",
    "            self.datapoints.append(new_point)\n",
    "        else:\n",
    "            if prev_last_price != -1:\n",
    "                new_point = Datapoint(curr_start_time, [prev_last_price])\n",
    "                self.datapoints.append(new_point)\n",
    "        self.construct_output()\n",
    "        \n",
    "        \n",
    "s_0 = \"1:0,2:1,3:2,4:3,5:4,6:5,7:6,8:7,9:8,10:9,11:10,12:11,13:12,14:13,15:14,16:15,17:16,18:17,19:18,20:19,24:20,25:51\"\n",
    "candle = CandlestickChart(s_0)\n",
    "candle.candlestick(10)"
   ]
  },
  {
   "cell_type": "code",
   "execution_count": 2,
   "metadata": {},
   "outputs": [
    {
     "name": "stdout",
     "output_type": "stream",
     "text": [
      "defaultdict(<class 'int'>, {2: 24})\n",
      "0\n"
     ]
    }
   ],
   "source": [
    "from collections import defaultdict\n",
    "a = defaultdict(int)\n",
    "a[2] = 24\n",
    "print(a)\n",
    "print(a[23])\n"
   ]
  }
 ],
 "metadata": {
  "kernelspec": {
   "display_name": "Python 3",
   "language": "python",
   "name": "python3"
  },
  "language_info": {
   "codemirror_mode": {
    "name": "ipython",
    "version": 3
   },
   "file_extension": ".py",
   "mimetype": "text/x-python",
   "name": "python",
   "nbconvert_exporter": "python",
   "pygments_lexer": "ipython3",
   "version": "3.9.6"
  }
 },
 "nbformat": 4,
 "nbformat_minor": 2
}
