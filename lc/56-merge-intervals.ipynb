{
 "cells": [
  {
   "cell_type": "code",
   "execution_count": 19,
   "metadata": {},
   "outputs": [
    {
     "data": {
      "text/plain": [
       "[[0, 5]]"
      ]
     },
     "execution_count": 19,
     "metadata": {},
     "output_type": "execute_result"
    }
   ],
   "source": [
    "# passed and fast, but compile too many times\n",
    "def merge(intervals):\n",
    "    intervals.sort()\n",
    "    left, right = 0, 1\n",
    "    res = []\n",
    "    while left < right < len(intervals):\n",
    "        if intervals[left] == None:\n",
    "            left += 1\n",
    "            continue\n",
    "        if intervals[left][1] >= intervals[right][0]:\n",
    "            intervals[left][1] = max(intervals[left][1], intervals[right][1])\n",
    "            intervals[right] = None\n",
    "            if (not res) or (res and res[-1] != intervals[left]):\n",
    "                res.append(intervals[left])\n",
    "            right += 1\n",
    "        else:\n",
    "            if (not res) or (res and res[-1] != intervals[left]):\n",
    "                res.append(intervals[left])\n",
    "            left += 1\n",
    "            right += 1\n",
    "    if intervals[right-1]:\n",
    "        res.append(intervals[right-1])\n",
    "    return res\n",
    "# merge([[1,3],[2,6],[8,10],[15,18]])\n",
    "merge([[1,4],[5,6]])\n",
    "merge([[1,4],[0,2],[3,5]])"
   ]
  },
  {
   "cell_type": "code",
   "execution_count": null,
   "metadata": {},
   "outputs": [],
   "source": [
    "# to review\n",
    "class Solution:\n",
    "    def merge(self, intervals: List[List[int]]) -> List[List[int]]:        \n",
    "        merged = []\n",
    "        intervals.sort(key=lambda x: x[0])\n",
    "\n",
    "        prev = intervals[0]\n",
    "\n",
    "        for interval in intervals[1:]:\n",
    "            if interval[0] <= prev[1]:\n",
    "                prev[1] = max(prev[1], interval[1])\n",
    "            else:\n",
    "                merged.append(prev)\n",
    "                prev = interval\n",
    "        \n",
    "        merged.append(prev)\n",
    "\n",
    "        return merged"
   ]
  }
 ],
 "metadata": {
  "kernelspec": {
   "display_name": "Python 3",
   "language": "python",
   "name": "python3"
  },
  "language_info": {
   "codemirror_mode": {
    "name": "ipython",
    "version": 3
   },
   "file_extension": ".py",
   "mimetype": "text/x-python",
   "name": "python",
   "nbconvert_exporter": "python",
   "pygments_lexer": "ipython3",
   "version": "3.9.6"
  }
 },
 "nbformat": 4,
 "nbformat_minor": 2
}
