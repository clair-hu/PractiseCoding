{
 "cells": [
  {
   "cell_type": "code",
   "execution_count": 1,
   "metadata": {},
   "outputs": [],
   "source": [
    "from collections import defaultdict\n",
    "class Node:\n",
    "    def __init__(self, val, left = None, right = None):\n",
    "        self.val = val\n",
    "        self.left = left\n",
    "        self.right = right\n",
    "\n",
    "cols = defaultdict(list)\n",
    "def column_traversal(root):\n",
    "    \n",
    "    queue = [(root, 0)]\n",
    "    def bfs(node):\n",
    "        while queue:\n",
    "            node, x = queue.pop(0)\n",
    "            cols[x].append(node.val)\n",
    "            if node.left:\n",
    "                queue.append((node.left, x-1))\n",
    "            if node.right:\n",
    "                queue.append((node.right, x+1))\n",
    "    bfs(root)\n",
    "    cols_keys = list(cols.keys())\n",
    "    cols_keys.sort()\n",
    "    res = []\n",
    "    for col in cols_keys:\n",
    "        res.append(cols[col])\n",
    "    return res"
   ]
  },
  {
   "cell_type": "code",
   "execution_count": null,
   "metadata": {},
   "outputs": [],
   "source": []
  }
 ],
 "metadata": {
  "kernelspec": {
   "display_name": "Python 3",
   "language": "python",
   "name": "python3"
  },
  "language_info": {
   "codemirror_mode": {
    "name": "ipython",
    "version": 3
   },
   "file_extension": ".py",
   "mimetype": "text/x-python",
   "name": "python",
   "nbconvert_exporter": "python",
   "pygments_lexer": "ipython3",
   "version": "3.9.6"
  }
 },
 "nbformat": 4,
 "nbformat_minor": 2
}
