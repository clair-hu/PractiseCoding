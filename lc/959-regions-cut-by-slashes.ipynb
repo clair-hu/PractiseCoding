{
 "cells": [
  {
   "cell_type": "code",
   "execution_count": 14,
   "metadata": {},
   "outputs": [
    {
     "data": {
      "text/plain": [
       "5"
      ]
     },
     "execution_count": 14,
     "metadata": {},
     "output_type": "execute_result"
    }
   ],
   "source": [
    "class UnionFind:\n",
    "    def __init__(self, n):\n",
    "        self.node_to_root = [i for i in range(n)]\n",
    "        self.ranks = [0] * n\n",
    "\n",
    "    def union(self, a, b):\n",
    "        root_a = self.find(a)\n",
    "        root_b = self.find(b)\n",
    "        if root_a == root_b:\n",
    "            return\n",
    "        if self.ranks[root_a] > self.ranks[root_b]:\n",
    "            self.node_to_root[root_b] = self.node_to_root[root_a]\n",
    "        elif self.ranks[root_b] > self.ranks[root_a]:\n",
    "            self.node_to_root[root_a] = self.node_to_root[root_b]\n",
    "        else:\n",
    "            self.ranks[root_a] += 1\n",
    "            self.node_to_root[root_b] = self.node_to_root[root_a]\n",
    "\n",
    "    def find(self, node):\n",
    "        root = self.node_to_root[node]\n",
    "        if root == node:\n",
    "            return node\n",
    "        return self.find(root)\n",
    "    \n",
    "def regionsBySlashes(grid):\n",
    "    union_find = UnionFind(4*len(grid)*len(grid))\n",
    "    for i in range(len(grid)):\n",
    "        for j in range(len(grid)):\n",
    "            index = (i * len(grid) + j) * 4\n",
    "            slash = grid[i][j]\n",
    "            if slash == \" \":\n",
    "                union_find.union(index, index + 1)\n",
    "                union_find.union(index, index + 2)\n",
    "                union_find.union(index, index + 3)\n",
    "            elif slash == \"/\":\n",
    "                union_find.union(index, index + 3)\n",
    "                union_find.union(index + 1, index + 2)\n",
    "            else:\n",
    "                union_find.union(index, index + 1)\n",
    "                union_find.union(index + 3, index + 2)\n",
    "            if i != len(grid) - 1:\n",
    "                union_find.union(index + 2, index + 4 * len(grid))\n",
    "            if j != len(grid) - 1:\n",
    "                union_find.union(index + 1, index + 4 + 3)\n",
    "    roots = set()\n",
    "    for node in union_find.node_to_root:\n",
    "        roots.add(union_find.find(node))\n",
    "    return len(roots)\n",
    "\n",
    "regionsBySlashes([\"/\\\\\",\"\\\\/\"])\n",
    "            "
   ]
  },
  {
   "cell_type": "code",
   "execution_count": null,
   "metadata": {},
   "outputs": [],
   "source": []
  },
  {
   "cell_type": "code",
   "execution_count": 6,
   "metadata": {},
   "outputs": [
    {
     "name": "stdout",
     "output_type": "stream",
     "text": [
      "a /\n"
     ]
    },
    {
     "ename": "IndexError",
     "evalue": "string index out of range",
     "output_type": "error",
     "traceback": [
      "\u001b[0;31m---------------------------------------------------------------------------\u001b[0m",
      "\u001b[0;31mIndexError\u001b[0m                                Traceback (most recent call last)",
      "Cell \u001b[0;32mIn[6], line 4\u001b[0m\n\u001b[1;32m      2\u001b[0m a \u001b[38;5;241m=\u001b[39m slash[\u001b[38;5;241m0\u001b[39m]\n\u001b[1;32m      3\u001b[0m \u001b[38;5;28mprint\u001b[39m(\u001b[38;5;124m\"\u001b[39m\u001b[38;5;124ma\u001b[39m\u001b[38;5;124m\"\u001b[39m, a)\n\u001b[0;32m----> 4\u001b[0m b \u001b[38;5;241m=\u001b[39m \u001b[43mslash\u001b[49m\u001b[43m[\u001b[49m\u001b[38;5;241;43m2\u001b[39;49m\u001b[43m]\u001b[49m\n\u001b[1;32m      5\u001b[0m \u001b[38;5;28mprint\u001b[39m(\u001b[38;5;124m\"\u001b[39m\u001b[38;5;124mb\u001b[39m\u001b[38;5;124m\"\u001b[39m,b)\n\u001b[1;32m      6\u001b[0m \u001b[38;5;28mprint\u001b[39m(\u001b[38;5;28mlen\u001b[39m(slash))\n",
      "\u001b[0;31mIndexError\u001b[0m: string index out of range"
     ]
    }
   ],
   "source": [
    "slash = \"/\\\\\"\n",
    "a = slash[0]\n",
    "print(\"a\", a)\n",
    "b = slash[2]\n",
    "print(\"b\",b)\n",
    "print(len(slash))"
   ]
  }
 ],
 "metadata": {
  "kernelspec": {
   "display_name": "Python 3",
   "language": "python",
   "name": "python3"
  },
  "language_info": {
   "codemirror_mode": {
    "name": "ipython",
    "version": 3
   },
   "file_extension": ".py",
   "mimetype": "text/x-python",
   "name": "python",
   "nbconvert_exporter": "python",
   "pygments_lexer": "ipython3",
   "version": "3.9.6"
  }
 },
 "nbformat": 4,
 "nbformat_minor": 2
}
