{
 "cells": [
  {
   "cell_type": "code",
   "execution_count": 6,
   "metadata": {},
   "outputs": [],
   "source": [
    "def canPartition_dp(nums):\n",
    "    total_sum = sum(nums)\n",
    "    if total_sum % 2:\n",
    "        return False\n",
    "    target = total_sum // 2\n",
    "    dp = [False] * (target + 1)\n",
    "    dp[0] = True\n",
    "    \n",
    "    for num in nums:\n",
    "        # print(\"num is\", num)\n",
    "        if dp[target]:\n",
    "            return True\n",
    "        for i in range(target, num - 1, -1):\n",
    "            # print(\"i, dp[i], i-num, dp[i-num]\", i, dp[i], i-num, dp[i-num])\n",
    "            dp[i] = dp[i] or dp[i - num]\n",
    "    \n",
    "    return dp[target]"
   ]
  },
  {
   "cell_type": "code",
   "execution_count": 21,
   "metadata": {},
   "outputs": [],
   "source": [
    "def canPartition_dfs(nums):\n",
    "    total_sum = sum(nums)\n",
    "    if total_sum % 2:\n",
    "        return False\n",
    "    target = total_sum // 2\n",
    "    dp = [[-1] * (target+1) for _ in range(len(nums))]\n",
    "\n",
    "    def dfs(i, remaining_sum):\n",
    "        if remaining_sum == 0: return True\n",
    "        if i >= len(nums) or remaining_sum < 0: return False\n",
    "        if dp[i][remaining_sum] != -1:\n",
    "            return dp[i][remaining_sum]\n",
    "        dp[i][remaining_sum] = dfs(i+1, remaining_sum-nums[i]) or dfs(i+1, remaining_sum)\n",
    "        return dp[i][remaining_sum]\n",
    "\n",
    "    \n",
    "    res = dfs(0, target)\n",
    "    for row in dp:\n",
    "        print(row)\n",
    "    return res"
   ]
  },
  {
   "cell_type": "code",
   "execution_count": 22,
   "metadata": {},
   "outputs": [
    {
     "name": "stdout",
     "output_type": "stream",
     "text": [
      "[-1, -1, -1, -1, -1, -1, -1, -1, -1, -1, -1, True]\n",
      "[-1, -1, -1, -1, -1, -1, -1, -1, -1, -1, True, -1]\n",
      "[-1, -1, -1, -1, -1, True, -1, -1, -1, -1, -1, -1]\n",
      "[-1, -1, -1, -1, -1, True, -1, -1, -1, -1, -1, -1]\n",
      "[-1, -1, -1, -1, -1, -1, -1, -1, -1, -1, -1, -1]\n",
      "True\n"
     ]
    }
   ],
   "source": [
    "print(canPartition_dfs([1,5,9,5,2]))"
   ]
  }
 ],
 "metadata": {
  "kernelspec": {
   "display_name": "Python 3",
   "language": "python",
   "name": "python3"
  },
  "language_info": {
   "codemirror_mode": {
    "name": "ipython",
    "version": 3
   },
   "file_extension": ".py",
   "mimetype": "text/x-python",
   "name": "python",
   "nbconvert_exporter": "python",
   "pygments_lexer": "ipython3",
   "version": "3.9.6"
  }
 },
 "nbformat": 4,
 "nbformat_minor": 2
}
