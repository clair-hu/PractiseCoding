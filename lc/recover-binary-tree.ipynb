{
 "cells": [
  {
   "cell_type": "code",
   "execution_count": null,
   "metadata": {},
   "outputs": [],
   "source": [
    "def recoverTree(root):\n",
    "    def inOrder(root):\n",
    "        if root == None:\n",
    "            return\n",
    "        inOrder(root.left)\n",
    "        inorder_list.append(root)\n",
    "        inOrder(root.right)\n",
    "\n",
    "    inorder_list = []\n",
    "    inOrder(root)\n",
    "\n",
    "    "
   ]
  }
 ],
 "metadata": {
  "language_info": {
   "name": "python"
  }
 },
 "nbformat": 4,
 "nbformat_minor": 2
}
