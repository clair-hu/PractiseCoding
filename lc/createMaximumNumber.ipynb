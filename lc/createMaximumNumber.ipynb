{
 "cells": [
  {
   "cell_type": "code",
   "execution_count": 3,
   "metadata": {},
   "outputs": [],
   "source": [
    "from heapq import *\n",
    "def createMaximumNumber(nums1, nums2):\n",
    "    h1 = []\n",
    "    h2 = []\n",
    "    for i, n1 in enumerate(nums1):\n",
    "        heappush(h1, (-n1, i))\n",
    "    for i, n2 in enumerate(nums2):\n",
    "        heappush(h2, (-n2, i))\n",
    "    \n",
    "    # get max and its index\n",
    "    max1 = h1."
   ]
  },
  {
   "cell_type": "code",
   "execution_count": 4,
   "metadata": {},
   "outputs": [
    {
     "name": "stdout",
     "output_type": "stream",
     "text": [
      "[(-6, 2), (-5, 3), (-4, 1), (-3, 0)]\n",
      "[(-9, 0), (-8, 4), (-3, 5), (-1, 1), (-5, 3), (-2, 2)]\n"
     ]
    }
   ],
   "source": [
    "createMaximumNumber([3, 4, 6, 5], [9, 1, 2, 5, 8, 3])"
   ]
  },
  {
   "cell_type": "code",
   "execution_count": null,
   "metadata": {},
   "outputs": [],
   "source": []
  }
 ],
 "metadata": {
  "kernelspec": {
   "display_name": "Python 3",
   "language": "python",
   "name": "python3"
  },
  "language_info": {
   "codemirror_mode": {
    "name": "ipython",
    "version": 3
   },
   "file_extension": ".py",
   "mimetype": "text/x-python",
   "name": "python",
   "nbconvert_exporter": "python",
   "pygments_lexer": "ipython3",
   "version": "3.7.3"
  }
 },
 "nbformat": 4,
 "nbformat_minor": 2
}
