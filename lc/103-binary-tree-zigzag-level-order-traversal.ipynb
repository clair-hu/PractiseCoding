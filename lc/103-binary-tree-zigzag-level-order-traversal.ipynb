{
 "cells": [
  {
   "cell_type": "code",
   "execution_count": 6,
   "metadata": {},
   "outputs": [
    {
     "data": {
      "text/plain": [
       "[[3], [20, 9], [15, 7]]"
      ]
     },
     "execution_count": 6,
     "metadata": {},
     "output_type": "execute_result"
    }
   ],
   "source": [
    "# passed, beat 100% :)\n",
    "class TreeNode:\n",
    "    def __init__(self, val=0, left=None, right=None):\n",
    "        self.val = val\n",
    "        self.left = left\n",
    "        self.right = right\n",
    "def zigzagLevelOrder(root):\n",
    "    if not root:\n",
    "        return []\n",
    "    queue = [root]\n",
    "    left_to_right = True\n",
    "    res = []\n",
    "    new_queue = []\n",
    "    curr_res = []\n",
    "    while queue:\n",
    "        node = queue.pop(0)\n",
    "        curr_res.append(node.val)\n",
    "        if node.left:\n",
    "            new_queue.append(node.left)\n",
    "        if node.right:\n",
    "            new_queue.append(node.right)\n",
    "        if len(queue) == 0:\n",
    "            if left_to_right:\n",
    "                res.append(curr_res)\n",
    "            else:\n",
    "                res.append(curr_res[::-1])\n",
    "            left_to_right = not left_to_right\n",
    "            queue = new_queue[:]\n",
    "            new_queue = []\n",
    "            curr_res = []\n",
    "\n",
    "    return res\n",
    "\n",
    "node15 = TreeNode(15)\n",
    "node7 = TreeNode(7)\n",
    "node20 = TreeNode(20, node15, node7)\n",
    "node9 = TreeNode(9)\n",
    "node3 = TreeNode(3, node9, node20)\n",
    "zigzagLevelOrder(node3)\n",
    "# n4 = TreeNode(4)\n",
    "# n5 = TreeNode(5)\n",
    "# n2 = TreeNode(2, n4)\n",
    "# n3 = TreeNode(3, None, n5)\n",
    "# n1 = TreeNode(1, n2, n3)\n",
    "# zigzagLevelOrder(n1)\n"
   ]
  }
 ],
 "metadata": {
  "kernelspec": {
   "display_name": "Python 3",
   "language": "python",
   "name": "python3"
  },
  "language_info": {
   "codemirror_mode": {
    "name": "ipython",
    "version": 3
   },
   "file_extension": ".py",
   "mimetype": "text/x-python",
   "name": "python",
   "nbconvert_exporter": "python",
   "pygments_lexer": "ipython3",
   "version": "3.9.6"
  }
 },
 "nbformat": 4,
 "nbformat_minor": 2
}
