{
 "cells": [
  {
   "cell_type": "code",
   "execution_count": 2,
   "metadata": {},
   "outputs": [],
   "source": [
    "# Def rec(curr_length, remain_k, curr_index, val):\n",
    "# \tIf prev value is the same:\n",
    "# \t\tInc length, index\n",
    "# \tElse:\n",
    "# \t\tK == -1:\n",
    "# \t\t\tMax_length = max(max_length, curr_length)\n",
    "# rec(1, k,  index+1)\n",
    "\n",
    "# 1 2 5 5 5 4 4 4 4 2 4 5 4 4 4 5\n",
    "# limit time exceeded\n",
    "def racer_selection(speed, k):\n",
    "    if len(speed) == 0:\n",
    "        return 0\n",
    "\n",
    "    max_length = [0]\n",
    "\n",
    "    def rec(curr_length, remain_k, curr_index, val):\n",
    "        if curr_index >= len(speed):\n",
    "            max_length[0] = max(max_length[0], curr_length)\n",
    "            return\n",
    "        while remain_k >= 0 and curr_index < len(speed) and speed[curr_index] == val:\n",
    "            curr_index += 1\n",
    "            curr_length += 1\n",
    "        max_length[0] = max(max_length[0], curr_length)\n",
    "        if curr_index == len(speed):\n",
    "            return\n",
    "        if remain_k >= 0:\n",
    "            rec(curr_length, remain_k-1, curr_index+1, val)\n",
    "            rec(1, k, curr_index+1, speed[curr_index])\n",
    "        else:\n",
    "            max_length[0] = max(max_length[0], curr_length)\n",
    "        \n",
    "    \n",
    "    rec(1, k, 1, speed[0])\n",
    "    return max_length[0]\n",
    "        \n",
    "\n",
    "\n"
   ]
  },
  {
   "cell_type": "code",
   "execution_count": 8,
   "metadata": {},
   "outputs": [],
   "source": [
    "### faster with sliding window\n",
    "from collections import defaultdict\n",
    "def racer_selection_sliding_window(speed, k):\n",
    "    l, r = 0, 0\n",
    "    n = len(speed)\n",
    "    cnt = defaultdict(int)\n",
    "    max_length = 0\n",
    "    while l <= r < n:\n",
    "        cnt[speed[r]] += 1\n",
    "        if (r - l + 1 - max(cnt.values())) <= k:\n",
    "            max_length = max(max_length, max(cnt.values()))\n",
    "            r += 1\n",
    "        else:\n",
    "            while (r - l + 1 - max(cnt.values())) > k:\n",
    "                cnt[speed[l]] -= 1\n",
    "                l += 1\n",
    "            cnt[speed[r]] -= 1\n",
    "            \n",
    "    return max_length\n",
    "    "
   ]
  },
  {
   "cell_type": "code",
   "execution_count": 13,
   "metadata": {},
   "outputs": [
    {
     "data": {
      "text/plain": [
       "5"
      ]
     },
     "execution_count": 13,
     "metadata": {},
     "output_type": "execute_result"
    }
   ],
   "source": [
    "speed_0 = [1,2,5,5,5,4,4,4,4,2,4,5,4,4,4,5]\n",
    "k_0 = 2\n",
    "racer_selection_sliding_window(speed_0, k_0)\n",
    "\n",
    "speed_1 = [1, 4, 4, 2, 4, 2, 4, 4]\n",
    "k_1 = 3\n",
    "racer_selection_sliding_window(speed_1, k_1)\n",
    "\n",
    "# speed_2 = [4, 4, 2, 2, 4, 2, 4, 4]\n",
    "# k_2 = 1\n",
    "# racer_selection_sliding_window(speed_2, k_2)"
   ]
  },
  {
   "cell_type": "code",
   "execution_count": 12,
   "metadata": {},
   "outputs": [
    {
     "data": {
      "text/plain": [
       "5"
      ]
     },
     "execution_count": 12,
     "metadata": {},
     "output_type": "execute_result"
    }
   ],
   "source": [
    "speed_0 = [1,2,5,5,5,4,4,4,4,2,4,5,4,4,4,5]\n",
    "k_0 = 2\n",
    "racer_selection(speed_0, k_0)\n",
    "\n",
    "speed_1 = [1, 4, 4, 2, 4, 2, 4, 4]\n",
    "k_1 = 3\n",
    "racer_selection(speed_1, k_1)\n",
    "\n",
    "# speed_2 = [4, 4, 2, 2, 4, 2, 4, 4]\n",
    "# k_2 = 1\n",
    "# racer_selection(speed_2, k_2)\n"
   ]
  }
 ],
 "metadata": {
  "kernelspec": {
   "display_name": "Python 3",
   "language": "python",
   "name": "python3"
  },
  "language_info": {
   "codemirror_mode": {
    "name": "ipython",
    "version": 3
   },
   "file_extension": ".py",
   "mimetype": "text/x-python",
   "name": "python",
   "nbconvert_exporter": "python",
   "pygments_lexer": "ipython3",
   "version": "3.9.6"
  }
 },
 "nbformat": 4,
 "nbformat_minor": 2
}
