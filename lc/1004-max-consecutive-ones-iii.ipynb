{
 "cells": [
  {
   "cell_type": "code",
   "execution_count": 7,
   "metadata": {},
   "outputs": [],
   "source": [
    "def longestOnes(nums, k):\n",
    "    def get_next_0(index):\n",
    "        while nums[index] == 1:\n",
    "            index += 1\n",
    "        return index\n",
    "    \n",
    "    def get_next_1(index):\n",
    "        while nums[index] == 0:\n",
    "            index += 1\n",
    "        return index\n",
    "    \n",
    "    start, i = 0, 0\n",
    "    res = 0\n",
    "    while i < len(nums) and start <= i:\n",
    "        if nums[i] == 1:\n",
    "            i += 1\n",
    "        else:\n",
    "            if k > 0:\n",
    "                k -= 1\n",
    "                i += 1\n",
    "            else:\n",
    "                res = max(res, i - start)\n",
    "                print(start, i)\n",
    "                start = get_next_0(start) + 1\n",
    "                k += 1\n",
    "\n",
    "\n",
    "    res = max(res, i - start)\n",
    "    return res\n",
    "\n"
   ]
  },
  {
   "cell_type": "code",
   "execution_count": 8,
   "metadata": {},
   "outputs": [
    {
     "name": "stdout",
     "output_type": "stream",
     "text": [
      "0 5\n",
      "1 9\n",
      "2 12\n",
      "5 13\n",
      "6 14\n"
     ]
    },
    {
     "data": {
      "text/plain": [
       "10"
      ]
     },
     "execution_count": 8,
     "metadata": {},
     "output_type": "execute_result"
    }
   ],
   "source": [
    "nums_0 = [0,0,1,1,0,0,1,1,1,0,1,1,0,0,0,1,1,1,1]\n",
    "k_0 = 3\n",
    "longestOnes(nums_0, k_0)"
   ]
  }
 ],
 "metadata": {
  "kernelspec": {
   "display_name": "Python 3",
   "language": "python",
   "name": "python3"
  },
  "language_info": {
   "codemirror_mode": {
    "name": "ipython",
    "version": 3
   },
   "file_extension": ".py",
   "mimetype": "text/x-python",
   "name": "python",
   "nbconvert_exporter": "python",
   "pygments_lexer": "ipython3",
   "version": "3.9.6"
  }
 },
 "nbformat": 4,
 "nbformat_minor": 2
}
