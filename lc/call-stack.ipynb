{
 "cells": [
  {
   "cell_type": "markdown",
   "metadata": {},
   "source": [
    "[\"0:start:0\",\"1:start:2\",\"2:start:3\",\"2:end:3\"\"1:end:5\",\"0:end:6\"]\n"
   ]
  },
  {
   "cell_type": "code",
   "execution_count": 10,
   "metadata": {},
   "outputs": [
    {
     "data": {
      "text/plain": [
       "[3, 4]"
      ]
     },
     "execution_count": 10,
     "metadata": {},
     "output_type": "execute_result"
    }
   ],
   "source": [
    "def call_stack(n, logs):\n",
    "    cnts = [0] * n\n",
    "    prev_time = 0\n",
    "    prev_program = -1\n",
    "    for log in logs:\n",
    "        program, start, time = log.split(\":\")\n",
    "        time = int(time)\n",
    "        program = int(program)\n",
    "        if start == \"start\":\n",
    "            if prev_program != -1:\n",
    "                cnts[prev_program] += time - prev_time - 1\n",
    "            prev_time = time\n",
    "            prev_program = program\n",
    "        else:\n",
    "            cnts[program] += time - prev_time + 1\n",
    "            prev_time = time\n",
    "    return cnts\n",
    "call_stack(1, [\"0:start:0\",\"0:start:2\",\"0:end:5\",\"0:start:6\",\"0:end:6\",\"0:end:7\"])\n",
    "call_stack(3, [\"0:start:0\",\"1:start:2\",\"2:start:3\",\"2:end:3\",\"1:end:5\",\"0:end:6\"])\n",
    "call_stack(2, [\"0:start:0\",\"1:start:2\",\"1:end:5\",\"0:end:6\"])"
   ]
  }
 ],
 "metadata": {
  "kernelspec": {
   "display_name": "Python 3",
   "language": "python",
   "name": "python3"
  },
  "language_info": {
   "codemirror_mode": {
    "name": "ipython",
    "version": 3
   },
   "file_extension": ".py",
   "mimetype": "text/x-python",
   "name": "python",
   "nbconvert_exporter": "python",
   "pygments_lexer": "ipython3",
   "version": "3.9.6"
  }
 },
 "nbformat": 4,
 "nbformat_minor": 2
}
