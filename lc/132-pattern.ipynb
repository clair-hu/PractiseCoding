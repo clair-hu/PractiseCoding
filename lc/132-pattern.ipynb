{
 "cells": [
  {
   "cell_type": "code",
   "execution_count": null,
   "metadata": {},
   "outputs": [],
   "source": [
    "# nums = [9, 7, 3, 4, 15, 8, 1, 2]\n",
    "#         0  1  2  3  4  5  6  7\n",
    "i =    2, 2, 2\n",
    "j =       3, \n",
    "k = 2, 3, 4, 5\n",
    "stack = []\n",
    "\n",
    "nums = [1, 2, 3]\n",
    "k = 3\n",
    "stack = []\n",
    "\n",
    "def pattern_132(nums):\n",
    "    i, j, k = 0, 1, 2\n",
    "\n",
    "    while i < j < k < len(nums):\n",
    "        if nums[i] < nums[k] < nums[j]:\n",
    "            return True\n",
    "        curr_k = nums[k]\n",
    "        curr_j = nums[j]\n",
    "        curr_i = nums[i]\n",
    "        next_j = nums[j+1]\n",
    "        next_k = nums[min(k+1, len(nums)-1)]\n",
    "        if curr_k < curr_j:\n",
    "            if next_k < curr_j:\n",
    "                k += 1\n",
    "                continue\n",
    "            j += 1\n",
    "            k += 1\n",
    "        \n"
   ]
  }
 ],
 "metadata": {
  "language_info": {
   "name": "python"
  }
 },
 "nbformat": 4,
 "nbformat_minor": 2
}
