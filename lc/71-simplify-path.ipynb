{
 "cells": [
  {
   "cell_type": "code",
   "execution_count": 24,
   "metadata": {},
   "outputs": [],
   "source": [
    "def simplifyPath(path):\n",
    "    vals = path.split(\"/\")\n",
    "    vals = [val for val in vals if val and val != \".\"]\n",
    "    to_remove = 0\n",
    "    vals = vals[::-1]\n",
    "    i = 0\n",
    "    while i < len(vals):\n",
    "        if vals[i] == \"..\":\n",
    "            to_remove += 1\n",
    "            vals.pop(i)\n",
    "            continue\n",
    "        if to_remove:\n",
    "            vals.pop(i)\n",
    "            to_remove -= 1\n",
    "        else:\n",
    "            i += 1         \n",
    "\n",
    "    vals = vals[::-1]\n",
    "    return \"/\" + \"/\".join(vals)"
   ]
  },
  {
   "cell_type": "code",
   "execution_count": 25,
   "metadata": {},
   "outputs": [
    {
     "data": {
      "text/plain": [
       "'/dfs/sdfdsf'"
      ]
     },
     "execution_count": 25,
     "metadata": {},
     "output_type": "execute_result"
    }
   ],
   "source": [
    "simplifyPath(\"/////dfs//asdf/.././///sdfdsf//\")"
   ]
  }
 ],
 "metadata": {
  "kernelspec": {
   "display_name": "Python 3",
   "language": "python",
   "name": "python3"
  },
  "language_info": {
   "codemirror_mode": {
    "name": "ipython",
    "version": 3
   },
   "file_extension": ".py",
   "mimetype": "text/x-python",
   "name": "python",
   "nbconvert_exporter": "python",
   "pygments_lexer": "ipython3",
   "version": "3.9.6"
  }
 },
 "nbformat": 4,
 "nbformat_minor": 2
}
