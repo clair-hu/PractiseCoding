{
 "cells": [
  {
   "cell_type": "code",
   "execution_count": 9,
   "metadata": {},
   "outputs": [],
   "source": [
    "def interweve(s1, s2, s3):\n",
    "    if len(s1) + len(s2) != len(s3):\n",
    "        return False\n",
    "    # goal: s1 + s2 -> s3\n",
    "\n",
    "    dp = {}\n",
    "\n",
    "    def rec(s1_remaining, s2_remaining, s3_remaining): # !!!!! using index instead of whole string to save space\n",
    "        if s3_remaining == \"\":\n",
    "            return True\n",
    "        if s1_remaining == \"\":\n",
    "            return s2_remaining == s3_remaining\n",
    "        if s2_remaining == \"\":\n",
    "            return s1_remaining == s3_remaining\n",
    "        if (s1_remaining, s2_remaining, s3_remaining) in dp: # !!!!!! adding memorization !!!!!!\n",
    "            return dp[(s1_remaining, s2_remaining, s3_remaining)]\n",
    "        res = False\n",
    "        if s1_remaining[0] == s3_remaining[0] and s2_remaining[0] == s3_remaining[0]:\n",
    "            res = rec(s1_remaining[1:], s2_remaining, s3_remaining[1:]) or rec(s1_remaining, s2_remaining[1:], s3_remaining[1:])\n",
    "        elif s1_remaining[0] == s3_remaining[0]:\n",
    "            res = rec(s1_remaining[1:], s2_remaining, s3_remaining[1:])\n",
    "        elif s2_remaining[0] == s3_remaining[0]:\n",
    "            res = rec(s1_remaining, s2_remaining[1:], s3_remaining[1:])\n",
    "        else:\n",
    "            return False\n",
    "        dp[(s1_remaining, s2_remaining, s3_remaining)] = res\n",
    "        return res\n",
    "\n",
    "\n",
    "        #### recursion way without memorization\n",
    "        # if s1_remaining[0] == s3_remaining[0] and s2_remaining[0] == s3_remaining[0]:\n",
    "        #     return rec(s1_remaining[1:], s2_remaining, s3_remaining[1:]) or rec(s1_remaining, s2_remaining[1:], s3_remaining[1:])\n",
    "        # elif s1_remaining[0] == s3_remaining[0]:\n",
    "        #     return rec(s1_remaining[1:], s2_remaining, s3_remaining[1:])\n",
    "        # elif s2_remaining[0] == s3_remaining[0]:\n",
    "        #     return rec(s1_remaining, s2_remaining[1:], s3_remaining[1:])\n",
    "        # else:\n",
    "        #     return False\n",
    "        \n",
    "    return rec(s1, s2, s3)\n"
   ]
  },
  {
   "cell_type": "code",
   "execution_count": null,
   "metadata": {},
   "outputs": [],
   "source": [
    "dp = [-1 * len(s3)]\n",
    "dp\n",
    "S1 = abc\n",
    "S2 = bca\n",
    "S3 = abcbca\n",
    "\n",
    "dp = {}\n",
    "dp[(\"bcbca\", \"bc\", \"bca\")] = True/False\n",
    "dp[(\"\", \"\", \"\")] = True\n",
    "dp[(\"a\", \"\")]\n",
    "dp[(\"abcbca\", \"abc\", \"bca\")] =  dp[(\"bcbca\", \"bc\", \"bca\")] or  dp[(\"bcbca\", \"abc\", \"ca\")]"
   ]
  },
  {
   "cell_type": "code",
   "execution_count": 11,
   "metadata": {},
   "outputs": [
    {
     "data": {
      "text/plain": [
       "True"
      ]
     },
     "execution_count": 11,
     "metadata": {},
     "output_type": "execute_result"
    }
   ],
   "source": [
    "# Test 0\n",
    "s1_0 = \"abc\"\n",
    "s2_0 = \"bca\"\n",
    "s3_0 = \"abcbca\"\n",
    "interweve(s1_0, s2_0, s3_0)\n",
    "\n",
    "# Test 1\n",
    "s1_1 = \"abc\"\n",
    "s2_1 = \"bca\"\n",
    "s3_1 = \"abcbc\"\n",
    "interweve(s1_1, s2_1, s3_1)\n",
    "\n",
    "# Test 2\n",
    "s1_2 = \"abc\"\n",
    "s2_2 = \"bca\"\n",
    "s3_2 = \"acbbca\"\n",
    "interweve(s1_2, s2_2, s3_2)\n",
    "\n",
    "# Test 3\n",
    "s1_3 = \"ab\"\n",
    "s2_3 = \"cbca\"\n",
    "s3_3 = \"acbbca\"\n",
    "interweve(s1_3, s2_3, s3_3)\n",
    "\n",
    "# Test 4\n",
    "interweve(\"\", \"\", \"\")\n",
    "\n",
    "# Test 5\n",
    "interweve(\"a\", \"\", \"a\")\n"
   ]
  },
  {
   "cell_type": "code",
   "execution_count": 1,
   "metadata": {},
   "outputs": [
    {
     "name": "stdout",
     "output_type": "stream",
     "text": [
      "a\n"
     ]
    }
   ],
   "source": [
    "a = \"asdf\"\n",
    "print(a[0])"
   ]
  }
 ],
 "metadata": {
  "kernelspec": {
   "display_name": "Python 3",
   "language": "python",
   "name": "python3"
  },
  "language_info": {
   "codemirror_mode": {
    "name": "ipython",
    "version": 3
   },
   "file_extension": ".py",
   "mimetype": "text/x-python",
   "name": "python",
   "nbconvert_exporter": "python",
   "pygments_lexer": "ipython3",
   "version": "3.9.6"
  }
 },
 "nbformat": 4,
 "nbformat_minor": 2
}
