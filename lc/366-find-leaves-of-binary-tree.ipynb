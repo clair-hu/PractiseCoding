{
 "cells": [
  {
   "cell_type": "code",
   "execution_count": null,
   "metadata": {},
   "outputs": [],
   "source": [
    "Problem Statement:\n",
    "\n",
    "Given the root of a binary tree, collect a tree's nodes as if you were doing this:\n",
    "\n",
    "Collect all the leaf nodes.\n",
    "Remove all the leaf nodes.\n",
    "Repeat until the tree is empty.\n",
    "Example:\n",
    "\n",
    "Input: root = [1,2,3,4,5]\n",
    "Output: [[4,5,3],[2],[1]]\n",
    "Explanation:\n",
    "[[3,5,4],[2],[1]] and [[3,4,5],[2],[1]] are also considered correct answers since per each level it does not matter the order on which elements are returned.\n",
    "Constraints:\n",
    "\n",
    "The number of nodes in the tree is in the range [1, 100].\n",
    "1 <= Node.val <= 100\n",
    "Explanation:\n",
    "\n",
    "The problem asks you to collect all the leaf nodes of a binary tree, remove those leaf nodes, and then repeat the process until the entire tree is empty. The output should be a list of lists, where each sublist represents the leaf nodes collected at a particular level of the tree.\n",
    "\n",
    "For example, in the given input tree [1,2,3,4,5], the leaf nodes at the first level are [4,5,3], the leaf nodes at the second level are [2], and the leaf nodes at the third level are [1]. Therefore, the output is [[4,5,3],[2],[1]].\n",
    "\n",
    "The order of the leaf nodes within each sublist does not matter, as long as the overall structure of the output is correct."
   ]
  },
  {
   "cell_type": "code",
   "execution_count": 3,
   "metadata": {},
   "outputs": [],
   "source": [
    "def leaf_nodes(root):\n",
    "    res = []\n",
    "    def is_leaf(node):\n",
    "        return node.left == None and node.right == None\n",
    "        \n",
    "    \n",
    "    def rec(node):\n",
    "        if node.left:\n",
    "            if is_leaf(node.left):\n",
    "                curr_leaf_nodes.append(node.left.val)\n",
    "                node.left = None\n",
    "            else:\n",
    "                rec(node.left)\n",
    "        if node.right:\n",
    "            if is_leaf(node.right):\n",
    "                curr_leaf_nodes.append(node.right.val)\n",
    "                node.right = None\n",
    "            else:\n",
    "                rec(node.right)\n",
    "        if node.left == None and node.right == None:\n",
    "            return\n",
    "\n",
    "    while root:\n",
    "        if is_leaf(root):\n",
    "            res.append([root.val])\n",
    "            return res\n",
    "        curr_leaf_nodes = []\n",
    "        rec(root)\n",
    "        res.append(curr_leaf_nodes)\n",
    "\n",
    "\n",
    "\n",
    "\n",
    "    "
   ]
  },
  {
   "cell_type": "code",
   "execution_count": 5,
   "metadata": {},
   "outputs": [],
   "source": [
    "class TreeNode:\n",
    "    def __init__(self, val, left=None, right=None):\n",
    "        self.val = val\n",
    "        self.left = left\n",
    "        self.right = right\n",
    "\n"
   ]
  },
  {
   "cell_type": "code",
   "execution_count": 6,
   "metadata": {},
   "outputs": [
    {
     "data": {
      "text/plain": [
       "[[4, 5, 3], [2], [1]]"
      ]
     },
     "execution_count": 6,
     "metadata": {},
     "output_type": "execute_result"
    }
   ],
   "source": [
    "# Input: root = [1,2,3,4,5]\n",
    "# Output: [[4,5,3],[2],[1]]\n",
    "node4 = TreeNode(4)\n",
    "node5 = TreeNode(5)\n",
    "node2 = TreeNode(2, node4, node5)\n",
    "node3 = TreeNode(3)\n",
    "node1 = TreeNode(1, node2, node3)\n",
    "leaf_nodes(node1)"
   ]
  },
  {
   "cell_type": "code",
   "execution_count": 8,
   "metadata": {},
   "outputs": [
    {
     "data": {
      "text/plain": [
       "[[4, 5, 6], [2, 3], [1]]"
      ]
     },
     "execution_count": 8,
     "metadata": {},
     "output_type": "execute_result"
    }
   ],
   "source": [
    "node4 = TreeNode(4)\n",
    "node5 = TreeNode(5)\n",
    "node2 = TreeNode(2, node4, node5)\n",
    "node3 = TreeNode(3)\n",
    "node1 = TreeNode(1, node2, node3)\n",
    "node6 = TreeNode(6)\n",
    "node3.left = node6\n",
    "expect_output = [[4,5,6],[2,3],[1]]\n",
    "leaf_nodes(node1)"
   ]
  },
  {
   "cell_type": "code",
   "execution_count": 4,
   "metadata": {},
   "outputs": [],
   "source": [
    "### cedric solution\n",
    "from collections import defaultdict\n",
    "\n",
    "class TreeNode:\n",
    "    def __init__(self, val=0, left=None, right=None):\n",
    "        self.val = val\n",
    "        self.left = left\n",
    "        self.right = right\n",
    "\n",
    "def findLeaves(root):\n",
    "    result = defaultdict(list)\n",
    "\n",
    "    def dfs(node):\n",
    "        if not node:\n",
    "            return 0\n",
    "        \n",
    "        left_level = dfs(node.left)\n",
    "        right_level = dfs(node.right)\n",
    "        current_level = max(left_level, right_level) + 1\n",
    "        \n",
    "        result[current_level].append(node.val)\n",
    "        \n",
    "        # Remove the leaf nodes\n",
    "        node.left = None\n",
    "        node.right = None\n",
    "        \n",
    "        return current_level\n",
    "    \n",
    "    dfs(root)\n",
    "    return list(result.values())"
   ]
  },
  {
   "cell_type": "code",
   "execution_count": 5,
   "metadata": {},
   "outputs": [
    {
     "data": {
      "text/plain": [
       "[[4, 5, 6], [2, 3], [1]]"
      ]
     },
     "execution_count": 5,
     "metadata": {},
     "output_type": "execute_result"
    }
   ],
   "source": [
    "node4 = TreeNode(4)\n",
    "node5 = TreeNode(5)\n",
    "node2 = TreeNode(2, node4, node5)\n",
    "node3 = TreeNode(3)\n",
    "node1 = TreeNode(1, node2, node3)\n",
    "node6 = TreeNode(6)\n",
    "node3.left = node6\n",
    "findLeaves(node1)"
   ]
  }
 ],
 "metadata": {
  "kernelspec": {
   "display_name": "Python 3",
   "language": "python",
   "name": "python3"
  },
  "language_info": {
   "codemirror_mode": {
    "name": "ipython",
    "version": 3
   },
   "file_extension": ".py",
   "mimetype": "text/x-python",
   "name": "python",
   "nbconvert_exporter": "python",
   "pygments_lexer": "ipython3",
   "version": "3.9.6"
  }
 },
 "nbformat": 4,
 "nbformat_minor": 2
}
