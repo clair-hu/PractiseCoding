{
 "cells": [
  {
   "cell_type": "code",
   "execution_count": 20,
   "metadata": {},
   "outputs": [],
   "source": [
    "def partitionLabels(s):\n",
    "    l, r = 0, -1\n",
    "    r_index = {}\n",
    "    res = []\n",
    "    partition_index = 0\n",
    "    while l < len(s):\n",
    "        if l == r:\n",
    "            res.append(r - partition_index + 1)\n",
    "            l += 1\n",
    "            partition_index = l\n",
    "            continue\n",
    "        char = s[l]\n",
    "        if char not in r_index:\n",
    "            char_r = s.rfind(char)\n",
    "            r_index[char] = char_r\n",
    "            r = max(r, char_r)\n",
    "            if char_r == l == partition_index:\n",
    "                res.append(1)\n",
    "                partition_index = l + 1\n",
    "        l += 1\n",
    "    return res"
   ]
  },
  {
   "cell_type": "code",
   "execution_count": 22,
   "metadata": {},
   "outputs": [
    {
     "data": {
      "text/plain": [
       "[1]"
      ]
     },
     "execution_count": 22,
     "metadata": {},
     "output_type": "execute_result"
    }
   ],
   "source": [
    "partitionLabels(\"ababcbacadefegdehijhklij\")\n",
    "partitionLabels(\"a\")"
   ]
  },
  {
   "cell_type": "code",
   "execution_count": 27,
   "metadata": {},
   "outputs": [],
   "source": [
    "from collections import Counter\n",
    "def partitionLabels_review(s):\n",
    "    counts = Counter(s)\n",
    "    chars = set()\n",
    "    l = 0\n",
    "    res = []\n",
    "    for i in range(len(s)):\n",
    "        char = s[i]\n",
    "        if char not in chars:\n",
    "            chars.add(char)\n",
    "        counts[char] -= 1\n",
    "        if counts[char] == 0:\n",
    "            chars.remove(char)\n",
    "        print(chars)\n",
    "        if len(chars) == 0:\n",
    "            res.append(i - l + 1)\n",
    "            l = i + 1\n",
    "\n",
    "    return res"
   ]
  },
  {
   "cell_type": "code",
   "execution_count": 28,
   "metadata": {},
   "outputs": [
    {
     "name": "stdout",
     "output_type": "stream",
     "text": [
      "{'a'}\n",
      "{'a', 'b'}\n",
      "{'a', 'b'}\n",
      "{'a', 'b'}\n",
      "{'a', 'c', 'b'}\n",
      "{'a', 'c'}\n",
      "{'a', 'c'}\n",
      "{'a'}\n",
      "set()\n",
      "{'d'}\n",
      "{'d', 'e'}\n",
      "{'d', 'e'}\n",
      "{'d', 'e'}\n",
      "{'d', 'e'}\n",
      "{'e'}\n",
      "set()\n",
      "{'h'}\n",
      "{'h', 'i'}\n",
      "{'h', 'j', 'i'}\n",
      "{'j', 'i'}\n",
      "{'j', 'i'}\n",
      "{'j', 'i'}\n",
      "{'j'}\n",
      "set()\n"
     ]
    },
    {
     "data": {
      "text/plain": [
       "[9, 7, 8]"
      ]
     },
     "execution_count": 28,
     "metadata": {},
     "output_type": "execute_result"
    }
   ],
   "source": [
    "partitionLabels_review(\"ababcbacadefegdehijhklij\")"
   ]
  }
 ],
 "metadata": {
  "kernelspec": {
   "display_name": "Python 3",
   "language": "python",
   "name": "python3"
  },
  "language_info": {
   "codemirror_mode": {
    "name": "ipython",
    "version": 3
   },
   "file_extension": ".py",
   "mimetype": "text/x-python",
   "name": "python",
   "nbconvert_exporter": "python",
   "pygments_lexer": "ipython3",
   "version": "3.9.6"
  }
 },
 "nbformat": 4,
 "nbformat_minor": 2
}
