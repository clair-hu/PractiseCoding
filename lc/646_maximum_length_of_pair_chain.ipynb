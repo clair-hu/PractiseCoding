{
 "cells": [
  {
   "cell_type": "code",
   "execution_count": null,
   "metadata": {},
   "outputs": [],
   "source": [
    "class Solution:\n",
    "    def findLongestChain(self, pairs: List[List[int]]) -> int:\n",
    "        pairs.sort(key=lambda x: x[0])\n",
    "        dp = [1 for i in pairs]\n",
    "        \n",
    "        for j in range(1, len(pairs)):\n",
    "            for i in range(j):\n",
    "                if pairs[j][0] > pairs[i][1]:\n",
    "                    dp[j] = max(dp[i] + 1, dp[j])\n",
    "                    \n",
    "        return max(dp)\n",
    "        \n",
    "        "
   ]
  }
 ],
 "metadata": {
  "kernelspec": {
   "display_name": "Python 3",
   "language": "python",
   "name": "python3"
  },
  "language_info": {
   "codemirror_mode": {
    "name": "ipython",
    "version": 3
   },
   "file_extension": ".py",
   "mimetype": "text/x-python",
   "name": "python",
   "nbconvert_exporter": "python",
   "pygments_lexer": "ipython3",
   "version": "3.7.3"
  }
 },
 "nbformat": 4,
 "nbformat_minor": 2
}
