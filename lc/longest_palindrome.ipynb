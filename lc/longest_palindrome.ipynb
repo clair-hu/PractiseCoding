{
 "cells": [
  {
   "cell_type": "code",
   "execution_count": 10,
   "metadata": {},
   "outputs": [],
   "source": [
    "def longest_palindrome(words):\n",
    "    cnt = {}\n",
    "    for word in words:\n",
    "        if word not in cnt:\n",
    "            cnt[word] = 1\n",
    "        else:\n",
    "            cnt[word] += 1\n",
    "    print(cnt)\n",
    "    res = 0\n",
    "    palindrome_odd_used = False\n",
    "    for word, c in cnt.items():\n",
    "        reverse_word = word[::-1]\n",
    "        if word == reverse_word:\n",
    "            if c % 2 == 1:\n",
    "                if palindrome_odd_used:\n",
    "                    res += 2 * (c - 1)\n",
    "                else:\n",
    "                    palindrome_odd_used = True\n",
    "                    res += 2 * c\n",
    "            else:\n",
    "                res += 2 * c\n",
    "        else:\n",
    "            if reverse_word in cnt:\n",
    "                res += min(c, cnt[reverse_word]) * 2 * 2\n",
    "                cnt[word] -= min(c, cnt[reverse_word])\n",
    "                cnt[reverse_word] -= min(c, cnt[reverse_word])\n",
    "    return res"
   ]
  },
  {
   "cell_type": "code",
   "execution_count": 14,
   "metadata": {},
   "outputs": [
    {
     "name": "stdout",
     "output_type": "stream",
     "text": [
      "{'cc': 3, 'll': 1, 'xx': 1}\n"
     ]
    },
    {
     "data": {
      "text/plain": [
       "6"
      ]
     },
     "execution_count": 14,
     "metadata": {},
     "output_type": "execute_result"
    }
   ],
   "source": [
    "# words_0 = [\"lc\",\"cl\",\"gg\"]\n",
    "# longest_palindrome(words_0)\n",
    "\n",
    "# words_1 = [\"ab\",\"ty\",\"yt\",\"lc\",\"cl\",\"ab\"]\n",
    "# longest_palindrome(words_1)\n",
    "\n",
    "words_2 =  [\"cc\",\"cc\",\"cc\",\"ll\",\"xx\"]\n",
    "longest_palindrome(words_2)\n"
   ]
  }
 ],
 "metadata": {
  "kernelspec": {
   "display_name": "Python 3",
   "language": "python",
   "name": "python3"
  },
  "language_info": {
   "codemirror_mode": {
    "name": "ipython",
    "version": 3
   },
   "file_extension": ".py",
   "mimetype": "text/x-python",
   "name": "python",
   "nbconvert_exporter": "python",
   "pygments_lexer": "ipython3",
   "version": "3.9.6"
  }
 },
 "nbformat": 4,
 "nbformat_minor": 2
}
