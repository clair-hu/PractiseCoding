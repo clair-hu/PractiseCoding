{
 "cells": [
  {
   "cell_type": "code",
   "execution_count": null,
   "metadata": {},
   "outputs": [],
   "source": [
    "def isValidBST(root):\n",
    "    def valid(node, minimum, maximum):\n",
    "        if not node:\n",
    "            return True\n",
    "        if not (node.val > minimum and node.val < maximum):\n",
    "            return False\n",
    "        return valid(node.left, minimum, node.val) and valid(node.right, node.val, maximum)\n",
    "    return valid(root, float('-inf'), float('inf'))"
   ]
  }
 ],
 "metadata": {
  "language_info": {
   "name": "python"
  }
 },
 "nbformat": 4,
 "nbformat_minor": 2
}
