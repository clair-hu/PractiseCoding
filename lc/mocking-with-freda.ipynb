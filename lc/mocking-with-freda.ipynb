{
 "cells": [
  {
   "cell_type": "code",
   "execution_count": 7,
   "metadata": {},
   "outputs": [],
   "source": [
    "def local_minimum(nums):\n",
    "    if len(nums) == 0:\n",
    "        return None\n",
    "    for i in range(len(nums)):\n",
    "        curr = nums[i]\n",
    "        prev = nums[i-1] if i > 0 else float(\"inf\")\n",
    "        next = nums[i+1] if i <= len(nums) - 2 else float(\"inf\")\n",
    "        if curr <= prev and curr <= next:\n",
    "            return curr\n",
    "\n",
    "nums_0 = [5, 9, 7, 10,  12]\n",
    "local_minimum(nums_0)\n",
    "\n",
    "nums_1 = [11, 5, 9, 7, 10,  12]\n",
    "local_minimum(nums_1)\n",
    "\n",
    "nums_2 = [11, 5, 3, 3, 10,  12]\n",
    "local_minimum(nums_2)\n",
    "\n",
    "nums_3 = [11, 5, 3, 3, 3,  1]\n",
    "local_minimum(nums_3)\n",
    "\n",
    "nums_4 = [11, 5, 4, 3, 2,  1]\n",
    "local_minimum(nums_4)\n",
    "\n",
    "#\n",
    "nums_5 = [11]\n",
    "local_minimum(nums_5)\n",
    "\n",
    "local_minimum([])\n"
   ]
  },
  {
   "cell_type": "code",
   "execution_count": 12,
   "metadata": {},
   "outputs": [
    {
     "data": {
      "text/plain": [
       "7"
      ]
     },
     "execution_count": 12,
     "metadata": {},
     "output_type": "execute_result"
    }
   ],
   "source": [
    "def local_minimum_binary(nums):\n",
    "    left = 0\n",
    "    right = len(nums) - 1\n",
    "    while right < len(nums):\n",
    "        mid = left + (right - left) // 2\n",
    "        if mid - 1 >= 0 and mid + 1 <= len(nums) - 1 and nums[mid] <= nums[mid - 1] and nums[mid] <= nums[mid + 1]:\n",
    "            return nums[mid]\n",
    "        if mid - 1 >= 0 and mid + 1 <= len(nums) - 1 and nums[mid - 1] <= nums[mid] <= nums[mid + 1]:\n",
    "            right = mid - 1\n",
    "            continue\n",
    "        if mid - 1 >= 0 and mid + 1 <= len(nums) - 1 and nums[mid - 1] >= nums[mid] >= nums[mid + 1]:\n",
    "            left = mid + 1\n",
    "            continue\n",
    "        if mid - 1 >= 0 and mid + 1 <= len(nums) - 1 and nums[mid] >= nums[mid - 1] and nums[mid] >= nums[mid + 1]:\n",
    "            right = mid - 1\n",
    "            continue\n",
    "        if mid == 0 or mid == len(nums) - 1:\n",
    "            return nums[mid]\n",
    "        \n",
    "\n",
    "local_minimum_binary([1,2,3,4])\n",
    "local_minimum_binary([4,3,2,1])\n",
    "local_minimum_binary([1,2,3,4,3,2])\n",
    "local_minimum_binary([1,2,3,4,3,2,4,5,6,7])\n",
    "local_minimum_binary([5, 9, 7, 10,  12])\n"
   ]
  }
 ],
 "metadata": {
  "kernelspec": {
   "display_name": "Python 3",
   "language": "python",
   "name": "python3"
  },
  "language_info": {
   "codemirror_mode": {
    "name": "ipython",
    "version": 3
   },
   "file_extension": ".py",
   "mimetype": "text/x-python",
   "name": "python",
   "nbconvert_exporter": "python",
   "pygments_lexer": "ipython3",
   "version": "3.9.6"
  }
 },
 "nbformat": 4,
 "nbformat_minor": 2
}
