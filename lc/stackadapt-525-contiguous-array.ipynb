{
 "cells": [
  {
   "cell_type": "code",
   "execution_count": 13,
   "metadata": {},
   "outputs": [
    {
     "data": {
      "text/plain": [
       "4"
      ]
     },
     "execution_count": 13,
     "metadata": {},
     "output_type": "execute_result"
    }
   ],
   "source": [
    "# time limit exceeded\n",
    "def findMaxLength(nums):\n",
    "    dp0 = [0] * len(nums)\n",
    "    dp1 = [0] * len(nums)\n",
    "    cnt0, cnt1 = 0, 0\n",
    "    for i, num in enumerate(nums):\n",
    "        if num == 0:\n",
    "            cnt0 += 1\n",
    "        else:\n",
    "            cnt1 += 1\n",
    "        dp1[i] = cnt1\n",
    "        dp0[i] = cnt0\n",
    "    if dp0[len(nums)-1] == dp1[len(nums)-1]:\n",
    "        return len(nums)\n",
    "    start_point = len(nums) - 1 if len(nums) % 2 == 1 else len(nums) - 2\n",
    "    for length in range(start_point, -1, -2):\n",
    "        for i in range(len(nums)-length+1):\n",
    "            if i == 0:\n",
    "                if dp0[i+length-1] == dp1[i+length-1]:\n",
    "                # print(i)\n",
    "                    return length\n",
    "            elif dp0[i+length-1] - dp0[i-1] == dp1[i+length-1] - dp1[i-1]:\n",
    "                return length\n",
    "    return 0\n",
    "# findMaxLength([0,1,0])\n",
    "# findMaxLength([0,1,0,1,1,1,1,0,0])\n",
    "# findMaxLength([0,1,0,1,1,1,1,0,0,1,0])\n",
    "findMaxLength([0,1,1,0,1,1,1,0])\n"
   ]
  },
  {
   "cell_type": "code",
   "execution_count": 23,
   "metadata": {},
   "outputs": [
    {
     "name": "stdout",
     "output_type": "stream",
     "text": [
      "7 2 5\n",
      "6 4 2\n",
      "5 2 3\n",
      "4 1 3\n",
      "2 1 1\n"
     ]
    },
    {
     "data": {
      "text/plain": [
       "5"
      ]
     },
     "execution_count": 23,
     "metadata": {},
     "output_type": "execute_result"
    }
   ],
   "source": [
    "# time limit exceeded\n",
    "def findMaxLength(nums):\n",
    "    dp0 = [0] * len(nums)\n",
    "    dp1 = [0] * len(nums)\n",
    "    cnt0, cnt1 = 0, 0\n",
    "    for i, num in enumerate(nums):\n",
    "        if num == 0:\n",
    "            cnt0 += 1\n",
    "        else:\n",
    "            cnt1 += 1\n",
    "        dp1[i] = cnt1\n",
    "        dp0[i] = cnt0\n",
    "    max_len = 0\n",
    "    for i in range(len(nums)-1, -1, -1):\n",
    "        if dp1[i] > 0  and dp0[i] > 0:\n",
    "            cur_len = 0\n",
    "            if dp0[i] == dp1[i]:\n",
    "                cur_len = i\n",
    "            elif dp0[i] < dp1[i]:\n",
    "                index1 = dp1.index(dp1[i] - dp0[i])\n",
    "                cur_len = i - index1\n",
    "                print(i, index1, cur_len)\n",
    "            else:\n",
    "                index0 = dp0.index(dp0[i] - dp1[i])\n",
    "                cur_len = i - index0\n",
    "                print(i, index0, cur_len)\n",
    "            max_len = max(max_len, cur_len)\n",
    "    return max_len\n",
    "# findMaxLength([0,1,0])\n",
    "# findMaxLength([0,1,0,1,1,1,1,0,0])\n",
    "# findMaxLength([0,1,0,1,1,1,1,0,0,1,0])\n",
    "findMaxLength([0,1,1,0,1,1,1,0])\n"
   ]
  },
  {
   "cell_type": "code",
   "execution_count": null,
   "metadata": {},
   "outputs": [],
   "source": [
    "# passed\n",
    "def findMaxLength(nums):\n",
    "    count = {} # diff of 1s and 0s to index\n",
    "    count[0] = -1\n",
    "    max_len = 0\n",
    "    cur_count = 0\n",
    "    for i, num in enumerate(nums):\n",
    "        if num:\n",
    "            cur_count += 1\n",
    "        else:\n",
    "            cur_count -= 1\n",
    "        if cur_count in count:\n",
    "            max_len = max(max_len, i - count[cur_count])\n",
    "        else:\n",
    "            count[cur_count] = i\n",
    "    return max_len"
   ]
  }
 ],
 "metadata": {
  "kernelspec": {
   "display_name": "Python 3",
   "language": "python",
   "name": "python3"
  },
  "language_info": {
   "codemirror_mode": {
    "name": "ipython",
    "version": 3
   },
   "file_extension": ".py",
   "mimetype": "text/x-python",
   "name": "python",
   "nbconvert_exporter": "python",
   "pygments_lexer": "ipython3",
   "version": "3.9.6"
  }
 },
 "nbformat": 4,
 "nbformat_minor": 2
}
