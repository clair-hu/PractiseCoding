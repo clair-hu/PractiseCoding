{
 "cells": [
  {
   "cell_type": "code",
   "execution_count": 5,
   "metadata": {},
   "outputs": [],
   "source": [
    "# Given an array of integers, find out whether there are two distinct indices i and j in the array such that the absolute difference between nums[i] and nums[j] is at most t and the absolute difference between i and j is at most k."
   ]
  },
  {
   "cell_type": "code",
   "execution_count": 8,
   "metadata": {},
   "outputs": [],
   "source": [
    "def containsDuplicate3(l, k, t):\n",
    "    for sk in range(1, k+1):\n",
    "        for i in range(len(l)-sk):\n",
    "            if abs(l[i]-l[i+sk]) <= t:\n",
    "                return True\n",
    "    return False"
   ]
  },
  {
   "cell_type": "code",
   "execution_count": 11,
   "metadata": {},
   "outputs": [
    {
     "data": {
      "text/plain": [
       "False"
      ]
     },
     "execution_count": 11,
     "metadata": {},
     "output_type": "execute_result"
    }
   ],
   "source": [
    "containsDuplicate3([1,5,9,1,5,9], 2, 3)"
   ]
  },
  {
   "cell_type": "code",
   "execution_count": 3,
   "metadata": {},
   "outputs": [],
   "source": [
    "import bisect\n",
    "def solution(l, k, t):\n",
    "    if k <= 0 or t < 0:\n",
    "        return False\n",
    "    bst = []\n",
    "    for i,n in enumerate(l):\n",
    "        index = bisect.bisect_left(bst, n)\n",
    "        if index < len(bst) and abs(bst[index] - n) <= t:\n",
    "            return True\n",
    "        if index > 0 and abs(bst[index-1] - n) <= t:\n",
    "            return True\n",
    "        if len(bst) >= k:\n",
    "            del bst[bisect.bisect_left(bst, l[i-k])]\n",
    "        bisect.insort(bst, n)\n",
    "    return False\n",
    "    \n",
    "    \n",
    "# def toRemember(a,x):\n",
    "#     l = bisect_left(a,x)\n",
    "#     r = bisect_right(a,x)\n",
    "    \n",
    "#     # a = [0,0,0,1,2,3,3,3,4,5,6,7]\n",
    "    \n",
    "#     #find the leftmost value exactly equal to x\n",
    "#     #index = 5\n",
    "#     if l != len(a) and a[l] == x:\n",
    "#         return l\n",
    "    \n",
    "#     #find the rightmost value less than x\n",
    "#     if l:\n",
    "#         return a[l-1]\n",
    "    \n",
    "#     #find the rightmost value less than or equal to x\n",
    "#     if r:\n",
    "#         return a[r-1]\n",
    "    \n",
    "#     #find the leftmost item greater than x\n",
    "#     if r != len(a):\n",
    "#         return a[r]\n",
    "    \n",
    "#     #find the leftmost item greater than or equal to x\n",
    "#     if l != len(a):\n",
    "#         return a[l]\n",
    "    \n"
   ]
  },
  {
   "cell_type": "code",
   "execution_count": 4,
   "metadata": {},
   "outputs": [
    {
     "data": {
      "text/plain": [
       "True"
      ]
     },
     "execution_count": 4,
     "metadata": {},
     "output_type": "execute_result"
    }
   ],
   "source": [
    "solution([1,2,3,1,5,9], 2, 3)"
   ]
  },
  {
   "cell_type": "code",
   "execution_count": 11,
   "metadata": {},
   "outputs": [],
   "source": [
    "from bisect import *\n",
    "\n",
    "#find the leftmost value exactly equal to x\n",
    "def find_e(a,x):\n",
    "    l = bisect_left(a, x)\n",
    "    if l != len(a) and a[l] == x:\n",
    "        print(l) \n",
    "    \n",
    "#find the rightmost value less than x\n",
    "def find_lt(a,x):\n",
    "    l = bisect_left(a,x)\n",
    "    if l:\n",
    "        print( l-1 )\n",
    "    \n",
    "#find the rightmost value less than or equal to x\n",
    "def find_le(a,x):\n",
    "    r = bisect_right(a,x)\n",
    "    if r:\n",
    "        print( r-1 )\n",
    "    \n",
    "#find the leftmost item greater than x\n",
    "def find_gt(a,x):\n",
    "    r = bisect_right(a,x)\n",
    "    if r != len(a):\n",
    "        print( r )\n",
    "    \n",
    "#find the leftmost item greater than or equal to x\n",
    "def find_ge(a,x):\n",
    "    l = bisect_left(a,x)\n",
    "    if l != len(a):\n",
    "        print( l )"
   ]
  },
  {
   "cell_type": "code",
   "execution_count": 14,
   "metadata": {},
   "outputs": [
    {
     "name": "stdout",
     "output_type": "stream",
     "text": [
      "5\n",
      "4\n",
      "7\n",
      "8\n",
      "5\n"
     ]
    }
   ],
   "source": [
    "a = [0,0,0,1,2,3,3,3,4,5,6,7]\n",
    "x = 3\n",
    "find_e(a,x)\n",
    "find_lt(a,x)\n",
    "find_le(a,x)\n",
    "find_gt(a,x)\n",
    "find_ge(a,x)"
   ]
  },
  {
   "cell_type": "code",
   "execution_count": null,
   "metadata": {},
   "outputs": [],
   "source": []
  }
 ],
 "metadata": {
  "kernelspec": {
   "display_name": "Python 3",
   "language": "python",
   "name": "python3"
  },
  "language_info": {
   "codemirror_mode": {
    "name": "ipython",
    "version": 3
   },
   "file_extension": ".py",
   "mimetype": "text/x-python",
   "name": "python",
   "nbconvert_exporter": "python",
   "pygments_lexer": "ipython3",
   "version": "3.7.3"
  }
 },
 "nbformat": 4,
 "nbformat_minor": 2
}
