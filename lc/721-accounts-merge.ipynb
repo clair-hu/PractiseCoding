{
 "cells": [
  {
   "cell_type": "code",
   "execution_count": null,
   "metadata": {},
   "outputs": [],
   "source": [
    "### passed, union find\n",
    "from collections import defaultdict\n",
    "class UnionFind:\n",
    "    def __init__(self, size):\n",
    "        self.root = [i for i in range(size)]\n",
    "        self.rank = [0] * size\n",
    "\n",
    "    def union(self, x, y):\n",
    "        root_x = self.find(x)\n",
    "        root_y = self.find(y)\n",
    "        if root_y != root_x:\n",
    "            if self.rank[root_x] > self.rank[root_y]:\n",
    "                self.root[root_y] = root_x\n",
    "            elif self.rank[root_x] < self.rank[root_y]:\n",
    "                self.root[root_x] = root_y\n",
    "            else:\n",
    "                self.rank[root_x] += 1\n",
    "                self.root[root_y] = root_x\n",
    "    \n",
    "    def find(self, x):\n",
    "        root_x = self.root[x]\n",
    "        if root_x == x:\n",
    "            return root_x\n",
    "        return self.find(root_x)\n",
    "\n",
    "def accountsMerge(accounts):\n",
    "    uf = UnionFind(len(accounts))\n",
    "    email_to_accountid = {}\n",
    "\n",
    "    # Step1: map emails to account and if email belongs to several accounts => merge them\n",
    "    for account_id, account in enumerate(accounts):\n",
    "        name = account[0]\n",
    "        for email in account[1:]:\n",
    "            if email in email_to_accountid:\n",
    "                uf.union(account_id, email_to_accountid[email])\n",
    "            else:\n",
    "                email_to_accountid[email] = account_id\n",
    "\n",
    "    # Step2: regroup email by the main account\n",
    "    account_id_to_emails = defaultdict(list)\n",
    "    for email, account_id in email_to_accountid.items():\n",
    "        root_account_id = uf.find(account_id)\n",
    "        account_id_to_emails[root_account_id].append(email)\n",
    "\n",
    "    # Step3: Prepare response to required format [accountName, ...sorteEmails]\n",
    "    res = []\n",
    "    for account_id, emails in account_id_to_emails.items():\n",
    "        name = accounts[account_id][0]\n",
    "        data = [name]\n",
    "        data.extend(sorted(emails))\n",
    "        res.append(data)\n",
    "\n",
    "    return res"
   ]
  },
  {
   "cell_type": "code",
   "execution_count": 3,
   "metadata": {},
   "outputs": [
    {
     "name": "stdout",
     "output_type": "stream",
     "text": [
      "2\n",
      "5\n"
     ]
    }
   ],
   "source": [
    "a = {}\n",
    "a[2] = [2,414,123]\n",
    "a[5] = [122]\n",
    "for i in a:\n",
    "    print(i)"
   ]
  }
 ],
 "metadata": {
  "kernelspec": {
   "display_name": "Python 3",
   "language": "python",
   "name": "python3"
  },
  "language_info": {
   "codemirror_mode": {
    "name": "ipython",
    "version": 3
   },
   "file_extension": ".py",
   "mimetype": "text/x-python",
   "name": "python",
   "nbconvert_exporter": "python",
   "pygments_lexer": "ipython3",
   "version": "3.9.6"
  }
 },
 "nbformat": 4,
 "nbformat_minor": 2
}
