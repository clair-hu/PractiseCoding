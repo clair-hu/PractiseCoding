{
 "cells": [
  {
   "cell_type": "code",
   "execution_count": null,
   "metadata": {},
   "outputs": [],
   "source": [
    "# memory limit exceeded\n",
    "class SnapshotArray:\n",
    "\n",
    "    def __init__(self, length: int):\n",
    "        self.snapshots = []\n",
    "        self.array = [0] * length\n",
    "\n",
    "    def set(self, index: int, val: int) -> None:\n",
    "        self.array[index] = val\n",
    "\n",
    "    def snap(self) -> int:\n",
    "        self.snapshots.append(self.array[:])\n",
    "        return len(self.snapshots) - 1\n",
    "\n",
    "    def get(self, index: int, snap_id: int) -> int:\n",
    "        return self.snapshots[snap_id][index]"
   ]
  },
  {
   "cell_type": "code",
   "execution_count": null,
   "metadata": {},
   "outputs": [],
   "source": [
    "# passed but quite slow\n",
    "from collections import defaultdict\n",
    "class SnapshotArray:\n",
    "\n",
    "    def __init__(self, length: int):\n",
    "        self.snap_num = -1\n",
    "        self.snapshots = defaultdict(dict) # index -> {snapshot: val}\n",
    "        self.diff = defaultdict(int) # index to val; to be update at each snap\n",
    "\n",
    "    def set(self, index: int, val: int) -> None:\n",
    "        self.diff[index] = val\n",
    "\n",
    "    def snap(self) -> int:\n",
    "        self.snap_num += 1\n",
    "        for i in self.diff:\n",
    "            self.snapshots[i][self.snap_num] = self.diff[i]\n",
    "        self.diff = defaultdict(int)\n",
    "        return self.snap_num\n",
    "\n",
    "    def get(self, index: int, snap_id: int) -> int:\n",
    "        res = 0\n",
    "        for snap_index, val in self.snapshots[index].items():\n",
    "            if snap_id < snap_index:\n",
    "                break\n",
    "            res = val\n",
    "        return res"
   ]
  },
  {
   "cell_type": "code",
   "execution_count": 28,
   "metadata": {},
   "outputs": [],
   "source": [
    "# passed but still slow\n",
    "import bisect\n",
    "from collections import defaultdict\n",
    "class SnapshotArray:\n",
    "\n",
    "    def __init__(self, length: int):\n",
    "        self.snap_num = -1\n",
    "        self.snapshots = defaultdict(dict) # index -> {snapshot: val}\n",
    "        self.diff = defaultdict(int) # index to val; to be update at each snap\n",
    "\n",
    "    def set(self, index: int, val: int) -> None:\n",
    "        self.diff[index] = val\n",
    "\n",
    "    def snap(self) -> int:\n",
    "        self.snap_num += 1\n",
    "        for i in self.diff:\n",
    "            self.snapshots[i][self.snap_num] = self.diff[i]\n",
    "        self.diff = defaultdict(int)\n",
    "        return self.snap_num\n",
    "\n",
    "    def get(self, index: int, snap_id: int) -> int:\n",
    "        if index not in self.snapshots:\n",
    "            return 0\n",
    "        i = bisect.bisect_right(list(self.snapshots[index].keys()), snap_id) - 1\n",
    "        if i == -1:\n",
    "            return 0\n",
    "        key = list(self.snapshots[index].keys())[i]\n",
    "        return self.snapshots[index][key]"
   ]
  },
  {
   "cell_type": "code",
   "execution_count": 29,
   "metadata": {},
   "outputs": [],
   "source": [
    "# binary search, not working\n",
    "from collections import defaultdict\n",
    "class SnapshotArray:\n",
    "\n",
    "    def __init__(self, length: int):\n",
    "        self.snap_num = -1\n",
    "        self.snapshots = defaultdict(dict) # index -> {snapshot: val}\n",
    "        self.diff = defaultdict(int) # index to val; to be update at each snap\n",
    "\n",
    "    def set(self, index: int, val: int) -> None:\n",
    "        self.diff[index] = val\n",
    "\n",
    "    def snap(self) -> int:\n",
    "        self.snap_num += 1\n",
    "        for i in self.diff:\n",
    "            self.snapshots[i][self.snap_num] = self.diff[i]\n",
    "        self.diff = defaultdict(int)\n",
    "        return self.snap_num\n",
    "\n",
    "    def get(self, index: int, snap_id: int) -> int:\n",
    "        res = 0\n",
    "        def binary_search(nums, target):\n",
    "            left = 0\n",
    "            right = len(nums) - 1\n",
    "            while 0 <= left <= right < len(nums):\n",
    "                mid = left + (right - left) // 2\n",
    "                if mid == 0:\n",
    "                    if nums[0] == target or nums[0] < target < nums[1]:\n",
    "                        return 0\n",
    "                    if nums[0] > target:\n",
    "                        return -1\n",
    "                if mid == len(nums) - 1:\n",
    "                    if nums[mid] <= target:\n",
    "                        return mid\n",
    "                if nums[mid-1] <= target < nums[mid]:\n",
    "                    return mid - 1\n",
    "                if target < nums[mid-1]:\n",
    "                    right = mid - 1\n",
    "                elif nums[mid] == target:\n",
    "                    return mid\n",
    "                elif nums[mid] < target:\n",
    "                    left = mid + 1\n",
    "        i = binary_search(list(self.snapshots[index]), snap_id)\n",
    "        print(i)\n",
    "        return self.snapshots[index][list(self.snapshots[index])[i]]\n",
    "\n",
    "                    \n",
    "\n",
    "        \n",
    "        # for snap_index, val in self.snapshots[index].items():\n",
    "        #     if snap_id < snap_index:\n",
    "        #         print(snap_index)\n",
    "        #         break\n",
    "        #     res = val\n",
    "        return self.snapshots[index][key]"
   ]
  },
  {
   "cell_type": "code",
   "execution_count": 36,
   "metadata": {},
   "outputs": [
    {
     "data": {
      "text/plain": [
       "4"
      ]
     },
     "execution_count": 36,
     "metadata": {},
     "output_type": "execute_result"
    }
   ],
   "source": [
    "# other's solution, fast\n",
    "class SnapshotArray:\n",
    "\n",
    "    def __init__(self, length: int):\n",
    "        self.snaps = 0\n",
    "        self.arr = [] \n",
    "        for i in range(length):\n",
    "            self.arr.append([])\n",
    "\n",
    "    def set(self, index: int, val: int) -> None:\n",
    "        self.arr[index].append([val, self.snaps]) \n",
    "\n",
    "    def snap(self) -> int:\n",
    "        self.snaps += 1\n",
    "        return self.snaps - 1\n",
    "\n",
    "    def get(self, index: int, snap_id: int) -> int:\n",
    "        values = self.arr[index]\n",
    "        res = 0\n",
    "        start, end = 0, len(values) - 1\n",
    "        while start <= end:\n",
    "            mid = (start + end) >> 1\n",
    "            if values[mid][1] <= snap_id:\n",
    "                res = values[mid][0]\n",
    "                start = mid + 1\n",
    "            else:\n",
    "                end = mid - 1\n",
    "        return res\n",
    "    "
   ]
  },
  {
   "cell_type": "code",
   "execution_count": 47,
   "metadata": {},
   "outputs": [
    {
     "name": "stdout",
     "output_type": "stream",
     "text": [
      "1\n"
     ]
    }
   ],
   "source": [
    "print((1+2)>>1)"
   ]
  }
 ],
 "metadata": {
  "kernelspec": {
   "display_name": "Python 3",
   "language": "python",
   "name": "python3"
  },
  "language_info": {
   "codemirror_mode": {
    "name": "ipython",
    "version": 3
   },
   "file_extension": ".py",
   "mimetype": "text/x-python",
   "name": "python",
   "nbconvert_exporter": "python",
   "pygments_lexer": "ipython3",
   "version": "3.9.6"
  }
 },
 "nbformat": 4,
 "nbformat_minor": 2
}
