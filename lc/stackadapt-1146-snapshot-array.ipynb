{
 "cells": [
  {
   "cell_type": "code",
   "execution_count": null,
   "metadata": {},
   "outputs": [],
   "source": [
    "# memory limit exceeded\n",
    "class SnapshotArray:\n",
    "\n",
    "    def __init__(self, length: int):\n",
    "        self.snapshots = []\n",
    "        self.array = [0] * length\n",
    "\n",
    "    def set(self, index: int, val: int) -> None:\n",
    "        self.array[index] = val\n",
    "\n",
    "    def snap(self) -> int:\n",
    "        self.snapshots.append(self.array[:])\n",
    "        return len(self.snapshots) - 1\n",
    "\n",
    "    def get(self, index: int, snap_id: int) -> int:\n",
    "        return self.snapshots[snap_id][index]"
   ]
  },
  {
   "cell_type": "code",
   "execution_count": null,
   "metadata": {},
   "outputs": [],
   "source": [
    "# passed but quite slow\n",
    "from collections import defaultdict\n",
    "class SnapshotArray:\n",
    "\n",
    "    def __init__(self, length: int):\n",
    "        self.snap_num = -1\n",
    "        self.snapshots = defaultdict(dict) # index -> {snapshot: val}\n",
    "        self.diff = defaultdict(int) # index to val; to be update at each snap\n",
    "\n",
    "    def set(self, index: int, val: int) -> None:\n",
    "        self.diff[index] = val\n",
    "\n",
    "    def snap(self) -> int:\n",
    "        self.snap_num += 1\n",
    "        for i in self.diff:\n",
    "            self.snapshots[i][self.snap_num] = self.diff[i]\n",
    "        self.diff = defaultdict(int)\n",
    "        return self.snap_num\n",
    "\n",
    "    def get(self, index: int, snap_id: int) -> int:\n",
    "        res = 0\n",
    "        for snap_index, val in self.snapshots[index].items():\n",
    "            if snap_id < snap_index:\n",
    "                break\n",
    "            res = val\n",
    "        return res"
   ]
  },
  {
   "cell_type": "code",
   "execution_count": 28,
   "metadata": {},
   "outputs": [],
   "source": [
    "# passed but still slow\n",
    "from collections import defaultdict\n",
    "class SnapshotArray:\n",
    "\n",
    "    def __init__(self, length: int):\n",
    "        self.snap_num = -1\n",
    "        self.snapshots = defaultdict(dict) # index -> {snapshot: val}\n",
    "        self.diff = defaultdict(int) # index to val; to be update at each snap\n",
    "\n",
    "    def set(self, index: int, val: int) -> None:\n",
    "        self.diff[index] = val\n",
    "\n",
    "    def snap(self) -> int:\n",
    "        self.snap_num += 1\n",
    "        for i in self.diff:\n",
    "            self.snapshots[i][self.snap_num] = self.diff[i]\n",
    "        self.diff = defaultdict(int)\n",
    "        return self.snap_num\n",
    "\n",
    "    def get(self, index: int, snap_id: int) -> int:\n",
    "        # res = 0\n",
    "        # def binary_search(nums, target):\n",
    "        #     left = 0\n",
    "        #     right = len(nums) - 1\n",
    "        if index not in self.snapshots:\n",
    "            return 0\n",
    "        i = bisect.bisect_right(list(self.snapshots[index].keys()), snap_id) - 1\n",
    "        if i == -1:\n",
    "            return 0\n",
    "        key = list(self.snapshots[index].keys())[i]\n",
    "        # print(\"bisect\", list(self.snapshots[index].keys()), bisect.bisect_right(list(self.snapshots[index].keys()), snap_id))\n",
    "        # for snap_index, val in self.snapshots[index].items():\n",
    "        #     if snap_id < snap_index:\n",
    "        #         print(snap_index)\n",
    "        #         break\n",
    "        #     res = val\n",
    "        return self.snapshots[index][key]"
   ]
  },
  {
   "cell_type": "code",
   "execution_count": 23,
   "metadata": {},
   "outputs": [
    {
     "name": "stdout",
     "output_type": "stream",
     "text": [
      "3\n",
      "3\n"
     ]
    }
   ],
   "source": [
    "import bisect\n",
    "\n",
    "sorted_list = [1, 2, 4, 6]\n",
    "index = bisect.bisect(sorted_list, 5)\n",
    "print(index)\n",
    "index = bisect.bisect_left(sorted_list, 5)\n",
    "print(index)"
   ]
  }
 ],
 "metadata": {
  "kernelspec": {
   "display_name": "Python 3",
   "language": "python",
   "name": "python3"
  },
  "language_info": {
   "codemirror_mode": {
    "name": "ipython",
    "version": 3
   },
   "file_extension": ".py",
   "mimetype": "text/x-python",
   "name": "python",
   "nbconvert_exporter": "python",
   "pygments_lexer": "ipython3",
   "version": "3.9.6"
  }
 },
 "nbformat": 4,
 "nbformat_minor": 2
}
