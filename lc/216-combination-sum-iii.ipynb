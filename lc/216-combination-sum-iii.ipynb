{
 "cells": [
  {
   "cell_type": "code",
   "execution_count": 9,
   "metadata": {},
   "outputs": [],
   "source": [
    "def combinationSum3(k, n):\n",
    "    result = []\n",
    "    dfs(result, [], 1, k, n)\n",
    "    return result\n",
    "\n",
    "def dfs(combinations, currCombination, currItem, k, n):\n",
    "    currSum = sum(currCombination)\n",
    "    if k == len(currCombination) and currSum == n:\n",
    "        combinations.append(currCombination[:])\n",
    "        return\n",
    "    elif k < len(currCombination) or currSum > n:\n",
    "        return\n",
    "    for i in range(currItem,10):\n",
    "        if i not in currCombination:\n",
    "            currCombination.append(i)\n",
    "            dfs(combinations, currCombination, i, k, n)\n",
    "            currCombination.pop()\n",
    "    "
   ]
  },
  {
   "cell_type": "code",
   "execution_count": 10,
   "metadata": {},
   "outputs": [
    {
     "data": {
      "text/plain": [
       "[[1, 2, 6], [1, 3, 5], [2, 3, 4]]"
      ]
     },
     "execution_count": 10,
     "metadata": {},
     "output_type": "execute_result"
    }
   ],
   "source": [
    "combinationSum3(3, 9)"
   ]
  },
  {
   "cell_type": "code",
   "execution_count": null,
   "metadata": {},
   "outputs": [],
   "source": [
    "#### By LYX ###\n",
    "# Input: K = 2, target = 10\n",
    "# Output: [[1,9], [2,8], [3,7],[4,6]]\n",
    "\n",
    "def combination_sum(k, target):\n",
    "\n",
    "  # dp = {}\n",
    "  res = set()\n",
    "\n",
    "  def dfs(tg, spots_left, prefix=list):\n",
    "    # print(\"input\", tg, spots_left, prefix)\n",
    "    # print(\"res\", res)\n",
    "    if spots_left == 0:\n",
    "      if tg == 0:\n",
    "        # print(\"Adding to res\", tg, spots_left, prefix)\n",
    "        prefix.sort()\n",
    "        res.add(tuple(prefix))\n",
    "      return\n",
    "\n",
    "    start = prefix[-1]+1 if prefix else 1\n",
    "    for n in range(start, 10):\n",
    "      if n <= tg:\n",
    "        dfs(tg - n, spots_left-1, prefix + [n])\n",
    "\n",
    "\n",
    "  dfs(target, k, [])\n",
    "\n",
    "  ret = [list(t) for t in res]\n",
    "  return ret\n",
    "\n",
    "# Test 0\n",
    "# k_0, target_0 = 2, 10\n",
    "# print(combination_sum(k_0, target_0))\n",
    "\n",
    "# Test 1\n",
    "# k_1, target_1 = 2, 18\n",
    "# print(combination_sum(k_1, target_1))\n",
    "\n",
    "# Test 2\n",
    "# k_2, target_2 = 3, 3\n",
    "# print(combination_sum(k_2, target_2))\n",
    "\n",
    "# Test 3\n",
    "k_3, target_3 = 3, 12\n",
    "print(sorted(combination_sum(k_3, target_3)))\n",
    "\n"
   ]
  }
 ],
 "metadata": {
  "kernelspec": {
   "display_name": "Python 3",
   "language": "python",
   "name": "python3"
  },
  "language_info": {
   "codemirror_mode": {
    "name": "ipython",
    "version": 3
   },
   "file_extension": ".py",
   "mimetype": "text/x-python",
   "name": "python",
   "nbconvert_exporter": "python",
   "pygments_lexer": "ipython3",
   "version": "3.9.6"
  }
 },
 "nbformat": 4,
 "nbformat_minor": 2
}
