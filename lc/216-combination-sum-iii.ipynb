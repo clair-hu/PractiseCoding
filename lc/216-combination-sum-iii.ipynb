{
 "cells": [
  {
   "cell_type": "code",
   "execution_count": 9,
   "metadata": {},
   "outputs": [],
   "source": [
    "def combinationSum3(k, n):\n",
    "    result = []\n",
    "    dfs(result, [], 1, k, n)\n",
    "    return result\n",
    "\n",
    "def dfs(combinations, currCombination, currItem, k, n):\n",
    "    currSum = sum(currCombination)\n",
    "    if k == len(currCombination) and currSum == n:\n",
    "        combinations.append(currCombination[:])\n",
    "        return\n",
    "    elif k < len(currCombination) or currSum > n:\n",
    "        return\n",
    "    for i in range(currItem,10):\n",
    "        if i not in currCombination:\n",
    "            currCombination.append(i)\n",
    "            dfs(combinations, currCombination, i, k, n)\n",
    "            currCombination.pop()\n",
    "    "
   ]
  },
  {
   "cell_type": "code",
   "execution_count": 10,
   "metadata": {},
   "outputs": [
    {
     "data": {
      "text/plain": [
       "[[1, 2, 6], [1, 3, 5], [2, 3, 4]]"
      ]
     },
     "execution_count": 10,
     "metadata": {},
     "output_type": "execute_result"
    }
   ],
   "source": [
    "combinationSum3(3, 9)"
   ]
  }
 ],
 "metadata": {
  "kernelspec": {
   "display_name": "Python 3",
   "language": "python",
   "name": "python3"
  },
  "language_info": {
   "codemirror_mode": {
    "name": "ipython",
    "version": 3
   },
   "file_extension": ".py",
   "mimetype": "text/x-python",
   "name": "python",
   "nbconvert_exporter": "python",
   "pygments_lexer": "ipython3",
   "version": "3.9.6"
  }
 },
 "nbformat": 4,
 "nbformat_minor": 2
}
