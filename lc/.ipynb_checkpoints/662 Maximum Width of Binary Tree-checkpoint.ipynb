{
 "cells": [
  {
   "cell_type": "code",
   "execution_count": 1,
   "metadata": {
    "collapsed": true
   },
   "outputs": [],
   "source": [
    "class node:\n",
    "    left = None\n",
    "    right = None\n",
    "    def __init__(self, v):\n",
    "        self.value = v"
   ]
  },
  {
   "cell_type": "code",
   "execution_count": 8,
   "metadata": {
    "collapsed": true
   },
   "outputs": [],
   "source": [
    "def maxWidth(root):\n",
    "    queue = [(root, 0, 0)]\n",
    "    cur_depth = left = output = 0\n",
    "    for node, depth, pos in queue:\n",
    "        if node:\n",
    "            queue.append((node.left, depth+1, pos*2))\n",
    "            queue.append((node.right, depth+1, pos*2+1))\n",
    "            if cur_depth != depth:\n",
    "                cur_depth = depth\n",
    "                left = pos\n",
    "            output = max(pos-left+1, output)\n",
    "    return output"
   ]
  },
  {
   "cell_type": "code",
   "execution_count": 10,
   "metadata": {},
   "outputs": [
    {
     "data": {
      "text/plain": [
       "2"
      ]
     },
     "execution_count": 10,
     "metadata": {},
     "output_type": "execute_result"
    }
   ],
   "source": [
    "n1 = node(1)\n",
    "n2 = node(2)\n",
    "n3 = node(3)\n",
    "n4 = node(4)\n",
    "n1.left = n2\n",
    "n2.left = n3\n",
    "n1.right = n4\n",
    "maxWidth(n1)"
   ]
  },
  {
   "cell_type": "code",
   "execution_count": null,
   "metadata": {
    "collapsed": true
   },
   "outputs": [],
   "source": []
  }
 ],
 "metadata": {
  "kernelspec": {
   "display_name": "Python 3",
   "language": "python",
   "name": "python3"
  },
  "language_info": {
   "codemirror_mode": {
    "name": "ipython",
    "version": 3
   },
   "file_extension": ".py",
   "mimetype": "text/x-python",
   "name": "python",
   "nbconvert_exporter": "python",
   "pygments_lexer": "ipython3",
   "version": "3.6.2"
  }
 },
 "nbformat": 4,
 "nbformat_minor": 2
}
