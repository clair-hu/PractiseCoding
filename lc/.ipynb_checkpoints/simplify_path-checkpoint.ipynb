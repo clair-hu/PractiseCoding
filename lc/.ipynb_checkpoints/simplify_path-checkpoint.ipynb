{
 "cells": [
  {
   "cell_type": "markdown",
   "metadata": {},
   "source": [
    "Given an absolute path for a file (Unix-style), simplify it.\n",
    "\n",
    "For example, path = \"/home/\", => \"/home\" path = \"/a/./b/../../c/\", => \"/c\"\n",
    "\n",
    "click to show corner cases.\n",
    "\n",
    "Corner Cases:\n",
    "\n",
    "Did you consider the case where path = \"/../\"? In this case, you should return \"/\". Another corner case is the path might contain multiple slashes '/' together, such as \"/home//foo/\". In this case, you should ignore redundant slashes and return \"/home/foo\"."
   ]
  },
  {
   "cell_type": "code",
   "execution_count": 37,
   "metadata": {},
   "outputs": [],
   "source": [
    "def simplify_path(s):\n",
    "    t = s\n",
    "    l = []\n",
    "    while t:\n",
    "        if t[0] == \"/\":\n",
    "            t = t[1:]\n",
    "            continue\n",
    "        else:\n",
    "            i = t.find(\"/\")\n",
    "            if i == -1:\n",
    "                l.append(t)\n",
    "                break\n",
    "            curr = t[:i]\n",
    "            if curr == \".\":\n",
    "                t = t[i+1:]\n",
    "                continue\n",
    "            elif curr == \"..\":\n",
    "                if len(l) != 0:\n",
    "                    l.pop()\n",
    "                else:\n",
    "                    l.append(\"..\")\n",
    "            else:\n",
    "                l.append(curr)\n",
    "            t = t[i+1:]\n",
    "    output = \"\"\n",
    "    if l == [\"..\"]:\n",
    "        return \"/\"\n",
    "    else:\n",
    "        for i in l:\n",
    "            output += \"/\" + i\n",
    "    return output"
   ]
  },
  {
   "cell_type": "code",
   "execution_count": 39,
   "metadata": {},
   "outputs": [
    {
     "data": {
      "text/plain": [
       "'/'"
      ]
     },
     "execution_count": 39,
     "metadata": {},
     "output_type": "execute_result"
    }
   ],
   "source": [
    "simplify_path(\"/../\")"
   ]
  },
  {
   "cell_type": "code",
   "execution_count": 47,
   "metadata": {},
   "outputs": [],
   "source": [
    "# def solution(s):\n",
    "#     path = s.split(\"/\")\n",
    "#     stack = []\n",
    "#     for p in path:\n",
    "#         if p in [\"\", \".\"]:\n",
    "#             continue\n",
    "#         if p == \"..\":\n",
    "#             if stack:\n",
    "#                 stack.pop()\n",
    "#             else:\n",
    "#                 stack.append(p)\n",
    "#     return \"/\"+\".\".join(stack)"
   ]
  },
  {
   "cell_type": "code",
   "execution_count": 1,
   "metadata": {},
   "outputs": [],
   "source": [
    "s = \"str\"\n",
    "a = s[3:]"
   ]
  },
  {
   "cell_type": "code",
   "execution_count": null,
   "metadata": {},
   "outputs": [],
   "source": []
  },
  {
   "cell_type": "code",
   "execution_count": null,
   "metadata": {},
   "outputs": [],
   "source": []
  }
 ],
 "metadata": {
  "kernelspec": {
   "display_name": "Python 3",
   "language": "python",
   "name": "python3"
  },
  "language_info": {
   "codemirror_mode": {
    "name": "ipython",
    "version": 3
   },
   "file_extension": ".py",
   "mimetype": "text/x-python",
   "name": "python",
   "nbconvert_exporter": "python",
   "pygments_lexer": "ipython3",
   "version": "3.7.3"
  }
 },
 "nbformat": 4,
 "nbformat_minor": 2
}
