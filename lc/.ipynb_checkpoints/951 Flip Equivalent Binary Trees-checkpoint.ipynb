{
 "cells": [
  {
   "cell_type": "code",
   "execution_count": 2,
   "metadata": {
    "collapsed": true
   },
   "outputs": [],
   "source": [
    "class Node:\n",
    "    value = None\n",
    "    left = None\n",
    "    right = None\n",
    "    \n",
    "    def __init__(self, v):\n",
    "        self.value = v\n",
    "        \n",
    "    def printNode(self, root):\n",
    "        # pre order\n",
    "        if root:\n",
    "            print(root.value)\n",
    "            printNode(root.left)\n",
    "            printNode(root.right)"
   ]
  },
  {
   "cell_type": "code",
   "execution_count": 6,
   "metadata": {
    "collapsed": true
   },
   "outputs": [],
   "source": [
    "class Solution(object):\n",
    "    def febt(self, root1, root2):\n",
    "        self.output = True\n",
    "        \n",
    "        def bfs(node1, node2):\n",
    "            if node1 and node2:\n",
    "                if node1.value != node2.value:\n",
    "                    self.output = False\n",
    "                    return self.output\n",
    "                if node1 and node2 and node1.left and node2.left and node1.left.value != node2.left.value:\n",
    "                    a = bfs(node1.left, node2.right)\n",
    "                    b = bfs(node1.right, node2.left)\n",
    "                    if a == False or b == False:\n",
    "                        self.output = False\n",
    "                        return self.output\n",
    "                else:\n",
    "                    a = bfs(node1.left, node2.left)\n",
    "                    b = bfs(node1.right, node2.right)\n",
    "                    if a == False or b == False:\n",
    "                        self.output = False\n",
    "                        return self.output\n",
    "            return self.output\n",
    "        return bfs(root1, root2)\n",
    "                    "
   ]
  },
  {
   "cell_type": "code",
   "execution_count": 14,
   "metadata": {
    "collapsed": true
   },
   "outputs": [],
   "source": [
    "n1 = Node(1)\n",
    "n2 = Node(2)\n",
    "n3 = Node(3)\n",
    "n4 = Node(4)\n",
    "n5 = Node(5)\n",
    "n1.left = n2\n",
    "n1.right = n3\n",
    "n2.left = n4\n",
    "n2.right = n5\n",
    "\n",
    "N1 = Node(1)\n",
    "N2 = Node(2)\n",
    "N3 = Node(3)\n",
    "N4 = Node(4)\n",
    "N5 = Node(5)\n",
    "N1.left = N3\n",
    "N1.right = N2\n",
    "N2.left = N5\n",
    "N2.right = N4"
   ]
  },
  {
   "cell_type": "code",
   "execution_count": 15,
   "metadata": {},
   "outputs": [
    {
     "data": {
      "text/plain": [
       "True"
      ]
     },
     "execution_count": 15,
     "metadata": {},
     "output_type": "execute_result"
    }
   ],
   "source": [
    "a = Solution()\n",
    "a.febt(n1, N1)"
   ]
  },
  {
   "cell_type": "code",
   "execution_count": null,
   "metadata": {
    "collapsed": true
   },
   "outputs": [],
   "source": [
    "class otherSolution(object):\n",
    "    def flipEquiv(self, root1, root2):\n",
    "        if root1 is root2:\n",
    "            return True\n",
    "        if not root1 or not root2 or root1.val != root2.val:\n",
    "            return False\n",
    "\n",
    "        return (self.flipEquiv(root1.left, root2.left) and\n",
    "                self.flipEquiv(root1.right, root2.right) or\n",
    "                self.flipEquiv(root1.left, root2.right) and\n",
    "                self.flipEquiv(root1.right, root2.left))"
   ]
  }
 ],
 "metadata": {
  "kernelspec": {
   "display_name": "Python 3",
   "language": "python",
   "name": "python3"
  },
  "language_info": {
   "codemirror_mode": {
    "name": "ipython",
    "version": 3
   },
   "file_extension": ".py",
   "mimetype": "text/x-python",
   "name": "python",
   "nbconvert_exporter": "python",
   "pygments_lexer": "ipython3",
   "version": "3.6.2"
  }
 },
 "nbformat": 4,
 "nbformat_minor": 2
}
