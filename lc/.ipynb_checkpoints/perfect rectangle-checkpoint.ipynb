{
 "cells": [
  {
   "cell_type": "code",
   "execution_count": 1,
   "metadata": {},
   "outputs": [
    {
     "ename": "SyntaxError",
     "evalue": "unexpected EOF while parsing (<ipython-input-1-48d03b630b42>, line 2)",
     "output_type": "error",
     "traceback": [
      "\u001b[0;36m  File \u001b[0;32m\"<ipython-input-1-48d03b630b42>\"\u001b[0;36m, line \u001b[0;32m2\u001b[0m\n\u001b[0;31m    \u001b[0m\n\u001b[0m    ^\u001b[0m\n\u001b[0;31mSyntaxError\u001b[0m\u001b[0;31m:\u001b[0m unexpected EOF while parsing\n"
     ]
    }
   ],
   "source": [
    "def perfect_rectangle(recs):\n",
    "    stack = []\n",
    "    is cor\n",
    "    for rec in recs:\n",
    "        "
   ]
  },
  {
   "cell_type": "code",
   "execution_count": 2,
   "metadata": {},
   "outputs": [],
   "source": [
    "def addCell(point, stack, bl, tr):\n",
    "    if point[0] < bl[0]:\n",
    "        bl[0] = point[0]\n",
    "    if point[1] < bl[1]:\n",
    "        bl[1] = point[1]\n",
    "    if point[2] > tr[0]:\n",
    "        tr[0] = point[2]\n",
    "    if point[3] > tr[1]:\n",
    "        tr[1] = point[3]\n",
    "    for i in range (point[0], point[2]):\n",
    "        for j in range (point[1], point[3]):\n",
    "            if (i,j) in stack:\n",
    "                return False, []\n",
    "            else:\n",
    "                stack.append((i,j))\n",
    "    return True, stack"
   ]
  },
  {
   "cell_type": "code",
   "execution_count": 3,
   "metadata": {},
   "outputs": [],
   "source": [
    "def checkRec(stack, bl, tr):\n",
    "    for i in range(bl[0], tr[0]):\n",
    "        for j in range(bl[1], tr[1]):\n",
    "            if (i, j) not in stack:\n",
    "                return False\n",
    "    return True"
   ]
  },
  {
   "cell_type": "code",
   "execution_count": null,
   "metadata": {},
   "outputs": [],
   "source": []
  },
  {
   "cell_type": "code",
   "execution_count": 4,
   "metadata": {},
   "outputs": [],
   "source": []
  },
  {
   "cell_type": "code",
   "execution_count": null,
   "metadata": {},
   "outputs": [],
   "source": []
  },
  {
   "cell_type": "code",
   "execution_count": null,
   "metadata": {},
   "outputs": [],
   "source": []
  }
 ],
 "metadata": {
  "kernelspec": {
   "display_name": "Python 3",
   "language": "python",
   "name": "python3"
  },
  "language_info": {
   "codemirror_mode": {
    "name": "ipython",
    "version": 3
   },
   "file_extension": ".py",
   "mimetype": "text/x-python",
   "name": "python",
   "nbconvert_exporter": "python",
   "pygments_lexer": "ipython3",
   "version": "3.7.3"
  }
 },
 "nbformat": 4,
 "nbformat_minor": 2
}
