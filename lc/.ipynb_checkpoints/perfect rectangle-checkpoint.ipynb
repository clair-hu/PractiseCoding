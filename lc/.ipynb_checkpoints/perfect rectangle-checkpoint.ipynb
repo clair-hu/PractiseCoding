{
 "cells": [
  {
   "cell_type": "code",
   "execution_count": 10,
   "metadata": {},
   "outputs": [],
   "source": [
    "def perfect_rectangle(recs):\n",
    "    stack = []\n",
    "    if not recs:\n",
    "        return None\n",
    "    bl = [recs[0][0], recs[0][1]]\n",
    "    tr = [recs[0][2], recs[0][3]]\n",
    "    hasOverlap = False\n",
    "    for rec in recs:\n",
    "        hasOverlap, stack, bl, tr = addCell(rec, stack, bl, tr)\n",
    "        if hasOverlap == True:\n",
    "            return False\n",
    "    return checkRec(stack, bl, tr)"
   ]
  },
  {
   "cell_type": "code",
   "execution_count": 1,
   "metadata": {},
   "outputs": [],
   "source": [
    "def addCell(point, stack, bl, tr):\n",
    "    if point[0] < bl[0]:\n",
    "        bl[0] = point[0]\n",
    "    if point[1] < bl[1]:\n",
    "        bl[1] = point[1]\n",
    "    if point[2] > tr[0]:\n",
    "        tr[0] = point[2]\n",
    "    if point[3] > tr[1]:\n",
    "        tr[1] = point[3]\n",
    "    for i in range (point[0], point[2]):\n",
    "        for j in range (point[1], point[3]):\n",
    "            if (i,j) in stack:\n",
    "                return True, None, None, None\n",
    "            else:\n",
    "                stack.append((i,j))\n",
    "    return False, stack, bl, tr"
   ]
  },
  {
   "cell_type": "code",
   "execution_count": 2,
   "metadata": {},
   "outputs": [],
   "source": [
    "def checkRec(stack, bl, tr):\n",
    "    for i in range(bl[0], tr[0]):\n",
    "        for j in range(bl[1], tr[1]):\n",
    "            if (i, j) not in stack:\n",
    "                return False\n",
    "    return True"
   ]
  },
  {
   "cell_type": "code",
   "execution_count": 13,
   "metadata": {},
   "outputs": [
    {
     "data": {
      "text/plain": [
       "False"
      ]
     },
     "execution_count": 13,
     "metadata": {},
     "output_type": "execute_result"
    }
   ],
   "source": [
    "perfect_rectangle([\n",
    "  [1,1,3,3],\n",
    "  [3,1,4,2],\n",
    "  [1,3,2,4],\n",
    "  [3,2,4,4]\n",
    "])"
   ]
  },
  {
   "cell_type": "code",
   "execution_count": 4,
   "metadata": {},
   "outputs": [],
   "source": []
  },
  {
   "cell_type": "code",
   "execution_count": null,
   "metadata": {},
   "outputs": [],
   "source": []
  },
  {
   "cell_type": "code",
   "execution_count": null,
   "metadata": {},
   "outputs": [],
   "source": []
  }
 ],
 "metadata": {
  "kernelspec": {
   "display_name": "Python 3",
   "language": "python",
   "name": "python3"
  },
  "language_info": {
   "codemirror_mode": {
    "name": "ipython",
    "version": 3
   },
   "file_extension": ".py",
   "mimetype": "text/x-python",
   "name": "python",
   "nbconvert_exporter": "python",
   "pygments_lexer": "ipython3",
   "version": "3.7.3"
  }
 },
 "nbformat": 4,
 "nbformat_minor": 2
}
