{
 "cells": [
  {
   "cell_type": "code",
   "execution_count": null,
   "metadata": {},
   "outputs": [],
   "source": [
    "# Definition for a binary tree node.\n",
    "# class TreeNode:\n",
    "#     def __init__(self, x):\n",
    "#         self.val = x\n",
    "#         self.left = None\n",
    "#         self.right = None\n",
    "\n",
    "class Solution:\n",
    "    def maxLevelSum(self, root: TreeNode) -> int:\n",
    "        level_sum = [-2**16] # dummy var for level 0\n",
    "        \n",
    "        def DFS(node, depth):\n",
    "            if node:\n",
    "                while len(level_sum) <= depth + 1:\n",
    "                    level_sum.append(-2**16)\n",
    "                level_sum[depth] += node.val\n",
    "                level_sum[depth + 1] = DFS(node.left, depth + 1)\n",
    "                level_sum[depth + 1] = DFS(node.right, depth + 1)                \n",
    "            return level_sum[depth]\n",
    "        \n",
    "        def BFS():\n",
    "            queue = [(root, 1)]\n",
    "            while(len(queue) > 0):\n",
    "                node, depth = queue.pop(0)\n",
    "                if node:\n",
    "                    while len(level_sum) <= depth:\n",
    "                        level_sum.append(-2**16)\n",
    "                    level_sum[depth] += node.val\n",
    "                    queue.append((node.left, depth + 1))\n",
    "                    queue.append((node.right, depth + 1))\n",
    "    \n",
    "                        \n",
    "                    \n",
    "        \n",
    "        # DFS(root, 1)\n",
    "        BFS()\n",
    "        print(level_sum)\n",
    "        return level_sum.index(max(level_sum))"
   ]
  }
 ],
 "metadata": {
  "kernelspec": {
   "display_name": "Python 3",
   "language": "python",
   "name": "python3"
  },
  "language_info": {
   "codemirror_mode": {
    "name": "ipython",
    "version": 3
   },
   "file_extension": ".py",
   "mimetype": "text/x-python",
   "name": "python",
   "nbconvert_exporter": "python",
   "pygments_lexer": "ipython3",
   "version": "3.7.3"
  }
 },
 "nbformat": 4,
 "nbformat_minor": 2
}
