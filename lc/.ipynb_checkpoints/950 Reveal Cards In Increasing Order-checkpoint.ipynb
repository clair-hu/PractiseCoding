{
 "cells": [
  {
   "cell_type": "code",
   "execution_count": 14,
   "metadata": {},
   "outputs": [],
   "source": [
    "class Solution(object):\n",
    "    def addToList(i, A):\n",
    "        last = A.pop()\n",
    "        A.insert(0, last)\n",
    "        A.insert(0, i)\n",
    "    \n",
    "    def rcio(self, A):\n",
    "        A.sort(reverse=True)\n",
    "        output = [A[0]]\n",
    "        i = 1\n",
    "        while i < len(A):\n",
    "            addToList(A[i], output)\n",
    "            i += 1\n",
    "        return output\n",
    "    \n",
    "    "
   ]
  },
  {
   "cell_type": "code",
   "execution_count": 15,
   "metadata": {},
   "outputs": [
    {
     "name": "stdout",
     "output_type": "stream",
     "text": [
      "[2, 13, 3, 11, 5, 17, 7]\n"
     ]
    }
   ],
   "source": [
    "a = Solution()\n",
    "A = [17,13,11,2,3,5,7]\n",
    "output = a.rcio(A)\n",
    "print(output)"
   ]
  }
 ],
 "metadata": {
  "kernelspec": {
   "display_name": "Python 3",
   "language": "python",
   "name": "python3"
  },
  "language_info": {
   "codemirror_mode": {
    "name": "ipython",
    "version": 3
   },
   "file_extension": ".py",
   "mimetype": "text/x-python",
   "name": "python",
   "nbconvert_exporter": "python",
   "pygments_lexer": "ipython3",
   "version": "3.6.2"
  }
 },
 "nbformat": 4,
 "nbformat_minor": 2
}
