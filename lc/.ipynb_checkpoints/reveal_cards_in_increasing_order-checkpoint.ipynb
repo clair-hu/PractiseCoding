{
 "cells": [
  {
   "cell_type": "code",
   "execution_count": 68,
   "metadata": {},
   "outputs": [],
   "source": [
    "import collections\n",
    "def solution(deck):\n",
    "    N = len(deck)\n",
    "    index = collections.deque(range(N))\n",
    "    ans = [None] * N\n",
    "    \n",
    "    for card in sorted(deck):\n",
    "        ans[index.popleft()] = card\n",
    "        if index:\n",
    "            index.append(index.popleft())\n",
    "            \n",
    "    return ans"
   ]
  },
  {
   "cell_type": "code",
   "execution_count": 69,
   "metadata": {},
   "outputs": [
    {
     "data": {
      "text/plain": [
       "[1, 6, 2, 5, 3, 7, 4]"
      ]
     },
     "execution_count": 69,
     "metadata": {},
     "output_type": "execute_result"
    }
   ],
   "source": [
    "solution([1,2,3,4,5,6,7])"
   ]
  },
  {
   "cell_type": "code",
   "execution_count": null,
   "metadata": {},
   "outputs": [],
   "source": [
    "def revealCardsInIncreasingOrder(input_list):\n",
    "    size = len(input_list)\n",
    "    input_list.sort()\n",
    "    output = [None for _ in range(size)]\n",
    "    output[0] = input_list[0]\n",
    "    list_index = 1\n",
    "    curr = 0\n",
    "    while list_index < size:\n",
    "        (output, curr) = appendToSecondNextEmptySpot(curr, output, list_index, input_list)\n",
    "        list_index += 1\n",
    "    return output"
   ]
  },
  {
   "cell_type": "code",
   "execution_count": 56,
   "metadata": {},
   "outputs": [],
   "source": [
    "def appendToSecondNextEmptySpot(index, output, list_index, input_list):\n",
    "#     temp = extendListWithNoneType(output)\n",
    "    index = findNextEmptySpot(index, output)\n",
    "    index = findNextEmptySpot(index, output)\n",
    "    print()\n",
    "    print()\n",
    "    output[index] = input_list[list_index]\n",
    "    return (output, index)"
   ]
  },
  {
   "cell_type": "code",
   "execution_count": 57,
   "metadata": {},
   "outputs": [],
   "source": [
    "# def extendListWithNoneType(l):\n",
    "#     temp = [None for _ in range(2*len(l))]\n",
    "#     for i in range(len(l)):\n",
    "#         temp[i] = l[i]\n",
    "#         temp[len(l)+i] = l[i]\n",
    "#     return temp"
   ]
  },
  {
   "cell_type": "code",
   "execution_count": 58,
   "metadata": {},
   "outputs": [],
   "source": [
    "# def findNextEmptySpot(i, l):\n",
    "#     i += 1\n",
    "#     while(l[i] != None):\n",
    "#         i += 1\n",
    "#     if i >= len(l)/2:\n",
    "#         i = i - len(l)//2\n",
    "#     return i"
   ]
  },
  {
   "cell_type": "code",
   "execution_count": 59,
   "metadata": {},
   "outputs": [],
   "source": [
    "def findNextEmptySpot(i, l):\n",
    "    i += 1\n",
    "    while(l[i%len(l)] != None):\n",
    "        i += 1\n",
    "    return (i%len(l))"
   ]
  },
  {
   "cell_type": "code",
   "execution_count": 60,
   "metadata": {},
   "outputs": [
    {
     "name": "stdout",
     "output_type": "stream",
     "text": [
      "1\n",
      "8\n",
      "2\n",
      "8\n",
      "\n",
      "\n",
      "3\n",
      "8\n",
      "4\n",
      "8\n",
      "\n",
      "\n",
      "5\n",
      "8\n",
      "6\n",
      "8\n",
      "\n",
      "\n",
      "7\n",
      "8\n",
      "1\n",
      "8\n",
      "\n",
      "\n",
      "3\n",
      "8\n",
      "5\n",
      "8\n",
      "\n",
      "\n",
      "7\n",
      "8\n",
      "3\n",
      "8\n",
      "\n",
      "\n",
      "7\n",
      "8\n",
      "7\n",
      "8\n",
      "\n",
      "\n",
      "[1, 5, 2, 7, 3, 6, 4, 8]\n"
     ]
    }
   ],
   "source": [
    "output = revealCardsInIncreasingOrder([1,2,3,4,5,6,7,8])\n",
    "print(output)"
   ]
  },
  {
   "cell_type": "code",
   "execution_count": 47,
   "metadata": {},
   "outputs": [
    {
     "name": "stdout",
     "output_type": "stream",
     "text": [
      "[2, 11, 2, 7, 3, 13, 5]\n"
     ]
    }
   ],
   "source": []
  },
  {
   "cell_type": "code",
   "execution_count": 11,
   "metadata": {},
   "outputs": [
    {
     "name": "stdout",
     "output_type": "stream",
     "text": [
      "[None, None, None, None]\n"
     ]
    }
   ],
   "source": []
  },
  {
   "cell_type": "code",
   "execution_count": 12,
   "metadata": {},
   "outputs": [
    {
     "data": {
      "text/plain": [
       "True"
      ]
     },
     "execution_count": 12,
     "metadata": {},
     "output_type": "execute_result"
    }
   ],
   "source": []
  },
  {
   "cell_type": "code",
   "execution_count": 20,
   "metadata": {},
   "outputs": [
    {
     "name": "stdout",
     "output_type": "stream",
     "text": [
      "[None, None, None, None]\n",
      "[None, None, None, None, None, None, None, None]\n",
      "[None, None, None, None]\n",
      "4\n"
     ]
    },
    {
     "ename": "IndexError",
     "evalue": "list assignment index out of range",
     "output_type": "error",
     "traceback": [
      "\u001b[0;31m---------------------------------------------------------------------------\u001b[0m",
      "\u001b[0;31mIndexError\u001b[0m                                Traceback (most recent call last)",
      "\u001b[0;32m<ipython-input-20-bb2b2ffe0a74>\u001b[0m in \u001b[0;36m<module>\u001b[0;34m\u001b[0m\n\u001b[1;32m      7\u001b[0m \u001b[0mprint\u001b[0m\u001b[0;34m(\u001b[0m\u001b[0mlen\u001b[0m\u001b[0;34m(\u001b[0m\u001b[0ma\u001b[0m\u001b[0;34m)\u001b[0m\u001b[0;34m)\u001b[0m\u001b[0;34m\u001b[0m\u001b[0;34m\u001b[0m\u001b[0m\n\u001b[1;32m      8\u001b[0m \u001b[0;32mfor\u001b[0m \u001b[0mi\u001b[0m \u001b[0;32min\u001b[0m \u001b[0mrange\u001b[0m\u001b[0;34m(\u001b[0m\u001b[0mlen\u001b[0m\u001b[0;34m(\u001b[0m\u001b[0ma\u001b[0m\u001b[0;34m)\u001b[0m\u001b[0;34m)\u001b[0m\u001b[0;34m:\u001b[0m\u001b[0;34m\u001b[0m\u001b[0;34m\u001b[0m\u001b[0m\n\u001b[0;32m----> 9\u001b[0;31m     \u001b[0mb\u001b[0m\u001b[0;34m[\u001b[0m\u001b[0mlen\u001b[0m\u001b[0;34m(\u001b[0m\u001b[0ma\u001b[0m\u001b[0;34m)\u001b[0m\u001b[0;34m+\u001b[0m\u001b[0mi\u001b[0m\u001b[0;34m]\u001b[0m \u001b[0;34m=\u001b[0m \u001b[0ma\u001b[0m\u001b[0;34m[\u001b[0m\u001b[0mi\u001b[0m\u001b[0;34m]\u001b[0m\u001b[0;34m\u001b[0m\u001b[0;34m\u001b[0m\u001b[0m\n\u001b[0m\u001b[1;32m     10\u001b[0m \u001b[0;31m# print(b)\u001b[0m\u001b[0;34m\u001b[0m\u001b[0;34m\u001b[0m\u001b[0;34m\u001b[0m\u001b[0m\n",
      "\u001b[0;31mIndexError\u001b[0m: list assignment index out of range"
     ]
    }
   ],
   "source": []
  },
  {
   "cell_type": "code",
   "execution_count": null,
   "metadata": {},
   "outputs": [],
   "source": []
  }
 ],
 "metadata": {
  "kernelspec": {
   "display_name": "Python 3",
   "language": "python",
   "name": "python3"
  },
  "language_info": {
   "codemirror_mode": {
    "name": "ipython",
    "version": 3
   },
   "file_extension": ".py",
   "mimetype": "text/x-python",
   "name": "python",
   "nbconvert_exporter": "python",
   "pygments_lexer": "ipython3",
   "version": "3.6.8"
  }
 },
 "nbformat": 4,
 "nbformat_minor": 2
}
