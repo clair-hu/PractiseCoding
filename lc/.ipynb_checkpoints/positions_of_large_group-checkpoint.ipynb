{
 "cells": [
  {
   "cell_type": "code",
   "execution_count": 36,
   "metadata": {},
   "outputs": [],
   "source": [
    "def PositionOfLargeGroups(s):\n",
    "    output = []\n",
    "    curr_index = 0\n",
    "    next_index = 0\n",
    "    while curr_index < len(s):\n",
    "        curr_index, next_index = findEndIndex(s, curr_index)\n",
    "        if next_index - curr_index >= 2: \n",
    "            output.append([curr_index, next_index])\n",
    "        curr_index = next_index + 1\n",
    "    return output"
   ]
  },
  {
   "cell_type": "code",
   "execution_count": 37,
   "metadata": {},
   "outputs": [],
   "source": [
    "def findEndIndex(s, curr_index):\n",
    "    t = curr_index\n",
    "    while t<len(s)-1 and s[t]==s[t+1]:\n",
    "        t += 1\n",
    "    return (curr_index, t)"
   ]
  },
  {
   "cell_type": "code",
   "execution_count": 38,
   "metadata": {},
   "outputs": [
    {
     "data": {
      "text/plain": [
       "(1, 3)"
      ]
     },
     "execution_count": 38,
     "metadata": {},
     "output_type": "execute_result"
    }
   ],
   "source": [
    "findEndIndex(\"baaa\",1)"
   ]
  },
  {
   "cell_type": "code",
   "execution_count": 39,
   "metadata": {},
   "outputs": [
    {
     "data": {
      "text/plain": [
       "[[2, 4], [5, 9], [10, 14]]"
      ]
     },
     "execution_count": 39,
     "metadata": {},
     "output_type": "execute_result"
    }
   ],
   "source": [
    "PositionOfLargeGroups(\"aabbbsssssddddd\")"
   ]
  },
  {
   "cell_type": "code",
   "execution_count": null,
   "metadata": {},
   "outputs": [],
   "source": []
  }
 ],
 "metadata": {
  "kernelspec": {
   "display_name": "Python 3",
   "language": "python",
   "name": "python3"
  },
  "language_info": {
   "codemirror_mode": {
    "name": "ipython",
    "version": 3
   },
   "file_extension": ".py",
   "mimetype": "text/x-python",
   "name": "python",
   "nbconvert_exporter": "python",
   "pygments_lexer": "ipython3",
   "version": "3.7.3"
  }
 },
 "nbformat": 4,
 "nbformat_minor": 2
}
