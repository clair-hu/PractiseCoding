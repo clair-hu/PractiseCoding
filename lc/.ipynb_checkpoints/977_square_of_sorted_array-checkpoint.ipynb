{
 "cells": [
  {
   "cell_type": "code",
   "execution_count": 41,
   "metadata": {
    "collapsed": true
   },
   "outputs": [],
   "source": [
    "import bisect\n",
    "def sosa(A):\n",
    "    result = A[:]\n",
    "    for v in A:\n",
    "        if v >= 0:\n",
    "            break\n",
    "        del result[0]\n",
    "        bisect.insort(result, -v)\n",
    "    output = [v**2 for v in result]\n",
    "    return output"
   ]
  },
  {
   "cell_type": "code",
   "execution_count": 43,
   "metadata": {},
   "outputs": [
    {
     "data": {
      "text/plain": [
       "[1, 4, 16, 25, 25, 121]"
      ]
     },
     "execution_count": 43,
     "metadata": {},
     "output_type": "execute_result"
    }
   ],
   "source": [
    "A = [-11,-1,2,4,5,5]\n",
    "sosa(A)"
   ]
  },
  {
   "cell_type": "code",
   "execution_count": 9,
   "metadata": {
    "collapsed": true
   },
   "outputs": [],
   "source": [
    "def otherSolution(A):\n",
    "    return sorted([v**2 for v in A])"
   ]
  },
  {
   "cell_type": "code",
   "execution_count": 16,
   "metadata": {},
   "outputs": [
    {
     "data": {
      "text/plain": [
       "[4, 9, 9, 25]"
      ]
     },
     "execution_count": 16,
     "metadata": {},
     "output_type": "execute_result"
    }
   ],
   "source": [
    "otherSolution([-3,-3,2,5])"
   ]
  },
  {
   "cell_type": "code",
   "execution_count": 38,
   "metadata": {},
   "outputs": [
    {
     "name": "stdout",
     "output_type": "stream",
     "text": [
      "[1, 2, 4, 5, 5]\n",
      "[2, 4, 5, 5]\n",
      "[4, 5, 5]\n",
      "[5, 5]\n",
      "[5]\n",
      "[]\n"
     ]
    }
   ],
   "source": [
    "A = [-11,-1,2,4,5,5]\n",
    "result = A[:]\n",
    "for i in A:\n",
    "    result.pop(0)\n",
    "    print(result)"
   ]
  },
  {
   "cell_type": "code",
   "execution_count": 28,
   "metadata": {},
   "outputs": [
    {
     "name": "stdout",
     "output_type": "stream",
     "text": [
      "[1, 2, 4, 5, 5]\n"
     ]
    }
   ],
   "source": [
    "A = [1,1,2,4,5,5]\n",
    "A.pop(0)\n",
    "print(A)"
   ]
  }
 ],
 "metadata": {
  "kernelspec": {
   "display_name": "Python 3",
   "language": "python",
   "name": "python3"
  },
  "language_info": {
   "codemirror_mode": {
    "name": "ipython",
    "version": 3
   },
   "file_extension": ".py",
   "mimetype": "text/x-python",
   "name": "python",
   "nbconvert_exporter": "python",
   "pygments_lexer": "ipython3",
   "version": "3.6.2"
  }
 },
 "nbformat": 4,
 "nbformat_minor": 2
}
