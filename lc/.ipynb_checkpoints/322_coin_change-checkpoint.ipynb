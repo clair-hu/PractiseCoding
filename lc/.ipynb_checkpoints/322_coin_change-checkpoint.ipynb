{
 "cells": [
  {
   "cell_type": "code",
   "execution_count": null,
   "metadata": {},
   "outputs": [],
   "source": [
    "class Solution:\n",
    "    def coinChange(self, coins, amount):\n",
    "        if amount <= 0:\n",
    "            return 0\n",
    "        \n",
    "        dp = [0] + [float('inf')] * amount\n",
    "        for coin in coins:\n",
    "            if coin <= amount:\n",
    "                dp[coin] = 1\n",
    "        \n",
    "        for i in range(amount+1):\n",
    "            for coin in coins:\n",
    "                if i>=coin:\n",
    "                    dp[i] = min(dp[i-coin]+1, dp[i])\n",
    "        d = dp[-1] if dp[-1] != float('inf') else -1\n",
    "        print(d)\n",
    "        return d\n",
    "            \n",
    "        \n",
    "def test(coins, amount):\n",
    "    dp = [0] + [float('inf')] * amount\n",
    "    print(dp)\n",
    "    \n",
    "test(1, 4)\n",
    "\n",
    "s = Solution()\n",
    "s.coinChange([1, 2, 5], 11)"
   ]
  }
 ],
 "metadata": {
  "kernelspec": {
   "display_name": "Python 3",
   "language": "python",
   "name": "python3"
  },
  "language_info": {
   "codemirror_mode": {
    "name": "ipython",
    "version": 3
   },
   "file_extension": ".py",
   "mimetype": "text/x-python",
   "name": "python",
   "nbconvert_exporter": "python",
   "pygments_lexer": "ipython3",
   "version": "3.7.3"
  }
 },
 "nbformat": 4,
 "nbformat_minor": 2
}
