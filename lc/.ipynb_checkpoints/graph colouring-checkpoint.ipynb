{
 "cells": [
  {
   "cell_type": "code",
   "execution_count": null,
   "metadata": {},
   "outputs": [],
   "source": [
    "class Graph():\n",
    "    def __init__(self, vertices):\n",
    "        self.V = vertices\n",
    "        self.graph  = [[0 for col in range(vertices)] for row in range(vertices)]\n",
    "        \n",
    "    def isSafe(self, v, colour, c):\n",
    "        for i in range(self.V):\n",
    "            if self.graph[v][i] == 1 and colour[i] == c:\n",
    "                return False\n",
    "        return True\n",
    "\n",
    "    def graphColourUtil(self, m, colour, v):\n",
    "        if v == self.V:\n",
    "#                 hit the upperbound of vertices\n",
    "            return True\n",
    "        for c in range(1, m+1):\n",
    "            if self.isSafe(v, colour, c) == True:\n",
    "                colour[v] = c\n",
    "                if self.graphColourUtil(m, colour, v+1) == True:\n",
    "                    return True\n",
    "                colour[v] = 0\n",
    "\n",
    "    def graphColouring(self, m):\n",
    "        colour = [0] * self.V\n",
    "        if self.graphColourUtil(m, colour, 0) == None:\n",
    "            return False\n",
    "        for c in colour:\n",
    "            print (c)\n",
    "        return True\n",
    "        \n",
    "        \n",
    "g  = Graph(4) \n",
    "g.graph = [[0,1,1,1], [1,0,1,0], [1,1,0,1], [1,0,1,0]] \n",
    "m=3\n",
    "g.graphColouring(m) "
   ]
  }
 ],
 "metadata": {
  "kernelspec": {
   "display_name": "Python 3",
   "language": "python",
   "name": "python3"
  },
  "language_info": {
   "codemirror_mode": {
    "name": "ipython",
    "version": 3
   },
   "file_extension": ".py",
   "mimetype": "text/x-python",
   "name": "python",
   "nbconvert_exporter": "python",
   "pygments_lexer": "ipython3",
   "version": "3.7.3"
  }
 },
 "nbformat": 4,
 "nbformat_minor": 2
}
