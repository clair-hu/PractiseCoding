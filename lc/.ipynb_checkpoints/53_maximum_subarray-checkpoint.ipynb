{
 "cells": [
  {
   "cell_type": "code",
   "execution_count": null,
   "metadata": {},
   "outputs": [],
   "source": [
    "class Solution:\n",
    "    def maxSubArray(self, nums: List[int]) -> int:\n",
    "        \n",
    "        l = 0\n",
    "        r = len(nums) - 1\n",
    "        \n",
    "        def dc(nums, l, r):\n",
    "            if l > r:\n",
    "                return -2 ** 63\n",
    "            m = l + (r - l) // 2\n",
    "            ml = mr = 0\n",
    "            lmax = dc(nums, l, m - 1)\n",
    "            rmax = dc(nums, m + 1, r)\n",
    "            csum = 0\n",
    "            for i in range(m - 1, l - 1, -1):\n",
    "                csum += nums[i]\n",
    "                ml = max(csum, ml)\n",
    "            csum = 0\n",
    "            for i in range(m + 1, r + 1):\n",
    "                csum += nums[i]\n",
    "                mr = max(csum, mr)\n",
    "            return max(max(lmax, rmax), ml + mr + nums[m])\n",
    "        \n",
    "        return dc(nums, l, r)\n",
    "        \n",
    "        \n",
    "        # maxSum = prev = nums[0]\n",
    "        # for i in nums[1:]:\n",
    "        #     prev = max(prev + i, i)\n",
    "        #     maxSum = max(maxSum, prev)\n",
    "        # return maxSum"
   ]
  }
 ],
 "metadata": {
  "kernelspec": {
   "display_name": "Python 3",
   "language": "python",
   "name": "python3"
  },
  "language_info": {
   "codemirror_mode": {
    "name": "ipython",
    "version": 3
   },
   "file_extension": ".py",
   "mimetype": "text/x-python",
   "name": "python",
   "nbconvert_exporter": "python",
   "pygments_lexer": "ipython3",
   "version": "3.7.3"
  }
 },
 "nbformat": 4,
 "nbformat_minor": 2
}
