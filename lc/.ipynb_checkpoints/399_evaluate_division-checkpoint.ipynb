{
 "cells": [
  {
   "cell_type": "code",
   "execution_count": null,
   "metadata": {},
   "outputs": [],
   "source": [
    "class Solution:\n",
    "    def calcEquation(self, equations, values, queries):\n",
    "        import collections\n",
    "        g = collections.defaultdict(list)\n",
    "        \n",
    "        for i in range(len(equations)):\n",
    "            v1 = equations[i][0]\n",
    "            v2 = equations[i][1]\n",
    "            ans = values[i]\n",
    "            g[v1] += [(v2, ans)]\n",
    "            g[v2] += [(v1, 1/ans)]\n",
    "            \n",
    "        print(g)\n",
    "        \n",
    "        def dfsSearch(root, des, path, v):\n",
    "            if not root:\n",
    "                return None\n",
    "            for a in g[root]:\n",
    "                v2 = a[0]\n",
    "                ans = a[1]\n",
    "                if v2 == des:\n",
    "                    return path * ans\n",
    "                elif v2 not in v:\n",
    "                    v[v2] = True\n",
    "                    an = dfsSearch(v2, des, path * ans, v)\n",
    "                    if an:\n",
    "                        return an\n",
    "            return None\n",
    "        \n",
    "        output = []\n",
    "        for root, des in queries:\n",
    "            ans = dfsSearch(root, des, 1, {})\n",
    "            if ans:\n",
    "                output.append(ans)\n",
    "            else:\n",
    "                output.append(-1)\n",
    "        print(output)\n",
    "        return output\n",
    "\n",
    "a = Solution()\n",
    "a.calcEquation([[\"a\",\"b\"],[\"b\",\"c\"]], [2.0,3.0], [[\"a\",\"c\"],[\"b\",\"a\"],[\"a\",\"e\"],[\"a\",\"a\"],[\"x\",\"x\"]])"
   ]
  },
  {
   "cell_type": "code",
   "execution_count": 5,
   "metadata": {},
   "outputs": [
    {
     "ename": "IndentationError",
     "evalue": "expected an indented block (<ipython-input-5-1492b5f2220f>, line 10)",
     "output_type": "error",
     "traceback": [
      "\u001b[1;36m  File \u001b[1;32m\"<ipython-input-5-1492b5f2220f>\"\u001b[1;36m, line \u001b[1;32m10\u001b[0m\n\u001b[1;33m    for i, pair in enumerate(equations):\u001b[0m\n\u001b[1;37m      ^\u001b[0m\n\u001b[1;31mIndentationError\u001b[0m\u001b[1;31m:\u001b[0m expected an indented block\n"
     ]
    }
   ],
   "source": [
    "def parseEquationsAndValues(equations, values, queries):\n",
    "    items = [equations[0][0], equationso[0][1]]\n",
    "    dics = {\n",
    "        equations[0][0] : 0, \n",
    "        equations[0][1] : 1 \n",
    "           }\n",
    "    i = 1\n",
    "    while i < len(equations):\n",
    "        a,b = equations[i]\n",
    "        if a in dics\n",
    "        \n",
    "        \n",
    "        i += 1\n",
    "        "
   ]
  },
  {
   "cell_type": "code",
   "execution_count": 4,
   "metadata": {},
   "outputs": [
    {
     "name": "stdout",
     "output_type": "stream",
     "text": [
      "a\n",
      "b\n"
     ]
    }
   ],
   "source": []
  }
 ],
 "metadata": {
  "kernelspec": {
   "display_name": "Python 3",
   "language": "python",
   "name": "python3"
  },
  "language_info": {
   "codemirror_mode": {
    "name": "ipython",
    "version": 3
   },
   "file_extension": ".py",
   "mimetype": "text/x-python",
   "name": "python",
   "nbconvert_exporter": "python",
   "pygments_lexer": "ipython3",
   "version": "3.7.3"
  }
 },
 "nbformat": 4,
 "nbformat_minor": 2
}
