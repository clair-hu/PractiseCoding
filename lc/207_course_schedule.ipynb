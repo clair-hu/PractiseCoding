{
 "cells": [
  {
   "cell_type": "code",
   "execution_count": null,
   "metadata": {},
   "outputs": [],
   "source": [
    "class Solution:\n",
    "    def canFinish(self, numCourses, prerequisites):\n",
    "        graph = [[] for _ in range(numCourses)]        \n",
    "        for x, y in prerequisites:\n",
    "            graph[x].append(y)\n",
    "            \n",
    "        self.visited = {}\n",
    "        for i in range(numCourses):\n",
    "            if i in self.visited:\n",
    "                continue\n",
    "            if not self.dfs(graph, i):\n",
    "                return False\n",
    "        return True\n",
    "    \n",
    "    def dfs(self, graph, c):\n",
    "        if c in self.visited:\n",
    "            if self.visited[c] == 0:\n",
    "                return False\n",
    "            else:\n",
    "                return True\n",
    "        self.visited[c] = 0\n",
    "        for need in graph[c]:\n",
    "            if not self.dfs(graph, need):\n",
    "                return False\n",
    "        self.visited[c] = 1\n",
    "        return True\n",
    "#         import collections\n",
    "#         g = collections.defaultdict(list)\n",
    "        \n",
    "#         for post, pre in prerequisites:\n",
    "#             if pre in g:\n",
    "#                 if post in g[pre]:\n",
    "#                     return False\n",
    "#             g[post].append(pre)\n",
    "            \n",
    "#         for i in range(numCourses):\n",
    "#             seen = set()\n",
    "#             if not self.dfs(i, g, seen):\n",
    "#                 return False\n",
    "#         return True\n",
    "#     def dfs(self, cur, g, seen):\n",
    "#         if cur in seen:\n",
    "#             return False\n",
    "#         seen.add(cur)\n",
    "#         for nei in g[cur]:\n",
    "#             if not self.dfs(nei, g, seen):\n",
    "#                 return False\n",
    "#         seen.remove()\n",
    "#         return True\n",
    "    \n",
    "    \n",
    "s = Solution()\n",
    "a = s.canFinish(2, [[1,0],[0,1]])\n",
    "print(a)\n",
    "\n",
    "\n"
   ]
  }
 ],
 "metadata": {
  "kernelspec": {
   "display_name": "Python 3",
   "language": "python",
   "name": "python3"
  },
  "language_info": {
   "codemirror_mode": {
    "name": "ipython",
    "version": 3
   },
   "file_extension": ".py",
   "mimetype": "text/x-python",
   "name": "python",
   "nbconvert_exporter": "python",
   "pygments_lexer": "ipython3",
   "version": "3.7.3"
  }
 },
 "nbformat": 4,
 "nbformat_minor": 2
}
