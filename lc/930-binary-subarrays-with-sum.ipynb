{
 "cells": [
  {
   "cell_type": "code",
   "execution_count": 4,
   "metadata": {},
   "outputs": [],
   "source": [
    "from collections import defaultdict\n",
    "def numSubarraysWithSum(nums, goal):\n",
    "    freq = defaultdict(int)\n",
    "    freq[0] = 1\n",
    "    sum = 0\n",
    "    res = 0\n",
    "    for item in nums:\n",
    "        sum += item\n",
    "        if sum >= goal:\n",
    "            res += freq[sum - goal]\n",
    "        freq[sum] += 1\n",
    "    return res"
   ]
  },
  {
   "cell_type": "code",
   "execution_count": 7,
   "metadata": {},
   "outputs": [
    {
     "data": {
      "text/plain": [
       "1"
      ]
     },
     "execution_count": 7,
     "metadata": {},
     "output_type": "execute_result"
    }
   ],
   "source": [
    "numSubarraysWithSum([0], 0)"
   ]
  },
  {
   "cell_type": "code",
   "execution_count": 16,
   "metadata": {},
   "outputs": [],
   "source": [
    "# time exceeded\n",
    "def numSubarraysWithSum(nums, goal):\n",
    "    res = 0\n",
    "\n",
    "    for l in range(len(nums)):\n",
    "        for r in range(l+1, len(nums)+1):\n",
    "            if sum(nums[l:r]) == goal:\n",
    "                res += 1\n",
    "    return res"
   ]
  },
  {
   "cell_type": "code",
   "execution_count": 17,
   "metadata": {},
   "outputs": [
    {
     "data": {
      "text/plain": [
       "15"
      ]
     },
     "execution_count": 17,
     "metadata": {},
     "output_type": "execute_result"
    }
   ],
   "source": [
    "# nums_0 = [1,0,1,0,1]\n",
    "# goal_0 = 2\n",
    "# numSubarraysWithSum(nums_0, goal_0)\n",
    "\n",
    "nums_1 = [0,0,0,0,0]\n",
    "goal_1 = 0\n",
    "numSubarraysWithSum(nums_1, goal_1)"
   ]
  },
  {
   "cell_type": "code",
   "execution_count": null,
   "metadata": {},
   "outputs": [],
   "source": [
    "def numSubarraysWithSum(nums, goal):\n",
    "    dp = defaultdict(int)\n",
    "    dp[0] = 1\n",
    "    sum = 0\n",
    "    res = 0\n",
    "    for i in range(len(nums)):\n",
    "        sum += nums[i]\n",
    "        if sum >= goal:\n",
    "            res += dp[sum-goal]\n",
    "        dp[sum] += 1\n",
    "    return res\n"
   ]
  }
 ],
 "metadata": {
  "kernelspec": {
   "display_name": "Python 3",
   "language": "python",
   "name": "python3"
  },
  "language_info": {
   "codemirror_mode": {
    "name": "ipython",
    "version": 3
   },
   "file_extension": ".py",
   "mimetype": "text/x-python",
   "name": "python",
   "nbconvert_exporter": "python",
   "pygments_lexer": "ipython3",
   "version": "3.9.6"
  }
 },
 "nbformat": 4,
 "nbformat_minor": 2
}
