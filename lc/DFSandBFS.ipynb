{
 "cells": [
  {
   "cell_type": "code",
   "execution_count": 78,
   "metadata": {},
   "outputs": [],
   "source": [
    "from collections import defaultdict\n",
    "class Graph:\n",
    "    def __init__(self):\n",
    "        self.graph = defaultdict(list)\n",
    "        \n",
    "    def addEdge(self, u ,v):\n",
    "        self.graph[u].append(v)\n",
    "    \n",
    "    def DFS(self, s):\n",
    "        visited = [False] * len(self.graph)\n",
    "        output = []\n",
    "        self.DFSUtil(s, visited, output)\n",
    "        return output\n",
    "    \n",
    "    def DFSUtil(self, s, visited, output):\n",
    "        if visited[s] == False:\n",
    "            visited[s] = True\n",
    "            output.append(s)\n",
    "            for n in self.graph[s]:\n",
    "                self.DFSUtil(n, visited, output)\n",
    "        return output\n",
    "    \n",
    "    def BFS(self, s):\n",
    "        visited = [False] * len(self.graph)\n",
    "        visited[s] = True\n",
    "        queue = [s]\n",
    "        output = [s]\n",
    "        while queue:\n",
    "            next = queue.pop(0)\n",
    "            for n in self.graph[next]:\n",
    "                if visited[n] == False:\n",
    "                    queue.append(n)\n",
    "                    output.append(n)\n",
    "                    visited[n] = True\n",
    "        return output"
   ]
  },
  {
   "cell_type": "code",
   "execution_count": 79,
   "metadata": {
    "collapsed": true
   },
   "outputs": [],
   "source": [
    "g = Graph() \n",
    "g.addEdge(0, 1) \n",
    "g.addEdge(0, 2) \n",
    "g.addEdge(1, 2) \n",
    "g.addEdge(2, 0) \n",
    "g.addEdge(2, 3) \n",
    "g.addEdge(3, 3) "
   ]
  },
  {
   "cell_type": "code",
   "execution_count": 80,
   "metadata": {},
   "outputs": [
    {
     "name": "stdout",
     "output_type": "stream",
     "text": [
      "[2, 0, 1, 3]\n",
      "[2, 0, 3, 1]\n"
     ]
    }
   ],
   "source": [
    "output = g.DFS(2)\n",
    "print(output)\n",
    "output2 = g.BFS(2)\n",
    "print(output2)"
   ]
  },
  {
   "cell_type": "code",
   "execution_count": 99,
   "metadata": {
    "collapsed": true
   },
   "outputs": [],
   "source": [
    "from collections import defaultdict\n",
    "class nonDirectedGraph:\n",
    "    def __init__(self):\n",
    "        self.graph = defaultdict(set)\n",
    "    def addEdge(self, u, v):\n",
    "        self.graph[u].add(v)\n",
    "        self.graph[v].add(u)\n",
    "    def redundantConnection(self, edges):\n",
    "        for u, v in edges:\n",
    "            seen = set()\n",
    "            if u in self.graph and v in self.graph and self.DFS(u, v, seen):\n",
    "                return u, v\n",
    "            self.addEdge(u, v)\n",
    "            \n",
    "    def DFS(self, source, target, seen):\n",
    "        if source not in seen:\n",
    "            seen.add(source)\n",
    "            if source == target:\n",
    "                return True\n",
    "            return any(self.DFS(next, target, seen) for next in self.graph[source])\n",
    "            "
   ]
  },
  {
   "cell_type": "code",
   "execution_count": 100,
   "metadata": {},
   "outputs": [],
   "source": [
    "g = nonDirectedGraph() "
   ]
  },
  {
   "cell_type": "code",
   "execution_count": 101,
   "metadata": {},
   "outputs": [
    {
     "data": {
      "text/plain": [
       "(1, 4)"
      ]
     },
     "execution_count": 101,
     "metadata": {},
     "output_type": "execute_result"
    }
   ],
   "source": [
    "g.redundantConnection([[1,2], [2,3], [3,4], [1,4], [1,5]])"
   ]
  }
 ],
 "metadata": {
  "kernelspec": {
   "display_name": "Python 3",
   "language": "python",
   "name": "python3"
  },
  "language_info": {
   "codemirror_mode": {
    "name": "ipython",
    "version": 3
   },
   "file_extension": ".py",
   "mimetype": "text/x-python",
   "name": "python",
   "nbconvert_exporter": "python",
   "pygments_lexer": "ipython3",
   "version": "3.6.2"
  }
 },
 "nbformat": 4,
 "nbformat_minor": 2
}
