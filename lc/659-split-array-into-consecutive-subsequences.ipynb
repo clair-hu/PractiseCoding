{
 "cells": [
  {
   "cell_type": "code",
   "execution_count": 5,
   "metadata": {},
   "outputs": [],
   "source": [
    "from collections import defaultdict\n",
    "from heapq import heappop, heappush, heapify\n",
    "def isPossible(nums):\n",
    "    tails = defaultdict(list)\n",
    "\n",
    "    for n in nums:\n",
    "        if tails[n-1]:\n",
    "            heappush(tails[n], heappop(tails[n-1]) + 1)\n",
    "        else:\n",
    "            heappush(tails[n], 1)\n",
    "\n",
    "    return all(\n",
    "        length >= 3\n",
    "        for tail in tails.values()\n",
    "        for length in tail\n",
    "    )"
   ]
  },
  {
   "cell_type": "code",
   "execution_count": 7,
   "metadata": {},
   "outputs": [
    {
     "name": "stdout",
     "output_type": "stream",
     "text": [
      "[]\n",
      "[]\n",
      "[]\n",
      "[]\n",
      "[]\n",
      "[5]\n",
      "[3]\n"
     ]
    },
    {
     "data": {
      "text/plain": [
       "True"
      ]
     },
     "execution_count": 7,
     "metadata": {},
     "output_type": "execute_result"
    }
   ],
   "source": [
    "nums_0 = [1,2,3,4,4,5,5,6]\n",
    "isPossible(nums_0)"
   ]
  }
 ],
 "metadata": {
  "kernelspec": {
   "display_name": "Python 3",
   "language": "python",
   "name": "python3"
  },
  "language_info": {
   "codemirror_mode": {
    "name": "ipython",
    "version": 3
   },
   "file_extension": ".py",
   "mimetype": "text/x-python",
   "name": "python",
   "nbconvert_exporter": "python",
   "pygments_lexer": "ipython3",
   "version": "3.9.6"
  }
 },
 "nbformat": 4,
 "nbformat_minor": 2
}
