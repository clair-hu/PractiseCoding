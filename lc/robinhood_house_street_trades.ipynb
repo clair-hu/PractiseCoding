{
 "cells": [
  {
   "cell_type": "code",
   "execution_count": 8,
   "metadata": {},
   "outputs": [],
   "source": [
    "from collections import Counter\n",
    "def exact_match(house_trades, street_trades):\n",
    "    house_counts = Counter(house_trades)\n",
    "    street_counts = Counter(street_trades)\n",
    "    trades = set()\n",
    "    trades.update(house_counts.keys())\n",
    "    trades.update(street_counts.keys())\n",
    "    res = {}\n",
    "\n",
    "    for trade in trades:\n",
    "        if trade in house_counts and trade in street_counts:\n",
    "            matched = min(house_counts[trade], street_counts[trade])\n",
    "            house_counts[trade] -= matched\n",
    "            street_counts[trade] -= matched\n",
    "            res[trade] = abs(house_counts[trade] - street_counts[trade])\n",
    "        elif trade in house_counts and trade not in street_counts:\n",
    "            res[trade] = house_counts[trade]\n",
    "        else:\n",
    "            res[trade] = street_counts[trade]\n",
    "    \n",
    "    res = {key: count for key, count in sorted(res.items(), key=lambda item: item[0].strip())}\n",
    "    res_list = []\n",
    "    for key, count in res.items():\n",
    "        res_list.extend([key for _ in range(count)])\n",
    "\n",
    "    return res_list"
   ]
  },
  {
   "cell_type": "code",
   "execution_count": 9,
   "metadata": {},
   "outputs": [
    {
     "data": {
      "text/plain": [
       "['AAPL,B,0100,ABC123',\n",
       " 'AAPL,B,0100,ABC123',\n",
       " ' FB,B,0100,GBGGGG',\n",
       " 'GOOG,S,0050,CDC333']"
      ]
     },
     "execution_count": 9,
     "metadata": {},
     "output_type": "execute_result"
    }
   ],
   "source": [
    "house_trade_0 = [\"AAPL,B,0100,ABC123\",\"AAPL,B,0100,ABC123\",\"AAPL,B,0100,ABC123\",\"GOOG,S,0050,CDC333\"]\n",
    "street_trade_0 = [ \" FB,B,0100,GBGGGG\",\"AAPL,B,0100,ABC123\"]\n",
    "\n",
    "exact_match(house_trade_0, street_trade_0)\n"
   ]
  },
  {
   "cell_type": "code",
   "execution_count": null,
   "metadata": {},
   "outputs": [],
   "source": [
    "from collections import defaultdict\n",
    "def exact_match(house_counts, street_counts):\n",
    "    for trade in trades:\n",
    "        if trade in house_counts and trade in street_counts:\n",
    "            matched = min(house_counts[trade], street_counts[trade])\n",
    "            house_counts[trade] -= matched\n",
    "            street_counts[trade] -= matched\n",
    "    \n",
    "\n",
    "def fuzzy_match(house_trades, street_trades):\n",
    "    house_counts = Counter(house_trades)\n",
    "    street_counts = Counter(street_trades)\n",
    "    trades = set()\n",
    "    trades.update(house_counts.keys())\n",
    "    trades.update(street_counts.keys())\n",
    "    res = {}\n",
    "    exact_match(house_trades, street_trades)\n",
    "    fuzzy_house_trades = defaultdict(list)\n",
    "    for trade, count in house_counts.items():\n",
    "        if count != 0:\n",
    "            key = trade[:-7]\n",
    "            fuzzy_house_trades[key].extend([trade for _ in range(count)])\n",
    "    fuzzy_street_trades = defaultdict(list)\n",
    "    for trade, count in street_counts.items():\n",
    "        if count != 0:\n",
    "            key = trade[:-7]\n",
    "            fuzzy_street_trades[key].extend([trade for _ in range(count)])\n",
    "    \n",
    "    # house: \"AAPL,B,0100,BCD123\", \"AAPL,B,0100,ABC123\",\n",
    "    # street: \"AAPL,B,0100,XYZ123\",\n",
    "    # fuzzy_house_trades = {\"AAPL,B,0100\": [\"AAPL,B,0100,BCD123\", \"AAPL,B,0100,ABC123\"]}\n",
    "    # \n",
    "    for trade in fuzzy_house_trades.keys():\n",
    "        if trade in fuzzy_street_trades:\n",
    "            matched = min(len(fuzzy_house_trades[trade]), len(fuzzy_street_trades[trade]))\n",
    "\n",
    "            fuzzy_street_trades[trade] = sorted(fuzzy_street_trades[trade])[matched:]\n",
    "            fuzzy_house_trades[trade] = sorted(fuzzy_house_trades[trade])[matched:]\n"
   ]
  },
  {
   "cell_type": "code",
   "execution_count": null,
   "metadata": {},
   "outputs": [],
   "source": [
    "def fuzzy_match(house_trades, street_trades):\n",
    "    house_trades.sort()\n",
    "    street_trades.sort()\n",
    "    hi, si = 0, 0\n",
    "    "
   ]
  },
  {
   "cell_type": "code",
   "execution_count": 45,
   "metadata": {},
   "outputs": [],
   "source": [
    "from collections import Counter\n",
    "class Match:\n",
    "    def __init__(self, house_trades, street_trades):\n",
    "        self.house_cnt = Counter(house_trades)\n",
    "        self.street_cnt = Counter(street_trades)\n",
    "        print(\"initial house\", self.house_cnt)\n",
    "        print(\"initial street\", self.street_cnt)\n",
    "\n",
    "    def compose_result(self):\n",
    "        res = []\n",
    "        for trade, cnt in self.house_cnt.items():\n",
    "            if cnt != 0:\n",
    "                res.append(trade)\n",
    "        for trade, cnt in self.street_cnt.items():\n",
    "            if cnt != 0:\n",
    "                res.append(trade)\n",
    "        return sorted(res)\n",
    "\n",
    "\n",
    "    def exact_match(self):\n",
    "        for house, hc in sorted(self.house_cnt.items()):\n",
    "            for street, sc in sorted(self.street_cnt.items()):\n",
    "                if house == street:\n",
    "                    to_match = min(hc, sc)\n",
    "                    self.house_cnt[house] -= to_match\n",
    "                    self.street_cnt[street] -= to_match\n",
    "                    continue\n",
    "        print(\"after exact\", self.house_cnt)\n",
    "        print(\"after exact\", self.street_cnt)\n",
    "    \n",
    "    def fuzzy_match(self):\n",
    "        def fuzzy_equal(s1, s2):\n",
    "            s1_list = s1.split(\",\")[:-1]\n",
    "            s1_no_id = \",\".join(s1_list)\n",
    "            s2_list = s2.split(\",\")[:-1]\n",
    "            s2_no_id = \",\".join(s2_list)\n",
    "            return s1_no_id == s2_no_id\n",
    "        \n",
    "        for house, hc in sorted(self.house_cnt.items()):\n",
    "            for street, sc in sorted(self.street_cnt.items()):\n",
    "                if fuzzy_equal(house, street):\n",
    "                    to_match = min(hc, sc)\n",
    "                    self.house_cnt[house] -= to_match\n",
    "                    self.street_cnt[street] -= to_match\n",
    "\n",
    "        print(\"after fuzzy\", self.house_cnt)\n",
    "        print(\"after fuzzy\", self.street_cnt)\n",
    "\n",
    "    def offset_match(self):\n",
    "        def offset_equal(s1, s2):\n",
    "            s1_list = s1.split(\",\")\n",
    "            s1_offset = s1_list[0] + \",\" + s1_list[2]\n",
    "            s1_type = s1_list[1]\n",
    "            s2_list = s2.split(\",\")\n",
    "            s2_offset = s2_list[0] + \",\" + s2_list[2]\n",
    "            s2_type = s2_list[1]\n",
    "            return s1_type != s2_type and s1_offset == s2_offset\n",
    "        \n",
    "        def run_offset(cnt):\n",
    "            keys = list(cnt.keys())\n",
    "            for i in range(len(keys)):\n",
    "                for j in range(i+1, len(keys)):\n",
    "                    if offset_equal(keys[i], keys[j]):\n",
    "                        to_match = min(cnt[keys[i]], cnt[keys[j]])\n",
    "                        cnt[keys[i]] -= to_match\n",
    "                        cnt[keys[j]] -= to_match\n",
    "        run_offset(self.house_cnt)\n",
    "        run_offset(self.street_cnt)\n",
    "        print(\"after offset\", self.house_cnt)\n",
    "        print(\"after offset\", self.street_cnt)\n",
    "\n",
    "\n"
   ]
  },
  {
   "cell_type": "code",
   "execution_count": 46,
   "metadata": {},
   "outputs": [
    {
     "name": "stdout",
     "output_type": "stream",
     "text": [
      "initial house Counter({'AAPL,S,0010,ZYX445': 1, 'AAPL,S,0019,ZYX446': 1, 'AAPL,B,0010,ABC123': 1, 'GOOG,S,0050,GHG545': 1, 'AAPL,B,0019,ZYX456': 1})\n",
      "initial street Counter({'GOOG,S,0050,GHG545': 1, 'AAPL,S,0010,ZYX444': 1, 'AAPL,B,0010,TTT222': 1})\n",
      "after exact Counter({'AAPL,S,0010,ZYX445': 1, 'AAPL,S,0019,ZYX446': 1, 'AAPL,B,0010,ABC123': 1, 'AAPL,B,0019,ZYX456': 1, 'GOOG,S,0050,GHG545': 0})\n",
      "after exact Counter({'AAPL,S,0010,ZYX444': 1, 'AAPL,B,0010,TTT222': 1, 'GOOG,S,0050,GHG545': 0})\n",
      "initial house Counter({'AAPL,S,0010,ZYX445': 1, 'AAPL,S,0019,ZYX446': 1, 'AAPL,B,0010,ABC123': 1, 'GOOG,S,0050,GHG545': 1, 'AAPL,B,0019,ZYX456': 1})\n",
      "initial street Counter({'GOOG,S,0050,GHG545': 1, 'AAPL,S,0010,ZYX444': 1, 'AAPL,B,0010,TTT222': 1})\n",
      "after exact Counter({'AAPL,S,0010,ZYX445': 1, 'AAPL,S,0019,ZYX446': 1, 'AAPL,B,0010,ABC123': 1, 'AAPL,B,0019,ZYX456': 1, 'GOOG,S,0050,GHG545': 0})\n",
      "after exact Counter({'AAPL,S,0010,ZYX444': 1, 'AAPL,B,0010,TTT222': 1, 'GOOG,S,0050,GHG545': 0})\n",
      "after fuzzy Counter({'AAPL,S,0019,ZYX446': 1, 'AAPL,B,0019,ZYX456': 1, 'AAPL,S,0010,ZYX445': 0, 'AAPL,B,0010,ABC123': 0, 'GOOG,S,0050,GHG545': 0})\n",
      "after fuzzy Counter({'GOOG,S,0050,GHG545': 0, 'AAPL,S,0010,ZYX444': 0, 'AAPL,B,0010,TTT222': 0})\n",
      "initial house Counter({'AAPL,S,0010,ZYX445': 1, 'AAPL,S,0019,ZYX446': 1, 'AAPL,B,0010,ABC123': 1, 'GOOG,S,0050,GHG545': 1, 'AAPL,B,0019,ZYX456': 1})\n",
      "initial street Counter({'GOOG,S,0050,GHG545': 1, 'AAPL,S,0010,ZYX444': 1, 'AAPL,B,0010,TTT222': 1})\n",
      "after exact Counter({'AAPL,S,0010,ZYX445': 1, 'AAPL,S,0019,ZYX446': 1, 'AAPL,B,0010,ABC123': 1, 'AAPL,B,0019,ZYX456': 1, 'GOOG,S,0050,GHG545': 0})\n",
      "after exact Counter({'AAPL,S,0010,ZYX444': 1, 'AAPL,B,0010,TTT222': 1, 'GOOG,S,0050,GHG545': 0})\n",
      "after fuzzy Counter({'AAPL,S,0019,ZYX446': 1, 'AAPL,B,0019,ZYX456': 1, 'AAPL,S,0010,ZYX445': 0, 'AAPL,B,0010,ABC123': 0, 'GOOG,S,0050,GHG545': 0})\n",
      "after fuzzy Counter({'GOOG,S,0050,GHG545': 0, 'AAPL,S,0010,ZYX444': 0, 'AAPL,B,0010,TTT222': 0})\n",
      "after offset Counter({'AAPL,S,0010,ZYX445': 0, 'AAPL,S,0019,ZYX446': 0, 'AAPL,B,0010,ABC123': 0, 'GOOG,S,0050,GHG545': 0, 'AAPL,B,0019,ZYX456': 0})\n",
      "after offset Counter({'GOOG,S,0050,GHG545': 0, 'AAPL,S,0010,ZYX444': 0, 'AAPL,B,0010,TTT222': 0})\n"
     ]
    },
    {
     "data": {
      "text/plain": [
       "[]"
      ]
     },
     "execution_count": 46,
     "metadata": {},
     "output_type": "execute_result"
    }
   ],
   "source": [
    "def match(house_trades, street_trades, match_type):\n",
    "    m = Match(house_trades, street_trades)\n",
    "\n",
    "    if match_type==\"exact\":\n",
    "        m.exact_match()\n",
    "    elif match_type==\"fuzzy\":\n",
    "        m.exact_match()\n",
    "        m.fuzzy_match()\n",
    "    elif match_type==\"offset\":\n",
    "        m.exact_match()\n",
    "        m.fuzzy_match()\n",
    "        m.offset_match()\n",
    "    return m.compose_result()\n",
    "     \n",
    "    \n",
    "# house_trades_0 = [\"AAPL,B,0100,ABC123\", \"GOOG,S,0050,CDC333\",\"AAPL,S,0100,ABE123\",\"AAPL,B,0100,ABC123\"]\n",
    "# street_trades_0 = [\"  FB,B,0100,GBGGGG\", \"AAPL,B,0100,ABS123\"]\n",
    "# match(house_trades_0, street_trades_0, \"exact\")\n",
    "# match(house_trades_0, street_trades_0, \"fuzzy\")\n",
    "# match(house_trades_0, street_trades_0, \"offset\")\n",
    "\n",
    "# house_trades_1 = [\"AAPL,S,0010,ZYX445\", \"AAPL,S,0010,ZYX446\", \"AAPL,B,0010,ABC123\", \"GOOG,S,0050,GHG545\"]\n",
    "# street_trades_1 = [\"GOOG,S,0050,GHG545\", \"AAPL,S,0010,ZYX446\", \"AAPL,B,0010,ZYX445\"]\n",
    "# match(house_trades_1, street_trades_1, \"exact\")\n",
    "# match(house_trades_1, street_trades_1, \"fuzzy\")\n",
    "# match(house_trades_1, street_trades_1, \"offset\")\n",
    "\n",
    "house_trades_2 = [\"AAPL,S,0010,ZYX445\", \"AAPL,S,0019,ZYX446\", \"AAPL,B,0010,ABC123\", \"GOOG,S,0050,GHG545\", \"AAPL,B,0019,ZYX456\"]\n",
    "street_trades_2 = [\"GOOG,S,0050,GHG545\", \"AAPL,S,0010,ZYX444\", \"AAPL,B,0010,TTT222\"]\n",
    "match(house_trades_2, street_trades_2, \"exact\")\n",
    "match(house_trades_2, street_trades_2, \"fuzzy\")\n",
    "match(house_trades_2, street_trades_2, \"offset\")\n"
   ]
  },
  {
   "cell_type": "code",
   "execution_count": 12,
   "metadata": {},
   "outputs": [
    {
     "name": "stdout",
     "output_type": "stream",
     "text": [
      "{'a': 4, 'c': 3, 'b': 2}\n",
      "[('a', 4), ('b', 2), ('c', 3)]\n"
     ]
    }
   ],
   "source": [
    "a = {}\n",
    "a[\"a\"] = 4\n",
    "a[\"c\"] = 3\n",
    "a[\"b\"] = 2\n",
    "print(a)\n",
    "print(sorted(a.items()))"
   ]
  }
 ],
 "metadata": {
  "kernelspec": {
   "display_name": "Python 3",
   "language": "python",
   "name": "python3"
  },
  "language_info": {
   "codemirror_mode": {
    "name": "ipython",
    "version": 3
   },
   "file_extension": ".py",
   "mimetype": "text/x-python",
   "name": "python",
   "nbconvert_exporter": "python",
   "pygments_lexer": "ipython3",
   "version": "3.9.6"
  }
 },
 "nbformat": 4,
 "nbformat_minor": 2
}
