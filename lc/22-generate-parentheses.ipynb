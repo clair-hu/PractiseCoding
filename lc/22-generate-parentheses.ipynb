{
 "cells": [
  {
   "cell_type": "code",
   "execution_count": 2,
   "metadata": {},
   "outputs": [],
   "source": [
    "from collections import deque\n",
    "def generateParenthesis(n):\n",
    "    q = deque()\n",
    "    res = []\n",
    "    def rec(open_p, close_p):\n",
    "        if open_p == close_p == n:\n",
    "            res.append(\"\".join(q))\n",
    "            return\n",
    "        if open_p < n:\n",
    "            q.append(\"(\")\n",
    "            rec(open_p + 1, close_p)\n",
    "            q.pop()\n",
    "        if close_p < open_p:\n",
    "            q.append(\")\")\n",
    "            rec(open_p, close_p + 1)\n",
    "            q.pop()\n",
    "        \n",
    "    rec(0, 0)\n",
    "    return res"
   ]
  },
  {
   "cell_type": "code",
   "execution_count": 3,
   "metadata": {},
   "outputs": [
    {
     "data": {
      "text/plain": [
       "['((()))', '(()())', '(())()', '()(())', '()()()']"
      ]
     },
     "execution_count": 3,
     "metadata": {},
     "output_type": "execute_result"
    }
   ],
   "source": [
    "generateParenthesis(3)"
   ]
  },
  {
   "cell_type": "code",
   "execution_count": 1,
   "metadata": {},
   "outputs": [
    {
     "name": "stdout",
     "output_type": "stream",
     "text": [
      "sdfe\n"
     ]
    }
   ],
   "source": [
    "### with unit test\n",
    "from collections import deque\n",
    "def generateParenthesis(n):\n",
    "    q = deque()\n",
    "    res = []\n",
    "    def rec(open_p, close_p):\n",
    "        if open_p == close_p == n:\n",
    "            res.append(\"\".join(q))\n",
    "            return\n",
    "        if open_p < n:\n",
    "            q.append(\"(\")\n",
    "            rec(open_p + 1, close_p)\n",
    "            q.pop()\n",
    "        if close_p < open_p:\n",
    "            q.append(\")\")\n",
    "            rec(open_p, close_p + 1)\n",
    "            q.pop()\n",
    "        \n",
    "    rec(0, 0)\n",
    "    return res\n",
    "\n",
    "import unittest\n",
    "class UnitTest(unittest.TestCase):\n",
    "    def test_0(self):\n",
    "        n = 3\n",
    "        expected = ['()()()', '((()))', '(()())', '(())()', '()(())']\n",
    "        self.assertCountEqual(generateParenthesis(n), expected)\n",
    "\n",
    "if __name__ == \"__main__\":\n",
    "    unittest.main()"
   ]
  },
  {
   "cell_type": "code",
   "execution_count": 6,
   "metadata": {},
   "outputs": [],
   "source": [
    "from collections import deque\n",
    "def generateParenthesis_review(n):\n",
    "    q = deque()\n",
    "    res = []\n",
    "\n",
    "    def rec(open_p, close_p):\n",
    "        if open_p == close_p == n:\n",
    "            res.append(\"\".join(q))\n",
    "            return\n",
    "        if open_p < n:\n",
    "            q.append(\"(\")\n",
    "            rec(open_p + 1, close_p)\n",
    "            q.pop()\n",
    "        if close_p < open_p:\n",
    "            q.append(\")\")\n",
    "            rec(open_p, close_p)\n",
    "            q.pop()\n",
    "\n",
    "    rec(0, 0)\n",
    "    return res\n",
    "\n",
    "import unittest\n",
    "class UnitTest(unittest.TestCase):\n",
    "    def test_0(self):\n",
    "        n = 3\n",
    "        expected = ['()()()', '((()))', '(()())', '(())()', '()(())']\n",
    "        self.assertCountEqual(generateParenthesis(n), expected)\n",
    "\n",
    "u = UnitTest()\n",
    "u.test_0()"
   ]
  }
 ],
 "metadata": {
  "kernelspec": {
   "display_name": "Python 3",
   "language": "python",
   "name": "python3"
  },
  "language_info": {
   "codemirror_mode": {
    "name": "ipython",
    "version": 3
   },
   "file_extension": ".py",
   "mimetype": "text/x-python",
   "name": "python",
   "nbconvert_exporter": "python",
   "pygments_lexer": "ipython3",
   "version": "3.9.6"
  }
 },
 "nbformat": 4,
 "nbformat_minor": 2
}
