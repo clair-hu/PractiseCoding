{
 "cells": [
  {
   "cell_type": "code",
   "execution_count": 27,
   "metadata": {
    "collapsed": true
   },
   "outputs": [],
   "source": [
    "class node:\n",
    "    def __init__(self, v, l):\n",
    "        if v == None:\n",
    "            self = None\n",
    "        else:\n",
    "            self.val = v\n",
    "            self.level = l\n",
    "            self.left = None\n",
    "            self.right = None\n",
    "    def print_tree(self):\n",
    "        if self.left:\n",
    "            self.left.print_tree()\n",
    "        if self:\n",
    "            print(str(\" \" * 2* self.level) + str(self.val))\n",
    "        if self.right:\n",
    "            self.right.print_tree()"
   ]
  },
  {
   "cell_type": "code",
   "execution_count": 3,
   "metadata": {
    "collapsed": true
   },
   "outputs": [],
   "source": [
    "# def buildBST(val_list, curr_node, node_list):\n",
    "#     if len(val_list) == 0:\n",
    "#         return node_list\n",
    "#     if len(val_list) == 1:\n",
    "#         temp = node(val_list.pop())\n",
    "#         curr_node.left = temp\n",
    "#         node_list.append(temp)\n",
    "#         return node_list\n",
    "#     left = node(val_list.pop(0))\n",
    "#     right = node(val_list.pop(0))\n",
    "#     curr_node.left = left\n",
    "#     curr_node.right = right\n",
    "#     node_list.append(left)\n",
    "#     node_list.append(right)\n",
    "#     buildBST(val_list, curr_node.left, node_list)\n",
    "#     buildBST(curr_node.right)\n",
    "    \n",
    "    \n",
    "        "
   ]
  },
  {
   "cell_type": "code",
   "execution_count": 14,
   "metadata": {
    "collapsed": true
   },
   "outputs": [],
   "source": [
    "# def buildBST(input_list, curr_index, output_list):\n",
    "#     if curr_index == 0:\n",
    "#         temp = node(input_list[0])\n",
    "#         output_list.append(temp)\n",
    "#     t_index = 2 * curr_index + 1\n",
    "#     if t_index < len(input_list):\n",
    "#         temp = node(input_list[t_index])\n",
    "#         print(curr_index)\n",
    "#         print(len(output_list))\n",
    "#         output_list[curr_index].left = temp\n",
    "#         output_list.append(temp)\n",
    "#     else:\n",
    "#         return output_list\n",
    "#     t_index += 1\n",
    "#     if t_index < len(input_list):\n",
    "#         temp = node(input_list[t_index])\n",
    "#         output_list[curr_index].right = temp\n",
    "#         output_list.append(temp)\n",
    "#     else:\n",
    "#         return output_list\n",
    "#     print(\"left t_index is \" + str(t_index-1))\n",
    "#     output_list = buildBST(input_list, 2 * curr_index + 1, output_list)\n",
    "#     print(\"right t_index is \" + str(t_index))\n",
    "#     output_list = buildBST(input_list, 2 * curr_index + 2, output_list)\n",
    "    "
   ]
  },
  {
   "cell_type": "code",
   "execution_count": 15,
   "metadata": {},
   "outputs": [
    {
     "name": "stdout",
     "output_type": "stream",
     "text": [
      "0\n",
      "1\n",
      "left t_index is 1\n",
      "1\n",
      "3\n",
      "left t_index is 3\n",
      "3\n",
      "5\n",
      "right t_index is 4\n",
      "right t_index is 2\n",
      "2\n"
     ]
    },
    {
     "ename": "TypeError",
     "evalue": "object of type 'NoneType' has no len()",
     "output_type": "error",
     "traceback": [
      "\u001b[0;31m---------------------------------------------------------------------------\u001b[0m",
      "\u001b[0;31mTypeError\u001b[0m                                 Traceback (most recent call last)",
      "\u001b[0;32m<ipython-input-15-14e6c8ca5fc5>\u001b[0m in \u001b[0;36m<module>\u001b[0;34m\u001b[0m\n\u001b[0;32m----> 1\u001b[0;31m \u001b[0mbuildBST\u001b[0m\u001b[0;34m(\u001b[0m\u001b[0;34m[\u001b[0m\u001b[0;36m5\u001b[0m\u001b[0;34m,\u001b[0m\u001b[0;36m3\u001b[0m\u001b[0;34m,\u001b[0m\u001b[0;36m6\u001b[0m\u001b[0;34m,\u001b[0m\u001b[0;36m2\u001b[0m\u001b[0;34m,\u001b[0m\u001b[0;36m4\u001b[0m\u001b[0;34m,\u001b[0m\u001b[0;32mNone\u001b[0m\u001b[0;34m,\u001b[0m\u001b[0;32mNone\u001b[0m\u001b[0;34m,\u001b[0m\u001b[0;36m1\u001b[0m\u001b[0;34m]\u001b[0m\u001b[0;34m,\u001b[0m\u001b[0;36m0\u001b[0m\u001b[0;34m,\u001b[0m\u001b[0;34m[\u001b[0m\u001b[0;34m]\u001b[0m\u001b[0;34m)\u001b[0m\u001b[0;34m\u001b[0m\u001b[0;34m\u001b[0m\u001b[0m\n\u001b[0m",
      "\u001b[0;32m<ipython-input-14-c3911b192f41>\u001b[0m in \u001b[0;36mbuildBST\u001b[0;34m(input_list, curr_index, output_list)\u001b[0m\n\u001b[1;32m     22\u001b[0m     \u001b[0moutput_list\u001b[0m \u001b[0;34m=\u001b[0m \u001b[0mbuildBST\u001b[0m\u001b[0;34m(\u001b[0m\u001b[0minput_list\u001b[0m\u001b[0;34m,\u001b[0m \u001b[0;36m2\u001b[0m \u001b[0;34m*\u001b[0m \u001b[0mcurr_index\u001b[0m \u001b[0;34m+\u001b[0m \u001b[0;36m1\u001b[0m\u001b[0;34m,\u001b[0m \u001b[0moutput_list\u001b[0m\u001b[0;34m)\u001b[0m\u001b[0;34m\u001b[0m\u001b[0;34m\u001b[0m\u001b[0m\n\u001b[1;32m     23\u001b[0m     \u001b[0mprint\u001b[0m\u001b[0;34m(\u001b[0m\u001b[0;34m\"right t_index is \"\u001b[0m \u001b[0;34m+\u001b[0m \u001b[0mstr\u001b[0m\u001b[0;34m(\u001b[0m\u001b[0mt_index\u001b[0m\u001b[0;34m)\u001b[0m\u001b[0;34m)\u001b[0m\u001b[0;34m\u001b[0m\u001b[0;34m\u001b[0m\u001b[0m\n\u001b[0;32m---> 24\u001b[0;31m     \u001b[0moutput_list\u001b[0m \u001b[0;34m=\u001b[0m \u001b[0mbuildBST\u001b[0m\u001b[0;34m(\u001b[0m\u001b[0minput_list\u001b[0m\u001b[0;34m,\u001b[0m \u001b[0;36m2\u001b[0m \u001b[0;34m*\u001b[0m \u001b[0mcurr_index\u001b[0m \u001b[0;34m+\u001b[0m \u001b[0;36m2\u001b[0m\u001b[0;34m,\u001b[0m \u001b[0moutput_list\u001b[0m\u001b[0;34m)\u001b[0m\u001b[0;34m\u001b[0m\u001b[0;34m\u001b[0m\u001b[0m\n\u001b[0m\u001b[1;32m     25\u001b[0m \u001b[0;34m\u001b[0m\u001b[0m\n",
      "\u001b[0;32m<ipython-input-14-c3911b192f41>\u001b[0m in \u001b[0;36mbuildBST\u001b[0;34m(input_list, curr_index, output_list)\u001b[0m\n\u001b[1;32m      7\u001b[0m         \u001b[0mtemp\u001b[0m \u001b[0;34m=\u001b[0m \u001b[0mnode\u001b[0m\u001b[0;34m(\u001b[0m\u001b[0minput_list\u001b[0m\u001b[0;34m[\u001b[0m\u001b[0mt_index\u001b[0m\u001b[0;34m]\u001b[0m\u001b[0;34m)\u001b[0m\u001b[0;34m\u001b[0m\u001b[0;34m\u001b[0m\u001b[0m\n\u001b[1;32m      8\u001b[0m         \u001b[0mprint\u001b[0m\u001b[0;34m(\u001b[0m\u001b[0mcurr_index\u001b[0m\u001b[0;34m)\u001b[0m\u001b[0;34m\u001b[0m\u001b[0;34m\u001b[0m\u001b[0m\n\u001b[0;32m----> 9\u001b[0;31m         \u001b[0mprint\u001b[0m\u001b[0;34m(\u001b[0m\u001b[0mlen\u001b[0m\u001b[0;34m(\u001b[0m\u001b[0moutput_list\u001b[0m\u001b[0;34m)\u001b[0m\u001b[0;34m)\u001b[0m\u001b[0;34m\u001b[0m\u001b[0;34m\u001b[0m\u001b[0m\n\u001b[0m\u001b[1;32m     10\u001b[0m         \u001b[0moutput_list\u001b[0m\u001b[0;34m[\u001b[0m\u001b[0mcurr_index\u001b[0m\u001b[0;34m]\u001b[0m\u001b[0;34m.\u001b[0m\u001b[0mleft\u001b[0m \u001b[0;34m=\u001b[0m \u001b[0mtemp\u001b[0m\u001b[0;34m\u001b[0m\u001b[0;34m\u001b[0m\u001b[0m\n\u001b[1;32m     11\u001b[0m         \u001b[0moutput_list\u001b[0m\u001b[0;34m.\u001b[0m\u001b[0mappend\u001b[0m\u001b[0;34m(\u001b[0m\u001b[0mtemp\u001b[0m\u001b[0;34m)\u001b[0m\u001b[0;34m\u001b[0m\u001b[0;34m\u001b[0m\u001b[0m\n",
      "\u001b[0;31mTypeError\u001b[0m: object of type 'NoneType' has no len()"
     ]
    }
   ],
   "source": [
    "# buildBST([5,3,6,2,4,None,None,1],0,[])"
   ]
  },
  {
   "cell_type": "code",
   "execution_count": 17,
   "metadata": {
    "collapsed": true
   },
   "outputs": [],
   "source": [
    "def generateBST(input_list, curr_index, level):\n",
    "    n = node(input_list[curr_index], level)\n",
    "    if curr_index * 2 + 1 < len(input_list):\n",
    "        n.left = generateBST(input_list, curr_index*2+1, level+1)\n",
    "    if curr_index * 2 + 2 < len(input_list):\n",
    "        n.right = generateBST(input_list, curr_index*2+2, level+1)\n",
    "    return n"
   ]
  },
  {
   "cell_type": "code",
   "execution_count": 18,
   "metadata": {
    "collapsed": true
   },
   "outputs": [],
   "source": [
    "def buildBST(input_list):\n",
    "    output = generateBST(input_list, 0, 0)\n",
    "    print_tree(output)\n",
    "    return output"
   ]
  },
  {
   "cell_type": "code",
   "execution_count": 31,
   "metadata": {},
   "outputs": [
    {
     "name": "stdout",
     "output_type": "stream",
     "text": [
      "        15\n",
      "      7\n",
      "    3\n",
      "      8\n",
      "  1\n",
      "      9\n",
      "    4\n",
      "      10\n",
      "0\n",
      "      11\n",
      "    5\n",
      "      12\n",
      "  2\n",
      "      13\n",
      "    6\n",
      "      14\n"
     ]
    }
   ],
   "source": [
    "t=buildBST([0,1,2,3,4,5,6,7,8,9,10,11,12,13,14,15])\n",
    "t.print_tree()"
   ]
  },
  {
   "cell_type": "code",
   "execution_count": null,
   "metadata": {
    "collapsed": true
   },
   "outputs": [],
   "source": [
    "def kth_smallest(root, k):\n",
    "#     s = root\n",
    "#     while s.left != None:\n",
    "#         s = s.left\n",
    "#     # currently, s is the smallest element\n",
    "#     c = 1\n",
    "    "
   ]
  },
  {
   "cell_type": "code",
   "execution_count": 54,
   "metadata": {
    "collapsed": true
   },
   "outputs": [],
   "source": [
    "output = []\n",
    "def in_order_tree(root):\n",
    "    if root.left:\n",
    "        in_order_tree(root.left)\n",
    "    if root:\n",
    "        output.append(root.val)\n",
    "        print(str(root.val) +\" \")\n",
    "    if root.right:\n",
    "        in_order_tree(root.right)"
   ]
  },
  {
   "cell_type": "code",
   "execution_count": 55,
   "metadata": {},
   "outputs": [
    {
     "name": "stdout",
     "output_type": "stream",
     "text": [
      "15 \n",
      "7 \n",
      "3 \n",
      "8 \n",
      "1 \n",
      "9 \n",
      "4 \n",
      "10 \n",
      "0 \n",
      "11 \n",
      "5 \n",
      "12 \n",
      "2 \n",
      "13 \n",
      "6 \n",
      "14 \n"
     ]
    }
   ],
   "source": [
    "in_order_tree(t)"
   ]
  },
  {
   "cell_type": "code",
   "execution_count": 56,
   "metadata": {},
   "outputs": [
    {
     "data": {
      "text/plain": [
       "[15, 7, 3, 8, 1, 9, 4, 10, 0, 11, 5, 12, 2, 13, 6, 14]"
      ]
     },
     "execution_count": 56,
     "metadata": {},
     "output_type": "execute_result"
    }
   ],
   "source": [
    "output"
   ]
  },
  {
   "cell_type": "code",
   "execution_count": 57,
   "metadata": {
    "collapsed": true
   },
   "outputs": [],
   "source": [
    "def pre_order_tree(root):\n",
    "    if root:\n",
    "        print(root.val)\n",
    "    if root.left:\n",
    "        pre_order_tree(root.left)\n",
    "    if root.right:\n",
    "        pre_order_tree(root.right)"
   ]
  },
  {
   "cell_type": "code",
   "execution_count": 58,
   "metadata": {},
   "outputs": [
    {
     "name": "stdout",
     "output_type": "stream",
     "text": [
      "0\n",
      "1\n",
      "3\n",
      "7\n",
      "15\n",
      "8\n",
      "4\n",
      "9\n",
      "10\n",
      "2\n",
      "5\n",
      "11\n",
      "12\n",
      "6\n",
      "13\n",
      "14\n"
     ]
    }
   ],
   "source": [
    "pre_order_tree(t)"
   ]
  },
  {
   "cell_type": "code",
   "execution_count": 59,
   "metadata": {
    "collapsed": true
   },
   "outputs": [],
   "source": [
    "def post_order_tree(root):\n",
    "    if root.left:\n",
    "        post_order_tree(root.left)\n",
    "    if root.right:\n",
    "        post_order_tree(root.right)\n",
    "    if root:\n",
    "        print(root.val)"
   ]
  },
  {
   "cell_type": "code",
   "execution_count": 60,
   "metadata": {},
   "outputs": [
    {
     "name": "stdout",
     "output_type": "stream",
     "text": [
      "15\n",
      "7\n",
      "8\n",
      "3\n",
      "9\n",
      "10\n",
      "4\n",
      "1\n",
      "11\n",
      "12\n",
      "5\n",
      "13\n",
      "14\n",
      "6\n",
      "2\n",
      "0\n"
     ]
    }
   ],
   "source": [
    "post_order_tree(t)"
   ]
  },
  {
   "cell_type": "code",
   "execution_count": 61,
   "metadata": {
    "collapsed": true
   },
   "outputs": [],
   "source": [
    "def solution(root, k):\n",
    "    def inorder(r):\n",
    "        return inorder(r.left) + [r.val] + inorder(r.right) if r else []\n",
    "    return inorder(root)[k-1]"
   ]
  },
  {
   "cell_type": "code",
   "execution_count": 63,
   "metadata": {},
   "outputs": [
    {
     "data": {
      "text/plain": [
       "3"
      ]
     },
     "execution_count": 63,
     "metadata": {},
     "output_type": "execute_result"
    }
   ],
   "source": [
    "solution(t,3)"
   ]
  },
  {
   "cell_type": "code",
   "execution_count": 3,
   "metadata": {},
   "outputs": [
    {
     "data": {
      "text/plain": [
       "[0, 1, 2, 3]"
      ]
     },
     "execution_count": 3,
     "metadata": {},
     "output_type": "execute_result"
    }
   ],
   "source": [
    "[i for i in range(0,4)]"
   ]
  },
  {
   "cell_type": "code",
   "execution_count": null,
   "metadata": {
    "collapsed": true
   },
   "outputs": [],
   "source": [
    "def stack_solution(root, k):\n",
    "    stack = []\n",
    "    while True:\n",
    "        while root:\n",
    "            stack.append(root)\n",
    "            root = root.left\n",
    "        root = stack.pop()\n",
    "        k -= 1\n",
    "        if not k:\n",
    "            return root.val\n",
    "        root = rooot.right\n",
    "    return stack"
   ]
  }
 ],
 "metadata": {
  "kernelspec": {
   "display_name": "Python 3",
   "language": "python",
   "name": "python3"
  },
  "language_info": {
   "codemirror_mode": {
    "name": "ipython",
    "version": 3
   },
   "file_extension": ".py",
   "mimetype": "text/x-python",
   "name": "python",
   "nbconvert_exporter": "python",
   "pygments_lexer": "ipython3",
   "version": "3.6.2"
  }
 },
 "nbformat": 4,
 "nbformat_minor": 2
}
