{
 "cells": [
  {
   "cell_type": "code",
   "execution_count": null,
   "metadata": {},
   "outputs": [],
   "source": [
    "# passed\n",
    "import random\n",
    "from collections import defaultdict\n",
    "class RandomizedSet:\n",
    "\n",
    "    def __init__(self):\n",
    "        self.vals = defaultdict(bool)\n",
    "        self.cnt = 0\n",
    "\n",
    "    def insert(self, val: int) -> bool:\n",
    "        if val not in self.vals:\n",
    "            self.cnt += 1\n",
    "            self.vals[val] = True\n",
    "            return True\n",
    "        return False\n",
    "\n",
    "\n",
    "    def remove(self, val: int) -> bool:\n",
    "        if val not in self.vals:\n",
    "            return False\n",
    "        self.cnt -= 1\n",
    "        del self.vals[val]\n",
    "        return True\n",
    "\n",
    "    def getRandom(self) -> int:\n",
    "        r = random.randint(1, self.cnt)\n",
    "        key = list(self.vals.keys())[r-1]\n",
    "        return key\n",
    "\n",
    "\n",
    "# Your RandomizedSet object will be instantiated and called as such:\n",
    "# obj = RandomizedSet()\n",
    "# param_1 = obj.insert(val)\n",
    "# param_2 = obj.remove(val)\n",
    "# param_3 = obj.getRandom()"
   ]
  }
 ],
 "metadata": {
  "language_info": {
   "name": "python"
  }
 },
 "nbformat": 4,
 "nbformat_minor": 2
}
