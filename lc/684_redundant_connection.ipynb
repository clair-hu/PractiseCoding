{
 "cells": [
  {
   "cell_type": "code",
   "execution_count": null,
   "metadata": {},
   "outputs": [],
   "source": [
    "class Solution:\n",
    "    def findRedundantConnection(self, edges):\n",
    "        import collections\n",
    "        \n",
    "        graph = collections.defaultdict(set)\n",
    "        \n",
    "        \n",
    "        def dfs(source, target):\n",
    "            if source not in seen:\n",
    "                seen.add(source)\n",
    "                if source == target:\n",
    "                    return True\n",
    "                return any(dfs(nei, target) for nei in graph[source])\n",
    "        \n",
    "        for u, v in edges:\n",
    "            seen = set()\n",
    "            if u in graph and v in graph and dfs(u,v):\n",
    "                return u, v\n",
    "            graph[u].add(v)\n",
    "            graph[v].add(u)\n",
    "            \n",
    "        "
   ]
  },
  {
   "cell_type": "code",
   "execution_count": 1,
   "metadata": {
    "collapsed": true
   },
   "outputs": [],
   "source": [
    "class Node:\n",
    "    value = None\n",
    "    neighbors = []\n",
    "    \n",
    "    def __init__(self, v):\n",
    "        self.value = v"
   ]
  },
  {
   "cell_type": "code",
   "execution_count": 15,
   "metadata": {
    "collapsed": true
   },
   "outputs": [],
   "source": [
    "# def parseList(A):\n",
    "#     dict = {A[0][0]: [A[0][1]],\n",
    "#            A[0][1]: [A[0][0]]}\n",
    "#     i = 1\n",
    "#     output = []\n",
    "#     while i < len(A):\n",
    "#         if A[i][0] in dict and A[i][1] in dict:\n",
    "#             print(dict[A[i][0]])\n",
    "#             print(dict[A[i][1]])\n",
    "#             print(\"------------\")\n",
    "#             t = dict[A[i][1]]\n",
    "#             for a in dict[A[i][0]]:\n",
    "#                 if a in t:\n",
    "#                     output.append(A[i])\n",
    "        \n",
    "#         if A[i][0] not in dict:\n",
    "#             dict[A[i][0]] = [A[i][1]]\n",
    "#         else:\n",
    "#             temp = dict[A[i][0]]\n",
    "#             temp.append(A[i][1])\n",
    "#             dict[A[i][0]] = temp\n",
    "#         if A[i][1] not in dict:\n",
    "#             dict[A[i][1]] = [A[i][0]]\n",
    "#         else:\n",
    "#             temp = dict[A[i][1]]\n",
    "#             temp.append(A[i][0])\n",
    "#             dict[A[i][1]] = temp\n",
    "#         i += 1\n",
    "#     return output\n",
    "            \n",
    "        "
   ]
  },
  {
   "cell_type": "code",
   "execution_count": 17,
   "metadata": {},
   "outputs": [
    {
     "name": "stdout",
     "output_type": "stream",
     "text": [
      "[2]\n",
      "[2]\n",
      "------------\n"
     ]
    },
    {
     "data": {
      "text/plain": [
       "[[3, 1]]"
      ]
     },
     "execution_count": 17,
     "metadata": {},
     "output_type": "execute_result"
    }
   ],
   "source": [
    "parseList([[1,2], [2,3], [3,4], [1,4], [1,5]])"
   ]
  },
  {
   "cell_type": "code",
   "execution_count": 2,
   "metadata": {
    "collapsed": true
   },
   "outputs": [],
   "source": [
    "import collections\n",
    "class Solution(object):\n",
    "    def findRedundantConnection(self, edges):\n",
    "        graph = collections.defaultdict(set)\n",
    "        \n",
    "        def dfs(source, target):\n",
    "            if source not in seen:\n",
    "                seen.add(source)\n",
    "                if source == target: return True\n",
    "                return any(dfs(nei, target) for nei in graph[source])\n",
    "\n",
    "        for u, v in edges:\n",
    "            seen = set()\n",
    "            if u in graph and v in graph and dfs(u, v):\n",
    "                return u, v\n",
    "            graph[u].add(v)\n",
    "            graph[v].add(u)"
   ]
  },
  {
   "cell_type": "code",
   "execution_count": 6,
   "metadata": {},
   "outputs": [
    {
     "data": {
      "text/plain": [
       "(4, 2)"
      ]
     },
     "execution_count": 6,
     "metadata": {},
     "output_type": "execute_result"
    }
   ],
   "source": [
    "a = Solution()\n",
    "a.findRedundantConnection([[1,2], [1,4], [4,2], [2,3], [3,4], [1,5]])"
   ]
  },
  {
   "cell_type": "code",
   "execution_count": 7,
   "metadata": {},
   "outputs": [
    {
     "name": "stdout",
     "output_type": "stream",
     "text": [
      "[2]\n",
      "[2, 3]\n"
     ]
    }
   ],
   "source": [
    "dict = {1:[2]}\n",
    "print(dict[1])\n",
    "t = dict[1]\n",
    "t.append(3)\n",
    "\n",
    "dict[1] = t\n",
    "print(dict[1])"
   ]
  }
 ],
 "metadata": {
  "kernelspec": {
   "display_name": "Python 3",
   "language": "python",
   "name": "python3"
  },
  "language_info": {
   "codemirror_mode": {
    "name": "ipython",
    "version": 3
   },
   "file_extension": ".py",
   "mimetype": "text/x-python",
   "name": "python",
   "nbconvert_exporter": "python",
   "pygments_lexer": "ipython3",
   "version": "3.7.3"
  }
 },
 "nbformat": 4,
 "nbformat_minor": 2
}
