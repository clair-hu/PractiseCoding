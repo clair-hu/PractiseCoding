{
 "cells": [
  {
   "cell_type": "code",
   "execution_count": 17,
   "metadata": {},
   "outputs": [],
   "source": [
    "#### Passed but toooooo slow #####\n",
    "def permuteUnique(nums):\n",
    "    result = []\n",
    "    dfs(nums, result, [], [])\n",
    "    return result\n",
    "    \n",
    "def dfs(nums, permutations, currPermutation, visitedIndex):\n",
    "    if len(currPermutation) == len(nums) and currPermutation not in permutations:\n",
    "        permutations.append(currPermutation[:])\n",
    "        print(currPermutation)\n",
    "        return\n",
    "    for i in range(len(nums)):\n",
    "        if i not in visitedIndex:\n",
    "            currPermutation.append(nums[i])\n",
    "            visitedIndex.append(i)\n",
    "            dfs(nums, permutations, currPermutation, visitedIndex)\n",
    "            currPermutation.pop()\n",
    "            visitedIndex.pop()"
   ]
  },
  {
   "cell_type": "code",
   "execution_count": 8,
   "metadata": {},
   "outputs": [
    {
     "name": "stdout",
     "output_type": "stream",
     "text": [
      "False\n"
     ]
    }
   ],
   "source": [
    "a = [[1,2,3],[1,3,2]]\n",
    "print([1,3,3] in a)"
   ]
  },
  {
   "cell_type": "code",
   "execution_count": 18,
   "metadata": {},
   "outputs": [
    {
     "name": "stdout",
     "output_type": "stream",
     "text": [
      "[1, 2, 1]\n",
      "[1, 1, 2]\n",
      "[2, 1, 1]\n"
     ]
    },
    {
     "data": {
      "text/plain": [
       "[[1, 2, 1], [1, 1, 2], [2, 1, 1]]"
      ]
     },
     "execution_count": 18,
     "metadata": {},
     "output_type": "execute_result"
    }
   ],
   "source": [
    "permuteUnique([1,2,1])"
   ]
  }
 ],
 "metadata": {
  "kernelspec": {
   "display_name": "Python 3",
   "language": "python",
   "name": "python3"
  },
  "language_info": {
   "codemirror_mode": {
    "name": "ipython",
    "version": 3
   },
   "file_extension": ".py",
   "mimetype": "text/x-python",
   "name": "python",
   "nbconvert_exporter": "python",
   "pygments_lexer": "ipython3",
   "version": "3.9.6"
  }
 },
 "nbformat": 4,
 "nbformat_minor": 2
}
