{
 "cells": [
  {
   "cell_type": "code",
   "execution_count": 8,
   "metadata": {},
   "outputs": [
    {
     "name": "stdout",
     "output_type": "stream",
     "text": [
      "1 2 2 1\n"
     ]
    },
    {
     "data": {
      "text/plain": [
       "4"
      ]
     },
     "execution_count": 8,
     "metadata": {},
     "output_type": "execute_result"
    }
   ],
   "source": [
    "## not passing, retry\n",
    "def numDecodings(s):\n",
    "    dp = {}\n",
    "    for i in range(1, 10):\n",
    "        dp[str(i)] = 1\n",
    "        dp[\"0\" + str(i)] = 0\n",
    "    dp[\"10\"] = 1\n",
    "    for i in range(11, 20):\n",
    "        dp[str(i)] = 2\n",
    "    dp[\"20\"] = 1\n",
    "    for i in range(21, 27):\n",
    "        dp[str(i)] = 2\n",
    "\n",
    "    def rec(s):\n",
    "        if s in dp:\n",
    "            return dp[s]\n",
    "        dp[s[1:]] = rec(s[1:])\n",
    "        dp[s[2:]] = rec(s[2:])\n",
    "        print(dp[s[0]], dp[s[1:]], dp[s[:2]], dp[s[2:]])\n",
    "        return dp[s[0]] * dp[s[1:]] + dp[s[:2]] * dp[s[2:]]\n",
    "    return rec(s)\n",
    "\n",
    "\n",
    "numDecodings(\"226\")\n",
    "\n",
    "\n",
    "    "
   ]
  },
  {
   "cell_type": "code",
   "execution_count": 9,
   "metadata": {},
   "outputs": [],
   "source": [
    "# passed\n",
    "def numDecodings_new_try(s):\n",
    "    if s[0] == \"0\":\n",
    "        return 0\n",
    "    dp = [0] * (len(s)+1)\n",
    "    dp[0] = 1\n",
    "    dp[1] = 1\n",
    "\n",
    "    for i in range(2, len(s)+1):\n",
    "        one_digit = s[i-1]\n",
    "        two_digit = s[i-2:i]\n",
    "        if one_digit != \"0\":\n",
    "            dp[i] += dp[i-1]\n",
    "        if 10 <= int(two_digit) <= 26:\n",
    "            dp[i] += dp[i-2]\n",
    "    return dp[len(s)]"
   ]
  },
  {
   "cell_type": "code",
   "execution_count": 10,
   "metadata": {},
   "outputs": [
    {
     "data": {
      "text/plain": [
       "3"
      ]
     },
     "execution_count": 10,
     "metadata": {},
     "output_type": "execute_result"
    }
   ],
   "source": [
    "numDecodings_new_try(\"226\")"
   ]
  }
 ],
 "metadata": {
  "kernelspec": {
   "display_name": "Python 3",
   "language": "python",
   "name": "python3"
  },
  "language_info": {
   "codemirror_mode": {
    "name": "ipython",
    "version": 3
   },
   "file_extension": ".py",
   "mimetype": "text/x-python",
   "name": "python",
   "nbconvert_exporter": "python",
   "pygments_lexer": "ipython3",
   "version": "3.9.6"
  }
 },
 "nbformat": 4,
 "nbformat_minor": 2
}
