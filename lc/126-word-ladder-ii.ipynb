{
 "cells": [
  {
   "cell_type": "code",
   "execution_count": 31,
   "metadata": {},
   "outputs": [
    {
     "data": {
      "text/plain": [
       "[['hit', 'hot', 'dot', 'dog', 'cog'], ['hit', 'hot', 'lot', 'log', 'cog']]"
      ]
     },
     "execution_count": 31,
     "metadata": {},
     "output_type": "execute_result"
    }
   ],
   "source": [
    "def findLadders(beginWord, endWord, wordList):\n",
    "    if endWord not in wordList:\n",
    "        return []\n",
    "    def is_connected(a, b):\n",
    "        is_diff = False\n",
    "        for i in range(len(a)):\n",
    "            if a[i] != b[i]:\n",
    "                if is_diff == True:\n",
    "                    return False\n",
    "                else:\n",
    "                    is_diff = True\n",
    "        return is_diff\n",
    "    \n",
    "    # bfs\n",
    "    queues = [beginWord]\n",
    "    if beginWord in wordList:\n",
    "        wordList.remove(beginWord)\n",
    "    levels = [] # list of queues\n",
    "    has_reached = False\n",
    "    while len(queues) and not has_reached:\n",
    "        levels.append(queues[:])\n",
    "\n",
    "        ql = len(queues)\n",
    "        for _ in range(ql):\n",
    "            curr = queues.pop(0)\n",
    "            to_remove = []\n",
    "            for word in wordList:\n",
    "                if is_connected(curr, word):\n",
    "                    queues.append(word)\n",
    "                    to_remove.append(word)\n",
    "                    if word == endWord:\n",
    "                        has_reached = True\n",
    "                        break\n",
    "            for word in to_remove:\n",
    "                wordList.remove(word)\n",
    "\n",
    "    if not has_reached:\n",
    "        return []\n",
    "    \n",
    "    # backtracking\n",
    "    res = [[endWord]]\n",
    "    ll = len(levels)\n",
    "    for l in range(ll-1, -1, -1):\n",
    "        level = levels[l]\n",
    "        res_len = len(res)\n",
    "        for _ in range(res_len):\n",
    "            curr_path = res.pop(0)\n",
    "            last_word = curr_path[0]\n",
    "            for word in level:\n",
    "                if is_connected(word, last_word):\n",
    "                    res.append([word] + curr_path)\n",
    "    return res\n",
    "\n",
    "findLadders(\"hit\", \"cog\", [\"hot\",\"dot\",\"dog\",\"lot\",\"log\",\"cog\"])\n",
    "# findLadders(\"a\", \"c\", [\"a\",\"b\",\"c\",\"d\",\"e\",\"f\"])\n",
    "    \n",
    "\n",
    "\n"
   ]
  },
  {
   "cell_type": "code",
   "execution_count": 6,
   "metadata": {},
   "outputs": [
    {
     "ename": "ValueError",
     "evalue": "list.remove(x): x not in list",
     "output_type": "error",
     "traceback": [
      "\u001b[0;31m---------------------------------------------------------------------------\u001b[0m",
      "\u001b[0;31mValueError\u001b[0m                                Traceback (most recent call last)",
      "Cell \u001b[0;32mIn[6], line 2\u001b[0m\n\u001b[1;32m      1\u001b[0m a \u001b[38;5;241m=\u001b[39m [\u001b[38;5;241m1\u001b[39m,\u001b[38;5;241m3\u001b[39m,\u001b[38;5;241m5\u001b[39m,\u001b[38;5;241m2\u001b[39m]\n\u001b[0;32m----> 2\u001b[0m \u001b[43ma\u001b[49m\u001b[38;5;241;43m.\u001b[39;49m\u001b[43mremove\u001b[49m\u001b[43m(\u001b[49m\u001b[38;5;241;43m6\u001b[39;49m\u001b[43m)\u001b[49m\n\u001b[1;32m      3\u001b[0m \u001b[38;5;28mprint\u001b[39m(a)\n",
      "\u001b[0;31mValueError\u001b[0m: list.remove(x): x not in list"
     ]
    }
   ],
   "source": [
    "a = [1,3,5,2]\n",
    "a.remove(6)\n",
    "print(a)"
   ]
  }
 ],
 "metadata": {
  "kernelspec": {
   "display_name": "Python 3",
   "language": "python",
   "name": "python3"
  },
  "language_info": {
   "codemirror_mode": {
    "name": "ipython",
    "version": 3
   },
   "file_extension": ".py",
   "mimetype": "text/x-python",
   "name": "python",
   "nbconvert_exporter": "python",
   "pygments_lexer": "ipython3",
   "version": "3.9.6"
  }
 },
 "nbformat": 4,
 "nbformat_minor": 2
}
