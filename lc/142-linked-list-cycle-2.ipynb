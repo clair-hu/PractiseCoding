{
 "cells": [
  {
   "cell_type": "code",
   "execution_count": 18,
   "metadata": {},
   "outputs": [],
   "source": [
    "# Definition for singly-linked list.\n",
    "class ListNode:\n",
    "    def __init__(self, x, next=None):\n",
    "        self.val = x\n",
    "        self.next = next\n",
    "\n",
    "\n",
    "def detectCycle(head):\n",
    "    if head == None or head.next == None or head.next.next == None: #!!!!!!!! check head None too!!!!!\n",
    "        return None\n",
    "    slow = head.next\n",
    "    fast = head.next.next\n",
    "    while fast and slow != fast: # !!!!!!!!! should not use slow.val != fast.val, should compare the node, not the val\n",
    "        slow = slow.next\n",
    "        if fast.next == None or fast.next.next == None:\n",
    "            return None\n",
    "        else:\n",
    "            fast = fast.next.next\n",
    "    slow = head\n",
    "    while slow != fast:\n",
    "        slow = slow.next\n",
    "        fast = fast.next\n",
    "    return slow\n",
    "\n",
    "    "
   ]
  },
  {
   "cell_type": "code",
   "execution_count": 21,
   "metadata": {},
   "outputs": [
    {
     "data": {
      "text/plain": [
       "2"
      ]
     },
     "execution_count": 21,
     "metadata": {},
     "output_type": "execute_result"
    }
   ],
   "source": [
    "d = ListNode(-4)\n",
    "c = ListNode(0, d)\n",
    "b = ListNode(2, c)\n",
    "a = ListNode(3, b)\n",
    "d.next = b\n",
    "detectCycle(a)"
   ]
  }
 ],
 "metadata": {
  "kernelspec": {
   "display_name": "Python 3",
   "language": "python",
   "name": "python3"
  },
  "language_info": {
   "codemirror_mode": {
    "name": "ipython",
    "version": 3
   },
   "file_extension": ".py",
   "mimetype": "text/x-python",
   "name": "python",
   "nbconvert_exporter": "python",
   "pygments_lexer": "ipython3",
   "version": "3.9.6"
  }
 },
 "nbformat": 4,
 "nbformat_minor": 2
}
