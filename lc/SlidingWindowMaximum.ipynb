{
 "cells": [
  {
   "cell_type": "code",
   "execution_count": 1,
   "metadata": {},
   "outputs": [
    {
     "ename": "SyntaxError",
     "evalue": "unexpected EOF while parsing (<ipython-input-1-7e1ee0141068>, line 7)",
     "output_type": "error",
     "traceback": [
      "\u001b[0;36m  File \u001b[0;32m\"<ipython-input-1-7e1ee0141068>\"\u001b[0;36m, line \u001b[0;32m7\u001b[0m\n\u001b[0;31m    \u001b[0m\n\u001b[0m    ^\u001b[0m\n\u001b[0;31mSyntaxError\u001b[0m\u001b[0;31m:\u001b[0m unexpected EOF while parsing\n"
     ]
    }
   ],
   "source": [
    "def slicingWindowMaximum(nums):\n",
    "    if not nums:\n",
    "        return []\n",
    "    if len(nums) == 1:\n",
    "        return nums\n",
    "    output = []\n",
    "#     if nums[0] <= nums[1]:\n",
    "#         curmax = nums[1]\n",
    "#         curmaxind = 1\n",
    "#         cursec = nums[0]\n",
    "#         cursecind = 0\n",
    "#     else:\n",
    "#         curmax = nums[0]\n",
    "#         curmaxind = 0\n",
    "#         cursec = nums[1]\n",
    "#         cursecind = 1\n",
    "    \n",
    "    for i, n in enumerate(nums[2:k]):\n",
    "        if curmax <= n:\n",
    "            cursec = curmax\n",
    "            cursecind = curmaxind\n",
    "            curmax = n\n",
    "            curind = i\n",
    "        else:\n",
    "            if cursec <= n:\n",
    "                cursec = n\n",
    "                cursecind = i\n",
    "            \n",
    "    output.append(curmax)\n",
    "    while ti, n in enumerate(nums[k:]):\n",
    "        i = ti + k\n",
    "        if curmaxind == ti:\n",
    "            "
   ]
  },
  {
   "cell_type": "code",
   "execution_count": 4,
   "metadata": {},
   "outputs": [
    {
     "name": "stdout",
     "output_type": "stream",
     "text": [
      "0\n"
     ]
    }
   ],
   "source": [
    "nums = [3,1,2]\n",
    "m = max(nums)\n",
    "print(nums.index(m))"
   ]
  },
  {
   "cell_type": "code",
   "execution_count": 16,
   "metadata": {},
   "outputs": [],
   "source": [
    "# class Queue(object):\n",
    "#     \"\"\" Max Queue \"\"\"\n",
    "\n",
    "#     def __init__(self):\n",
    "#         self.istack = [(float('-inf'), float('-inf'))]\n",
    "#         self.ostack = [(float('-inf'), float('-inf'))]\n",
    "\n",
    "#     def push(self, n):\n",
    "# #         print(n)\n",
    "# #         print(self.istack[-1][1])\n",
    "# #         print(self.istack)\n",
    "#         self.istack.append((n, max(self.istack[-1][1], n)))\n",
    "\n",
    "#     def pop(self):\n",
    "#         if len(self.ostack) == 1:\n",
    "#             while len(self.istack) > 1:\n",
    "#                 n, _ = self.istack.pop()\n",
    "# #                 print(self.ostack)\n",
    "#                 self.ostack.append((n, max(self.ostack[-1][1], n)))\n",
    "#         return self.ostack.pop()[0] if len(self.ostack) > 1 else None\n",
    "\n",
    "#     def peek(self):\n",
    "#         return max(self.istack[-1][1], self.ostack[-1][1])\n",
    "\n",
    "# def maxSlidingWindow(nums, k):\n",
    "#     queue, res = Queue(), []\n",
    "\n",
    "#     for i, n in enumerate(nums):\n",
    "#         print(queue.istack)\n",
    "#         print(queue.ostack)\n",
    "#         print(\"\\n\")\n",
    "#         queue.push(n)\n",
    "#         if i >= k - 1:\n",
    "#             res.append(queue.peek())\n",
    "#             queue.pop()\n",
    "\n",
    "#     return res"
   ]
  },
  {
   "cell_type": "code",
   "execution_count": 17,
   "metadata": {},
   "outputs": [
    {
     "name": "stdout",
     "output_type": "stream",
     "text": [
      "[(-inf, -inf)]\n",
      "[(-inf, -inf)]\n",
      "\n",
      "\n",
      "[(-inf, -inf), (1, 1)]\n",
      "[(-inf, -inf)]\n",
      "\n",
      "\n",
      "[(-inf, -inf), (1, 1), (3, 3)]\n",
      "[(-inf, -inf)]\n",
      "\n",
      "\n",
      "[(-inf, -inf)]\n",
      "[(-inf, -inf), (-1, -1), (3, 3)]\n",
      "\n",
      "\n",
      "[(-inf, -inf), (-3, -3)]\n",
      "[(-inf, -inf), (-1, -1)]\n",
      "\n",
      "\n",
      "[(-inf, -inf), (-3, -3), (-2, -2)]\n",
      "[(-inf, -inf)]\n",
      "\n",
      "\n",
      "[(-inf, -inf)]\n",
      "[(-inf, -inf), (3, 3), (-2, 3)]\n",
      "\n",
      "\n",
      "[(-inf, -inf), (6, 6)]\n",
      "[(-inf, -inf), (3, 3)]\n",
      "\n",
      "\n"
     ]
    },
    {
     "data": {
      "text/plain": [
       "[3, 3, -1, 3, 6, 7]"
      ]
     },
     "execution_count": 17,
     "metadata": {},
     "output_type": "execute_result"
    }
   ],
   "source": [
    "# maxSlidingWindow([1,3,-1,-3,-2,3,6,7], 3)"
   ]
  },
  {
   "cell_type": "code",
   "execution_count": 10,
   "metadata": {},
   "outputs": [],
   "source": [
    "from collections import deque\n",
    "def solution_deque(arr, k):\n",
    "    n = len(arr)\n",
    "    \n",
    "    # a double ended queue\n",
    "    qi = deque()\n",
    "    \n",
    "    for i in range(k):\n",
    "        while qi and arr[i] >= arr[qi[-1]]:\n",
    "            qi.pop()\n",
    "            \n",
    "        qi.append(i)\n",
    "        \n",
    "    for i in range(k, n):\n",
    "        print(str(arr[qi[0]]) + \" \", end = \"\")\n",
    "        while qi and qi[0] <= i - k:\n",
    "            qi.popleft()\n",
    "        while qi and arr[i] >= arr[qi[-1]]:\n",
    "            qi.pop()\n",
    "        qi.append(i)\n",
    "        \n",
    "    print(str(arr[qi[0]]))\n",
    "            "
   ]
  },
  {
   "cell_type": "code",
   "execution_count": 11,
   "metadata": {},
   "outputs": [
    {
     "name": "stdout",
     "output_type": "stream",
     "text": [
      "78 90 90 90 89\n"
     ]
    }
   ],
   "source": [
    "solution_deque([12, 1, 78, 90, 57, 89, 56], 3)"
   ]
  },
  {
   "cell_type": "code",
   "execution_count": 8,
   "metadata": {},
   "outputs": [],
   "source": []
  },
  {
   "cell_type": "code",
   "execution_count": null,
   "metadata": {},
   "outputs": [],
   "source": []
  },
  {
   "cell_type": "code",
   "execution_count": 1,
   "metadata": {},
   "outputs": [],
   "source": [
    "import heapq\n",
    "def solution_heap(arr, k):\n",
    "    n = len(arr)\n",
    "    \n",
    "    i = 0\n",
    "    j = k - 1\n",
    "    \n",
    "    # create the heap and heapify\n",
    "    heap = arr[i:j+1]\n",
    "    heapq._heapify_max(heap)\n",
    "    \n",
    "    print(heap[0], end=\" \")\n",
    "    last = arr[i]\n",
    "    i += 1\n",
    "    j += 1\n",
    "    nexts = arr[j]\n",
    "    \n",
    "    while j < n:\n",
    "        heap[heap.index(last)] = nexts\n",
    "        heapq._heapify_max(heap)\n",
    "        \n",
    "        print(heap[0], end=\" \")\n",
    "        last = arr[i]\n",
    "        i += 1\n",
    "        j += 1\n",
    "        if j < n:\n",
    "            nexts = arr[j]\n",
    "            \n",
    "    \n",
    "    \n",
    "    \n",
    "    "
   ]
  },
  {
   "cell_type": "code",
   "execution_count": 3,
   "metadata": {},
   "outputs": [
    {
     "name": "stdout",
     "output_type": "stream",
     "text": [
      "78 78 78 57 57 "
     ]
    }
   ],
   "source": [
    "k = 3\n",
    "arr = [12, 1, 78, 0, 57, 8, 56]\n",
    "solution_heap(arr, k)"
   ]
  },
  {
   "cell_type": "code",
   "execution_count": null,
   "metadata": {},
   "outputs": [],
   "source": []
  },
  {
   "cell_type": "code",
   "execution_count": null,
   "metadata": {},
   "outputs": [],
   "source": []
  }
 ],
 "metadata": {
  "kernelspec": {
   "display_name": "Python 3",
   "language": "python",
   "name": "python3"
  },
  "language_info": {
   "codemirror_mode": {
    "name": "ipython",
    "version": 3
   },
   "file_extension": ".py",
   "mimetype": "text/x-python",
   "name": "python",
   "nbconvert_exporter": "python",
   "pygments_lexer": "ipython3",
   "version": "3.7.3"
  }
 },
 "nbformat": 4,
 "nbformat_minor": 2
}
