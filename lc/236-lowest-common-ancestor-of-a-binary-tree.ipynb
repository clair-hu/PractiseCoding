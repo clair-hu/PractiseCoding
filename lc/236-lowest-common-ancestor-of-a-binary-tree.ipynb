{
 "cells": [
  {
   "cell_type": "code",
   "execution_count": 67,
   "metadata": {},
   "outputs": [],
   "source": [
    "class TreeNode:\n",
    "    def __init__(self, x, left=None, right=None):\n",
    "        self.val = x\n",
    "        self.left = left\n",
    "        self.right = right\n",
    "def lowestCommonAncestor(root, p, q):\n",
    "    def get_path(target, curr, path):\n",
    "        if curr.val == target:\n",
    "            return path\n",
    "        if curr.left:\n",
    "            res = get_path(target, curr.left, path + \"l\")\n",
    "            if res: return res\n",
    "        if curr.right:\n",
    "            res = get_path(target, curr.right, path + \"r\")\n",
    "            if res: return res\n",
    "    p_path = get_path(p, root, \"\")\n",
    "    q_path = get_path(q, root, \"\")\n",
    "    def get_common(path_p, path_q):\n",
    "        for i in range(min(len(path_p), len(path_q))):\n",
    "            if path_p[i] != path_q[i]:\n",
    "                return path_p[:i]\n",
    "        return path_p[:min(len(path_p), len(path_q))]\n",
    "    common_path = get_common(p_path, q_path)\n",
    "    curr = root\n",
    "    for i in range(len(common_path)):\n",
    "        if common_path[i] == \"l\":\n",
    "            curr = curr.left\n",
    "        else:\n",
    "            curr = curr.right\n",
    "            \n",
    "    return curr\n",
    "        \n",
    "    \n"
   ]
  },
  {
   "cell_type": "code",
   "execution_count": 68,
   "metadata": {},
   "outputs": [
    {
     "name": "stdout",
     "output_type": "stream",
     "text": [
      "p_path l\n",
      "q_path r\n",
      "\n",
      "3\n"
     ]
    },
    {
     "data": {
      "text/plain": [
       "<__main__.TreeNode at 0x10b893d60>"
      ]
     },
     "execution_count": 68,
     "metadata": {},
     "output_type": "execute_result"
    }
   ],
   "source": [
    "n7 = TreeNode(7)\n",
    "n4 = TreeNode(4)\n",
    "n2 = TreeNode(2, n7, n4)\n",
    "n6 = TreeNode(6)\n",
    "n5 = TreeNode(5, n6, n2)\n",
    "n0 = TreeNode(0)\n",
    "n8 = TreeNode(8)\n",
    "n1 = TreeNode(1, n0, n8)\n",
    "n3 = TreeNode(3, n5, n1)\n",
    "lowestCommonAncestor(n3, 5, 1)"
   ]
  },
  {
   "cell_type": "code",
   "execution_count": 34,
   "metadata": {},
   "outputs": [
    {
     "name": "stdout",
     "output_type": "stream",
     "text": [
      "[1, 4, 2, 3, 5]\n"
     ]
    }
   ],
   "source": [
    "a = [1,4,2,3]\n",
    "print(a + [5])"
   ]
  }
 ],
 "metadata": {
  "kernelspec": {
   "display_name": "Python 3",
   "language": "python",
   "name": "python3"
  },
  "language_info": {
   "codemirror_mode": {
    "name": "ipython",
    "version": 3
   },
   "file_extension": ".py",
   "mimetype": "text/x-python",
   "name": "python",
   "nbconvert_exporter": "python",
   "pygments_lexer": "ipython3",
   "version": "3.9.6"
  }
 },
 "nbformat": 4,
 "nbformat_minor": 2
}
