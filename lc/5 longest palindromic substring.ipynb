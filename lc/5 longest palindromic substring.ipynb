{
 "cells": [
  {
   "cell_type": "code",
   "execution_count": null,
   "metadata": {},
   "outputs": [],
   "source": [
    "class solution:\n",
    "    def longestPalindrom(self, s):\n",
    "        if not s:\n",
    "            return \"\"\n",
    "        \n",
    "        dp =[[False  for _ in range (len(s))]  for _ in range (len(s))]\n",
    "        curLongestString = \"\"\n",
    "        curLongestLen = 0\n",
    "#         base cases\n",
    "        for i in range(len(s)-1):\n",
    "            dp[i][i] = True\n",
    "            dp[i][i+1] = (s[i] == s[i+1])\n",
    "            if dp[i][i+1] == True:\n",
    "                curLongestString = s[i:i+2]\n",
    "                curLongestLen = 2\n",
    "        dp[len(s)-1][len(s)-1] = True\n",
    "        \n",
    "        for g in range(2, len(s)):\n",
    "            for i in range(len(s)-g):\n",
    "                dp[i][i+g] = dp[i+1][i+g-1] and s[i] == s[i+g]\n",
    "                if dp[i][i+g] == True and curLongestLen < (g+1):\n",
    "                    curLongestString = s[i:i+g+1]\n",
    "                    curLongestLen = g+1\n",
    "        \n",
    "        if curLongestString == \"\":\n",
    "            curLongestString = s[0]\n",
    "        \n",
    "        return curLongestString   \n",
    "        \n",
    "s = solution()\n",
    "s.longestPalindrom(\"ababb\")"
   ]
  }
 ],
 "metadata": {
  "kernelspec": {
   "display_name": "Python 3",
   "language": "python",
   "name": "python3"
  },
  "language_info": {
   "codemirror_mode": {
    "name": "ipython",
    "version": 3
   },
   "file_extension": ".py",
   "mimetype": "text/x-python",
   "name": "python",
   "nbconvert_exporter": "python",
   "pygments_lexer": "ipython3",
   "version": "3.7.3"
  }
 },
 "nbformat": 4,
 "nbformat_minor": 2
}
