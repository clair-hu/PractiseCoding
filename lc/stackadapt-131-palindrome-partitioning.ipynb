{
 "cells": [
  {
   "cell_type": "code",
   "execution_count": 21,
   "metadata": {},
   "outputs": [
    {
     "data": {
      "text/plain": [
       "[['a', 'a', 'b', 'a', 'b'],\n",
       " ['a', 'a', 'bab'],\n",
       " ['a', 'aba', 'b'],\n",
       " ['aa', 'b', 'a', 'b'],\n",
       " ['aa', 'bab']]"
      ]
     },
     "execution_count": 21,
     "metadata": {},
     "output_type": "execute_result"
    }
   ],
   "source": [
    "import itertools\n",
    "def partition(s):\n",
    "    dp = {} # string to its partitions\n",
    "\n",
    "    def is_palindrome(s):\n",
    "        return s == s[::-1]\n",
    "\n",
    "    def recursion(s):\n",
    "        if s in dp:\n",
    "            return dp[s]\n",
    "        if len(s) == 1:\n",
    "            return [[s]]\n",
    "        cur_res = []\n",
    "        for i in range(len(s)-1):\n",
    "            if not is_palindrome(s[:i+1]):\n",
    "                continue\n",
    "            left = [[s[:i+1]]]\n",
    "            right = dp[s[i+1:]] if s[i+1:] in dp else recursion(s[i+1:])\n",
    "            for l in left:\n",
    "                for r in right:\n",
    "                    cur_res.append(l + r)\n",
    "        if is_palindrome(s):\n",
    "            cur_res.append([s])\n",
    "        return cur_res\n",
    "    return recursion(s)\n",
    "\n",
    "s_0 = \"aabab\"\n",
    "partition(s_0)"
   ]
  },
  {
   "cell_type": "code",
   "execution_count": 15,
   "metadata": {},
   "outputs": [
    {
     "name": "stdout",
     "output_type": "stream",
     "text": [
      "['a', 'a', 'b']\n"
     ]
    }
   ],
   "source": [
    "class Solution:\n",
    "    def partition(self, s: str) -> List[List[str]]:\n",
    "        def backtrack(start, path): \n",
    "            if start == len(s): result.append(path); return\n",
    "            for end in range(start + 1, len(s) + 1): \n",
    "                if s[start:end] == s[start:end][::-1]: backtrack(end, path + [s[start:end]])\n",
    "\n",
    "        result = []; backtrack(0, []); return result"
   ]
  },
  {
   "cell_type": "code",
   "execution_count": null,
   "metadata": {},
   "outputs": [],
   "source": [
    "def partition(s):\n",
    "    result = []\n",
    "    def backtrack(start, path):\n",
    "        if start == len(s):\n",
    "            result.append(path)\n",
    "            return\n",
    "        for end in range(start+1, len(s)+1):\n",
    "            if s[start:end] == s[start:end][::-1]:\n",
    "                backtrack(end, path + [s[start:end]])\n",
    "    backtrack(0, [])\n",
    "    return result"
   ]
  },
  {
   "cell_type": "code",
   "execution_count": null,
   "metadata": {},
   "outputs": [],
   "source": [
    "# clean and fast\n",
    "def partition(s):\n",
    "    result = []\n",
    "    def backtrack(start, path):\n",
    "        if start == len(s):\n",
    "            result.append(path)\n",
    "            return\n",
    "        for end in range(start+1, len(s) + 1):\n",
    "            if s[start:end] == s[start:end][::-1]:\n",
    "                backtrack(end, path + [s[start:end]])\n",
    "    backtrack(0, [])\n",
    "    return result"
   ]
  }
 ],
 "metadata": {
  "kernelspec": {
   "display_name": "Python 3",
   "language": "python",
   "name": "python3"
  },
  "language_info": {
   "codemirror_mode": {
    "name": "ipython",
    "version": 3
   },
   "file_extension": ".py",
   "mimetype": "text/x-python",
   "name": "python",
   "nbconvert_exporter": "python",
   "pygments_lexer": "ipython3",
   "version": "3.9.6"
  }
 },
 "nbformat": 4,
 "nbformat_minor": 2
}
