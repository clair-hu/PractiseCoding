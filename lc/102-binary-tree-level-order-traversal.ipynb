{
 "cells": [
  {
   "cell_type": "code",
   "execution_count": 15,
   "metadata": {},
   "outputs": [],
   "source": [
    "from collections import defaultdict\n",
    "def levelOrder(root):\n",
    "    level_nodes = defaultdict(list)\n",
    "    bfs(root, 0, level_nodes)\n",
    "    return list(level_nodes.values())\n",
    "    \n",
    "def bfs(node, level, level_nodes):\n",
    "    if node:\n",
    "        level_nodes[level].append(node.val)\n",
    "        if node.left: bfs(node.left, level+1, level_nodes)\n",
    "        if node.right: bfs(node.right, level+1, level_nodes)\n",
    "    "
   ]
  },
  {
   "cell_type": "code",
   "execution_count": 21,
   "metadata": {},
   "outputs": [],
   "source": [
    "from collections import deque\n",
    "def levelOrder_optimized(root):\n",
    "    results = []\n",
    "    q = deque()\n",
    "\n",
    "    if root:\n",
    "        q.append(root)\n",
    "\n",
    "    while q:\n",
    "        val = []\n",
    "        for i in range(len(q)):\n",
    "            node = q.popleft()\n",
    "            val.append(node.val)\n",
    "            if node.left:\n",
    "                q.append(node.left)\n",
    "            if node.right:\n",
    "                q.append(node.right)\n",
    "        results.append(val)\n",
    "        \n",
    "    return results"
   ]
  },
  {
   "cell_type": "code",
   "execution_count": null,
   "metadata": {},
   "outputs": [],
   "source": [
    "def level_order(root):\n",
    "    results = []\n",
    "    q = deque()\n",
    "    \n",
    "    if root:\n",
    "        q.append(root)\n",
    "    while q:\n",
    "        val = []\n",
    "        for _ in range(q):\n",
    "            node = q.popleft()\n",
    "            val.append(node.val)\n",
    "            if node.left:\n",
    "                q.append(node.left)\n",
    "            if node.right:\n",
    "                q.append(node.right)\n",
    "        results.append(val)\n",
    "    return results"
   ]
  },
  {
   "cell_type": "code",
   "execution_count": 1,
   "metadata": {},
   "outputs": [],
   "source": [
    "# Definition for a binary tree node.\n",
    "class TreeNode:\n",
    "    def __init__(self, val=0, left=None, right=None):\n",
    "        self.val = val\n",
    "        self.left = left\n",
    "        self.right = right"
   ]
  },
  {
   "cell_type": "code",
   "execution_count": 2,
   "metadata": {},
   "outputs": [],
   "source": [
    "d = TreeNode(15, None, None)\n",
    "e = TreeNode(7, None, None)\n",
    "c = TreeNode(20, d, e)\n",
    "b = TreeNode(9, None, None)\n",
    "a = TreeNode(3, b, c)"
   ]
  },
  {
   "cell_type": "code",
   "execution_count": 16,
   "metadata": {},
   "outputs": [
    {
     "name": "stdout",
     "output_type": "stream",
     "text": [
      "[[3], [9, 20], [15, 7]]\n"
     ]
    }
   ],
   "source": [
    "result = levelOrder(a)\n",
    "print(result)"
   ]
  },
  {
   "cell_type": "code",
   "execution_count": 22,
   "metadata": {},
   "outputs": [
    {
     "name": "stdout",
     "output_type": "stream",
     "text": [
      "[[3], [9, 20], [15, 7]]\n"
     ]
    }
   ],
   "source": [
    "result = levelOrder_optimized(a)\n",
    "print(result)"
   ]
  },
  {
   "cell_type": "code",
   "execution_count": null,
   "metadata": {},
   "outputs": [],
   "source": [
    "from collections import deque\n",
    "def levelOrder_review(root):\n",
    "    q = deque()\n",
    "    results = []\n",
    "    if root:\n",
    "        q.append(root)\n",
    "\n",
    "    while q:\n",
    "        val = []\n",
    "        for i in range(len(q)):\n",
    "            node = q.popleft()\n",
    "            val.append(node.val)\n",
    "            if node.left: q.append(node.left)\n",
    "            if node.right: q.append(node.right)\n",
    "        results.append(val)\n",
    "    return results"
   ]
  },
  {
   "cell_type": "code",
   "execution_count": 2,
   "metadata": {},
   "outputs": [
    {
     "name": "stdout",
     "output_type": "stream",
     "text": [
      "[-1, 1, 2]\n",
      "[-1, 1]\n"
     ]
    }
   ],
   "source": [
    "a = [1,2]\n",
    "a.insert(0, -1)\n",
    "print(a)\n",
    "a.pop()\n",
    "print(a)"
   ]
  }
 ],
 "metadata": {
  "kernelspec": {
   "display_name": "Python 3",
   "language": "python",
   "name": "python3"
  },
  "language_info": {
   "codemirror_mode": {
    "name": "ipython",
    "version": 3
   },
   "file_extension": ".py",
   "mimetype": "text/x-python",
   "name": "python",
   "nbconvert_exporter": "python",
   "pygments_lexer": "ipython3",
   "version": "3.9.6"
  }
 },
 "nbformat": 4,
 "nbformat_minor": 2
}
