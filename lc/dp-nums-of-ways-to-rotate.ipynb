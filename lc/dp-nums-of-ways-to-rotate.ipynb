{
 "cells": [
  {
   "cell_type": "code",
   "execution_count": null,
   "metadata": {},
   "outputs": [],
   "source": [
    "# dp(src, des) = \n",
    "# dp(“abcd”, “cdab”, 2) = dp(“bcda”, “cdab”, 2-1) + dp(“cdab”, “cdab”, 2-1) + dp(“dabc”, “cdab”, 2-1)\n",
    "# dp(“abcd”, “cdab”, 1) = dp(“cdab”,”cdab”,0)\n",
    "\n",
    "# Paths = set()\n",
    "# If Src == des and k == 0:\n",
    "# \tReturn 1\n",
    "# If Src != des and k == 0:\n",
    "# Return 0\t\n",
    "\n",
    "# Return dp(“abcd”, “bcda”, k)\n"
   ]
  },
  {
   "cell_type": "code",
   "execution_count": 11,
   "metadata": {},
   "outputs": [],
   "source": [
    "# dp(\"abc\", \"abc\") = 0, 1, 2\n",
    "# \"abc\", \"bca\" = 1, 2\n",
    "# \"abc\", \"cab\" = 1, 2\n",
    "# \"bca\", \"bca\" = 0, 1, 2\n",
    "# \"bca\", \"abc\" \n",
    "# \"bca\", \"cab\"\n",
    "# \"cab\", \"cab\"\n",
    "# \"cab\", \"abc\"\n",
    "# \"cab\", \"bca\"\n",
    "\n",
    "# des = \"abc\"\n",
    "#   abc bca cab \n",
    "# 0  1   0   0\n",
    "# 1  0   1   1\n",
    "# 2  2   1   1\n",
    "# 3  3   3   2\n",
    "# 4  6   5   6\n",
    "\n",
    "\n",
    "# des = \"bca\"\n",
    "#   abc bca cab \n",
    "# 0  0   1   0\n",
    "# 1  1   0   1\n",
    "# 2  \n",
    "# 3  \n",
    "# 4  \n",
    "\n",
    "\n",
    "\n",
    "def num_of_ways_to_rorate_iterative(src, des, k):\n",
    "  dp = [[0] * len(src) for _ in range(k+1)]\n",
    "  print(dp)\n",
    "\n",
    "  dp[0] = [1 if src[i:] + src[:i] == des else 0 for i in range(len(src))] \n",
    "  for r in range(1, k+1):\n",
    "    for c in range(len(src)):\n",
    "        dp[r][c] = sum(dp[r-1]) - dp[r-1][c]\n",
    "\n",
    "  return dp[k][0]\n",
    "\n",
    "#   aba baa aab\n",
    "\n",
    "#   bb  bb\n",
    "# 0  1   1\n",
    "# 1  1   1\n",
    "\n",
    "\n",
    "#   bbb bbb bbb\n",
    "# 0  1   1   1\n",
    "# 1  2   2   2\n",
    "# 2  4   4   4\n",
    "\n",
    "#   abab baba abab baba\n",
    "# 0  1    0    1    0\n",
    "\n"
   ]
  },
  {
   "cell_type": "code",
   "execution_count": 12,
   "metadata": {},
   "outputs": [],
   "source": [
    "def num_of_ways_to_rorate(src, des, k):\n",
    "    if len(src) != len(des):\n",
    "        return 0\n",
    "\n",
    "    if k == 0:\n",
    "        if src == des:\n",
    "            return 1\n",
    "        else:\n",
    "            return 0\n",
    "    \n",
    "    res = 0\n",
    "    for i in range(1, len(src)):\n",
    "        new_src = src[i:] + src[:i]\n",
    "        res += num_of_ways_to_rorate(new_src, des, k-1)\n",
    "    \n",
    "    return res\n",
    "\n",
    "\n"
   ]
  },
  {
   "cell_type": "code",
   "execution_count": 16,
   "metadata": {},
   "outputs": [
    {
     "name": "stdout",
     "output_type": "stream",
     "text": [
      "[[0, 0, 0], [0, 0, 0], [0, 0, 0]]\n"
     ]
    },
    {
     "data": {
      "text/plain": [
       "4"
      ]
     },
     "execution_count": 16,
     "metadata": {},
     "output_type": "execute_result"
    }
   ],
   "source": [
    "# Test 0\n",
    "# num_of_ways_to_rorate_iterative(\"abcd\", \"cdab\", 2)\n",
    "\n",
    "# # Test 1\n",
    "# num_of_ways_to_rorate_iterative(\"abcd\", \"dcab\", 2)\n",
    "\n",
    "# # Test 2\n",
    "# num_of_ways_to_rorate(\"abc\", \"dcab\", 2)\n",
    "\n",
    "# # Test 3\n",
    "# num_of_ways_to_rorate_iterative(\"bb\", \"bb\", 2)\n",
    "# # output 1\n",
    "\n",
    "# # Test 4\n",
    "num_of_ways_to_rorate_iterative(\"bbb\", \"bbb\", 2)\n",
    "# # output 4\n"
   ]
  }
 ],
 "metadata": {
  "kernelspec": {
   "display_name": "Python 3",
   "language": "python",
   "name": "python3"
  },
  "language_info": {
   "codemirror_mode": {
    "name": "ipython",
    "version": 3
   },
   "file_extension": ".py",
   "mimetype": "text/x-python",
   "name": "python",
   "nbconvert_exporter": "python",
   "pygments_lexer": "ipython3",
   "version": "3.9.6"
  }
 },
 "nbformat": 4,
 "nbformat_minor": 2
}
