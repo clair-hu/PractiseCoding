{
 "cells": [
  {
   "cell_type": "code",
   "execution_count": null,
   "metadata": {
    "collapsed": true
   },
   "outputs": [],
   "source": [
    "class node:\n",
    "    val = None\n",
    "    ll = []\n",
    "    \n",
    "    def __init__(self, v):\n",
    "        self.val = v\n",
    "        self.left = None\n",
    "        self.right = None\n",
    "        \n",
    "    def print_node(self):\n",
    "        if self:\n",
    "            self.ll.append(self.val)\n",
    "        if (self.left != None):\n",
    "            self.left.print_node()\n",
    "        if self.right != None:\n",
    "            self.right.print_node()\n",
    "        "
   ]
  },
  {
   "cell_type": "code",
   "execution_count": null,
   "metadata": {
    "collapsed": true
   },
   "outputs": [],
   "source": [
    "####### breath first search ##########\n",
    "def breadth_first_append_one_level(level, node_list, input_list):\n",
    "    for i in range(2 ** level-1, 2 ** (level+1) - 1):\n",
    "        curr = node_list[i]\n",
    "        left = node(input_list[2*i+1])\n",
    "        right = node(input_list[2*i+2])\n",
    "        curr.left = left\n",
    "        curr.right = right\n",
    "        node_list.append(left)\n",
    "        node_list.append(right)\n",
    "    return node_list"
   ]
  },
  {
   "cell_type": "code",
   "execution_count": null,
   "metadata": {
    "collapsed": true
   },
   "outputs": [],
   "source": [
    "import math\n",
    "def list_to_binary_search_tree(input_list):\n",
    "    max_level = int(math.log(len(input_list) + 1)/math.log(2) - 1)\n",
    "    node_list = []\n",
    "    node_list.append(node(input_list[0]))\n",
    "    for i in range(max_level):\n",
    "        node_list = breadth_first_append_one_level(i, node_list, input_list)\n",
    "    for i in node_list:\n",
    "        print(i.val)\n",
    "    return node_list"
   ]
  },
  {
   "cell_type": "code",
   "execution_count": null,
   "metadata": {
    "collapsed": true
   },
   "outputs": [],
   "source": [
    "l = [1,2,3,4,5,6,7]\n",
    "c = list_to_binary_search_tree(l)"
   ]
  },
  {
   "cell_type": "code",
   "execution_count": null,
   "metadata": {
    "collapsed": true
   },
   "outputs": [],
   "source": [
    "l = [1,2,3,4,5,6,7]\n",
    "c = list_to_binary_search_tree(l)\n"
   ]
  },
  {
   "cell_type": "code",
   "execution_count": 1,
   "metadata": {},
   "outputs": [
    {
     "name": "stdout",
     "output_type": "stream",
     "text": [
      "    15\n",
      "   7\n",
      "  3\n",
      "   8\n",
      " 1\n",
      "   9\n",
      "  4\n",
      "   10\n",
      "0\n",
      "   11\n",
      "  5\n",
      "   12\n",
      " 2\n",
      "   13\n",
      "  6\n",
      "   14\n"
     ]
    }
   ],
   "source": [
    "####### depth first search ##########\n",
    "\n",
    "import math\n",
    "class Node:\n",
    "    val = None\n",
    "    level = 0\n",
    "    \n",
    "    def __init__(self, v, level):\n",
    "        self.val = v\n",
    "        self.left = None\n",
    "        self.right = None\n",
    "        self.level = level\n",
    "        \n",
    "    def print_node(self):\n",
    "        if (self.left != None):\n",
    "            self.left.print_node()\n",
    "        if self:\n",
    "            print(str(\" \" * self.level) + str(self.val))\n",
    "        if self.right != None:\n",
    "            self.right.print_node()\n",
    "\n",
    "arr = [0,1,2,3,4,5,6,7,8,9,10,11,12,13,14,15]\n",
    "\n",
    "# depth first tree insertion\n",
    "\n",
    "def get_tree(array):\n",
    "    tree = generate_tree(array, 0, 0)\n",
    "    return tree\n",
    "\n",
    "def generate_tree(array, index, level):\n",
    "    n = Node(arr[index], level)\n",
    "    if (index * 2 + 1 < len(array)):\n",
    "        n.left = generate_tree(array, index * 2 + 1, level + 1)\n",
    "    if (index * 2 + 2 < len(array)):\n",
    "        n.right = generate_tree(array, index * 2 + 2, level + 1)\n",
    "    return n\n",
    "\n",
    "t = get_tree(arr)\n",
    "t.print_node()\n",
    "# print(t.ll)"
   ]
  },
  {
   "cell_type": "code",
   "execution_count": null,
   "metadata": {
    "collapsed": true
   },
   "outputs": [],
   "source": []
  },
  {
   "cell_type": "code",
   "execution_count": null,
   "metadata": {
    "collapsed": true
   },
   "outputs": [],
   "source": []
  }
 ],
 "metadata": {
  "kernelspec": {
   "display_name": "Python 3",
   "language": "python",
   "name": "python3"
  },
  "language_info": {
   "codemirror_mode": {
    "name": "ipython",
    "version": 3
   },
   "file_extension": ".py",
   "mimetype": "text/x-python",
   "name": "python",
   "nbconvert_exporter": "python",
   "pygments_lexer": "ipython3",
   "version": "3.7.3"
  }
 },
 "nbformat": 4,
 "nbformat_minor": 2
}
