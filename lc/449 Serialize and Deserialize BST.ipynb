{
 "cells": [
  {
   "cell_type": "code",
   "execution_count": 50,
   "metadata": {},
   "outputs": [],
   "source": [
    "class node:\n",
    "    def __init__(self, v):\n",
    "        self.left = None\n",
    "        self.right = None\n",
    "        self.value = v\n",
    "    \n",
    "    def printNode(self):\n",
    "        print(self.value)\n",
    "        if self.left:\n",
    "            self.left.printNode()\n",
    "        if self.right:\n",
    "            self.right.printNode()\n",
    "    "
   ]
  },
  {
   "cell_type": "code",
   "execution_count": 10,
   "metadata": {},
   "outputs": [],
   "source": [
    "def serializeBST(root, pos, output):\n",
    "    if root != None:\n",
    "        output += str(pos) + \":\" + str(root.value) + \",\"\n",
    "        output = serializeBST(root.left, pos * 2, output)\n",
    "        output = serializeBST(root.right, pos * 2 + 1, output)\n",
    "    return output"
   ]
  },
  {
   "cell_type": "code",
   "execution_count": 53,
   "metadata": {},
   "outputs": [
    {
     "name": "stdout",
     "output_type": "stream",
     "text": [
      "1\n",
      "2\n",
      "4\n",
      "3\n",
      "5\n",
      "1:1,2:2,5:4,3:3,6:5,\n",
      "1\n",
      "2\n",
      "4\n",
      "3\n",
      "5\n"
     ]
    }
   ],
   "source": [
    "n1 = node(1)\n",
    "n2 = node(2)\n",
    "n3 = node(3)\n",
    "n4 = node(4)\n",
    "n5 = node(5)\n",
    "n1.left = n2\n",
    "n1.right = n3\n",
    "n2.right = n4\n",
    "n3.left = n5\n",
    "n1.printNode()\n",
    "st = serializeBST(n1, 1, \"\")\n",
    "print(st)\n",
    "nlist = deserializeBST(st)\n",
    "nlist[1].printNode()"
   ]
  },
  {
   "cell_type": "code",
   "execution_count": 44,
   "metadata": {},
   "outputs": [],
   "source": [
    "def deserializeBST(s):\n",
    "    nlist = {}\n",
    "    while s != \"\":\n",
    "        key, value, s = getInt(s)\n",
    "        temp = node(value)\n",
    "        nlist[key] = temp\n",
    "        \n",
    "        if key % 2 == 0:\n",
    "            nlist[key/2].left = nlist[key]\n",
    "        else:\n",
    "            if key != 1:\n",
    "                nlist[(key-1)/2].right = nlist[key]\n",
    "    return nlist"
   ]
  },
  {
   "cell_type": "code",
   "execution_count": null,
   "metadata": {},
   "outputs": [],
   "source": []
  },
  {
   "cell_type": "code",
   "execution_count": 43,
   "metadata": {},
   "outputs": [],
   "source": [
    "def getInt(s):\n",
    "    a = s.find(\":\")\n",
    "    b = s.find(\",\")\n",
    "    key = int(s[:a])\n",
    "    value = s[a+1:b]\n",
    "    value = int(value)\n",
    "    s = s[b+1:]\n",
    "    return key, value, s"
   ]
  },
  {
   "cell_type": "code",
   "execution_count": 34,
   "metadata": {},
   "outputs": [
    {
     "data": {
      "text/plain": [
       "(1, 2, '3:2')"
      ]
     },
     "execution_count": 34,
     "metadata": {},
     "output_type": "execute_result"
    }
   ],
   "source": [
    "getInt(\"1:2,3:2\")"
   ]
  }
 ],
 "metadata": {
  "kernelspec": {
   "display_name": "Python 3",
   "language": "python",
   "name": "python3"
  },
  "language_info": {
   "codemirror_mode": {
    "name": "ipython",
    "version": 3
   },
   "file_extension": ".py",
   "mimetype": "text/x-python",
   "name": "python",
   "nbconvert_exporter": "python",
   "pygments_lexer": "ipython3",
   "version": "3.7.3"
  }
 },
 "nbformat": 4,
 "nbformat_minor": 2
}
