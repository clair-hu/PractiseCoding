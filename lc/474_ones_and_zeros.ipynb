{
 "cells": [
  {
   "cell_type": "code",
   "execution_count": null,
   "metadata": {},
   "outputs": [],
   "source": [
    "class Solution:\n",
    "    def findMaxForm(self, strs: List[str], m: int, n: int) -> int:\n",
    "        # numOnesAndZeros = []\n",
    "        \n",
    "        # for i in strs:\n",
    "            # numOnesAndZeros.append((i.count('1'), len(i) - i.count('0')))\n",
    "            \n",
    "        # numOnesAndZeros.sort()\n",
    "        \n",
    "        dp = [[0 for c in range(n+1)] for r in range(m+1)]\n",
    "        \n",
    "        \n",
    "        \n",
    "        \n",
    "        for s in strs:\n",
    "            zeros = s.count('0')\n",
    "            ones = len(s) - zeros\n",
    "            for i in range(m, zeros-1, -1):\n",
    "                for j in range(n, ones-1, -1):\n",
    "                    dp[i][j] = max(dp[i][j], dp[i-zeros][j-ones] + 1)\n",
    "                    \n",
    "        return dp[m][n]"
   ]
  }
 ],
 "metadata": {
  "kernelspec": {
   "display_name": "Python 3",
   "language": "python",
   "name": "python3"
  },
  "language_info": {
   "codemirror_mode": {
    "name": "ipython",
    "version": 3
   },
   "file_extension": ".py",
   "mimetype": "text/x-python",
   "name": "python",
   "nbconvert_exporter": "python",
   "pygments_lexer": "ipython3",
   "version": "3.7.3"
  }
 },
 "nbformat": 4,
 "nbformat_minor": 2
}
