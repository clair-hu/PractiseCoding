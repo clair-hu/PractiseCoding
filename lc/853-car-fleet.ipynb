{
 "cells": [
  {
   "cell_type": "code",
   "execution_count": 2,
   "metadata": {},
   "outputs": [
    {
     "ename": "ModuleNotFoundError",
     "evalue": "No module named 'numpy'",
     "output_type": "error",
     "traceback": [
      "\u001b[0;31m---------------------------------------------------------------------------\u001b[0m",
      "\u001b[0;31mModuleNotFoundError\u001b[0m                       Traceback (most recent call last)",
      "Cell \u001b[0;32mIn[2], line 1\u001b[0m\n\u001b[0;32m----> 1\u001b[0m \u001b[38;5;28;01mimport\u001b[39;00m \u001b[38;5;21;01mnumpy\u001b[39;00m\n\u001b[1;32m      2\u001b[0m \u001b[38;5;28;01mdef\u001b[39;00m \u001b[38;5;21mcarFleet\u001b[39m(target, position, speed):\n\u001b[1;32m      3\u001b[0m     sorted_index \u001b[38;5;241m=\u001b[39m numpy\u001b[38;5;241m.\u001b[39margsort(position, \u001b[38;5;28mreversed\u001b[39m\u001b[38;5;241m=\u001b[39m\u001b[38;5;28;01mTrue\u001b[39;00m)\n",
      "\u001b[0;31mModuleNotFoundError\u001b[0m: No module named 'numpy'"
     ]
    }
   ],
   "source": [
    "### not passed\n",
    "import numpy\n",
    "def carFleet(target, position, speed):\n",
    "    sorted_index = numpy.argsort(position, reversed=True)\n",
    "    print(sorted_index)\n",
    "    time = [0. for _ in position]\n",
    "    for i in range(len(target)):\n",
    "        time[i] = (target-position[i])/speed[i]\n",
    "    fleet = 0\n",
    "    bottleneck = float('-inf')\n",
    "    for i in range(len(target)):\n",
    "        index = sorted_index.find(i)\n",
    "        if time[index] > bottleneck:\n",
    "            fleet += 1\n",
    "            bottleneck = time[index]\n",
    "    return fleet"
   ]
  },
  {
   "cell_type": "code",
   "execution_count": null,
   "metadata": {},
   "outputs": [],
   "source": [
    "### passed\n",
    "def carFleet(target, position, speed):\n",
    "    car_right_to_left = sorted(zip(position, speed), reverse=True)\n",
    "    fleet = 0\n",
    "    bottleneck = float('-inf')\n",
    "    for p, s in car_right_to_left:\n",
    "        time = (target - p) / s\n",
    "        if time > bottleneck:\n",
    "            fleet += 1\n",
    "            bottleneck = time\n",
    "    return fleet"
   ]
  }
 ],
 "metadata": {
  "kernelspec": {
   "display_name": "Python 3",
   "language": "python",
   "name": "python3"
  },
  "language_info": {
   "codemirror_mode": {
    "name": "ipython",
    "version": 3
   },
   "file_extension": ".py",
   "mimetype": "text/x-python",
   "name": "python",
   "nbconvert_exporter": "python",
   "pygments_lexer": "ipython3",
   "version": "3.9.6"
  }
 },
 "nbformat": 4,
 "nbformat_minor": 2
}
