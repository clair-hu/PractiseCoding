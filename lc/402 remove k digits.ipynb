{
 "cells": [
  {
   "cell_type": "code",
   "execution_count": 65,
   "metadata": {},
   "outputs": [],
   "source": [
    "from heapq import nlargest\n",
    "def removeKdigits(num, k):\n",
    "    while(num.find('0') != -1) and k > 0:\n",
    "        i = num.find('0')\n",
    "        if i <= k:\n",
    "            num = num[i+1:]\n",
    "        k -= i \n",
    "    if k <= 0:\n",
    "        return num\n",
    "    if k > 0:\n",
    "        nums = getDict(num)\n",
    "        newNums = removeDigitFromDict(nums, k, num)\n",
    "        output = getOutput(newNums)\n",
    "        return str(output)"
   ]
  },
  {
   "cell_type": "code",
   "execution_count": 72,
   "metadata": {},
   "outputs": [
    {
     "name": "stdout",
     "output_type": "stream",
     "text": [
      "{1: [5, 0], 4: [1], 3: [2], 2: [4, 3], 9: [6]}\n",
      "{1: [5, 0], 2: [4, 3]}\n"
     ]
    },
    {
     "data": {
      "text/plain": [
       "'1221'"
      ]
     },
     "execution_count": 72,
     "metadata": {},
     "output_type": "execute_result"
    }
   ],
   "source": [
    "removeKdigits(\"1432219\", 3)"
   ]
  },
  {
   "cell_type": "code",
   "execution_count": 71,
   "metadata": {},
   "outputs": [],
   "source": [
    "\n",
    "def getDict(num):\n",
    "    nums = {int(num[0]):[0]}\n",
    "    for i in range(1, len(num)):\n",
    "        d = num[i]\n",
    "        if int(d) in nums:\n",
    "            nums[int(d)].insert(0, i)\n",
    "        else:\n",
    "            nums[int(d)] = [i]\n",
    "    print(nums)\n",
    "    return (nums)\n",
    "def removeDigitFromDict(nums, k, num):\n",
    "    newNums = {}\n",
    "    l = len(num)\n",
    "    k = 3\n",
    "    while l - k > 0:\n",
    "        t = min(nums)\n",
    "        if len(nums[t]) > l - k:\n",
    "            newNums[t] = nums[t][:l-k]\n",
    "            break\n",
    "        else:\n",
    "            newNums[t] = nums[t]\n",
    "            l -= len(nums[t])\n",
    "            nums.pop(t)\n",
    "    print(newNums)\n",
    "    return (newNums)\n",
    "\n",
    "def getOutput(newNums):\n",
    "    reorder = {}\n",
    "    for i in newNums:\n",
    "        for j in newNums[i]:\n",
    "            reorder[j] = i\n",
    "    i = len(reorder)\n",
    "    output = 0\n",
    "    while i > 0:\n",
    "        t = min(reorder)\n",
    "        output = output*10 + reorder[t]\n",
    "        reorder.pop(t)\n",
    "        i -= 1\n",
    "    return (output)"
   ]
  },
  {
   "cell_type": "code",
   "execution_count": null,
   "metadata": {},
   "outputs": [],
   "source": []
  },
  {
   "cell_type": "code",
   "execution_count": 89,
   "metadata": {},
   "outputs": [],
   "source": [
    "# def sol(num, k):\n",
    "#     while(num.find('0') != -1) and k > 0:\n",
    "#         i = num.find('0')\n",
    "#         if i <= k:\n",
    "#             num = num[i+1:]\n",
    "#         k -= i \n",
    "#     if k <= 0:\n",
    "#         return num\n",
    "#     digits = [int(d) for d in num]\n",
    "#     c = digits[0]\n",
    "#     output = [c]\n",
    "#     i = 1\n",
    "#     while i < len(num) and k > 0:\n",
    "#         while c > digits[i] and len(output) > 0:\n",
    "#             output.pop()\n",
    "#             c = output[-1]\n",
    "#             k -= 1\n",
    "#         else:\n",
    "#             output.append(digits[i])\n",
    "#             c = digits[i]\n",
    "#         i += 1\n",
    "    "
   ]
  },
  {
   "cell_type": "code",
   "execution_count": 90,
   "metadata": {},
   "outputs": [
    {
     "ename": "IndexError",
     "evalue": "list index out of range",
     "output_type": "error",
     "traceback": [
      "\u001b[1;31m---------------------------------------------------------------------------\u001b[0m",
      "\u001b[1;31mIndexError\u001b[0m                                Traceback (most recent call last)",
      "\u001b[1;32m<ipython-input-90-279c98e22319>\u001b[0m in \u001b[0;36m<module>\u001b[1;34m\u001b[0m\n\u001b[1;32m----> 1\u001b[1;33m \u001b[0msol\u001b[0m\u001b[1;33m(\u001b[0m\u001b[1;34m\"23451234\"\u001b[0m\u001b[1;33m,\u001b[0m \u001b[1;36m4\u001b[0m\u001b[1;33m)\u001b[0m\u001b[1;33m\u001b[0m\u001b[1;33m\u001b[0m\u001b[0m\n\u001b[0m",
      "\u001b[1;32m<ipython-input-89-20edca61da3d>\u001b[0m in \u001b[0;36msol\u001b[1;34m(num, k)\u001b[0m\n\u001b[0;32m     14\u001b[0m         \u001b[1;32mwhile\u001b[0m \u001b[0mc\u001b[0m \u001b[1;33m>\u001b[0m \u001b[0mdigits\u001b[0m\u001b[1;33m[\u001b[0m\u001b[0mi\u001b[0m\u001b[1;33m]\u001b[0m \u001b[1;32mand\u001b[0m \u001b[0mlen\u001b[0m\u001b[1;33m(\u001b[0m\u001b[0moutput\u001b[0m\u001b[1;33m)\u001b[0m \u001b[1;33m>\u001b[0m \u001b[1;36m0\u001b[0m\u001b[1;33m:\u001b[0m\u001b[1;33m\u001b[0m\u001b[1;33m\u001b[0m\u001b[0m\n\u001b[0;32m     15\u001b[0m             \u001b[0moutput\u001b[0m\u001b[1;33m.\u001b[0m\u001b[0mpop\u001b[0m\u001b[1;33m(\u001b[0m\u001b[1;33m)\u001b[0m\u001b[1;33m\u001b[0m\u001b[1;33m\u001b[0m\u001b[0m\n\u001b[1;32m---> 16\u001b[1;33m             \u001b[0mc\u001b[0m \u001b[1;33m=\u001b[0m \u001b[0moutput\u001b[0m\u001b[1;33m[\u001b[0m\u001b[1;33m-\u001b[0m\u001b[1;36m1\u001b[0m\u001b[1;33m]\u001b[0m\u001b[1;33m\u001b[0m\u001b[1;33m\u001b[0m\u001b[0m\n\u001b[0m\u001b[0;32m     17\u001b[0m             \u001b[0mk\u001b[0m \u001b[1;33m-=\u001b[0m \u001b[1;36m1\u001b[0m\u001b[1;33m\u001b[0m\u001b[1;33m\u001b[0m\u001b[0m\n\u001b[0;32m     18\u001b[0m         \u001b[1;32melse\u001b[0m\u001b[1;33m:\u001b[0m\u001b[1;33m\u001b[0m\u001b[1;33m\u001b[0m\u001b[0m\n",
      "\u001b[1;31mIndexError\u001b[0m: list index out of range"
     ]
    }
   ],
   "source": [
    "# sol(\"23451234\", 4)"
   ]
  },
  {
   "cell_type": "code",
   "execution_count": 8,
   "metadata": {},
   "outputs": [
    {
     "data": {
      "text/plain": [
       "'124'"
      ]
     },
     "execution_count": 8,
     "metadata": {},
     "output_type": "execute_result"
    }
   ],
   "source": [
    "# removeKdigits(\"15742\", 2)"
   ]
  },
  {
   "cell_type": "code",
   "execution_count": 91,
   "metadata": {},
   "outputs": [],
   "source": [
    "def solution(num, k):\n",
    "    if len(num) == k:\n",
    "        return \"0\"\n",
    "    stack = []\n",
    "    for n in num:\n",
    "        while stack and k and int(stack[-1]) > int(n):\n",
    "            stack.pop()\n",
    "            k -= 1\n",
    "        stack.append(n)\n",
    "    while(k):\n",
    "        stack.pop()\n",
    "        k -= 1\n",
    "    if not stack:\n",
    "        return \"0\"\n",
    "    return(str(int(\"\".join(stack))))"
   ]
  },
  {
   "cell_type": "code",
   "execution_count": 95,
   "metadata": {},
   "outputs": [
    {
     "data": {
      "text/plain": [
       "'200'"
      ]
     },
     "execution_count": 95,
     "metadata": {},
     "output_type": "execute_result"
    }
   ],
   "source": [
    "solution(\"10200\", 1)"
   ]
  }
 ],
 "metadata": {
  "kernelspec": {
   "display_name": "Python 3",
   "language": "python",
   "name": "python3"
  },
  "language_info": {
   "codemirror_mode": {
    "name": "ipython",
    "version": 3
   },
   "file_extension": ".py",
   "mimetype": "text/x-python",
   "name": "python",
   "nbconvert_exporter": "python",
   "pygments_lexer": "ipython3",
   "version": "3.7.3"
  }
 },
 "nbformat": 4,
 "nbformat_minor": 2
}
