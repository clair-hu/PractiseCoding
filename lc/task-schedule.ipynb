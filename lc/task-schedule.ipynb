{
 "cells": [
  {
   "cell_type": "code",
   "execution_count": 54,
   "metadata": {},
   "outputs": [],
   "source": [
    "from collections import defaultdict\n",
    "from heapq import heappop, heappush, heapify\n",
    "def task_schedule(tasks, n):\n",
    "    cnt_map = defaultdict(int)\n",
    "    for task in tasks:\n",
    "        cnt_map[task] += 1\n",
    "    cnt_map = {task: c for task, c in sorted(cnt_map.items(), key=lambda item: item[1]*-1)}\n",
    "    i = 1\n",
    "    time_task = []\n",
    "    for task in cnt_map:\n",
    "        # sort i in ascending order, cnt_map in descending order\n",
    "        time_task.append((i, -cnt_map[task], task))\n",
    "        i += 1\n",
    "    # heapify: sort cnt descendingly\n",
    "    # have next available time for each task\n",
    "    heapify(time_task)\n",
    "    res = 0\n",
    "    prev_time = 0\n",
    "    while time_task:\n",
    "        (time, count, task) = heappop(time_task)\n",
    "        if time == prev_time:\n",
    "            heappush(time_task, ((time+1), count, task))\n",
    "            continue\n",
    "        if count < -1:\n",
    "            heappush(time_task, (time + n + 1, count + 1, task))\n",
    "        prev_time += 1\n",
    "        res = time\n",
    "    return res"
   ]
  },
  {
   "cell_type": "code",
   "execution_count": 59,
   "metadata": {},
   "outputs": [
    {
     "data": {
      "text/plain": [
       "8"
      ]
     },
     "execution_count": 59,
     "metadata": {},
     "output_type": "execute_result"
    }
   ],
   "source": [
    "tasks_0 = [\"A\",\"A\",\"C\",\"A\",\"B\",\"B\",\"B\"]\n",
    "n_0 = 2\n",
    "task_schedule(tasks_0, n_0)\n",
    "\n",
    "# tasks_1 = [\"A\"]\n",
    "# n_1 = 2\n",
    "# task_schedule(tasks_1, n_1)\n",
    "\n",
    "# tasks_2 = [\"A\", \"B\", \"A\"]\n",
    "# n_2 = 5\n",
    "# task_schedule(tasks_2, n_2)\n",
    "\n",
    "# tasks_3 = [\"A\", \"B\"]\n",
    "# n_3 = 50\n",
    "# task_schedule(tasks_3, n_3)\n",
    "\n",
    "# tasks_4 = [\"A\",\"C\",\"A\",\"B\",\"D\",\"B\"]\n",
    "# n_4 = 1\n",
    "# task_schedule(tasks_4, n_4)"
   ]
  }
 ],
 "metadata": {
  "kernelspec": {
   "display_name": "Python 3",
   "language": "python",
   "name": "python3"
  },
  "language_info": {
   "codemirror_mode": {
    "name": "ipython",
    "version": 3
   },
   "file_extension": ".py",
   "mimetype": "text/x-python",
   "name": "python",
   "nbconvert_exporter": "python",
   "pygments_lexer": "ipython3",
   "version": "3.9.6"
  }
 },
 "nbformat": 4,
 "nbformat_minor": 2
}
