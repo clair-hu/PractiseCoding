{
 "cells": [
  {
   "cell_type": "code",
   "execution_count": null,
   "metadata": {},
   "outputs": [],
   "source": [
    "from collections import deque\n",
    "def solve(board):\n",
    "    if not board or not board[0]:\n",
    "        return\n",
    "    r, c = len(board), len(board[0])\n",
    "    if r <= 2 or c <= 2:\n",
    "        return\n",
    "    \n",
    "    q = deque()\n",
    "    for i in range(r):\n",
    "        q.append((i, 0))\n",
    "        q.append((i, c-1))\n",
    "\n",
    "    for i in range(c):\n",
    "        q.append((0, i))\n",
    "        q.append((r-1, i))\n",
    "        \n",
    "    while q:\n",
    "        x, y = q.popleft()\n",
    "        if 0 <= x < r and 0 <= y < c and board[x][y] == \"O\":\n",
    "            board[x][y] = 'N'\n",
    "            q.append((x, y+1))\n",
    "            q.append((x, y-1))\n",
    "            q.append((x+1, y))\n",
    "            q.append((x-1, y))\n",
    "\n",
    "    for x in range(r):\n",
    "        for y in range(c):\n",
    "            if board[x][y] == 'O':\n",
    "                board[x][y] = 'X'\n",
    "            if board[x][y] == 'N':\n",
    "                board[x][y] = 'O'"
   ]
  }
 ],
 "metadata": {
  "language_info": {
   "name": "python"
  }
 },
 "nbformat": 4,
 "nbformat_minor": 2
}
