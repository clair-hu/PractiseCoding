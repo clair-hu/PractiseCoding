{
 "cells": [
  {
   "cell_type": "code",
   "execution_count": 9,
   "metadata": {},
   "outputs": [
    {
     "data": {
      "text/plain": [
       "['1.0.10.23', '1.0.102.3', '10.1.0.23', '10.10.2.3', '101.0.2.3']"
      ]
     },
     "execution_count": 9,
     "metadata": {},
     "output_type": "execute_result"
    }
   ],
   "source": [
    "def restoreIpAddresses(s):\n",
    "    res = []\n",
    "    def backtracking(num, s, path):\n",
    "        if num == 4 and s == \"\":\n",
    "            res.append(\".\".join(str(p) for p in path))\n",
    "            return\n",
    "        if s == \"\" or num >=4:\n",
    "            return\n",
    "        one_digit = int(s[0])\n",
    "        two_digit = int(s[:2]) if len(s) >= 2 else 0\n",
    "        three_digit = int(s[:3]) if len(s) >= 3 else 0\n",
    "        backtracking(num+1, s[1:], path + [one_digit])\n",
    "        if 10 <= two_digit <= 99:\n",
    "            backtracking(num+1, s[2:], path + [two_digit])\n",
    "        if 100 <= three_digit <= 255:\n",
    "            backtracking(num+1, s[3:], path + [three_digit])\n",
    "\n",
    "    backtracking(0, s, [])\n",
    "    return res\n",
    "restoreIpAddresses(\"25525511135\")\n",
    "restoreIpAddresses(\"0000\")\n",
    "restoreIpAddresses(\"00000\")\n",
    "restoreIpAddresses(\"101023\")"
   ]
  }
 ],
 "metadata": {
  "kernelspec": {
   "display_name": "Python 3",
   "language": "python",
   "name": "python3"
  },
  "language_info": {
   "codemirror_mode": {
    "name": "ipython",
    "version": 3
   },
   "file_extension": ".py",
   "mimetype": "text/x-python",
   "name": "python",
   "nbconvert_exporter": "python",
   "pygments_lexer": "ipython3",
   "version": "3.9.6"
  }
 },
 "nbformat": 4,
 "nbformat_minor": 2
}
