{
 "cells": [
  {
   "cell_type": "code",
   "execution_count": null,
   "metadata": {},
   "outputs": [],
   "source": [
    "class Graph:\n",
    "    def __init__(self, row, col, g):\n",
    "        self.ROW = row\n",
    "        self.COL = col\n",
    "        self.graph = g\n",
    "    \n",
    "    def isSafe(self, i, j, visited):\n",
    "        return (i >= 0 and i < self.ROW and j >= 0 and j < self.COL and not visited[i][j] and self.graph[i][j])\n",
    "    \n",
    "    def DFS(self, i, j, visited):\n",
    "        rowNbr = [-1, -1, -1, 0, 0, 1, 1, 1]\n",
    "        colNbr = [-1, 0, 1, -1, 1, -1, 0, 1]\n",
    "        \n",
    "        visited[i][j] = True\n",
    "        \n",
    "        for k in range(8):\n",
    "            if self.isSafe(i + rowNbr[k], j + colNbr[k], visited):\n",
    "                self.DFS(i + rowNbr[k], j + colNbr[k], visited)\n",
    "\n",
    "    def numIslands(self):\n",
    "        visited = [[False for j in range(self.COL)] for i in range(self.ROW)]\n",
    "        \n",
    "        count = 0\n",
    "        for i in range(self.ROW):\n",
    "            for j in range(self.COL):\n",
    "                if visited[i][j] == False and self.graph[i][j] == 1:\n",
    "                    self.BFS(i, j, visited)\n",
    "                    count += 1\n",
    "        return count\n",
    "    \n",
    "    def BFS(self, i, j, visited):\n",
    "        rowNbr = [-1, -1, -1, 0, 0, 1, 1, 1]\n",
    "        colNbr = [-1, 0, 1, -1, 1, -1, 0, 1]\n",
    "        queue = []\n",
    "        queue.append((i,j))\n",
    "        visited[i][j] = True\n",
    "        \n",
    "        while(len(queue) > 0):\n",
    "            i, j = queue.pop(0)\n",
    "            for k in range(8):\n",
    "                if self.isSafe(i + rowNbr[k], j + colNbr[k], visited):\n",
    "                    visited[i+rowNbr[k]][j+colNbr[k]] = True\n",
    "                    queue.append((i+rowNbr[k], j+colNbr[k]))\n",
    "        \n",
    "        \n",
    "graph = [[1, 1, 0, 0, 0], \n",
    "        [0, 1, 0, 0, 1], \n",
    "        [1, 0, 0, 1, 1], \n",
    "        [0, 0, 0, 0, 0], \n",
    "        [1, 0, 1, 0, 1]] \n",
    "  \n",
    "  \n",
    "row = len(graph) \n",
    "col = len(graph[0]) \n",
    "  \n",
    "g = Graph(row, col, graph) \n",
    "  \n",
    "print (\"Number of islands is:\")\n",
    "print (g.numIslands() )"
   ]
  },
  {
   "cell_type": "code",
   "execution_count": 6,
   "metadata": {},
   "outputs": [
    {
     "name": "stdout",
     "output_type": "stream",
     "text": [
      "[(2, 3), 5, 3]\n"
     ]
    }
   ],
   "source": [
    "a = [(2,3)]\n",
    "a.extend([5,3])\n",
    "print(a)"
   ]
  }
 ],
 "metadata": {
  "kernelspec": {
   "display_name": "Python 3",
   "language": "python",
   "name": "python3"
  },
  "language_info": {
   "codemirror_mode": {
    "name": "ipython",
    "version": 3
   },
   "file_extension": ".py",
   "mimetype": "text/x-python",
   "name": "python",
   "nbconvert_exporter": "python",
   "pygments_lexer": "ipython3",
   "version": "3.7.3"
  }
 },
 "nbformat": 4,
 "nbformat_minor": 2
}
