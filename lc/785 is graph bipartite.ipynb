{
 "cells": [
  {
   "cell_type": "code",
   "execution_count": null,
   "metadata": {},
   "outputs": [],
   "source": [
    "from collections import deque\n",
    "class Solution(object):\n",
    "    def isBipartite(self, graph):\n",
    "        \"\"\"\n",
    "        :type graph: List[List[int]]\n",
    "        :rtype: bool\n",
    "        \"\"\"\n",
    "        if not graph:\n",
    "            return True\n",
    "        \n",
    "        set_a = set()\n",
    "        set_b = set()\n",
    "        \n",
    "        nodes_to_check = deque(range(len(graph)))\n",
    "        \n",
    "        set_a.add(0)\n",
    "        \n",
    "        while nodes_to_check:\n",
    "            root = nodes_to_check.popleft()\n",
    "            node_set = None    \n",
    "            root_set = None \n",
    "                \n",
    "            if root in set_a:\n",
    "                root_set = set_a\n",
    "                node_set = set_b\n",
    "            else:\n",
    "                root_set = set_b\n",
    "                node_set = set_a\n",
    "                \n",
    "            for n in graph[root]:\n",
    "                if n in root_set:\n",
    "                    return False\n",
    "\n",
    "                if n not in node_set:\n",
    "                    node_set.add(n)\n",
    "                    nodes_to_check.appendleft(n)\n",
    "                    \n",
    "        return True"
   ]
  }
 ],
 "metadata": {
  "kernelspec": {
   "display_name": "Python 3",
   "language": "python",
   "name": "python3"
  },
  "language_info": {
   "codemirror_mode": {
    "name": "ipython",
    "version": 3
   },
   "file_extension": ".py",
   "mimetype": "text/x-python",
   "name": "python",
   "nbconvert_exporter": "python",
   "pygments_lexer": "ipython3",
   "version": "3.7.3"
  }
 },
 "nbformat": 4,
 "nbformat_minor": 2
}
