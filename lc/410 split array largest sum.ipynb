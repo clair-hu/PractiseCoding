{
 "cells": [
  {
   "cell_type": "code",
   "execution_count": 11,
   "metadata": {},
   "outputs": [],
   "source": [
    "def splitArrayLargestSum(nums, m):\n",
    "    sums = []\n",
    "    sum = 0\n",
    "    for i in range(len(nums)):\n",
    "        sum += nums[i]\n",
    "        sums.append(sum)\n",
    "    dp = []\n",
    "    for i in range(m+1):\n",
    "        dp.append([2**16] * len(nums))\n",
    "    \n",
    "    for i in range(len(nums)):\n",
    "        dp[1][i] = sums[i]\n",
    "        \n",
    "    for i in range(2, m+1):\n",
    "        for j in range(i-1, len(nums)):\n",
    "            for k in range(0, j):\n",
    "                dp[i][j] = min(\n",
    "                                dp[i][j],\n",
    "                                max(\n",
    "                                    dp[i-1][k],\n",
    "                                    sums[j] - sums[k]\n",
    "                                )\n",
    "                )\n",
    "    return dp[m][len(nums)-1]\n",
    "    # dp[i][j]: minimum sum, from 0 to j, split into i subsets"
   ]
  },
  {
   "cell_type": "code",
   "execution_count": 12,
   "metadata": {
    "scrolled": true
   },
   "outputs": [
    {
     "data": {
      "text/plain": [
       "18"
      ]
     },
     "execution_count": 12,
     "metadata": {},
     "output_type": "execute_result"
    }
   ],
   "source": [
    "splitArrayLargestSum([7,2,5,10,8], 2)"
   ]
  },
  {
   "cell_type": "code",
   "execution_count": 13,
   "metadata": {},
   "outputs": [],
   "source": [
    "def splitArray(nums, m):\n",
    "    sums = [0] * len(nums)\n",
    "    sums[0] = nums[0]\n",
    "    MAX = 2**16\n",
    "    dp = [] # dp[i][j] := min of largest sum of splitting nums[0] ~ nums[j] into i groups\n",
    "    for i in range(m+1):\n",
    "        dp.append([MAX] * len(nums))\n",
    "    for i in range(1, len(nums)):\n",
    "        sums[i] = sums[i-1] + nums[i]\n",
    "    # base cases\n",
    "    for i in range(0, len(nums)):\n",
    "        dp[1][i] = sums[i]\n",
    "    \n",
    "    for i in range(2, m+1):\n",
    "        for j in range(i-1, len(nums)):\n",
    "            for k in range(0, j):\n",
    "                print(dp[i][j])\n",
    "                dp[i][j] = min(\n",
    "                                dp[i][j],\n",
    "                                max(\n",
    "                                    dp[i-1][k],\n",
    "                                    sums[j] - sums[k]\n",
    "                                )\n",
    "                )\n",
    "                print(dp[i][j])\n",
    "                print(\"-------\")\n",
    "    \n",
    "    return dp[m][len(nums)-1]"
   ]
  },
  {
   "cell_type": "code",
   "execution_count": 14,
   "metadata": {},
   "outputs": [
    {
     "name": "stdout",
     "output_type": "stream",
     "text": [
      "65536\n",
      "7\n",
      "-------\n",
      "65536\n",
      "7\n",
      "-------\n",
      "7\n",
      "7\n",
      "-------\n",
      "65536\n",
      "17\n",
      "-------\n",
      "17\n",
      "15\n",
      "-------\n",
      "15\n",
      "14\n",
      "-------\n",
      "65536\n",
      "25\n",
      "-------\n",
      "25\n",
      "23\n",
      "-------\n",
      "23\n",
      "18\n",
      "-------\n",
      "18\n",
      "18\n",
      "-------\n"
     ]
    },
    {
     "data": {
      "text/plain": [
       "18"
      ]
     },
     "execution_count": 14,
     "metadata": {},
     "output_type": "execute_result"
    }
   ],
   "source": [
    "splitArray([7,2,5,10,8], 2)"
   ]
  }
 ],
 "metadata": {
  "kernelspec": {
   "display_name": "Python 3",
   "language": "python",
   "name": "python3"
  },
  "language_info": {
   "codemirror_mode": {
    "name": "ipython",
    "version": 3
   },
   "file_extension": ".py",
   "mimetype": "text/x-python",
   "name": "python",
   "nbconvert_exporter": "python",
   "pygments_lexer": "ipython3",
   "version": "3.7.3"
  }
 },
 "nbformat": 4,
 "nbformat_minor": 2
}
