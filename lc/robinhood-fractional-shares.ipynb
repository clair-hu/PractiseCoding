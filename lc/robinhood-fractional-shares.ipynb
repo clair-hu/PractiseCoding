{
 "cells": [
  {
   "cell_type": "markdown",
   "metadata": {},
   "source": [
    "On our journey to democratize finance for all, we’ve created the concept of fractional shares. Fractional shares are pieces, or fractions, of whole shares of a company or ETF.\n",
    "\n",
    "However, exchanges only trade in whole shares. Robinhood is required to manage the fractional portion of each trade.\n",
    "\n",
    "If Robinhood has 0 shares of AAPL and then a customer wishes to purchase 1.5 AAPL shares, Robinhood will need to request 2 shares from the exchange and hold on to the remaining 0.5 shares.\n",
    "If another customer requests to purchase 0.4 shares of AAPL, Robinhood can use its inventory (0.5 shares) instead of going out to the exchange and will have 0.1 shares of AAPL remaining.\n",
    "If the third customer requests 0.5 shares, Robinhood can fill 0.1 shares out of inventory but will need to go to the exchange for an additional share leaving Robinhood's inventory at 0.6 shares.\n",
    "If a customer requests a dollar based order, we need to convert it to the relevant number of shares and run through the above steps.\n",
    "Always ensure the firm has a positive quantity in inventory and has under one share after handling an order. There's no need for us to hold onto whole shares!\n",
    "Steps:\n",
    "\n",
    "Handle buying fractional shares.\n",
    "Handle selling fractional shares.\n",
    "Ensure inventory is less than 1 after each order.\n",
    "e.g. Customer sells AAPL for 0.75 and then another sells AAPL for 0.50 -- we have 1.25 inventory. We can sell 1 share to the market and keep our inventory small at 0.25.\n",
    "Ensure inventory is always non-negative after each order.\n",
    "e.g. Inventory is 0.2 and the customer buys 0.5 shares: ensure we end up with 0.7 shares in inventory.\n",
    "Always “flatten”! (steps 3+4)\n",
    "The final 2 digits of every integer is the decimal. e.g. 1000 = 10.00, 20 = 0.20, 100 = 1.\n",
    "\n",
    "Example scenario:\n",
    "\n",
    "Input:\n",
    "// One AAPL buy order for 0.42 shares. AAPL is currently worth $1.\n",
    "orders: [[\"AAPL\",\"B\",\"42\",\"100\"]]\n",
    "\n",
    "// Inventory for AAPL is currently 0.99 shares.\n",
    "inventory: [[\"AAPL\",\"99\"]]\n",
    "\n",
    "\n",
    "Expected Output:\n",
    "// The users buys 0.42 shares from inventory, leaving us with 0.57 shares.\n",
    "[[\"AAPL\",\"57\"]]\n",
    "Another example scenario:\n",
    "\n",
    "Input:\n",
    "// One AAPL buy order for $0.42. AAPL is currently worth $1, so that's 0.42 shares.\n",
    "orders: [[\"AAPL\",\"B\",\"$42\",\"100\"]]\n",
    "// Existing AAPL inventory is 0.50 shares.\n",
    "inventory: [[\"AAPL\",\"50\"]]\n",
    "\n",
    "Expected Output:\n",
    "// 0.50 - 0.42 = 0.08 shares leftover.\n",
    "[[\"AAPL\",\"8\"]]\n",
    "\n",
    "[execution time limit] 3 seconds (java)\n",
    "\n",
    "[memory limit] 1 GB\n",
    "\n",
    "[input] array.array.string orders\n",
    "\n",
    "A list of orders in the format of [$SYMBOL, $BUY_OR_SELL, $QUANTITY, $CURRENT_PRICE]. Each parameter is a string.\n",
    "\n",
    "$SYMBOL: Can be \"AAPL\", \"GOOGL\", \"MEOOOOOW\" or anything really.\n",
    "$BUY_OR_SELL: \"B\" or \"S\". B for BUY, S for SELL.\n",
    "$QUANTITY: Can be a number or a dollar amount (prefixed with $). e.g. \"100\" for 1 quantity or \"$150\" for $1.50.\n",
    "$CURRENT_PRICE: Current price of the symbol with no $ sign. e.g. \"1000\" for $10.\n",
    "\n",
    "** All numbers are multiplied by 100 to store two significant digits. e.g. 100 = 1.00, 150 = 1.50, 1025 = 10.25 **\n",
    "\n",
    "[input] array.array.string inventory\n",
    "\n",
    "Inventory is a list of the inventory of each symbol. Each element in the list a 2 item list of [$SYMBOL, $QUANTITY] (remember quantity is multiplied by 100!).\n",
    "\n",
    "An example for AAPL of 0.50 shares and GOOGL of 0.75 shares would be:\n",
    "\n",
    "[[\"AAPL\",\"50\"], \n",
    " [\"GOOG\",\"75\"]]\n",
    "[output] array.array.string\n",
    "\n",
    "The output is the final inventory of each symbol after iterating through each trade. This is expected to be in the same order and format as the inventory parameter.\n",
    "\n",
    "e.g.\n",
    "\n",
    "[\"AAPL\",\"58\"], \n",
    " [\"GOOG\",\"50\"]]"
   ]
  },
  {
   "cell_type": "code",
   "execution_count": 34,
   "metadata": {},
   "outputs": [],
   "source": [
    "from collections import OrderedDict\n",
    "class Stock:\n",
    "    def __init__(self, symbol, inventory=0): # not storing price since it can change\n",
    "        self.symbol = symbol\n",
    "        self.inventory = inventory\n",
    "        self.actions = [] #(is_buy, is_dollar, quantity, price)\n",
    "\n",
    "    def buy_number(self, number):\n",
    "        if number < self.inventory:\n",
    "            self.inventory -= number\n",
    "        else:\n",
    "            number -= self.inventory\n",
    "            request = number % 100\n",
    "            self.inventory = 100 - request\n",
    "\n",
    "    def buy_dollar(self, dollar, price): # real dollar, real price\n",
    "        number = int(dollar / price * 100)\n",
    "        self.buy_number(number)\n",
    "\n",
    "    def sell_number(self, number):\n",
    "        self.inventory = (self.inventory + number) % 100\n",
    "\n",
    "    def sell_dollar(self, dollar, price):\n",
    "        number = int(dollar / price * 100)\n",
    "        self.sell_number(number)\n",
    "    \n",
    "def fractional_shares(orders, inventories):\n",
    "    stocks = OrderedDict()\n",
    "    for order in orders:\n",
    "        symbol, action, quantity, price = order[0], order[1], order[2], int(order[3])\n",
    "        if symbol not in stocks:\n",
    "            stock = Stock(symbol)\n",
    "            stocks[symbol] = stock\n",
    "        if quantity.startswith(\"$\"):\n",
    "            dollar = int(quantity[1:])\n",
    "            stocks[symbol].actions.append([action==\"B\", True, dollar, price])\n",
    "        else:\n",
    "            stocks[symbol].actions.append([action==\"B\", False, int(quantity), price])\n",
    "\n",
    "    for inventory in inventories:\n",
    "        symbol, quantity = inventory[0], int(inventory[1])\n",
    "        stocks[symbol].inventory = quantity\n",
    "\n",
    "    res = []\n",
    "    for stock in stocks.values():\n",
    "        for action in stock.actions:\n",
    "            print(action)\n",
    "            (is_buy, is_dollar, quantity, price) = action\n",
    "            if is_buy and is_dollar:\n",
    "                stock.buy_dollar(quantity, price)\n",
    "            elif is_buy and not is_dollar:\n",
    "                stock.buy_number(quantity)\n",
    "            elif not is_buy and is_dollar:\n",
    "                stock.sell_dollar(quantity, price)\n",
    "            elif not is_buy and not is_dollar:\n",
    "                stock.sell_number(quantity)\n",
    "            print(\"stock={0}, inventory={1}\".format(stock.symbol, stock.inventory))\n",
    "        res.append([stock.symbol, str(stock.inventory)])\n",
    "    return res"
   ]
  },
  {
   "cell_type": "code",
   "execution_count": 1,
   "metadata": {},
   "outputs": [
    {
     "name": "stdout",
     "output_type": "stream",
     "text": [
      "0.2\n"
     ]
    }
   ],
   "source": [
    "a = \"20\"\n",
    "print(int(a)/100)"
   ]
  },
  {
   "cell_type": "code",
   "execution_count": 35,
   "metadata": {},
   "outputs": [
    {
     "name": "stdout",
     "output_type": "stream",
     "text": [
      "[True, False, 42, 100]\n",
      "stock=AAPL, inventory=57\n",
      "[True, True, 42, 100]\n",
      "stock=AAPL, inventory=15\n",
      "[True, True, 60, 100]\n",
      "stock=AAPL, inventory=55\n"
     ]
    },
    {
     "data": {
      "text/plain": [
       "[['AAPL', '55']]"
      ]
     },
     "execution_count": 35,
     "metadata": {},
     "output_type": "execute_result"
    }
   ],
   "source": [
    "orders_0 = [[\"AAPL\",\"B\",\"42\",\"100\"], [\"AAPL\",\"B\",\"$42\",\"100\"], [\"AAPL\",\"B\",\"$60\",\"100\"]]\n",
    "inventories_0 = [[\"AAPL\",\"99\"]]\n",
    "fractional_shares(orders_0, inventories_0)"
   ]
  },
  {
   "cell_type": "code",
   "execution_count": 36,
   "metadata": {},
   "outputs": [
    {
     "name": "stdout",
     "output_type": "stream",
     "text": [
      "[True, False, 150, 100]\n",
      "stock=AAPL, inventory=50\n",
      "[True, False, 40, 100]\n",
      "stock=AAPL, inventory=10\n",
      "[True, False, 50, 100]\n",
      "stock=AAPL, inventory=60\n"
     ]
    },
    {
     "data": {
      "text/plain": [
       "[['AAPL', '60']]"
      ]
     },
     "execution_count": 36,
     "metadata": {},
     "output_type": "execute_result"
    }
   ],
   "source": [
    "# If Robinhood has 0 shares of AAPL and then a customer wishes to purchase 1.5 AAPL shares, Robinhood will need to request 2 shares from the exchange and hold on to the remaining 0.5 shares.\n",
    "# If another customer requests to purchase 0.4 shares of AAPL, Robinhood can use its inventory (0.5 shares) instead of going out to the exchange and will have 0.1 shares of AAPL remaining.\n",
    "# If the third customer requests 0.5 shares, Robinhood can fill 0.1 shares out of inventory but will need to go to the exchange for an additional share leaving Robinhood's inventory at 0.6 shares.\n",
    "orders_1 = [[\"AAPL\",\"B\",\"150\",\"100\"],[\"AAPL\",\"B\",\"40\",\"100\"],[\"AAPL\",\"B\",\"50\",\"100\"]]\n",
    "inventories_1 = [[\"AAPL\",\"0\"]]\n",
    "expected = [50, 10, 60]\n",
    "fractional_shares(orders_1, inventories_1)"
   ]
  },
  {
   "cell_type": "code",
   "execution_count": 37,
   "metadata": {},
   "outputs": [
    {
     "name": "stdout",
     "output_type": "stream",
     "text": [
      "[False, False, 75, 100]\n",
      "stock=AAPL, inventory=75\n",
      "[False, False, 50, 100]\n",
      "stock=AAPL, inventory=25\n",
      "[True, False, 5, 100]\n",
      "stock=AAPL, inventory=20\n"
     ]
    },
    {
     "data": {
      "text/plain": [
       "[['AAPL', '20']]"
      ]
     },
     "execution_count": 37,
     "metadata": {},
     "output_type": "execute_result"
    }
   ],
   "source": [
    "# e.g. Customer sells AAPL for 0.75 and then another sells AAPL for 0.50 -- we have 1.25 inventory. We can sell 1 share to the market and keep our inventory small at 0.25.\n",
    "# Ensure inventory is always non-negative after each order.\n",
    "# e.g. Inventory is 0.2 and the customer buys 0.5 shares: ensure we end up with 0.7 shares in inventory.\n",
    "orders_2 = [[\"AAPL\",\"S\",\"75\",\"100\"],[\"AAPL\",\"S\",\"50\",\"100\"],[\"AAPL\",\"B\",\"5\",\"100\"]]\n",
    "inventories_2 = [[\"AAPL\",\"0\"]]\n",
    "expected = [75, 25, 20]\n",
    "fractional_shares(orders_2, inventories_2)"
   ]
  }
 ],
 "metadata": {
  "kernelspec": {
   "display_name": "Python 3",
   "language": "python",
   "name": "python3"
  },
  "language_info": {
   "codemirror_mode": {
    "name": "ipython",
    "version": 3
   },
   "file_extension": ".py",
   "mimetype": "text/x-python",
   "name": "python",
   "nbconvert_exporter": "python",
   "pygments_lexer": "ipython3",
   "version": "3.9.6"
  }
 },
 "nbformat": 4,
 "nbformat_minor": 2
}
