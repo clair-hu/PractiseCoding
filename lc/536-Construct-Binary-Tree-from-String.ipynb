{
 "cells": [
  {
   "cell_type": "code",
   "execution_count": null,
   "metadata": {},
   "outputs": [
    {
     "name": "stdout",
     "output_type": "stream",
     "text": [
      "2 :\n",
      "4 -1\n",
      "2 4\n",
      "2 :\n",
      "4 -1\n",
      "2 4\n",
      "3 2\n",
      "2 :\n",
      "4 -1\n",
      "2 4\n",
      "3 2\n",
      "1 2\n",
      "6 :\n",
      "4 -1\n",
      "2 4\n",
      "3 2\n",
      "1 2\n",
      "6 2\n",
      "6 :\n",
      "4 -1\n",
      "2 4\n",
      "3 2\n",
      "1 2\n",
      "6 2\n",
      "5 6\n"
     ]
    },
    {
     "data": {
      "text/plain": [
       "<__main__.TreeNode at 0x107cb4610>"
      ]
     },
     "execution_count": 13,
     "metadata": {},
     "output_type": "execute_result"
    }
   ],
   "source": [
    "# s = \"4(2(3)(1))(6(5))\"\n",
    "# not passed\n",
    "class TreeNode:\n",
    "    def __init__(self, val, left = None, right = None):\n",
    "        self.val = val\n",
    "        self.left = left\n",
    "        self.right = right\n",
    "\n",
    "def print_parents(parents):\n",
    "    for key, val in parents.items():\n",
    "        print(key.val, val.val)\n",
    "\n",
    "def construct_binary_tree(s):\n",
    "    dummy = TreeNode(-1)\n",
    "    parents = {}\n",
    "    curr = dummy\n",
    "    assign_left = True\n",
    "    start_digit = 0\n",
    "    for end_digit, char in enumerate(s):\n",
    "        if char == \"(\":\n",
    "            if curr.left == None:\n",
    "                assign_left = True\n",
    "            else:\n",
    "                assign_left = False\n",
    "            if start_digit == end_digit:\n",
    "                start_digit = end_digit + 1\n",
    "                continue\n",
    "            num = int(s[start_digit:end_digit])\n",
    "            start_digit = end_digit + 1\n",
    "            new_node = TreeNode(num)\n",
    "            parents[new_node] = curr\n",
    "            curr = new_node\n",
    "            if assign_left:\n",
    "                parents[new_node].left = new_node\n",
    "            else:\n",
    "                parents[new_node].right = new_node\n",
    "        elif char == \")\":\n",
    "            print(curr.val, \":\")\n",
    "            print_parents(parents)\n",
    "            \n",
    "            if start_digit == end_digit:\n",
    "                start_digit = end_digit + 1\n",
    "                continue\n",
    "            num = int(s[start_digit:end_digit])\n",
    "            start_digit = end_digit + 1\n",
    "            new_node = TreeNode(num)\n",
    "            parents[new_node] = curr\n",
    "            curr = new_node\n",
    "            if assign_left:\n",
    "                parents[new_node].left = new_node\n",
    "            else:\n",
    "                parents[new_node].right = new_node\n",
    "\n",
    "            curr = parents[curr]\n",
    "\n",
    "    return dummy.left\n",
    "\n",
    "construct_binary_tree(\"4(2(3)(1))(6(5))\")"
   ]
  },
  {
   "cell_type": "code",
   "execution_count": null,
   "metadata": {},
   "outputs": [
    {
     "data": {
      "text/plain": [
       "<__main__.TreeNode at 0x107cab160>"
      ]
     },
     "execution_count": 16,
     "metadata": {},
     "output_type": "execute_result"
    }
   ],
   "source": [
    "# passed\n",
    "# s = \"14(2(3)(1))(6(5))\" [4, 2, 3]\n",
    "class TreeNode:\n",
    "    def __init__(self, val, left = None, right = None):\n",
    "        self.val = val\n",
    "        self.left = left\n",
    "        self.right = right\n",
    "def construct_binary_tree(s):\n",
    "    if s == \"\":\n",
    "        return None\n",
    "\n",
    "    stack = [] # nodes\n",
    "    i = 0\n",
    "    snum = \"\"\n",
    "    while i < len(s):\n",
    "        char = s[i]\n",
    "        if char != \"(\" and char != \")\":\n",
    "            snum += s[i]\n",
    "        else:\n",
    "            if snum != \"\":\n",
    "                num = int(snum)\n",
    "                stack.append(TreeNode(num))\n",
    "                snum = \"\"\n",
    "            if char == \")\":\n",
    "                child = stack.pop()\n",
    "                parent = stack.pop()\n",
    "                if parent.left:\n",
    "                    parent.right = child\n",
    "                else:\n",
    "                    parent.left = child\n",
    "                stack.append(parent)\n",
    "        i += 1\n",
    "\n",
    "    if snum != \"\" and len(stack) == 0:\n",
    "        return TreeNode(int(snum))\n",
    "\n",
    "    return stack[0]\n",
    "\n",
    "\n",
    "\n",
    "construct_binary_tree(\"14(2(3)(1))(6(5))\")\n",
    "\n"
   ]
  }
 ],
 "metadata": {
  "kernelspec": {
   "display_name": "Python 3",
   "language": "python",
   "name": "python3"
  },
  "language_info": {
   "codemirror_mode": {
    "name": "ipython",
    "version": 3
   },
   "file_extension": ".py",
   "mimetype": "text/x-python",
   "name": "python",
   "nbconvert_exporter": "python",
   "pygments_lexer": "ipython3",
   "version": "3.9.6"
  }
 },
 "nbformat": 4,
 "nbformat_minor": 2
}
