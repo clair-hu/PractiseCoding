{
 "cells": [
  {
   "cell_type": "code",
   "execution_count": 8,
   "metadata": {},
   "outputs": [],
   "source": [
    "class solution:\n",
    "    def otherSolution(self, root, target):\n",
    "        self.output = 0\n",
    "        cache = {0:1}\n",
    "\n",
    "        def dfs(root, currPathSum):\n",
    "            if not root:\n",
    "                return\n",
    "            currPathSum += root.value\n",
    "            oldPathSum = currPathSum - target\n",
    "\n",
    "            print(cache.get(oldPathSum, 0))\n",
    "            self.output += cache.get(oldPathSum, 0)\n",
    "            print(cache.get(currPathSum, 0))\n",
    "            cache[currPathSum] = cache.get(currPathSum, 0) + 1\n",
    "            print(\"-------------\")\n",
    "            \n",
    "            dfs(root.left, currPathSum)\n",
    "            dfs(root.right, currPathSum)\n",
    "\n",
    "            cache[currPathSum] -= 1\n",
    "        dfs(root, 0)\n",
    "        return self.output"
   ]
  },
  {
   "cell_type": "code",
   "execution_count": 2,
   "metadata": {},
   "outputs": [],
   "source": [
    "class node:\n",
    "    def __init__(self, v):\n",
    "        self.left = None\n",
    "        self.right = None\n",
    "        self.value = v\n",
    "        "
   ]
  },
  {
   "cell_type": "code",
   "execution_count": 9,
   "metadata": {},
   "outputs": [
    {
     "name": "stdout",
     "output_type": "stream",
     "text": [
      "0\n",
      "0\n",
      "-------------\n",
      "0\n",
      "0\n",
      "-------------\n",
      "1\n",
      "0\n",
      "-------------\n",
      "0\n",
      "0\n",
      "-------------\n",
      "0\n",
      "0\n",
      "-------------\n",
      "0\n",
      "0\n",
      "-------------\n",
      "1\n",
      "0\n",
      "-------------\n",
      "0\n",
      "0\n",
      "-------------\n",
      "1\n",
      "0\n",
      "-------------\n"
     ]
    },
    {
     "data": {
      "text/plain": [
       "3"
      ]
     },
     "execution_count": 9,
     "metadata": {},
     "output_type": "execute_result"
    }
   ],
   "source": [
    "n1 = node(10)\n",
    "n2 = node(5)\n",
    "n3 = node(-3)\n",
    "n1.left = n2\n",
    "n1.right = n3\n",
    "n4 = node(3)\n",
    "n5 = node(2)\n",
    "n6 = node(11)\n",
    "n2.left = n4\n",
    "n2.right = n5\n",
    "n3.right = n6\n",
    "n7 = node(3)\n",
    "n8 = node(-2)\n",
    "n9 = node(1)\n",
    "n4.left = n7\n",
    "n4.right = n8\n",
    "n5.right = n9\n",
    "a = solution\n",
    "a.otherSolution(a,n1,8)"
   ]
  },
  {
   "cell_type": "code",
   "execution_count": 20,
   "metadata": {},
   "outputs": [],
   "source": [
    "class Solution(object):\n",
    "    def pathSum(self, root, sum):\n",
    "        \"\"\"\n",
    "        :type root: TreeNode\n",
    "        :type sum: int\n",
    "        :rtype: int\n",
    "        \"\"\"\n",
    "        if not root:\n",
    "            return 0\n",
    "        \n",
    "        def dfs(root, sum):\n",
    "            count = 0\n",
    "            if not root:\n",
    "                return 0\n",
    "            if root.value == sum:\n",
    "                count += 1\n",
    "            count += dfs(root.left, sum - root.value)\n",
    "            count += dfs(root.right, sum - root.value)\n",
    "            return count\n",
    "        \n",
    "        return dfs(root, sum) + self.pathSum(root.left, sum) + self.pathSum(root.right, sum)"
   ]
  },
  {
   "cell_type": "code",
   "execution_count": 23,
   "metadata": {},
   "outputs": [
    {
     "data": {
      "text/plain": [
       "3"
      ]
     },
     "execution_count": 23,
     "metadata": {},
     "output_type": "execute_result"
    }
   ],
   "source": [
    "n1 = node(10)\n",
    "n2 = node(5)\n",
    "n3 = node(-3)\n",
    "n1.left = n2\n",
    "n1.right = n3\n",
    "n4 = node(3)\n",
    "n5 = node(2)\n",
    "n6 = node(11)\n",
    "n2.left = n4\n",
    "n2.right = n5\n",
    "n3.right = n6\n",
    "n7 = node(3)\n",
    "n8 = node(-2)\n",
    "n9 = node(1)\n",
    "n4.left = n7\n",
    "n4.right = n8\n",
    "n5.right = n9\n",
    "a = Solution()\n",
    "a.pathSum(n1, 8)"
   ]
  }
 ],
 "metadata": {
  "kernelspec": {
   "display_name": "Python 3",
   "language": "python",
   "name": "python3"
  },
  "language_info": {
   "codemirror_mode": {
    "name": "ipython",
    "version": 3
   },
   "file_extension": ".py",
   "mimetype": "text/x-python",
   "name": "python",
   "nbconvert_exporter": "python",
   "pygments_lexer": "ipython3",
   "version": "3.7.3"
  }
 },
 "nbformat": 4,
 "nbformat_minor": 2
}
