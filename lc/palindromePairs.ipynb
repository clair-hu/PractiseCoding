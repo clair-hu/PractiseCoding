{
 "cells": [
  {
   "cell_type": "code",
   "execution_count": 21,
   "metadata": {},
   "outputs": [],
   "source": [
    "def palindromePairs(words):\n",
    "    output = []\n",
    "    for l, w1 in enumerate(words[:-1]):\n",
    "        for r, w2 in enumerate(words[l+1:]):\n",
    "            if (isPalindrome(w1+w2)):\n",
    "                output.append([l,r+l+1])\n",
    "            if (isPalindrome(w2+w1)):\n",
    "                output.append([r+l+1,l])\n",
    "    return output\n",
    "        "
   ]
  },
  {
   "cell_type": "code",
   "execution_count": 22,
   "metadata": {},
   "outputs": [],
   "source": [
    "def isPalindromePair(w1, w2):\n",
    "    return isPalindrome(w1+w2)\n",
    "#     if len(w1) == len(w2):\n",
    "#         for i in range(len(w1)):\n",
    "#             if w1[i] != w2[len(w2)-i-1]:\n",
    "#                 return False\n",
    "#     elif len(w1) > len(w2):\n",
    "#         delta = len(w1) - len(w2)\n",
    "#         if (isPalindrome(w1[len(w2):])):\n",
    "            "
   ]
  },
  {
   "cell_type": "code",
   "execution_count": 1,
   "metadata": {},
   "outputs": [],
   "source": [
    "def isPalindrome(w):\n",
    "    for i in range(len(w)//2):\n",
    "        if w[i] != w[len(w)-i-1]:\n",
    "            return False\n",
    "    return True\n",
    "        "
   ]
  },
  {
   "cell_type": "code",
   "execution_count": 25,
   "metadata": {},
   "outputs": [
    {
     "data": {
      "text/plain": [
       "[[0, 1], [1, 0]]"
      ]
     },
     "execution_count": 25,
     "metadata": {},
     "output_type": "execute_result"
    }
   ],
   "source": [
    "palindromePairs([\"abcd\",\"dcba\",\"lls\",\"s\",\"sssll\"])\n",
    "palindromePairs([\"bat\",\"tab\",\"cat\"])"
   ]
  },
  {
   "cell_type": "code",
   "execution_count": null,
   "metadata": {},
   "outputs": [],
   "source": []
  },
  {
   "cell_type": "code",
   "execution_count": 4,
   "metadata": {},
   "outputs": [],
   "source": [
    "def solution(words):\n",
    "    ret = []\n",
    "    words_dict = {word:i for i, word in enumerate(words)}\n",
    "    \n",
    "    for i, word in enumerate(words):\n",
    "        if not word:\n",
    "            continue\n",
    "        for k in range(1, len(word)):\n",
    "            left, right = word[0:k], word[k:]\n",
    "            if isPalindrome(left):\n",
    "                right_reversed = right[::-1]\n",
    "                if right_reversed in words_dict:\n",
    "                    j = words_dict[right_reversed]\n",
    "                    if i != j:\n",
    "                        ret.append([j,i])\n",
    "                        \n",
    "            if isPalindrome(right):\n",
    "                left_reversed = left[::-1]\n",
    "                if left_reversed in words_dict:\n",
    "                    j = words_dict[left_reversed]\n",
    "                    if i != j:\n",
    "                        ret.append([i,j])\n",
    "            \n",
    "        left, right = \"\", word\n",
    "        right_reversed = right[::-1]\n",
    "        if right_reversed in words_dict:\n",
    "            j = words_dict[right_reversed]\n",
    "            if i != j:\n",
    "                ret.append([j,i])\n",
    "                \n",
    "        if isPalindrome(right) and \"\" in words_dict:\n",
    "            ret.append([i, words_dict[\"\"]])\n",
    "            ret.append([words_dict[\"\"], i])\n",
    "\n",
    "    return ret"
   ]
  },
  {
   "cell_type": "code",
   "execution_count": 6,
   "metadata": {},
   "outputs": [
    {
     "data": {
      "text/plain": [
       "[[1, 0], [0, 1]]"
      ]
     },
     "execution_count": 6,
     "metadata": {},
     "output_type": "execute_result"
    }
   ],
   "source": [
    "solution([\"bat\",\"tab\",\"cat\"])"
   ]
  },
  {
   "cell_type": "code",
   "execution_count": null,
   "metadata": {},
   "outputs": [],
   "source": []
  }
 ],
 "metadata": {
  "kernelspec": {
   "display_name": "Python 3",
   "language": "python",
   "name": "python3"
  },
  "language_info": {
   "codemirror_mode": {
    "name": "ipython",
    "version": 3
   },
   "file_extension": ".py",
   "mimetype": "text/x-python",
   "name": "python",
   "nbconvert_exporter": "python",
   "pygments_lexer": "ipython3",
   "version": "3.7.3"
  }
 },
 "nbformat": 4,
 "nbformat_minor": 2
}
