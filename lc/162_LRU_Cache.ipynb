{
 "cells": [
  {
   "cell_type": "code",
   "execution_count": null,
   "metadata": {},
   "outputs": [],
   "source": [
    "import collections\n",
    "class LRUCache(collections.OrderedDict):\n",
    "    def __init__(self, capacity):\n",
    "        super().__init__()\n",
    "        self.capacity = capacity\n",
    "        \n",
    "    def get(self, key):\n",
    "        if key in self:\n",
    "            self.move_to_end(key)\n",
    "            return self[key]\n",
    "        else:\n",
    "            return -1\n",
    "        \n",
    "    def put(self, key, value):\n",
    "        if key in self:\n",
    "            self.move_to_end(key)\n",
    "            self[key] = value\n",
    "        else:\n",
    "            if len(self) == self.capacity:\n",
    "                self.popitem(False)\n",
    "            self[key] = value"
   ]
  },
  {
   "cell_type": "code",
   "execution_count": 1,
   "metadata": {},
   "outputs": [],
   "source": [
    "import collections\n",
    "class LRUCache:\n",
    "    def __init__(self, capacity):\n",
    "        self.orderedDict = collections.OrderedDict()\n",
    "        self.capacity = capacity\n",
    "        \n",
    "    def get(self, key):\n",
    "        if key in self.orderedDict:\n",
    "            self.orderedDict.move_to_end(key)\n",
    "            return self.orderedDict[key]\n",
    "        else:\n",
    "            return -1\n",
    "        \n",
    "    def put(self, key, value):\n",
    "        if key in self.orderedDict:\n",
    "            self.orderedDict.move_to_end(key)\n",
    "            self.orderedDict[key] = value\n",
    "        else:\n",
    "            if len(self.orderedDict) == self.capacity:\n",
    "                self.orderedDict.popitem(False)\n",
    "            self.orderedDict[key] = value\n",
    "            \n",
    "\n",
    "# Your LRUCache object will be instantiated and called as such:\n",
    "# obj = LRUCache(capacity)\n",
    "# param_1 = obj.get(key)\n",
    "# obj.put(key,value)"
   ]
  },
  {
   "cell_type": "code",
   "execution_count": null,
   "metadata": {},
   "outputs": [],
   "source": [
    "class LRUCache:\n",
    "    import collections\n",
    "    def __init__(self, capacity: int):\n",
    "        self.orderedDict = collections.OrderedDict()\n",
    "        self.capacity = capacity\n",
    "\n",
    "    def get(self, key: int) -> int:\n",
    "        element = self.orderedDict.pop(key, -1)\n",
    "        if element == -1:\n",
    "            return element\n",
    "        self.orderedDict[key] = element\n",
    "        return element\n",
    "\n",
    "    def put(self, key: int, value: int) -> None:\n",
    "        if key not in self.orderedDict.keys():\n",
    "            # two different if statements to check for key error\n",
    "            if len(self.orderedDict) == self.capacity:\n",
    "                self.orderedDict.popitem(False)\n",
    "        else:\n",
    "            self.orderedDict.pop(key)\n",
    "\n",
    "        self.orderedDict[key] = value\n",
    "    \n",
    "\n",
    "# Your LRUCache object will be instantiated and called as such:\n",
    "# obj = LRUCache(capacity)\n",
    "# param_1 = obj.get(key)\n",
    "# obj.put(key,value)"
   ]
  },
  {
   "cell_type": "code",
   "execution_count": 16,
   "metadata": {},
   "outputs": [
    {
     "name": "stdout",
     "output_type": "stream",
     "text": [
      "OrderedDict([('a', 3), ('b', 2), ('c', 3), ('d', 2)])\n",
      "('a', 3)\n",
      "OrderedDict([('b', 2), ('c', 3), ('d', 2)])\n"
     ]
    }
   ],
   "source": [
    "import collections\n",
    "od = collections.OrderedDict()\n",
    "od['a'] = 1\n",
    "od['b'] = 2\n",
    "od['c'] = 3\n",
    "od['d'] = 2\n",
    "od['a'] = 3\n",
    "print(od)\n",
    "x = od.popitem(False)\n",
    "print(x)\n",
    "print(od)"
   ]
  },
  {
   "cell_type": "code",
   "execution_count": 13,
   "metadata": {},
   "outputs": [
    {
     "name": "stdout",
     "output_type": "stream",
     "text": [
      "[1, 2, 3, 4, 5, 6]\n",
      "6\n",
      "[1, 2, 3, 4, 5]\n",
      "1\n",
      "[2, 3, 4, 5]\n",
      "5\n",
      "[2, 3, 4]\n"
     ]
    }
   ],
   "source": [
    "l = [1,2,3,4,5,6]\n",
    "print(l)\n",
    "x = l.pop()\n",
    "print(x)\n",
    "print(l)\n",
    "y = l.pop(0)\n",
    "print(y)\n",
    "print(l)\n",
    "z = l.pop(-1)\n",
    "print(z)\n",
    "print(l)"
   ]
  },
  {
   "cell_type": "code",
   "execution_count": 20,
   "metadata": {},
   "outputs": [
    {
     "name": "stdout",
     "output_type": "stream",
     "text": [
      "4\n"
     ]
    }
   ],
   "source": [
    "a = max(1,2,4)\n",
    "print(a)"
   ]
  }
 ],
 "metadata": {
  "kernelspec": {
   "display_name": "Python 3",
   "language": "python",
   "name": "python3"
  },
  "language_info": {
   "codemirror_mode": {
    "name": "ipython",
    "version": 3
   },
   "file_extension": ".py",
   "mimetype": "text/x-python",
   "name": "python",
   "nbconvert_exporter": "python",
   "pygments_lexer": "ipython3",
   "version": "3.7.3"
  }
 },
 "nbformat": 4,
 "nbformat_minor": 2
}
