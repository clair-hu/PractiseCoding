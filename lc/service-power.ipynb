{
 "cells": [
  {
   "cell_type": "markdown",
   "metadata": {},
   "source": [
    "Input: \n",
    "serverPower - array of ints, ints are from 1-5 \n",
    "events - arr of strings\n",
    "events[i]:\n",
    "\"REQUEST\"\n",
    "\"FAIL <i>\", e.g., \"FAIL 1\" - making server 1 inactive\n",
    "at the start of each cycle, inactive would stay inactive; server power for the rest of the servers would be restored\n",
    "Output:\n",
    "the index of the server that has served the most requests\n",
    "in case of a tie, return server with bigger index\n",
    "\n",
    "serverPowers = [1, 2 , 1, 2, 1]\n",
    "events = [\n",
    "\t\"REQUEST\",\n",
    "\t\"REQUEST\",\n",
    "\"FAIL 2\",\n",
    "\t\"REQUEST\",\n",
    "\t\"FAIL 3\",\n",
    "\t\"REQUEST\",\n",
    "\t\"REQUEST\"\n",
    "]\n",
    "output = 1\n"
   ]
  },
  {
   "cell_type": "code",
   "execution_count": 6,
   "metadata": {},
   "outputs": [
    {
     "name": "stdout",
     "output_type": "stream",
     "text": [
      "[1, 2, 0, 2, 0]\n",
      "[True, False, False, True, True]\n"
     ]
    },
    {
     "data": {
      "text/plain": [
       "3"
      ]
     },
     "execution_count": 6,
     "metadata": {},
     "output_type": "execute_result"
    }
   ],
   "source": [
    "def server_request_counts(server_power, events):\n",
    "    n = len(server_power)\n",
    "    curr_server_power = server_power[:]\n",
    "    is_active = [True] * n\n",
    "    req_cnt = [0] * n\n",
    "\n",
    "    i = 0\n",
    "    while events:\n",
    "        event = events.pop(0)\n",
    "        if event == \"REQUEST\":\n",
    "            while not is_active[i] or curr_server_power[i] == 0:\n",
    "                if i == n - 1:\n",
    "                    i = 0\n",
    "                    curr_server_power = server_power[:]\n",
    "                else:\n",
    "                    i += 1\n",
    "            req_cnt[i] += 1\n",
    "            curr_server_power[i] -= 1\n",
    "            continue\n",
    "        server_down = int(event.split(\" \")[1])\n",
    "        is_active[server_down] = False\n",
    "\n",
    "    max_request = max(req_cnt)\n",
    "    \n",
    "    for index in range(n-1, -1, -1):\n",
    "        if req_cnt[index] == max_request:\n",
    "            return index\n",
    "    \n",
    "\n",
    "server_power_0 = [1, 2 , 1, 2, 1]\n",
    "events_0 = [\n",
    "\t\"REQUEST\",\n",
    "\t\"REQUEST\",\n",
    "\"FAIL 2\",\n",
    "\t\"REQUEST\",\n",
    "\t\"FAIL 1\",\n",
    "\t\"REQUEST\",\n",
    "\t\"REQUEST\"\n",
    "]\n",
    "server_request_counts(server_power_0, events_0)"
   ]
  }
 ],
 "metadata": {
  "kernelspec": {
   "display_name": "Python 3",
   "language": "python",
   "name": "python3"
  },
  "language_info": {
   "codemirror_mode": {
    "name": "ipython",
    "version": 3
   },
   "file_extension": ".py",
   "mimetype": "text/x-python",
   "name": "python",
   "nbconvert_exporter": "python",
   "pygments_lexer": "ipython3",
   "version": "3.9.6"
  }
 },
 "nbformat": 4,
 "nbformat_minor": 2
}
