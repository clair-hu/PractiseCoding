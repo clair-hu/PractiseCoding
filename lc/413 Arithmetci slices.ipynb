{
 "cells": [
  {
   "cell_type": "code",
   "execution_count": 23,
   "metadata": {},
   "outputs": [],
   "source": [
    "def dp(a):\n",
    "    if len(a) < 3:\n",
    "        return 0\n",
    "    dif = [0] * len(a)\n",
    "    for i in range(1, len(a)):\n",
    "        dif[i] = a[i] - a[i-1]\n",
    "    \n",
    "    print(dif)\n",
    "    currDif = dif[1]\n",
    "    conseSame = 0\n",
    "    total = 0\n",
    "    for i in range(2, len(a)):\n",
    "        if dif[i] == currDif:\n",
    "            conseSame += 1\n",
    "            \n",
    "        else:\n",
    "            total += conseSame * (1 + conseSame) //2\n",
    "            currDif = dif[i]\n",
    "            conseSame = 0\n",
    "    total += conseSame * (1 + conseSame) //2\n",
    "    return total"
   ]
  },
  {
   "cell_type": "code",
   "execution_count": 24,
   "metadata": {},
   "outputs": [
    {
     "name": "stdout",
     "output_type": "stream",
     "text": [
      "[0, 1, 1, 1, 2, 2, 2, 2]\n"
     ]
    },
    {
     "data": {
      "text/plain": [
       "9"
      ]
     },
     "execution_count": 24,
     "metadata": {},
     "output_type": "execute_result"
    }
   ],
   "source": [
    "dp([1, 2, 3, 4, 6, 8, 10, 12])"
   ]
  },
  {
   "cell_type": "code",
   "execution_count": null,
   "metadata": {},
   "outputs": [],
   "source": [
    "public class Solution {\n",
    "    public int numberOfArithmeticSlices(int[] A) {\n",
    "        int dp = 0;\n",
    "        int sum = 0;\n",
    "        for (int i = 2; i < A.length; i++) {\n",
    "            if (A[i] - A[i - 1] == A[i - 1] - A[i - 2]) {\n",
    "                dp = 1 + dp;\n",
    "                sum += dp;\n",
    "            } else\n",
    "                dp = 0;\n",
    "        }\n",
    "        return sum;\n",
    "    }\n",
    "}"
   ]
  }
 ],
 "metadata": {
  "kernelspec": {
   "display_name": "Python 3",
   "language": "python",
   "name": "python3"
  },
  "language_info": {
   "codemirror_mode": {
    "name": "ipython",
    "version": 3
   },
   "file_extension": ".py",
   "mimetype": "text/x-python",
   "name": "python",
   "nbconvert_exporter": "python",
   "pygments_lexer": "ipython3",
   "version": "3.7.3"
  }
 },
 "nbformat": 4,
 "nbformat_minor": 2
}
