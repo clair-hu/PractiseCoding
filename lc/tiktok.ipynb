{
 "cells": [
  {
   "cell_type": "code",
   "execution_count": null,
   "metadata": {},
   "outputs": [],
   "source": [
    "000000000\n",
    "001111000\n",
    "001111000\n",
    "001111000\n",
    "001111000\n",
    "000000000\n",
    "001000000\n",
    "\n",
    "-> \n",
    "3211112321\n",
    "21xxxx121x\n",
    "21x11x121x\n",
    "21x11x121x\n",
    "21xxxx123\n",
    "321111234\n",
    "000000000"
   ]
  },
  {
   "cell_type": "code",
   "execution_count": 19,
   "metadata": {},
   "outputs": [],
   "source": [
    "def distance_to_boundary(pixels):\n",
    "    m = len(pixels)\n",
    "    n = len(pixels[0])\n",
    "    def is_boundary(x, y):\n",
    "        m = len(pixels)\n",
    "        n = len(pixels[0])\n",
    "        if pixels[x][y] != 1:\n",
    "            return False\n",
    "        if x == m - 1 or y == n - 1:\n",
    "            return True\n",
    "        for (dx, dy) in zip([1,-1,0,0], [0,0,1,-1]):\n",
    "            if pixels[x + dx][y + dy] == 0:\n",
    "                return True\n",
    "        return False\n",
    "\n",
    "    to_update = []\n",
    "    new_value = 1\n",
    "    for x in range(m):\n",
    "        for y in range(n):\n",
    "            if is_boundary(x,y):\n",
    "                pixels[x][y] = -1\n",
    "                for (dx, dy) in zip([1,-1,0,0], [0,0,1,-1]):\n",
    "                    if 0 <= x + dx < m and 0 <= y + dy < n and pixels[x + dx][y + dy] == 0:\n",
    "                        to_update.append((x+dx, y+dy))\n",
    "    while to_update:\n",
    "        for _ in range(len(to_update)):\n",
    "            x,y = to_update.pop(0)\n",
    "            pixels[x][y] = new_value\n",
    "            for (dx, dy) in zip([1,-1,0,0], [0,0,1,-1]):\n",
    "                if 0 <= x + dx < m and 0 <= y + dy < n and (pixels[x + dx][y + dy] != 0 or pixels[x + dx][y + dy] > new_value + 1):\n",
    "                    to_update.append((x+dx, y+dy))\n",
    "\n",
    "        new_value += 1\n",
    "    return pixels\n"
   ]
  },
  {
   "cell_type": "code",
   "execution_count": 20,
   "metadata": {},
   "outputs": [
    {
     "data": {
      "text/plain": [
       "[[1, 2, 2, 2, 3],\n",
       " [-1, -1, -1, -1, 1],\n",
       " [1, -1, 1, -1, 2],\n",
       " [2, -1, -1, -1, 2],\n",
       " [2, 1, 2, 2, 3],\n",
       " [-1, 2, -1, 2, 3]]"
      ]
     },
     "execution_count": 20,
     "metadata": {},
     "output_type": "execute_result"
    }
   ],
   "source": [
    "pixels_0 = [[0,0,0,0,0], [1,1,1,1,0], [0,1,1,1,0], [0,1,1,1,0], [0,0,0,0,0],[1,0,1,0,0]]\n",
    "distance_to_boundary(pixels_0)"
   ]
  },
  {
   "cell_type": "code",
   "execution_count": 36,
   "metadata": {},
   "outputs": [
    {
     "name": "stdout",
     "output_type": "stream",
     "text": [
      "['3', '2', '1', '1', '1', '1', '1', '2']\n",
      "['2', '1', 'x', 'x', 'x', 'x', 'x', '1']\n",
      "['2', '1', 'x', '1', '1', '1', 'x', '1']\n",
      "['2', '1', 'x', '1', '1', '1', 'x', '1']\n",
      "['2', '1', 'x', '1', '1', '1', 'x', '1']\n",
      "['2', '1', 'x', 'x', 'x', 'x', 'x', '1']\n",
      "['2', '1', '1', '1', '1', '1', '1', '1']\n",
      "['1', 'x', 'x', 'x', 'x', 'x', 'x', 'x']\n"
     ]
    }
   ],
   "source": [
    "boundaries = []\n",
    "inner_ones = []\n",
    "def find_boundary(pixels):\n",
    "    for r in range(len(pixels)):\n",
    "        for c in range(len(pixels[0])):\n",
    "            if pixels[r][c] == \"1\":\n",
    "                if r == 0 or r == len(pixels) - 1 or c == 0 or c == len(pixels[0]) - 1:\n",
    "                    pixels[r][c] = \"x\"\n",
    "                    boundaries.append((r, c))\n",
    "                    continue\n",
    "                if any(pixels[r+dr][c+dc] == \"0\" for dr, dc in zip([1,-1,0,0], [0,0,1,-1])):\n",
    "                    pixels[r][c] = \"x\"\n",
    "                    boundaries.append((r, c))\n",
    "                else:\n",
    "                    inner_ones.append((r, c))\n",
    "pixels_0 = [['0', '0', '0', '0', '0', '0','0', '0'],\n",
    "          ['0', '0', '1', '1', '1', '1','1', '0'],\n",
    "          ['0', '0', '1', '1', '1', '1','1', '0'],\n",
    "          ['0', '0', '1', '1', '1', '1','1', '0'],\n",
    "          ['0', '0', '1', '1', '1', '1','1','0'],\n",
    "          ['0', '0', '1', '1', '1', '1','1', '0'],\n",
    "          ['0', '0', '0', '0', '0', '0','0', '0'],\n",
    "          ['0', '1', '1', '1', '1', '1','1', '1']]\n",
    "find_boundary(pixels_0)\n",
    "def calculate_distance(pixels):\n",
    "    visited = set(boundaries)\n",
    "    while boundaries:\n",
    "        r, c = boundaries.pop(0)\n",
    "        if pixels[r][c] == \"x\":\n",
    "            cur_dis = 0\n",
    "        else:\n",
    "            cur_dis = int(pixels[r][c])\n",
    "        for dr, dc in zip([1,-1,0,0], [0,0,1,-1]):\n",
    "            new_r, new_c = r+dr, c+dc\n",
    "            if (not 0 <= new_r < len(pixels)) or (not 0 <= new_c < len(pixels[0])):\n",
    "                continue \n",
    "            if (new_r, new_c) in visited:\n",
    "                continue\n",
    "            if (new_r, new_c) in inner_ones:\n",
    "                continue\n",
    "            visited.add((new_r, new_c))\n",
    "            boundaries.append((new_r, new_c))\n",
    "            pixels[new_r][new_c] = str(cur_dis + 1)\n",
    "\n",
    "\n",
    "calculate_distance(pixels_0)                   \n",
    "for row in pixels_0:\n",
    "    print(row)\n"
   ]
  }
 ],
 "metadata": {
  "kernelspec": {
   "display_name": "Python 3",
   "language": "python",
   "name": "python3"
  },
  "language_info": {
   "codemirror_mode": {
    "name": "ipython",
    "version": 3
   },
   "file_extension": ".py",
   "mimetype": "text/x-python",
   "name": "python",
   "nbconvert_exporter": "python",
   "pygments_lexer": "ipython3",
   "version": "3.9.6"
  }
 },
 "nbformat": 4,
 "nbformat_minor": 2
}
