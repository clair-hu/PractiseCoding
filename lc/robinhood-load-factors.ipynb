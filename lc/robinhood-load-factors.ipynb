{
 "cells": [
  {
   "cell_type": "code",
   "execution_count": null,
   "metadata": {},
   "outputs": [],
   "source": [
    "Overview\n",
    "You are building an application that consists of many different services that can depend on each other. One of these services is the entrypoint which receives user requests and then makes requests to each of its dependencies, which will in turn call each of their dependencies and so on before returning.\n",
    "Given a directed acyclic graph that contains these dependencies, you are tasked with determining the \"load factor\" for each of these services to handle this load. The load factor of a service is defined as the number of units of load it will receive if the entrypoint receives a 1 unit of load. Note that we are interested in the worst case capacity. For a given downstream service, its load factor is the number of units of load it is required to handle if all upstream services made simultaneous requests. For example, in the following dependency graph where A is the entrypoint:\n",
    "\n",
    "Each query to A will generate one query to B which will pass it on to C and from there to D. A will also generate a query to C which will pass it on to D, so the worst case (maximum) load factors for each service is A:1, B:1, C:2, D:2.\n",
    "(Important: make sure you've fully understood the above example before proceeding!)\n",
    "\n",
    "Problem Details\n",
    "\n",
    "service_list: An array of strings of format service_name=dependency1,dependency2. Dependencies can be blank (e.g. dashboard=) and non-existent dependency references should be ignored (e.g. prices=users,foobar and foobar is not a service defined in the graph). Each service is defined only once in the graph.\n",
    "entrypoint: An arbitrary service that is guaranteed to exist within the graph\n",
    "Output: A list of all services depended by (and including) entrypoint as an array of strings with the format service_name*load_factor sorted by service name.\n",
    "Example\n",
    "\n",
    "Input:\n",
    "service_list = [\"logging=\",\n",
    "\"user=logging\",\n",
    "\"orders=user,foobar\",\n",
    "\"recommendations=user,orders\",\n",
    "\"dashboard=user,orders,recommendations\"]\n",
    "entrypoint = \"dashboard\"\n",
    "\n",
    "Output (note sorted by service name)\n",
    "[\"dashboard1\",\n",
    "\"logging4\",\n",
    "\"orders2\",\n",
    "\"recommendations1\",\n",
    "\"user*4\"]\n",
    "[execution time limit] 3 seconds (cs)\n",
    "\n",
    "[input] array.string service_list\n",
    "\n",
    "[input] string entrypoint\n",
    "\n",
    "[output] array.string\n",
    "\n",
    "[C#] Syntax Tips\n",
    "\n",
    "// Prints help message to the console\n",
    "// Returns a string\n",
    "string helloWorld(string name) {\n",
    "Console.Write(\"This prints to the console when you Run Tests\");\n",
    "return \"Hello, \" + name;\n",
    "}"
   ]
  },
  {
   "cell_type": "code",
   "execution_count": 17,
   "metadata": {},
   "outputs": [],
   "source": [
    "from collections import defaultdict\n",
    "def load_factor(service_list, entrypoint):\n",
    "    existed_dependencies = set(entrypoint)\n",
    "    dependencies = {}\n",
    "    service_loads = defaultdict(int)\n",
    "    for service in service_list:\n",
    "        parent, children = service.split(\"=\")\n",
    "        existed_dependencies.add(parent)\n",
    "        # todo handle duplicates\n",
    "        if children:\n",
    "            dependencies[parent] = children.split(\",\")\n",
    "        else:\n",
    "            dependencies[parent] = []\n",
    "\n",
    "\n",
    "    def dfs(service, visited):\n",
    "        if service not in existed_dependencies:\n",
    "            return\n",
    "        if visited[service]: # if it returns True it's a cycle\n",
    "            return\n",
    "        service_loads[service] += 1\n",
    "        visited[service] = True\n",
    "        for child in dependencies[service]:\n",
    "            dfs(child, visited)\n",
    "        visited[service] = False\n",
    "\n",
    "    \n",
    "    dfs(entrypoint, defaultdict(lambda: False))\n",
    "    res = [service+\"\"+str(load) for service,load in sorted(service_loads.items(), key=lambda item: item[0])]\n",
    "    return res\n",
    "\n"
   ]
  },
  {
   "cell_type": "code",
   "execution_count": 18,
   "metadata": {},
   "outputs": [
    {
     "data": {
      "text/plain": [
       "['dashboard1', 'logging4', 'orders4', 'recommendations1', 'user4']"
      ]
     },
     "execution_count": 18,
     "metadata": {},
     "output_type": "execute_result"
    }
   ],
   "source": [
    "service_list_0 = [\"logging=\",\n",
    "\"user=logging,orders\",\n",
    "\"orders=user,foobar\",\n",
    "\"recommendations=user,orders\",\n",
    "\"dashboard=user,orders,recommendations\"]\n",
    "entrypoint_0 = \"dashboard\"\n",
    "load_factor(service_list_0, entrypoint_0)"
   ]
  }
 ],
 "metadata": {
  "kernelspec": {
   "display_name": "Python 3",
   "language": "python",
   "name": "python3"
  },
  "language_info": {
   "codemirror_mode": {
    "name": "ipython",
    "version": 3
   },
   "file_extension": ".py",
   "mimetype": "text/x-python",
   "name": "python",
   "nbconvert_exporter": "python",
   "pygments_lexer": "ipython3",
   "version": "3.9.6"
  }
 },
 "nbformat": 4,
 "nbformat_minor": 2
}
