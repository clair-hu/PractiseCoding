{
 "cells": [
  {
   "cell_type": "code",
   "execution_count": 5,
   "metadata": {},
   "outputs": [],
   "source": [
    "def eventualSafeNodes(graph):\n",
    "    num_nodes = len(graph)\n",
    "    safe = {}\n",
    "\n",
    "    for i in range(num_nodes):\n",
    "        if i not in safe:\n",
    "            dfs(i, graph, safe)\n",
    "\n",
    "    res = [i for i in range(num_nodes) if safe[i]]\n",
    "    return res\n",
    "\n",
    "def dfs(node, graph, safe):\n",
    "    for child in graph[node]:\n",
    "        if child not in safe:\n",
    "            safe[node] = False\n",
    "            dfs(child, graph, safe)\n",
    "        if safe[child] == False:\n",
    "            safe[node] = False\n",
    "            return\n",
    "    safe[node] = True        \n"
   ]
  },
  {
   "cell_type": "code",
   "execution_count": 6,
   "metadata": {},
   "outputs": [
    {
     "data": {
      "text/plain": [
       "[2, 4, 5, 6]"
      ]
     },
     "execution_count": 6,
     "metadata": {},
     "output_type": "execute_result"
    }
   ],
   "source": [
    "eventualSafeNodes([[1,2],[2,3],[5],[0],[5],[],[]])"
   ]
  },
  {
   "cell_type": "code",
   "execution_count": 7,
   "metadata": {},
   "outputs": [
    {
     "data": {
      "text/plain": [
       "[4]"
      ]
     },
     "execution_count": 7,
     "metadata": {},
     "output_type": "execute_result"
    }
   ],
   "source": [
    "eventualSafeNodes([[1,2,3,4],[1,2],[3,4],[0,4],[]])"
   ]
  }
 ],
 "metadata": {
  "kernelspec": {
   "display_name": "Python 3",
   "language": "python",
   "name": "python3"
  },
  "language_info": {
   "codemirror_mode": {
    "name": "ipython",
    "version": 3
   },
   "file_extension": ".py",
   "mimetype": "text/x-python",
   "name": "python",
   "nbconvert_exporter": "python",
   "pygments_lexer": "ipython3",
   "version": "3.9.6"
  }
 },
 "nbformat": 4,
 "nbformat_minor": 2
}
