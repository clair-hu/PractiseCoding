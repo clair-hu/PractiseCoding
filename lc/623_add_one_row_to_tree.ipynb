{
 "cells": [
  {
   "cell_type": "code",
   "execution_count": 18,
   "metadata": {
    "collapsed": true
   },
   "outputs": [],
   "source": [
    "class node:\n",
    "    left = None\n",
    "    right = None\n",
    "    \n",
    "    def __init__(self, v):\n",
    "        self.value = v\n",
    "        \n",
    "    def printNode(self, root):\n",
    "        if root != None:\n",
    "            print(root.value)\n",
    "            self.printNode(root.left)\n",
    "            self.printNode(root.right)"
   ]
  },
  {
   "cell_type": "code",
   "execution_count": 22,
   "metadata": {},
   "outputs": [
    {
     "name": "stdout",
     "output_type": "stream",
     "text": [
      "1\n",
      "2\n",
      "4\n",
      "5\n",
      "3\n"
     ]
    }
   ],
   "source": [
    "n1 = node(1)\n",
    "n2 = node(2)\n",
    "n3 = node(3)\n",
    "n4 = node(4)\n",
    "n5 = node(5)\n",
    "n1.left = n2\n",
    "n1.right = n3\n",
    "n2.left = n4\n",
    "n2.right = n5\n",
    "n1.printNode(n1)"
   ]
  },
  {
   "cell_type": "code",
   "execution_count": 77,
   "metadata": {
    "collapsed": true
   },
   "outputs": [],
   "source": [
    "def BFSSolution(root, v, d):\n",
    "    queue = [(root, 1, 0)] #o->left, 1->right\n",
    "    \n",
    "    if d == 1:\n",
    "        output = node(v)\n",
    "        output.left = root\n",
    "        print(\"print\")\n",
    "        output.printNode(output)\n",
    "        return output\n",
    "    \n",
    "    while queue:\n",
    "        currNode, depth, isRight = queue.pop(0)    \n",
    "        \n",
    "        if depth >= d:\n",
    "            print(\"print\")\n",
    "            root.printNode(root)\n",
    "            return root\n",
    "        \n",
    "        if currNode != None:\n",
    "            if depth == (d - 1):\n",
    "                tempLeft = currNode.left\n",
    "                tempRight = currNode.right\n",
    "                a = node(v)\n",
    "                b = node(v)\n",
    "                currNode.left = a\n",
    "                currNode.right = b\n",
    "                a.left = tempLeft\n",
    "                b.right = tempRight\n",
    "                queue.append((currNode.left, depth+1, 0))\n",
    "                queue.append((currNode.right, depth+1, 1))\n",
    "                continue\n",
    "            else:\n",
    "                queue.append((currNode.left, depth+1, 0))\n",
    "                queue.append((currNode.right, depth+1, 1))\n",
    "            \n",
    "            \n",
    "\n",
    "    "
   ]
  },
  {
   "cell_type": "code",
   "execution_count": 85,
   "metadata": {},
   "outputs": [
    {
     "name": "stdout",
     "output_type": "stream",
     "text": [
      "print\n",
      "1\n",
      "2\n",
      "10\n",
      "4\n",
      "10\n",
      "5\n",
      "3\n",
      "10\n",
      "10\n"
     ]
    },
    {
     "data": {
      "text/plain": [
       "<__main__.node at 0x191079f04e0>"
      ]
     },
     "execution_count": 85,
     "metadata": {},
     "output_type": "execute_result"
    }
   ],
   "source": [
    "n1 = node(1)\n",
    "n2 = node(2)\n",
    "n3 = node(3)\n",
    "n4 = node(4)\n",
    "n5 = node(5)\n",
    "n1.left = n2\n",
    "n1.right = n3\n",
    "n2.left = n4\n",
    "n2.right = n5\n",
    "# n1.printNode(n1)\n",
    "mySolution(n1, 10, 3)"
   ]
  },
  {
   "cell_type": "code",
   "execution_count": 83,
   "metadata": {
    "collapsed": true
   },
   "outputs": [],
   "source": [
    "def DFSSolution(root, v, d):\n",
    "    currDepth = 1\n",
    "    \n",
    "    def DFS(n, depth):\n",
    "        if n != None:\n",
    "            \n",
    "            if depth == (d - 1):\n",
    "                tempLeft = n.left\n",
    "                tempRight = n.right\n",
    "                a = node(v)\n",
    "                b = node(v)\n",
    "                n.left = a\n",
    "                n.right = b\n",
    "                a.left = tempLeft\n",
    "                b.right = tempRight\n",
    "                \n",
    "            elif depth < (d - 1):\n",
    "                DFS(n.left, depth + 1)\n",
    "                DFS(n.right, depth + 1)\n",
    "    \n",
    "            else:\n",
    "                return root\n",
    "    DFS(root, 1)\n",
    "    root.printNode(root)"
   ]
  },
  {
   "cell_type": "code",
   "execution_count": 86,
   "metadata": {},
   "outputs": [
    {
     "name": "stdout",
     "output_type": "stream",
     "text": [
      "1\n",
      "2\n",
      "10\n",
      "4\n",
      "10\n",
      "5\n",
      "3\n",
      "10\n",
      "10\n"
     ]
    }
   ],
   "source": [
    "n1 = node(1)\n",
    "n2 = node(2)\n",
    "n3 = node(3)\n",
    "n4 = node(4)\n",
    "n5 = node(5)\n",
    "n1.left = n2\n",
    "n1.right = n3\n",
    "n2.left = n4\n",
    "n2.right = n5\n",
    "DFSSolution(n1, 10, 3)"
   ]
  }
 ],
 "metadata": {
  "kernelspec": {
   "display_name": "Python 3",
   "language": "python",
   "name": "python3"
  },
  "language_info": {
   "codemirror_mode": {
    "name": "ipython",
    "version": 3
   },
   "file_extension": ".py",
   "mimetype": "text/x-python",
   "name": "python",
   "nbconvert_exporter": "python",
   "pygments_lexer": "ipython3",
   "version": "3.7.3"
  }
 },
 "nbformat": 4,
 "nbformat_minor": 2
}
