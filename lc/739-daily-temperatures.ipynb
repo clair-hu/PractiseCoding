{
 "cells": [
  {
   "cell_type": "code",
   "execution_count": 3,
   "metadata": {},
   "outputs": [],
   "source": [
    "def dailyTemperatures(temperatures):\n",
    "    res = [0 for _ in range(len(temperatures))]\n",
    "    stack = []\n",
    "    for i, temperature in enumerate(temperatures):\n",
    "        while stack and temperatures[stack[-1]] < temperature:\n",
    "            index = stack.pop()\n",
    "            res[index] = i - index\n",
    "        stack.append(i)\n",
    "    return res"
   ]
  },
  {
   "cell_type": "code",
   "execution_count": 4,
   "metadata": {},
   "outputs": [
    {
     "data": {
      "text/plain": [
       "[1, 1, 4, 2, 1, 1, 0, 0]"
      ]
     },
     "execution_count": 4,
     "metadata": {},
     "output_type": "execute_result"
    }
   ],
   "source": [
    "dailyTemperatures([73,74,75,71,69,72,76,73])"
   ]
  },
  {
   "cell_type": "code",
   "execution_count": null,
   "metadata": {},
   "outputs": [],
   "source": [
    "def dailyTemperatures_review(temperatures):\n",
    "    res = [0 for _ in temperatures]\n",
    "    stack = []\n",
    "    for i, temperature in enumerate(temperatures):\n",
    "        while stack and temperatures[stack[-1]] < temperature:\n",
    "            prev_index = stack.pop()\n",
    "            res[prev_index] = i - prev_index\n",
    "        stack.append(i)\n",
    "    return res\n",
    "\n",
    "\n"
   ]
  }
 ],
 "metadata": {
  "kernelspec": {
   "display_name": "Python 3",
   "language": "python",
   "name": "python3"
  },
  "language_info": {
   "codemirror_mode": {
    "name": "ipython",
    "version": 3
   },
   "file_extension": ".py",
   "mimetype": "text/x-python",
   "name": "python",
   "nbconvert_exporter": "python",
   "pygments_lexer": "ipython3",
   "version": "3.9.6"
  }
 },
 "nbformat": 4,
 "nbformat_minor": 2
}
