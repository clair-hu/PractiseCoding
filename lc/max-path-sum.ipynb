{
 "cells": [
  {
   "cell_type": "code",
   "execution_count": null,
   "metadata": {},
   "outputs": [],
   "source": [
    "import sys\n",
    "def max_path_sum(root):\n",
    "    res = [-sys.maxsize + 1]\n",
    "\n",
    "    def dfs(node):\n",
    "        # output will be the max top down path\n",
    "        if node.left == None and node.right == None:\n",
    "            res[0] = max(res[0], node.val)\n",
    "            return node.val\n",
    "        \n",
    "        leftTopDownSum, rightTopDownSum = 0, 0\n",
    "        if node.left:\n",
    "            leftTopDownSum = dfs(node.left)                \n",
    "        if node.right:\n",
    "            rightTopDownSum = dfs(node.right)\n",
    "        res[0] = max(res[0], node.val, node.val + leftTopDownSum, node.val + rightTopDownSum, node.val+leftTopDownSum+rightTopDownSum)\n",
    "        return max(node.val, node.val+leftTopDownSum, node.val+rightTopDownSum)\n",
    "    \n",
    "\n",
    "    dfs(root)\n",
    "    return res[0]\n",
    "        \n"
   ]
  },
  {
   "cell_type": "code",
   "execution_count": null,
   "metadata": {},
   "outputs": [],
   "source": []
  }
 ],
 "metadata": {
  "language_info": {
   "name": "python"
  }
 },
 "nbformat": 4,
 "nbformat_minor": 2
}
