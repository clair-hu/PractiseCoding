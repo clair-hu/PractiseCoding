{
 "cells": [
  {
   "cell_type": "code",
   "execution_count": 3,
   "metadata": {},
   "outputs": [],
   "source": [
    "\"\"\"\n",
    "Portfolio Value Optimization\n",
    "You have some securities available to buy that each has a price Pi.\n",
    "Your friend predicts for each security the stock price will be Si at some future date.\n",
    "But based on volatility of each share, you only want to buy up to Ai shares of each security i.\n",
    "Given M dollars to spend, calculate the maximum value you could potentially\n",
    "achieve based on the predicted prices Si (and including any cash you have remaining).\n",
    "\n",
    "Pi = Current Price\n",
    "Si = Expected Future Price\n",
    "Ai = Maximum units you are willing to purchase\n",
    "M = Dollars available to invest\n",
    "Example 1:\n",
    "Input:\n",
    "M = $140 available\n",
    "N = 4 Securities\n",
    "P1=15, S1=45, A1=3 (AAPL)\n",
    "P2=40, S2=50, A2=3 (BYND)\n",
    "P3=25, S3=35, A3=3 (SNAP)\n",
    "P4=30, S4=25, A4=4 (TSLA)\n",
    "\n",
    "Output: $265 (no cash remaining) \n",
    "3 shares of apple -> 45(15 *3), 135(45 *3)\n",
    "3 shares of snap -> 75, 105\n",
    "0.5 share of bynd -> 20, 25\n",
    "\"\"\"\n",
    "class Security:\n",
    "    def __init__(self, symbol, curr_price, future_price, max_unit):\n",
    "        self.symbol = symbol\n",
    "        self.curr_price = curr_price\n",
    "        self.future_price = future_price\n",
    "        self.max_unit = max_unit\n",
    "        self.rate = self.future_price/self.curr_price\n",
    "\n",
    "def optimize_portfolio_value(M, securities):\n",
    "    symbol_to_security = {}\n",
    "    for s in securities:\n",
    "        # todo handle duplicates with same symbol\n",
    "        strings = s.strip().split(\" \")\n",
    "        new_security = Security(symbol=strings[3][1:-1],\n",
    "                                curr_price=int(strings[0].split(\"=\")[1][:-1]),\n",
    "                                future_price=int(strings[1].split(\"=\")[1][:-1]),\n",
    "                                max_unit=int(strings[2].split(\"=\")[1]))\n",
    "        symbol_to_security[new_security.symbol] = new_security\n",
    "\n",
    "    symbol_to_security = {symbol: Security for symbol, Security in sorted(symbol_to_security.items(), key=lambda item: item[1].rate*-1)}\n",
    "    print(symbol_to_security)\n",
    "\n",
    "    gain = 0\n",
    "    for security in symbol_to_security.values():\n",
    "        if security.rate <= 1:\n",
    "            break\n",
    "        if M <= 0:\n",
    "            break\n",
    "        to_buy = min(security.curr_price * security.max_unit, M)\n",
    "        gain += security.future_price * (to_buy/security.curr_price)\n",
    "        M -= to_buy\n",
    "    return gain\n",
    "\n"
   ]
  },
  {
   "cell_type": "code",
   "execution_count": 4,
   "metadata": {},
   "outputs": [
    {
     "name": "stdout",
     "output_type": "stream",
     "text": [
      "{'AAPL': <__main__.Security object at 0x108635280>, 'SNAP': <__main__.Security object at 0x108635a90>, 'BYND': <__main__.Security object at 0x108635460>, 'TSLA': <__main__.Security object at 0x108635dc0>}\n"
     ]
    },
    {
     "data": {
      "text/plain": [
       "265.0"
      ]
     },
     "execution_count": 4,
     "metadata": {},
     "output_type": "execute_result"
    }
   ],
   "source": [
    "optimize_portfolio_value(140, [\"P1=15, S1=45, A1=3 (AAPL)\", \"P2=40, S2=50, A2=3 (BYND)\", \"P3=25, S3=35, A3=3 (SNAP)\", \"P4=30, S4=25, A4=4 (TSLA)\"])"
   ]
  }
 ],
 "metadata": {
  "kernelspec": {
   "display_name": "Python 3",
   "language": "python",
   "name": "python3"
  },
  "language_info": {
   "codemirror_mode": {
    "name": "ipython",
    "version": 3
   },
   "file_extension": ".py",
   "mimetype": "text/x-python",
   "name": "python",
   "nbconvert_exporter": "python",
   "pygments_lexer": "ipython3",
   "version": "3.9.6"
  }
 },
 "nbformat": 4,
 "nbformat_minor": 2
}
