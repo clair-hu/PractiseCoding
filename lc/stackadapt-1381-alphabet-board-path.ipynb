{
 "cells": [
  {
   "cell_type": "code",
   "execution_count": 8,
   "metadata": {},
   "outputs": [],
   "source": [
    "# passed\n",
    "def alphabetBoardPath(target):\n",
    "    def source_to_target(src, tar):\n",
    "        path = \"\"\n",
    "        # important to handle when \"Z\" is the target!!!!!\n",
    "        if tar == (5, 0) and src[1] != 0:\n",
    "            path += \"D\" * (4 - src[0])\n",
    "            path += \"L\" * (src[1])\n",
    "            path += \"D!\"\n",
    "            return path\n",
    "        if src[0] < tar[0]:\n",
    "            path += \"D\" * (tar[0] - src[0])\n",
    "        elif src[0] > tar[0]:\n",
    "            path += \"U\" * (src[0] - tar[0])\n",
    "        if src[1] < tar[1]:\n",
    "            path += \"R\" * (tar[1] - src[1])\n",
    "        elif src[1] > tar[1]:\n",
    "            path += \"L\" * (src[1] - tar[1])\n",
    "        path += \"!\"\n",
    "        return path\n",
    "\n",
    "    loc = {}\n",
    "    for i in range(26):\n",
    "        char = chr(i+ord('a'))\n",
    "        loc[char] = (i//5, i%5)\n",
    "    src = (0,0)\n",
    "    res = \"\"\n",
    "    for i in range(len(target)):\n",
    "        tar = loc[target[i]]\n",
    "        res += source_to_target(src, tar)\n",
    "        src = tar\n",
    "    return res"
   ]
  },
  {
   "cell_type": "code",
   "execution_count": 7,
   "metadata": {},
   "outputs": [
    {
     "name": "stdout",
     "output_type": "stream",
     "text": [
      "('c', 'd')\n",
      "('e', 'f')\n"
     ]
    }
   ],
   "source": [
    "a = (\"a\",\"b\")\n",
    "b = (\"c\", \"d\")\n",
    "a = b\n",
    "b = (\"e\",\"f\")\n",
    "print(a)\n",
    "print(b)"
   ]
  },
  {
   "cell_type": "code",
   "execution_count": 3,
   "metadata": {},
   "outputs": [
    {
     "data": {
      "text/plain": [
       "'a'"
      ]
     },
     "execution_count": 3,
     "metadata": {},
     "output_type": "execute_result"
    }
   ],
   "source": [
    "def alphabetBoardPath_reverse(target):\n",
    "    def right(index):\n",
    "        if index % 5 == 4:\n",
    "            return index\n",
    "        if index == 25:\n",
    "            return index\n",
    "        return index + 1\n",
    "    def left(index):\n",
    "        if index % 5 == 0:\n",
    "            return index\n",
    "        return index - 1\n",
    "    def up(index):\n",
    "        if 0 <= index <= 4:\n",
    "            return index\n",
    "        return index - 5\n",
    "    def down(index):\n",
    "        if 21 <= index <= 25:\n",
    "            return index\n",
    "        return index + 5\n",
    "\n",
    "    index = 0\n",
    "    res = \"\"\n",
    "    for char in target:\n",
    "        if char == \"!\":\n",
    "            res += chr(index+ord('a'))\n",
    "            continue\n",
    "        if char == 'U':\n",
    "            index = up(index)\n",
    "        elif char == 'D':\n",
    "            index = down(index)\n",
    "        elif char == \"L\":\n",
    "            index = left(index)\n",
    "        elif char == \"R\":\n",
    "            index = right(index)\n",
    "    return res\n",
    "\n",
    "alphabetBoardPath(\"DDR!UURRR!!DDD!\")\n",
    "alphabetBoardPath(\"RR!DDRR!UUL!R!\")"
   ]
  }
 ],
 "metadata": {
  "kernelspec": {
   "display_name": "Python 3",
   "language": "python",
   "name": "python3"
  },
  "language_info": {
   "codemirror_mode": {
    "name": "ipython",
    "version": 3
   },
   "file_extension": ".py",
   "mimetype": "text/x-python",
   "name": "python",
   "nbconvert_exporter": "python",
   "pygments_lexer": "ipython3",
   "version": "3.9.6"
  }
 },
 "nbformat": 4,
 "nbformat_minor": 2
}
