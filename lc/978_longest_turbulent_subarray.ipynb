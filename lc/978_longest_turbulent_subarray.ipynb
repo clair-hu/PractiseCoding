{
 "cells": [
  {
   "cell_type": "code",
   "execution_count": 59,
   "metadata": {
    "collapsed": true
   },
   "outputs": [],
   "source": [
    "A = [9,4,2,10,7,8,0,1,9]"
   ]
  },
  {
   "cell_type": "code",
   "execution_count": 40,
   "metadata": {},
   "outputs": [],
   "source": [
    "def longestTurbulentSubarray(A):\n",
    "    out = []\n",
    "    s = \"\"\n",
    "    if not A:\n",
    "        return 0\n",
    "    prev = A[0]\n",
    "    for curr in A[1:]:\n",
    "        if prev < curr:\n",
    "            s += \"0\"\n",
    "        elif prev > curr:\n",
    "            s += \"1\"\n",
    "        else:\n",
    "            out.append(s)\n",
    "            s = \"\"\n",
    "        prev = curr\n",
    "    if len(s) >= 1:\n",
    "        out.append(s)\n",
    "    print(out)\n",
    "    return out"
   ]
  },
  {
   "cell_type": "code",
   "execution_count": 33,
   "metadata": {},
   "outputs": [
    {
     "name": "stdout",
     "output_type": "stream",
     "text": [
      "['11010', '10']\n"
     ]
    }
   ],
   "source": [
    "longestTurbulentSubarray(A)"
   ]
  },
  {
   "cell_type": "code",
   "execution_count": 48,
   "metadata": {
    "collapsed": true
   },
   "outputs": [],
   "source": [
    "def toDiff(input):\n",
    "    if len(input) == 1:\n",
    "        return \"1\"\n",
    "    s = \"\"\n",
    "    prev = input[0]\n",
    "    for curr in input[1:]:\n",
    "        if prev != curr:\n",
    "            s += \"1\"\n",
    "        else:\n",
    "            s += \"0\"\n",
    "        prev = curr\n",
    "    print(s)\n",
    "    return s"
   ]
  },
  {
   "cell_type": "code",
   "execution_count": 44,
   "metadata": {},
   "outputs": [
    {
     "name": "stdout",
     "output_type": "stream",
     "text": [
      "['11010', '10']\n"
     ]
    }
   ],
   "source": [
    "input = longestTurbulentSubarray(A)"
   ]
  },
  {
   "cell_type": "code",
   "execution_count": 45,
   "metadata": {},
   "outputs": [
    {
     "name": "stdout",
     "output_type": "stream",
     "text": [
      "['11010', '10']\n",
      "0111\n",
      "1\n"
     ]
    }
   ],
   "source": [
    "print(input)\n",
    "for i in input:\n",
    "    toDiff(i)"
   ]
  },
  {
   "cell_type": "code",
   "execution_count": 61,
   "metadata": {
    "collapsed": true
   },
   "outputs": [],
   "source": [
    "def getLongestLength(A):\n",
    "    input = longestTurbulentSubarray(A)\n",
    "    maxout = 0\n",
    "    for i in input:\n",
    "        d = toDiff(i)\n",
    "        cmax = 0\n",
    "        for isDiff in d:\n",
    "            if isDiff == \"1\":\n",
    "                print(\"a\")\n",
    "                cmax += 1\n",
    "            else:\n",
    "                maxout = max(cmax, maxout)\n",
    "                cmax = 0\n",
    "            maxout = max(cmax, maxout)\n",
    "    print(maxout+2)\n",
    "    return (maxout + 2)"
   ]
  },
  {
   "cell_type": "code",
   "execution_count": 62,
   "metadata": {},
   "outputs": [
    {
     "name": "stdout",
     "output_type": "stream",
     "text": [
      "['11010100']\n",
      "0111110\n",
      "a\n",
      "a\n",
      "a\n",
      "a\n",
      "a\n",
      "7\n"
     ]
    },
    {
     "data": {
      "text/plain": [
       "7"
      ]
     },
     "execution_count": 62,
     "metadata": {},
     "output_type": "execute_result"
    }
   ],
   "source": [
    "getLongestLength(A)"
   ]
  }
 ],
 "metadata": {
  "kernelspec": {
   "display_name": "Python 3",
   "language": "python",
   "name": "python3"
  },
  "language_info": {
   "codemirror_mode": {
    "name": "ipython",
    "version": 3
   },
   "file_extension": ".py",
   "mimetype": "text/x-python",
   "name": "python",
   "nbconvert_exporter": "python",
   "pygments_lexer": "ipython3",
   "version": "3.6.2"
  }
 },
 "nbformat": 4,
 "nbformat_minor": 2
}
