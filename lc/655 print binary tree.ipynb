{
 "cells": [
  {
   "cell_type": "code",
   "execution_count": 1,
   "metadata": {
    "collapsed": true
   },
   "outputs": [],
   "source": [
    "class node:\n",
    "    left = None\n",
    "    right = None\n",
    "    value = None\n",
    "    def __init__(self, v):\n",
    "        self.value = v"
   ]
  },
  {
   "cell_type": "code",
   "execution_count": 39,
   "metadata": {},
   "outputs": [],
   "source": [
    "def printBinaryTree(s):\n",
    "    cur_depth = 0\n",
    "    queue = [(s, cur_depth, 0)]\n",
    "    output = [[str(s.value)]]\n",
    "    while queue:\n",
    "        s, depth, pos = queue.pop(0)\n",
    "        \n",
    "        if cur_depth != depth:\n",
    "            if any(n != None for n,_,_ in queue):\n",
    "                i = 0\n",
    "                while i < len(output):\n",
    "                    output[i] = updateLine(output[i])\n",
    "                    i += 1\n",
    "                output.append([\"\"] * len(output[0]))\n",
    "                cur_depth = depth\n",
    "            else:\n",
    "                return output\n",
    "        \n",
    "        if s != None:\n",
    "            output[depth][2 * pos] = str(s.value) if s.value != None else \"\"\n",
    "            \n",
    "            queue.append((s.left, depth+1, pos*2))\n",
    "            queue.append((s.right, depth+1, pos*2+1))\n",
    "\n",
    "    return output\n",
    "    \n",
    "        "
   ]
  },
  {
   "cell_type": "code",
   "execution_count": null,
   "metadata": {
    "collapsed": true
   },
   "outputs": [],
   "source": []
  },
  {
   "cell_type": "code",
   "execution_count": 40,
   "metadata": {},
   "outputs": [],
   "source": [
    "n1 = node(1)\n",
    "n2 = node(2)\n",
    "n3 = node(3)\n",
    "n4 = node(4)\n",
    "n5 = node(5)\n",
    "n6 = node(6)\n",
    "n1.left = n2\n",
    "n2.left = n3\n",
    "n3.right = n4\n",
    "n1.right = n5\n",
    "n5.right = n6"
   ]
  },
  {
   "cell_type": "code",
   "execution_count": 41,
   "metadata": {},
   "outputs": [
    {
     "data": {
      "text/plain": [
       "[['', '', '', '', '', '', '', '1', '', '', '', '', '', '', ''],\n",
       " ['', '', '', '2', '', '', '', '', '', '', '', '5', '', '', ''],\n",
       " ['', '3', '', '', '', '', '', '', '', '', '', '', '', '6', ''],\n",
       " ['', '', '4', '', '', '', '', '', '', '', '', '', '', '', '']]"
      ]
     },
     "execution_count": 41,
     "metadata": {},
     "output_type": "execute_result"
    }
   ],
   "source": [
    "printBinaryTree(n1)"
   ]
  },
  {
   "cell_type": "code",
   "execution_count": 29,
   "metadata": {},
   "outputs": [],
   "source": [
    "def updateLine(l):\n",
    "    i = 0\n",
    "    output = []\n",
    "    while i < len(l):\n",
    "        if i%2 == 0:\n",
    "            output.append(\"\")\n",
    "            output.append(l[i])\n",
    "            output.append(\"\")\n",
    "        else:\n",
    "            output.append(l[i])\n",
    "        i += 1\n",
    "    return output"
   ]
  },
  {
   "cell_type": "code",
   "execution_count": 10,
   "metadata": {},
   "outputs": [
    {
     "data": {
      "text/plain": [
       "['', '2', '', '', '3', '', '', '', '']"
      ]
     },
     "execution_count": 10,
     "metadata": {},
     "output_type": "execute_result"
    }
   ],
   "source": [
    "updateLine([\"2\", \"3\", \"\"])"
   ]
  }
 ],
 "metadata": {
  "kernelspec": {
   "display_name": "Python 3",
   "language": "python",
   "name": "python3"
  },
  "language_info": {
   "codemirror_mode": {
    "name": "ipython",
    "version": 3
   },
   "file_extension": ".py",
   "mimetype": "text/x-python",
   "name": "python",
   "nbconvert_exporter": "python",
   "pygments_lexer": "ipython3",
   "version": "3.6.2"
  }
 },
 "nbformat": 4,
 "nbformat_minor": 2
}
