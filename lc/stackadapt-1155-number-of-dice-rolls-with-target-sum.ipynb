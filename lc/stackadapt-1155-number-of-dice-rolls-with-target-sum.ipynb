{
 "cells": [
  {
   "cell_type": "code",
   "execution_count": 21,
   "metadata": {},
   "outputs": [
    {
     "name": "stdout",
     "output_type": "stream",
     "text": [
      "[[0, 0, 0, 0, 0, 0, 0, 0, 0], [0, 1, 1, 1, 1, 1, 1, 1, 1], [0, 0, 1, 2, 3, 4, 5, 6, 7]]\n"
     ]
    },
    {
     "data": {
      "text/plain": [
       "7"
      ]
     },
     "execution_count": 21,
     "metadata": {},
     "output_type": "execute_result"
    }
   ],
   "source": [
    "# passed\n",
    "def numRollsToTarget(n, k, target):\n",
    "    dp = [[0 for _ in range(target+1)] for _ in range(n+1)]\n",
    "    for face in range(1, min(k+1, target+1)):\n",
    "        dp[1][face] = 1\n",
    "    for dice in range(2, n+1):\n",
    "        for total in range(dice, min(dice*k+1, target+1)):\n",
    "            cur_sum = 0\n",
    "            for face in range(1, k+1):\n",
    "                if 0 < total - face <= target:\n",
    "                    cur_sum = (cur_sum + dp[dice-1][total-face]) % (10**9 + 7)\n",
    "                    dp[dice][total] = cur_sum\n",
    "    print(dp)\n",
    "    return dp[n][target]\n",
    "\n",
    "# numRollsToTarget(1,6,3)\n",
    "# numRollsToTarget(2,6,7)\n",
    "# numRollsToTarget(30,30,500)\n",
    "numRollsToTarget(2,12,8)"
   ]
  },
  {
   "cell_type": "code",
   "execution_count": null,
   "metadata": {},
   "outputs": [],
   "source": [
    "# passed\n",
    "class Solution:\n",
    "    def numRollsToTarget(self, n: int, k: int, target: int) -> int:\n",
    "        dp = [[0 for _ in range(target+1)] for _ in range(n+1)]\n",
    "        for face in range(1, min(k+1, target+1)):\n",
    "            dp[1][face] = 1\n",
    "        for dice in range(2, n+1):\n",
    "            for total in range(dice, min(dice*k+1, target+1)):\n",
    "                dp[dice][total] = sum([(dp[dice-1][total-face] if target >= total-face > 0 else 0) for face in range(1, k+1)]) % (10**9 + 7)\n",
    "        print(dp)\n",
    "        return dp[n][target]"
   ]
  }
 ],
 "metadata": {
  "kernelspec": {
   "display_name": "Python 3",
   "language": "python",
   "name": "python3"
  },
  "language_info": {
   "codemirror_mode": {
    "name": "ipython",
    "version": 3
   },
   "file_extension": ".py",
   "mimetype": "text/x-python",
   "name": "python",
   "nbconvert_exporter": "python",
   "pygments_lexer": "ipython3",
   "version": "3.9.6"
  }
 },
 "nbformat": 4,
 "nbformat_minor": 2
}
