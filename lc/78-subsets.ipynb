{
 "cells": [
  {
   "cell_type": "code",
   "execution_count": 2,
   "metadata": {},
   "outputs": [
    {
     "name": "stdout",
     "output_type": "stream",
     "text": [
      "0\n",
      "1\n",
      "2\n",
      "3\n",
      "4\n",
      "5\n",
      "6\n",
      "7\n"
     ]
    }
   ],
   "source": [
    "for i in range(1 << 3):\n",
    "    print(i)"
   ]
  },
  {
   "cell_type": "code",
   "execution_count": 15,
   "metadata": {},
   "outputs": [],
   "source": [
    "def subsets(nums):\n",
    "    result = []\n",
    "    for bit in range(1 << len(nums)):\n",
    "        subset = []\n",
    "        for i in range(len(nums)):\n",
    "            if bit & (1 << i):\n",
    "                subset.append(nums[i])\n",
    "        result.append(subset)\n",
    "    return result"
   ]
  },
  {
   "cell_type": "code",
   "execution_count": 16,
   "metadata": {},
   "outputs": [
    {
     "name": "stdout",
     "output_type": "stream",
     "text": [
      "0 1 0\n",
      "0 2 0\n",
      "0 4 0\n",
      "1 1 1\n",
      "1 2 0\n",
      "1 4 0\n",
      "2 1 0\n",
      "2 2 2\n",
      "2 4 0\n",
      "3 1 1\n",
      "3 2 2\n",
      "3 4 0\n",
      "4 1 0\n",
      "4 2 0\n",
      "4 4 4\n",
      "5 1 1\n",
      "5 2 0\n",
      "5 4 4\n",
      "6 1 0\n",
      "6 2 2\n",
      "6 4 4\n",
      "7 1 1\n",
      "7 2 2\n",
      "7 4 4\n"
     ]
    },
    {
     "data": {
      "text/plain": [
       "[[], [1], [2], [1, 2], [3], [1, 3], [2, 3], [1, 2, 3]]"
      ]
     },
     "execution_count": 16,
     "metadata": {},
     "output_type": "execute_result"
    }
   ],
   "source": [
    "subsets([1,2,3])\n"
   ]
  }
 ],
 "metadata": {
  "kernelspec": {
   "display_name": "Python 3",
   "language": "python",
   "name": "python3"
  },
  "language_info": {
   "codemirror_mode": {
    "name": "ipython",
    "version": 3
   },
   "file_extension": ".py",
   "mimetype": "text/x-python",
   "name": "python",
   "nbconvert_exporter": "python",
   "pygments_lexer": "ipython3",
   "version": "3.9.6"
  }
 },
 "nbformat": 4,
 "nbformat_minor": 2
}
