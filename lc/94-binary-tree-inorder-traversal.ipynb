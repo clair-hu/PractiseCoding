{
 "cells": [
  {
   "cell_type": "code",
   "execution_count": 18,
   "metadata": {},
   "outputs": [],
   "source": [
    "# Definition for a binary tree node.\n",
    "# class TreeNode:\n",
    "#     def __init__(self, val=0, left=None, right=None):\n",
    "#         self.val = val\n",
    "#         self.left = left\n",
    "#         self.right = right\n",
    "\n",
    "def inorderTraversal(root):\n",
    "    res = []\n",
    "\n",
    "    def inorder(node):\n",
    "        if not node:\n",
    "            return\n",
    "        inorder(node.left)\n",
    "        res.append(node.val)\n",
    "        inorder(node.right)\n",
    "\n",
    "    inorder(root)\n",
    "    return res\n",
    "            \n"
   ]
  },
  {
   "cell_type": "code",
   "execution_count": 11,
   "metadata": {},
   "outputs": [],
   "source": [
    "def preorderTraversal(root):\n",
    "    res = []\n",
    "\n",
    "    def preorder(node):\n",
    "        if not node:\n",
    "            return\n",
    "        res.append(node.val)\n",
    "        preorder(node.left)\n",
    "        preorder(node.right)\n",
    "\n",
    "    preorder(root)\n",
    "    return res"
   ]
  },
  {
   "cell_type": "code",
   "execution_count": 16,
   "metadata": {},
   "outputs": [],
   "source": [
    "def postorderTraversal(root):\n",
    "    res = []\n",
    "\n",
    "    def portorder(node):\n",
    "        if not node:\n",
    "            return\n",
    "        portorder(node.left)\n",
    "        portorder(node.right)\n",
    "        res.append(node.val)\n",
    "\n",
    "    portorder(root)\n",
    "    return res"
   ]
  },
  {
   "cell_type": "code",
   "execution_count": 17,
   "metadata": {},
   "outputs": [
    {
     "data": {
      "text/plain": [
       "[4, 6, 7, 5, 2, 9, 8, 3, 1]"
      ]
     },
     "execution_count": 17,
     "metadata": {},
     "output_type": "execute_result"
    }
   ],
   "source": [
    "postorderTraversal(node1)"
   ]
  },
  {
   "cell_type": "code",
   "execution_count": 12,
   "metadata": {},
   "outputs": [
    {
     "data": {
      "text/plain": [
       "[1, 2, 4, 5, 6, 7, 3, 8, 9]"
      ]
     },
     "execution_count": 12,
     "metadata": {},
     "output_type": "execute_result"
    }
   ],
   "source": [
    "preorderTraversal(node1)"
   ]
  },
  {
   "cell_type": "code",
   "execution_count": 2,
   "metadata": {},
   "outputs": [],
   "source": [
    "class TreeNode:\n",
    "    def __init__(self, val=0, left=None, right=None):\n",
    "        self.val = val\n",
    "        self.left = left\n",
    "        self.right = right"
   ]
  },
  {
   "cell_type": "code",
   "execution_count": 19,
   "metadata": {},
   "outputs": [
    {
     "data": {
      "text/plain": [
       "[4, 2, 6, 5, 7, 1, 3, 9, 8]"
      ]
     },
     "execution_count": 19,
     "metadata": {},
     "output_type": "execute_result"
    }
   ],
   "source": [
    "node4 = TreeNode(4)\n",
    "node6 = TreeNode(6)\n",
    "node7 = TreeNode(7)\n",
    "node5 = TreeNode(5, node6, node7)\n",
    "node2 = TreeNode(2, node4, node5)\n",
    "node9 = TreeNode(9)\n",
    "node8 = TreeNode(8, node9)\n",
    "node3 = TreeNode(3, None, node8)\n",
    "node1 = TreeNode(1, node2, node3)\n",
    "inorderTraversal(node1)"
   ]
  },
  {
   "cell_type": "code",
   "execution_count": null,
   "metadata": {},
   "outputs": [],
   "source": [
    "Input: root = [1,2,3,4,5,null,8,null,null,6,7,9]\n",
    "\n",
    "Output: [4,2,6,5,7,1,3,9,8]"
   ]
  }
 ],
 "metadata": {
  "kernelspec": {
   "display_name": "Python 3",
   "language": "python",
   "name": "python3"
  },
  "language_info": {
   "codemirror_mode": {
    "name": "ipython",
    "version": 3
   },
   "file_extension": ".py",
   "mimetype": "text/x-python",
   "name": "python",
   "nbconvert_exporter": "python",
   "pygments_lexer": "ipython3",
   "version": "3.9.6"
  }
 },
 "nbformat": 4,
 "nbformat_minor": 2
}
