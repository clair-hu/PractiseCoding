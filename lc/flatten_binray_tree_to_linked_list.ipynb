{
 "cells": [
  {
   "cell_type": "code",
   "execution_count": 82,
   "metadata": {},
   "outputs": [],
   "source": [
    "class node:\n",
    "    val = None\n",
    "    ll = []\n",
    "    \n",
    "    def __init__(self, v):\n",
    "        self.val = v\n",
    "        self.left = None\n",
    "        self.right = None\n",
    "        \n",
    "    def print_node(self):\n",
    "        if self:\n",
    "            self.ll.append(self.val)\n",
    "        if (self.left != None):\n",
    "            self.left.print_node()\n",
    "        if self.right != None:\n",
    "            self.right.print_node()\n",
    "        "
   ]
  },
  {
   "cell_type": "code",
   "execution_count": 83,
   "metadata": {},
   "outputs": [
    {
     "name": "stdout",
     "output_type": "stream",
     "text": [
      "[1, 2, 3, 4, 5, 6, 7]\n"
     ]
    }
   ],
   "source": [
    "a = node(1)\n",
    "b = node(2)\n",
    "c = node(3)\n",
    "d = node(4)\n",
    "e = node(5)\n",
    "f = node(6)\n",
    "g = node(7)\n",
    "a.left = b\n",
    "a.right = e\n",
    "b.left = c\n",
    "b.right = d\n",
    "e.right = f\n",
    "f.left = g \n",
    "a.print_node()\n",
    "print(a.ll)"
   ]
  },
  {
   "cell_type": "code",
   "execution_count": 84,
   "metadata": {},
   "outputs": [],
   "source": [
    "def solution(root):\n",
    "    if not root:\n",
    "        return root\n",
    "    \n",
    "    left = solution(root.left)\n",
    "    right = solution(root.right)\n",
    "    \n",
    "    if not left and not right:\n",
    "        return root\n",
    "    \n",
    "    if right is None:\n",
    "        root.right = root.left\n",
    "        root.left = None\n",
    "        return left\n",
    "    \n",
    "    if not left:\n",
    "        return right\n",
    "    \n",
    "    temp = root.right\n",
    "    root.right = root.left\n",
    "    root.left = None\n",
    "    left.right = temp\n",
    "    return right\n",
    "\n"
   ]
  },
  {
   "cell_type": "code",
   "execution_count": 85,
   "metadata": {},
   "outputs": [
    {
     "data": {
      "text/plain": [
       "<__main__.node at 0x11092e3c8>"
      ]
     },
     "execution_count": 85,
     "metadata": {},
     "output_type": "execute_result"
    }
   ],
   "source": [
    "solution(a)"
   ]
  },
  {
   "cell_type": "code",
   "execution_count": 88,
   "metadata": {},
   "outputs": [
    {
     "name": "stdout",
     "output_type": "stream",
     "text": [
      "1\n",
      "2\n",
      "3\n",
      "4\n",
      "5\n",
      "6\n",
      "7\n"
     ]
    }
   ],
   "source": [
    "tmp = a\n",
    "while(tmp):\n",
    "    print(tmp.val)\n",
    "    tmp = tmp.right"
   ]
  },
  {
   "cell_type": "code",
   "execution_count": null,
   "metadata": {},
   "outputs": [],
   "source": []
  },
  {
   "cell_type": "code",
   "execution_count": null,
   "metadata": {},
   "outputs": [],
   "source": []
  }
 ],
 "metadata": {
  "kernelspec": {
   "display_name": "Python 3",
   "language": "python",
   "name": "python3"
  },
  "language_info": {
   "codemirror_mode": {
    "name": "ipython",
    "version": 3
   },
   "file_extension": ".py",
   "mimetype": "text/x-python",
   "name": "python",
   "nbconvert_exporter": "python",
   "pygments_lexer": "ipython3",
   "version": "3.7.3"
  }
 },
 "nbformat": 4,
 "nbformat_minor": 2
}
