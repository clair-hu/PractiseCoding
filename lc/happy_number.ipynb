{
 "cells": [
  {
   "cell_type": "code",
   "execution_count": 22,
   "metadata": {
    "collapsed": true
   },
   "outputs": [],
   "source": [
    "def happy_number(n):\n",
    "    # two cases:\n",
    "    # case 1: happy -> end as 1\n",
    "    # case 2: unhappy -> infinite loop, there will be a number will re-appear in the the process\n",
    "    curr = n\n",
    "    checkLoop = n\n",
    "    l = [curr]\n",
    "    while(True):\n",
    "        if curr == 1:\n",
    "            return True\n",
    "        else:\n",
    "            temp = 0\n",
    "        \n",
    "            while curr > 0:\n",
    "                d = curr % 10\n",
    "                curr //= 10\n",
    "                temp += d**2\n",
    "            if temp in l:\n",
    "                return False\n",
    "            else:\n",
    "                curr = temp\n",
    "                print(curr)\n",
    "                l.append(curr)"
   ]
  },
  {
   "cell_type": "code",
   "execution_count": 24,
   "metadata": {},
   "outputs": [],
   "source": [
    "def solution(n):\n",
    "    if n <= 0:\n",
    "        return False\n",
    "    s = set()\n",
    "    while n not in s:\n",
    "        s.add(n)\n",
    "        n = sum([int(i) ** 2 for i in str(n)])\n",
    "        if n == 1:\n",
    "            return True\n",
    "    return False\n",
    "    "
   ]
  },
  {
   "cell_type": "code",
   "execution_count": null,
   "metadata": {},
   "outputs": [],
   "source": []
  },
  {
   "cell_type": "code",
   "execution_count": null,
   "metadata": {
    "collapsed": true
   },
   "outputs": [],
   "source": []
  },
  {
   "cell_type": "code",
   "execution_count": null,
   "metadata": {
    "collapsed": true
   },
   "outputs": [],
   "source": []
  }
 ],
 "metadata": {
  "kernelspec": {
   "display_name": "Python 3",
   "language": "python",
   "name": "python3"
  },
  "language_info": {
   "codemirror_mode": {
    "name": "ipython",
    "version": 3
   },
   "file_extension": ".py",
   "mimetype": "text/x-python",
   "name": "python",
   "nbconvert_exporter": "python",
   "pygments_lexer": "ipython3",
   "version": "3.6.8"
  }
 },
 "nbformat": 4,
 "nbformat_minor": 2
}
