{
 "cells": [
  {
   "cell_type": "code",
   "execution_count": 3,
   "metadata": {},
   "outputs": [],
   "source": [
    "class Node:\n",
    "    def __init__(self, val):\n",
    "        self.val = val\n",
    "        self.children = []\n",
    "        self.indegree = 0\n",
    "\n",
    "def topological_sort(rich, quiet):\n",
    "    nodes = {} # map from val to node\n",
    "    \n",
    "    for i, j in rich:\n",
    "        if i not in nodes:\n",
    "            nodes[i] = Node(i)\n",
    "        if j not in nodes:\n",
    "            nodes[j] = Node(j)\n",
    "        nodes[i].children.append(nodes[j])\n",
    "        nodes[j].indegree += 1\n",
    "\n",
    "    queue = []\n",
    "    results = [i for i in range(len(quiet))]\n",
    "    for node in nodes.values():\n",
    "        if node.indegree == 0:\n",
    "            queue.append(node)\n",
    "            results[node.val] = node.val\n",
    "    \n",
    "    while queue:\n",
    "        node = queue.pop(0)\n",
    "        for child in node.children:\n",
    "            child.indegree -= 1\n",
    "            if child.indegree == 0:\n",
    "                queue.append(child)\n",
    "            if quiet[results[node.val]] < quiet[results[child.val]]:\n",
    "                results[child.val] = results[node.val]\n",
    "\n",
    "    return results\n",
    "    \n",
    "\n",
    "\n",
    "    \n",
    "        "
   ]
  },
  {
   "cell_type": "code",
   "execution_count": 4,
   "metadata": {},
   "outputs": [
    {
     "data": {
      "text/plain": [
       "[5, 5, 2, 5, 4, 5, 6, 7]"
      ]
     },
     "execution_count": 4,
     "metadata": {},
     "output_type": "execute_result"
    }
   ],
   "source": [
    "rich_0 = [[1,0],[2,1],[3,1],[3,7],[4,3],[5,3],[6,3]]\n",
    "quiet_0 = [3,2,5,4,6,1,7,0]\n",
    "topological_sort(rich_0, quiet_0)\n",
    "#  [5,5,2,5,4,5,6,7]"
   ]
  }
 ],
 "metadata": {
  "kernelspec": {
   "display_name": "Python 3",
   "language": "python",
   "name": "python3"
  },
  "language_info": {
   "codemirror_mode": {
    "name": "ipython",
    "version": 3
   },
   "file_extension": ".py",
   "mimetype": "text/x-python",
   "name": "python",
   "nbconvert_exporter": "python",
   "pygments_lexer": "ipython3",
   "version": "3.9.6"
  }
 },
 "nbformat": 4,
 "nbformat_minor": 2
}
