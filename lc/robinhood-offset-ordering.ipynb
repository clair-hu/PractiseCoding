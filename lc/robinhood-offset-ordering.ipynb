{
 "cells": [
  {
   "cell_type": "code",
   "execution_count": null,
   "metadata": {},
   "outputs": [],
   "source": [
    "class MessageStream:\n",
    "    def __init__(self, commits):\n",
    "        self.size = len(commits)\n",
    "        self.curr_message = 0"
   ]
  },
  {
   "cell_type": "code",
   "execution_count": 4,
   "metadata": {},
   "outputs": [],
   "source": [
    "def offset_ordering(commits):\n",
    "    def get_offset(commit):\n",
    "        while commit in ready_to_commit:\n",
    "            ready_to_commit.remove(commit)\n",
    "            commit += 1\n",
    "        return commit - 1\n",
    "\n",
    "    res = []\n",
    "    ready_to_commit = set()\n",
    "    ready_to_commit.add(0)\n",
    "    for c in commits:\n",
    "        if c in ready_to_commit:\n",
    "            offset = get_offset(c)\n",
    "            res.append(offset)\n",
    "            ready_to_commit.add(offset+1)\n",
    "        else:\n",
    "            res.append(-1)\n",
    "            ready_to_commit.add(c)\n",
    "    return res"
   ]
  },
  {
   "cell_type": "code",
   "execution_count": 7,
   "metadata": {},
   "outputs": [
    {
     "data": {
      "text/plain": [
       "[-1, 0, 2]"
      ]
     },
     "execution_count": 7,
     "metadata": {},
     "output_type": "execute_result"
    }
   ],
   "source": [
    "offset_ordering([2, 1, 0, 5, 4])\n",
    "offset_ordering([0, 1, 2])\n",
    "offset_ordering([2, 0, 1])\n"
   ]
  }
 ],
 "metadata": {
  "kernelspec": {
   "display_name": "Python 3",
   "language": "python",
   "name": "python3"
  },
  "language_info": {
   "codemirror_mode": {
    "name": "ipython",
    "version": 3
   },
   "file_extension": ".py",
   "mimetype": "text/x-python",
   "name": "python",
   "nbconvert_exporter": "python",
   "pygments_lexer": "ipython3",
   "version": "3.9.6"
  }
 },
 "nbformat": 4,
 "nbformat_minor": 2
}
