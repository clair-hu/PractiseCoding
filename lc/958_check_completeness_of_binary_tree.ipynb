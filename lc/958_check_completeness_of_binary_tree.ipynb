{
 "cells": [
  {
   "cell_type": "code",
   "execution_count": 58,
   "metadata": {
    "collapsed": true
   },
   "outputs": [],
   "source": [
    "class node:\n",
    "    value = None\n",
    "    left = None\n",
    "    right = None\n",
    "    def __init__(self, v):\n",
    "        self.value = v"
   ]
  },
  {
   "cell_type": "code",
   "execution_count": 48,
   "metadata": {
    "collapsed": true
   },
   "outputs": [],
   "source": [
    "\n",
    "def hasLeft(root):\n",
    "    if root:\n",
    "        if root.right != None and root.left == None:\n",
    "            return False\n",
    "        else:\n",
    "            lo = ccbt(root.left)\n",
    "            ro = ccbt(root.right)\n",
    "            if lo == False or ro == False:\n",
    "                return False\n",
    "        return True"
   ]
  },
  {
   "cell_type": "code",
   "execution_count": 74,
   "metadata": {},
   "outputs": [],
   "source": [
    "n1 = node(1)\n",
    "n2 = node(2)\n",
    "n3 = node(3)\n",
    "n4 = node(4)\n",
    "n5 = node(5)\n",
    "n6 = node(6)\n",
    "n1.left = n2\n",
    "n1.right = n3\n",
    "n2.left = n4\n",
    "n2.right = n5\n",
    "n3.right = n6"
   ]
  },
  {
   "cell_type": "code",
   "execution_count": 53,
   "metadata": {},
   "outputs": [
    {
     "name": "stdout",
     "output_type": "stream",
     "text": [
      "True\n"
     ]
    }
   ],
   "source": [
    "a = ccbt(n1)\n",
    "print(a)"
   ]
  },
  {
   "cell_type": "code",
   "execution_count": 78,
   "metadata": {
    "collapsed": true
   },
   "outputs": [],
   "source": [
    "def ccbt(root):\n",
    "    nodes = [(root, 1)]\n",
    "    i = 0\n",
    "    while i < len(nodes):\n",
    "        node, v = nodes[i]\n",
    "        i += 1\n",
    "        if node:\n",
    "            nodes.append(node.left, 2*v)\n",
    "            nodes.append(node.right, 2*v + 1)\n",
    "    return nodes[-1][1] == len(nodes)"
   ]
  },
  {
   "cell_type": "code",
   "execution_count": 76,
   "metadata": {},
   "outputs": [],
   "source": [
    "def otherSolution(root):\n",
    "    nodes = [(root, 1)]\n",
    "    i = 0\n",
    "    while i < len(nodes):\n",
    "        print(i)\n",
    "        print(len(nodes))\n",
    "        print(\"-----------\")\n",
    "        node, v = nodes[i]\n",
    "        i += 1\n",
    "        if node:\n",
    "            nodes.append((node.left, 2*v))\n",
    "            nodes.append((node.right, 2*v+1))\n",
    "\n",
    "    print(nodes[-1][1])\n",
    "    print(len(nodes))\n",
    "    return  nodes[-1][1] == len(nodes)"
   ]
  },
  {
   "cell_type": "code",
   "execution_count": 77,
   "metadata": {},
   "outputs": [
    {
     "name": "stdout",
     "output_type": "stream",
     "text": [
      "0\n",
      "1\n",
      "-----------\n",
      "1\n",
      "3\n",
      "-----------\n",
      "2\n",
      "5\n",
      "-----------\n",
      "3\n",
      "7\n",
      "-----------\n",
      "4\n",
      "9\n",
      "-----------\n",
      "5\n",
      "11\n",
      "-----------\n",
      "6\n",
      "11\n",
      "-----------\n",
      "7\n",
      "13\n",
      "-----------\n",
      "8\n",
      "13\n",
      "-----------\n",
      "9\n",
      "13\n",
      "-----------\n",
      "10\n",
      "13\n",
      "-----------\n",
      "11\n",
      "13\n",
      "-----------\n",
      "12\n",
      "13\n",
      "-----------\n",
      "15\n",
      "13\n"
     ]
    },
    {
     "data": {
      "text/plain": [
       "False"
      ]
     },
     "execution_count": 77,
     "metadata": {},
     "output_type": "execute_result"
    }
   ],
   "source": [
    "isCompleteTree(n1)"
   ]
  },
  {
   "cell_type": "code",
   "execution_count": null,
   "metadata": {
    "collapsed": true
   },
   "outputs": [],
   "source": [
    "0\n",
    "1\n",
    "-----------\n",
    "1\n",
    "3\n",
    "-----------\n",
    "2\n",
    "5\n",
    "-----------\n",
    "3\n",
    "7\n",
    "-----------\n",
    "4\n",
    "9\n",
    "-----------\n",
    "5\n",
    "11\n",
    "-----------\n",
    "6\n",
    "13\n",
    "-----------\n",
    "7\n",
    "13\n",
    "-----------\n",
    "8\n",
    "13\n",
    "-----------\n",
    "9\n",
    "13\n",
    "-----------\n",
    "10\n",
    "13\n",
    "-----------\n",
    "11\n",
    "13\n",
    "-----------\n",
    "12\n",
    "13\n",
    "-----------"
   ]
  }
 ],
 "metadata": {
  "kernelspec": {
   "display_name": "Python 3",
   "language": "python",
   "name": "python3"
  },
  "language_info": {
   "codemirror_mode": {
    "name": "ipython",
    "version": 3
   },
   "file_extension": ".py",
   "mimetype": "text/x-python",
   "name": "python",
   "nbconvert_exporter": "python",
   "pygments_lexer": "ipython3",
   "version": "3.6.2"
  }
 },
 "nbformat": 4,
 "nbformat_minor": 2
}
