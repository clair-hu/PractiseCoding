{
 "cells": [
  {
   "cell_type": "code",
   "execution_count": 8,
   "metadata": {},
   "outputs": [
    {
     "data": {
      "text/plain": [
       "1"
      ]
     },
     "execution_count": 8,
     "metadata": {},
     "output_type": "execute_result"
    }
   ],
   "source": [
    "def find_peak_element(nums):\n",
    "    if len(nums) == 1:\n",
    "        return nums[0]\n",
    "    left = 0\n",
    "    right = len(nums) - 1\n",
    "    while 0 <= left <= right < len(nums):\n",
    "        mid = (left + right) >> 1\n",
    "        if mid == 0:\n",
    "            if nums[mid] > nums[mid+1]:\n",
    "                return mid\n",
    "            left += 1\n",
    "        if mid == len(nums) - 1:\n",
    "            if nums[mid] > nums[mid-1]:\n",
    "                return mid\n",
    "            right -= 1\n",
    "        if 0 < mid < len(nums) - 1:\n",
    "            if nums[mid-1] < nums[mid] and nums[mid] > nums[mid+1]:\n",
    "                return mid\n",
    "            if nums[mid] < nums[mid+1]:\n",
    "                left = mid + 1\n",
    "            elif nums[mid-1] > nums[mid] > nums[mid+1]:\n",
    "                right = mid - 1\n",
    "find_peak_element([1,2,3,5])\n",
    "find_peak_element([1,2,3,1])\n",
    "find_peak_element([4,3,2,1,2,3,1])\n",
    "find_peak_element([4,5,3,2,1,2,3,1])\n",
    "find_peak_element([4])\n",
    "find_peak_element([2,4])"
   ]
  }
 ],
 "metadata": {
  "kernelspec": {
   "display_name": "Python 3",
   "language": "python",
   "name": "python3"
  },
  "language_info": {
   "codemirror_mode": {
    "name": "ipython",
    "version": 3
   },
   "file_extension": ".py",
   "mimetype": "text/x-python",
   "name": "python",
   "nbconvert_exporter": "python",
   "pygments_lexer": "ipython3",
   "version": "3.9.6"
  }
 },
 "nbformat": 4,
 "nbformat_minor": 2
}
