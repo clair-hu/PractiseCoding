{
 "cells": [
  {
   "cell_type": "code",
   "execution_count": 91,
   "metadata": {},
   "outputs": [
    {
     "name": "stdout",
     "output_type": "stream",
     "text": [
      "[4, 5, 3, 2, 1]\n"
     ]
    }
   ],
   "source": [
    "import random\n",
    "ranList = []\n",
    "length = random.randint(1,10)\n",
    "for _ in range(length):\n",
    "    val = random.randint(1,length)\n",
    "    while val in ranList:\n",
    "        val = random.randint(1,length)\n",
    "    ranList.append(val)\n",
    "print(ranList)\n"
   ]
  },
  {
   "cell_type": "code",
   "execution_count": null,
   "metadata": {},
   "outputs": [],
   "source": [
    "####### optimized solution #######\n",
    "def pancakeSort_optimized(arr):\n",
    "    arrLength = len(arr)\n",
    "    output = []\n",
    "    for i in range(arrLength-1, -1, -1):\n",
    "        target = i + 1\n",
    "        targetIndex = arr.index(target)\n",
    "        if targetIndex == i:\n",
    "            continue\n",
    "        elif targetIndex == 0:\n",
    "            arr[:target] = arr[:target][::-1]\n",
    "            output.append(target)\n",
    "        else:\n",
    "            arr[:targetIndex+1] = arr[:targetIndex+1][::-1]\n",
    "            arr[:target] = arr[:target][::-1]\n",
    "            output.extend([targetIndex+1, target])\n",
    "    return output"
   ]
  },
  {
   "cell_type": "code",
   "execution_count": 92,
   "metadata": {},
   "outputs": [],
   "source": [
    "def pancakeSort(arr):\n",
    "    output = []\n",
    "    sortedArr = sorted(arr)\n",
    "    target = len(arr)\n",
    "    arrSize = len(arr)\n",
    "    while arr != sortedArr and target > 0:\n",
    "        k = arr.index(target) + 1\n",
    "        if k != target:\n",
    "            if k == 1:\n",
    "                output.append(target)\n",
    "            else:\n",
    "                output.extend([k, target])\n",
    "                arr = flip(k, arr)\n",
    "            arr = flip(target, arr)\n",
    "        target -= 1\n",
    "    return output\n",
    "    \n",
    "def flip(k, arr):\n",
    "    return arr[:k][::-1] + arr[k:]"
   ]
  },
  {
   "cell_type": "code",
   "execution_count": 93,
   "metadata": {},
   "outputs": [
    {
     "name": "stdout",
     "output_type": "stream",
     "text": [
      "[6, 4, 5, 4, 3, 2]\n"
     ]
    }
   ],
   "source": [
    "output = pancakeSort([6,4,5,3,1,2])\n",
    "print(output)"
   ]
  },
  {
   "cell_type": "code",
   "execution_count": 94,
   "metadata": {},
   "outputs": [
    {
     "name": "stdout",
     "output_type": "stream",
     "text": [
      "[1, 5, 3] [1, 3, 5]\n",
      "2\n",
      "[1, 5, 3, 2, 4]\n"
     ]
    }
   ],
   "source": [
    "a = [1,5,3]\n",
    "b = sorted(a)\n",
    "print(a, b)\n",
    "print(a.index(3))\n",
    "a.extend([2,4])\n",
    "print(a)"
   ]
  },
  {
   "cell_type": "code",
   "execution_count": 95,
   "metadata": {},
   "outputs": [],
   "source": [
    "def flip(k, arr):\n",
    "        return arr[:k][::-1] + arr[k:]"
   ]
  },
  {
   "cell_type": "code",
   "execution_count": 96,
   "metadata": {},
   "outputs": [
    {
     "name": "stdout",
     "output_type": "stream",
     "text": [
      "[2, 1, 3, 4, 5]\n"
     ]
    }
   ],
   "source": [
    "c = flip(2,[1,2,3,4,5])\n",
    "print(c)"
   ]
  },
  {
   "cell_type": "code",
   "execution_count": 97,
   "metadata": {},
   "outputs": [],
   "source": [
    "def pancakeSort(arr):\n",
    "    arrLength = len(arr)\n",
    "    sortedArr = sorted(arr)\n",
    "    target = arrLength\n",
    "    output = []\n",
    "    while target > 0 and sortedArr != arr:\n",
    "        targetIndex = arr.index(target)\n",
    "        if targetIndex == 0:\n",
    "            arr = flip(target-1, arr)\n",
    "            output.append(target)\n",
    "        else:\n",
    "            arr = flip(targetIndex, arr)\n",
    "            arr = flip(target-1, arr)\n",
    "            output.extend([targetIndex+1, target])\n",
    "        target -= 1\n",
    "    return output\n",
    "\n",
    "\n",
    "def flip(index, arr):\n",
    "    return arr[:(index+1)][::-1] + arr[(index+1):]"
   ]
  },
  {
   "cell_type": "code",
   "execution_count": 81,
   "metadata": {},
   "outputs": [
    {
     "name": "stdout",
     "output_type": "stream",
     "text": [
      "3\n",
      "2\n",
      "1\n"
     ]
    }
   ],
   "source": [
    "arr = [1,2,3]\n",
    "arrLength = len(arr)\n",
    "for i in range(arrLength-1, -1, -1):\n",
    "    print(arr[i])"
   ]
  },
  {
   "cell_type": "code",
   "execution_count": 83,
   "metadata": {},
   "outputs": [
    {
     "data": {
      "text/plain": [
       "[6, 7, 6, 5, 3, 4]"
      ]
     },
     "execution_count": 83,
     "metadata": {},
     "output_type": "execute_result"
    }
   ],
   "source": [
    "pancakeSort([2,3,4,1,5,7,6])"
   ]
  },
  {
   "cell_type": "code",
   "execution_count": 73,
   "metadata": {},
   "outputs": [
    {
     "name": "stdout",
     "output_type": "stream",
     "text": [
      "[3, 2, 1, 0, 4, 5]\n"
     ]
    }
   ],
   "source": [
    "def flip(index, arr):\n",
    "    return arr[:(index+1)][::-1] + arr[(index+1):]\n",
    "\n",
    "a = [0,1,2,3,4,5]\n",
    "b = flip(3,a)\n",
    "print(b)"
   ]
  }
 ],
 "metadata": {
  "kernelspec": {
   "display_name": "Python 3",
   "language": "python",
   "name": "python3"
  },
  "language_info": {
   "codemirror_mode": {
    "name": "ipython",
    "version": 3
   },
   "file_extension": ".py",
   "mimetype": "text/x-python",
   "name": "python",
   "nbconvert_exporter": "python",
   "pygments_lexer": "ipython3",
   "version": "3.9.6"
  }
 },
 "nbformat": 4,
 "nbformat_minor": 2
}
