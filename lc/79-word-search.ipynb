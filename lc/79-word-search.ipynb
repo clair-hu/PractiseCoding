{
 "cells": [
  {
   "cell_type": "code",
   "execution_count": 15,
   "metadata": {},
   "outputs": [
    {
     "data": {
      "text/plain": [
       "True"
      ]
     },
     "execution_count": 15,
     "metadata": {},
     "output_type": "execute_result"
    }
   ],
   "source": [
    "# passed, but super slow\n",
    "import itertools\n",
    "\n",
    "def exist(board, word):\n",
    "    m = len(board)\n",
    "    n = len(board[0])\n",
    "    def neighbors(i,j):\n",
    "        rows = []\n",
    "        cols = []\n",
    "        if m == 1:\n",
    "            rows = []\n",
    "        elif i == 0:\n",
    "            rows = [1]\n",
    "        elif i == (m - 1):\n",
    "            rows = [-1]\n",
    "        else:\n",
    "            rows = [1, -1]\n",
    "        if n == 1:\n",
    "            cols = []\n",
    "        elif j == 0:\n",
    "            cols = [1]\n",
    "        elif j == (n - 1):\n",
    "            cols = [-1]\n",
    "        else:\n",
    "            cols = [1, -1]\n",
    "        return list(itertools.product(rows, [0]))+list(itertools.product([0], cols))\n",
    "    \n",
    "    def dfs(i, j, cword):\n",
    "        char = board[i][j]\n",
    "        if len(cword) == 1:\n",
    "            return char == cword[0]\n",
    "        if char == cword[0]:\n",
    "            temp = board[i][j]\n",
    "            board[i][j] = ''\n",
    "            if any(dfs(i+dr, j+dc, cword[1:]) for dr, dc in neighbors(i,j)):\n",
    "                return True\n",
    "            board[i][j] = temp\n",
    "        return False\n",
    "\n",
    "    for i in range(m):\n",
    "        for j in range(n):\n",
    "            if dfs(i, j, word):\n",
    "                return True\n",
    "    return False\n",
    "\n",
    "board_0 = [[\"A\",\"B\",\"C\",\"E\"],[\"S\",\"F\",\"C\",\"S\"],[\"A\",\"D\",\"E\",\"E\"]]\n",
    "word_0 = \"ABCCED\"\n",
    "exist([[\"A\"]], \"A\")"
   ]
  },
  {
   "cell_type": "code",
   "execution_count": 10,
   "metadata": {},
   "outputs": [
    {
     "name": "stdout",
     "output_type": "stream",
     "text": [
      "1 -1\n",
      "1 1\n",
      "-1 -1\n",
      "-1 1\n",
      "[(1, 0), (-1, 0), (0, 1), (0, -1)]\n"
     ]
    }
   ],
   "source": [
    "import itertools\n",
    "for i,j in itertools.product([1,-1], [-1,1]):\n",
    "    print(i,j)\n",
    "rows = [1,-1]\n",
    "cols = [1,-1]\n",
    "a = list(itertools.product(rows, [0]))+list(itertools.product([0], cols))\n",
    "print(a)\n"
   ]
  },
  {
   "cell_type": "code",
   "execution_count": null,
   "metadata": {},
   "outputs": [],
   "source": []
  }
 ],
 "metadata": {
  "kernelspec": {
   "display_name": "Python 3",
   "language": "python",
   "name": "python3"
  },
  "language_info": {
   "codemirror_mode": {
    "name": "ipython",
    "version": 3
   },
   "file_extension": ".py",
   "mimetype": "text/x-python",
   "name": "python",
   "nbconvert_exporter": "python",
   "pygments_lexer": "ipython3",
   "version": "3.9.6"
  }
 },
 "nbformat": 4,
 "nbformat_minor": 2
}
