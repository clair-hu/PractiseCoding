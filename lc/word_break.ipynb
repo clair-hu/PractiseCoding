{
 "cells": [
  {
   "cell_type": "code",
   "execution_count": 45,
   "metadata": {},
   "outputs": [],
   "source": [
    "def wordBreak(s, dictList):\n",
    "    output = []\n",
    "    output = recursion(s, dictList, output)\n",
    "    return output"
   ]
  },
  {
   "cell_type": "code",
   "execution_count": 46,
   "metadata": {},
   "outputs": [],
   "source": [
    "# def getIndexAppeared(s, word):\n",
    "#     output = []\n",
    "#     for i in range(len(s)-len(word)+1):\n",
    "#         if s[i:i+len(word)+1] == word:\n",
    "#             output.append(i+len(word))\n",
    "            "
   ]
  },
  {
   "cell_type": "code",
   "execution_count": 47,
   "metadata": {},
   "outputs": [],
   "source": [
    "def recursion(s, dictList, output):\n",
    "    for d in dictList:\n",
    "        if s == d:\n",
    "            return output.append(d)\n",
    "        if s[:len(d)] == d:\n",
    "            output.append(d)\n",
    "            return recursion(s[len(d):], dictList, output)\n",
    "    return False"
   ]
  },
  {
   "cell_type": "code",
   "execution_count": 48,
   "metadata": {},
   "outputs": [
    {
     "data": {
      "text/plain": [
       "False"
      ]
     },
     "execution_count": 48,
     "metadata": {},
     "output_type": "execute_result"
    }
   ],
   "source": [
    "wordBreak(\"catsandog\", [\"cats\", \"dog\", \"sand\", \"and\", \"cat\"])"
   ]
  },
  {
   "cell_type": "code",
   "execution_count": null,
   "metadata": {},
   "outputs": [],
   "source": [
    "# def solution(s, dictList):\n",
    "#     breakable = [False] * len(s)\n",
    "#     # base cases\n",
    "#     for d in dictList:\n",
    "#         if s.startswith(d):\n",
    "#             breakable[len(d)-1] = True\n",
    "#     if True not in breakable:\n",
    "#         return False\n",
    "    \n",
    "#     for "
   ]
  },
  {
   "cell_type": "code",
   "execution_count": 86,
   "metadata": {},
   "outputs": [],
   "source": [
    "def rec(s, dictList, output):\n",
    "    if (len(s) == 0):\n",
    "        print(output)\n",
    "        return True\n",
    "    for i in range(1,len(s)+1):\n",
    "        prefix = s[:i]\n",
    "        if prefix in dictList:\n",
    "            output.append(prefix)\n",
    "            rec(s[i:], dictList, output)\n",
    "    "
   ]
  },
  {
   "cell_type": "code",
   "execution_count": 87,
   "metadata": {},
   "outputs": [],
   "source": [
    "def rec_solution(s, dictList):\n",
    "    output = []\n",
    "    rec(s, dictList, output)"
   ]
  },
  {
   "cell_type": "code",
   "execution_count": 88,
   "metadata": {},
   "outputs": [
    {
     "name": "stdout",
     "output_type": "stream",
     "text": [
      "['cat', 'sand', 'og']\n",
      "['cat', 'sand', 'og', 'cats', 'and', 'og']\n"
     ]
    }
   ],
   "source": [
    "rec_solution(\"catsandog\", [\"cats\", \"dog\", \"sand\", \"and\", \"cat\", \"og\"])"
   ]
  },
  {
   "cell_type": "code",
   "execution_count": 3,
   "metadata": {},
   "outputs": [],
   "source": [
    "def dp(s, dictList):\n",
    "    if len(s) == 0:\n",
    "        return True\n",
    "    for i in range(1, len(s)+1):\n",
    "        prefix = s[:i]\n",
    "        if (prefix in dictList) and (dp(s[i:], dictList)):\n",
    "            return True\n",
    "    return False"
   ]
  },
  {
   "cell_type": "code",
   "execution_count": 2,
   "metadata": {},
   "outputs": [],
   "source": [
    "def dp_solution(s, dictList):\n",
    "    return dp(s, dictList)"
   ]
  },
  {
   "cell_type": "code",
   "execution_count": 5,
   "metadata": {},
   "outputs": [
    {
     "data": {
      "text/plain": [
       "False"
      ]
     },
     "execution_count": 5,
     "metadata": {},
     "output_type": "execute_result"
    }
   ],
   "source": [
    "dp_solution(\"catsandog\", [\"cats\", \"dog\", \"sand\", \"and\", \"cat\"])"
   ]
  },
  {
   "cell_type": "code",
   "execution_count": null,
   "metadata": {},
   "outputs": [],
   "source": []
  },
  {
   "cell_type": "code",
   "execution_count": null,
   "metadata": {},
   "outputs": [],
   "source": []
  }
 ],
 "metadata": {
  "kernelspec": {
   "display_name": "Python 3",
   "language": "python",
   "name": "python3"
  },
  "language_info": {
   "codemirror_mode": {
    "name": "ipython",
    "version": 3
   },
   "file_extension": ".py",
   "mimetype": "text/x-python",
   "name": "python",
   "nbconvert_exporter": "python",
   "pygments_lexer": "ipython3",
   "version": "3.7.3"
  }
 },
 "nbformat": 4,
 "nbformat_minor": 2
}
