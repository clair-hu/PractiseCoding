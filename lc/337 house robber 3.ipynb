{
 "cells": [
  {
   "cell_type": "code",
   "execution_count": null,
   "metadata": {},
   "outputs": [],
   "source": [
    "# Definition for a binary tree node.\n",
    "# class TreeNode:\n",
    "#     def __init__(self, x):\n",
    "#         self.val = x\n",
    "#         self.left = None\n",
    "#         self.right = None\n",
    "\n",
    "class Solution:\n",
    "    def rob(self, root: TreeNode) -> int:\n",
    "        \n",
    "        def robHouse(node):\n",
    "            if node:\n",
    "                lr, ln = robHouse(node.left)\n",
    "                rr, rn = robHouse(node.right)\n",
    "                return (node.val + ln + rn, max(lr, ln) + max(rr, rn))\n",
    "            else:\n",
    "                return (0, 0)\n",
    "            \n",
    "        return max(robHouse(root))\n",
    "#         def robHouse(node, parentRobbed):\n",
    "#             if node:\n",
    "#                 if parentRobbed:\n",
    "#                     return robHouse(node.left, False) + robHouse(node.right, False)\n",
    "#                 else:\n",
    "#                     return max(robHouse(node.left, True) + robHouse(node.right, True) + node.val,\n",
    "#                                 robHouse(node.left, False) + robHouse(node.right, False))\n",
    "#             else:\n",
    "#                 return 0\n",
    "            \n",
    "        \n",
    "#         return robHouse(root, False)"
   ]
  },
  {
   "cell_type": "code",
   "execution_count": null,
   "metadata": {},
   "outputs": [],
   "source": [
    "class TreeNode:\n",
    "    def __init__(self, x):\n",
    "        self.val = x\n",
    "        self.left = None\n",
    "        self.right = None\n",
    "\n",
    "class Solution:\n",
    "    \n",
    "    \n",
    "    def robHobber(self, root):\n",
    "        def rob(root):\n",
    "            if not root:\n",
    "                return (0, 0)\n",
    "            if root:\n",
    "                left_with_root, left_no_root =  rob(root.left)\n",
    "                right_with_root, right_no_root = rob(root.right)\n",
    "                with_root = root.val + left_no_root + right_no_root\n",
    "                int1 = max(left_with_root, left_no_root)\n",
    "                int2 = max(right_with_root, right_no_root)\n",
    "                no_root = int1 + int2\n",
    "                return (with_root, no_root)\n",
    "\n",
    "        a = max(rob(root))\n",
    "        print(a)\n",
    "        return a\n",
    "\n",
    "                \n",
    "n1 = TreeNode(9)\n",
    "n2 = TreeNode(3)\n",
    "n3 = TreeNode(4)\n",
    "\n",
    "n1.left = n2\n",
    "n1.right = n3\n",
    "\n",
    "n4 = TreeNode(1)\n",
    "n5 = TreeNode(2)\n",
    "n6 = TreeNode(5)\n",
    "\n",
    "n2.left = n4\n",
    "n2.right = n5\n",
    "n3.right = n6\n",
    "\n",
    "n7 = TreeNode(10)\n",
    "n8 = TreeNode(2)\n",
    "n9 = TreeNode(1)\n",
    "n10 = TreeNode(4)\n",
    "n4.left = n7\n",
    "n4.right = n8\n",
    "n5.left = n9\n",
    "n5.right = n10\n",
    "\n",
    "s = Solution()\n",
    "s.robHobber(n1)"
   ]
  },
  {
   "cell_type": "code",
   "execution_count": 40,
   "metadata": {
    "collapsed": true
   },
   "outputs": [],
   "source": [
    "class node:\n",
    "    def __init__(self, v, l):\n",
    "        self.val = v\n",
    "        self.level = l\n",
    "        self.left = None\n",
    "        self.right = None\n",
    "    \n",
    "    def printTree(self):\n",
    "        if self.left:\n",
    "            self.left.printTree()\n",
    "        print(\" \" * 2 * self.level + str(self.val))\n",
    "        if self.right:\n",
    "            self.right.printTree()"
   ]
  },
  {
   "cell_type": "code",
   "execution_count": null,
   "metadata": {
    "collapsed": true
   },
   "outputs": [],
   "source": []
  },
  {
   "cell_type": "code",
   "execution_count": 22,
   "metadata": {
    "collapsed": true
   },
   "outputs": [],
   "source": [
    "def listToBST(inputs):\n",
    "    def generateBST(input_list, curr_index, level):\n",
    "        if input_list[curr_index] == None:\n",
    "            return None\n",
    "        n = node(input_list[curr_index], level)\n",
    "        if 2 * curr_index + 1 < len(input_list):\n",
    "            n.left = generateBST(input_list,2*curr_index+1,level+1)\n",
    "        if 2 * curr_index + 2 < len(input_list):\n",
    "            n.right = generateBST(input_list,2*curr_index+2,level+1)\n",
    "        return n\n",
    "    return generateBST(inputs, 0, 0)"
   ]
  },
  {
   "cell_type": "code",
   "execution_count": 42,
   "metadata": {},
   "outputs": [],
   "source": [
    "root = listToBST([3,4,5,1,3,None,1])"
   ]
  },
  {
   "cell_type": "code",
   "execution_count": 43,
   "metadata": {},
   "outputs": [
    {
     "name": "stdout",
     "output_type": "stream",
     "text": [
      "    1\n",
      "  4\n",
      "    3\n",
      "3\n",
      "  5\n",
      "    1\n"
     ]
    }
   ],
   "source": [
    "root.printTree()"
   ]
  },
  {
   "cell_type": "code",
   "execution_count": null,
   "metadata": {
    "collapsed": true
   },
   "outputs": [],
   "source": []
  },
  {
   "cell_type": "code",
   "execution_count": 50,
   "metadata": {},
   "outputs": [],
   "source": [
    "def dp(root):\n",
    "    # base cases\n",
    "    if root == None:\n",
    "        return (0, 0)\n",
    "    if root.left == None and root.right == None:\n",
    "        return (0, root.val)\n",
    "    L0 = dp(root.left)[0]\n",
    "    L1 = dp(root.left)[1]\n",
    "    R0 = dp(root.right)[0]\n",
    "    R1 = dp(root.right)[1]\n",
    "    self0 = max(L0 + R1,\n",
    "                L1 + R0,\n",
    "                L1 + R1)\n",
    "    self1 = root.val + L0 + R0\n",
    "    return (self0, self1)\n",
    "    \n",
    "        \n",
    "        "
   ]
  },
  {
   "cell_type": "code",
   "execution_count": 51,
   "metadata": {},
   "outputs": [],
   "source": [
    "dp(root)\n",
    "def houseRobber3(root):\n",
    "    return max(dp(root))"
   ]
  },
  {
   "cell_type": "code",
   "execution_count": 52,
   "metadata": {},
   "outputs": [
    {
     "data": {
      "text/plain": [
       "9"
      ]
     },
     "execution_count": 52,
     "metadata": {},
     "output_type": "execute_result"
    }
   ],
   "source": [
    "houseRobber3(root)"
   ]
  },
  {
   "cell_type": "code",
   "execution_count": null,
   "metadata": {
    "collapsed": true
   },
   "outputs": [],
   "source": []
  },
  {
   "cell_type": "code",
   "execution_count": 53,
   "metadata": {
    "collapsed": true
   },
   "outputs": [],
   "source": [
    "def solution(root):\n",
    "    def dp(root):\n",
    "        if not root:\n",
    "            return (0, 0)\n",
    "        l0, l1 = dp(root.left)\n",
    "        r0, r1 = dp(root.right)\n",
    "        return (max(l0,l1)+max(r0,r1), root.val+l0+r0)\n",
    "    return max(dp(root))"
   ]
  },
  {
   "cell_type": "code",
   "execution_count": 54,
   "metadata": {},
   "outputs": [
    {
     "data": {
      "text/plain": [
       "9"
      ]
     },
     "execution_count": 54,
     "metadata": {},
     "output_type": "execute_result"
    }
   ],
   "source": [
    "solution(root)"
   ]
  },
  {
   "cell_type": "code",
   "execution_count": null,
   "metadata": {
    "collapsed": true
   },
   "outputs": [],
   "source": []
  }
 ],
 "metadata": {
  "kernelspec": {
   "display_name": "Python 3",
   "language": "python",
   "name": "python3"
  },
  "language_info": {
   "codemirror_mode": {
    "name": "ipython",
    "version": 3
   },
   "file_extension": ".py",
   "mimetype": "text/x-python",
   "name": "python",
   "nbconvert_exporter": "python",
   "pygments_lexer": "ipython3",
   "version": "3.7.3"
  }
 },
 "nbformat": 4,
 "nbformat_minor": 2
}
