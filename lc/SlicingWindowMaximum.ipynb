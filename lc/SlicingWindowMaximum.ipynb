{
 "cells": [
  {
   "cell_type": "code",
   "execution_count": 1,
   "metadata": {},
   "outputs": [
    {
     "ename": "SyntaxError",
     "evalue": "unexpected EOF while parsing (<ipython-input-1-7e1ee0141068>, line 7)",
     "output_type": "error",
     "traceback": [
      "\u001b[0;36m  File \u001b[0;32m\"<ipython-input-1-7e1ee0141068>\"\u001b[0;36m, line \u001b[0;32m7\u001b[0m\n\u001b[0;31m    \u001b[0m\n\u001b[0m    ^\u001b[0m\n\u001b[0;31mSyntaxError\u001b[0m\u001b[0;31m:\u001b[0m unexpected EOF while parsing\n"
     ]
    }
   ],
   "source": [
    "def slicingWindowMaximum(nums):\n",
    "    if not nums:\n",
    "        return []\n",
    "    if len(nums) == 1:\n",
    "        return nums\n",
    "    output = []\n",
    "#     if nums[0] <= nums[1]:\n",
    "#         curmax = nums[1]\n",
    "#         curmaxind = 1\n",
    "#         cursec = nums[0]\n",
    "#         cursecind = 0\n",
    "#     else:\n",
    "#         curmax = nums[0]\n",
    "#         curmaxind = 0\n",
    "#         cursec = nums[1]\n",
    "#         cursecind = 1\n",
    "    \n",
    "    for i, n in enumerate(nums[2:k]):\n",
    "        if curmax <= n:\n",
    "            cursec = curmax\n",
    "            cursecind = curmaxind\n",
    "            curmax = n\n",
    "            curind = i\n",
    "        else:\n",
    "            if cursec <= n:\n",
    "                cursec = n\n",
    "                cursecind = i\n",
    "            \n",
    "    output.append(curmax)\n",
    "    while ti, n in enumerate(nums[k:]):\n",
    "        i = ti + k\n",
    "        if curmaxind == ti:\n",
    "            "
   ]
  },
  {
   "cell_type": "code",
   "execution_count": 4,
   "metadata": {},
   "outputs": [
    {
     "name": "stdout",
     "output_type": "stream",
     "text": [
      "0\n"
     ]
    }
   ],
   "source": [
    "nums = [3,1,2]\n",
    "m = max(nums)\n",
    "print(nums.index(m))"
   ]
  },
  {
   "cell_type": "code",
   "execution_count": null,
   "metadata": {},
   "outputs": [],
   "source": []
  }
 ],
 "metadata": {
  "kernelspec": {
   "display_name": "Python 3",
   "language": "python",
   "name": "python3"
  },
  "language_info": {
   "codemirror_mode": {
    "name": "ipython",
    "version": 3
   },
   "file_extension": ".py",
   "mimetype": "text/x-python",
   "name": "python",
   "nbconvert_exporter": "python",
   "pygments_lexer": "ipython3",
   "version": "3.7.3"
  }
 },
 "nbformat": 4,
 "nbformat_minor": 2
}
