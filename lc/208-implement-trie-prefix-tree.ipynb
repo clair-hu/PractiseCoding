{
 "cells": [
  {
   "cell_type": "code",
   "execution_count": null,
   "metadata": {},
   "outputs": [],
   "source": [
    "# beats 100% :)\n",
    "class TrieNode:\n",
    "    def __init__(self, val):\n",
    "        self.val = val\n",
    "        self.children = {} # list of children node object\n",
    "class Trie:\n",
    "    def __init__(self):\n",
    "        self.root = TrieNode(\"root\")\n",
    "\n",
    "    def insert(self, word: str) -> None:\n",
    "        curr = self.root\n",
    "        for char in word:\n",
    "            if char in curr.children:\n",
    "                curr = curr.children[char]\n",
    "                continue\n",
    "            new_node = TrieNode(char)\n",
    "            curr.children[char] = new_node\n",
    "            curr = new_node\n",
    "        curr.children[\"end\"] = TrieNode(\"end\")\n",
    "\n",
    "    def search(self, word: str) -> bool:\n",
    "        curr = self.root\n",
    "        for char in word:\n",
    "            if char not in curr.children:\n",
    "                return False\n",
    "            curr = curr.children[char]\n",
    "        return \"end\" in curr.children\n",
    "\n",
    "    def startsWith(self, prefix: str) -> bool:\n",
    "        curr = self.root\n",
    "        for char in prefix:\n",
    "            if char not in curr.children:\n",
    "                return False\n",
    "            curr = curr.children[char]\n",
    "        return True"
   ]
  }
 ],
 "metadata": {
  "language_info": {
   "name": "python"
  }
 },
 "nbformat": 4,
 "nbformat_minor": 2
}
