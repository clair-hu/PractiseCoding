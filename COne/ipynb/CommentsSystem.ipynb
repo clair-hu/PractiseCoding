{
 "cells": [
  {
   "cell_type": "code",
   "execution_count": 5,
   "metadata": {},
   "outputs": [],
   "source": [
    "import re"
   ]
  },
  {
   "cell_type": "code",
   "execution_count": 1,
   "metadata": {},
   "outputs": [
    {
     "ename": "NameError",
     "evalue": "name 'FileCommentsDesc' is not defined",
     "output_type": "error",
     "traceback": [
      "\u001b[1;31m---------------------------------------------------------------------------\u001b[0m",
      "\u001b[1;31mNameError\u001b[0m                                 Traceback (most recent call last)",
      "\u001b[1;32m<ipython-input-1-bb23569a13aa>\u001b[0m in \u001b[0;36m<module>\u001b[1;34m\u001b[0m\n\u001b[1;32m----> 1\u001b[1;33m \u001b[1;32mclass\u001b[0m \u001b[0mBlockCommentFileCommentsDesc\u001b[0m\u001b[1;33m(\u001b[0m\u001b[0mFileCommentsDesc\u001b[0m\u001b[1;33m)\u001b[0m\u001b[1;33m:\u001b[0m\u001b[1;33m\u001b[0m\u001b[1;33m\u001b[0m\u001b[0m\n\u001b[0m\u001b[0;32m      2\u001b[0m     \u001b[1;32mdef\u001b[0m \u001b[0m__init__\u001b[0m\u001b[1;33m(\u001b[0m\u001b[0mself\u001b[0m\u001b[1;33m,\u001b[0m \u001b[0mfileName\u001b[0m\u001b[1;33m,\u001b[0m \u001b[0mbeginDelimiter\u001b[0m\u001b[1;33m,\u001b[0m \u001b[0mendDelimiter\u001b[0m\u001b[1;33m)\u001b[0m\u001b[1;33m:\u001b[0m\u001b[1;33m\u001b[0m\u001b[1;33m\u001b[0m\u001b[0m\n\u001b[0;32m      3\u001b[0m         \u001b[0msuper\u001b[0m\u001b[1;33m(\u001b[0m\u001b[1;33m)\u001b[0m\u001b[1;33m.\u001b[0m\u001b[0m__init__\u001b[0m\u001b[1;33m(\u001b[0m\u001b[0mfileName\u001b[0m\u001b[1;33m)\u001b[0m\u001b[1;33m\u001b[0m\u001b[1;33m\u001b[0m\u001b[0m\n\u001b[0;32m      4\u001b[0m \u001b[1;33m\u001b[0m\u001b[0m\n\u001b[0;32m      5\u001b[0m         \u001b[0mself\u001b[0m\u001b[1;33m.\u001b[0m\u001b[0mbeginDelimiter\u001b[0m \u001b[1;33m=\u001b[0m \u001b[0mbeginDelimiter\u001b[0m\u001b[1;33m\u001b[0m\u001b[1;33m\u001b[0m\u001b[0m\n",
      "\u001b[1;31mNameError\u001b[0m: name 'FileCommentsDesc' is not defined"
     ]
    }
   ],
   "source": [
    "class BlockCommentFileCommentsDesc(FileCommentsDesc):\n",
    "    def __init__(self, fileName, beginDelimiter, endDelimiter):\n",
    "        super().__init__(fileName)\n",
    "        \n",
    "        self.beginDelimiter = beginDelimiter\n",
    "        self.endDelimiter = endDelimiter\n",
    "        self.readFileAndCloseFile()\n",
    "        \n",
    "    def readFileAndCloseFile(self):\n",
    "        f = open(self.fileName, \"r\")\n",
    "        \n",
    "        tempBlockComment = BlockComment()\n",
    "        blockCommentHasStarted = False\n",
    "        \n",
    "        for line in f:\n",
    "            self.numLines += 1\n",
    "            inCommentRange = 0\n",
    "#             0 => line is not comment\n",
    "#             1 => single line comment\n",
    "#             2 => first line of block comment\n",
    "#             3 => middle line of block comment\n",
    "#             4 => last line of block comment\n",
    "            if blockCommentHasStarted == True and self.isDelimiterValidInLine(self.endDelimiter, line) == False:\n",
    "                self.numCommentsLines += 1\n",
    "                inCommentRange = 3\n",
    "                tempBlockComment.addLine(line)\n",
    "            if self.isDelimiterValidInLine(self.beginDelimiter, line) == True\\\n",
    "                and self.isDelimiterValidInLine(self.endDelimiter, line) == True:\n",
    "                self.numCommentsLines += 1\n",
    "                inCommentRange = 1\n",
    "                self.singleLineComments.append(line)\n",
    "            elif self.isDelimiterValidInLine(self.beginDelimiter, line) == True:\n",
    "#                 TODO assume no nested block comments\n",
    "                self.numCommentsLines += 1\n",
    "                inCommentRange = 2\n",
    "                blockCommentHasStarted = True\n",
    "                tempBlockComment.addLine(line)\n",
    "            elif self.isDelimiterValidInLine(self.endDelimiter, line) == True:\n",
    "                self.numCommentsLines += 1\n",
    "                inCommentRange = 4\n",
    "                blockCommentHasStarted = False\n",
    "                tempBlockComment.addLine(line)\n",
    "                self.blockComments.append(tempBlockComment)\n",
    "                tempBlockComment = BlockComment()\n",
    "            \n",
    "            self.checkTODOes(inCommentRange, line)\n",
    " \n",
    "        f.close()\n",
    "    \n",
    "    def checkTODOes(self, inCommentRange, line):\n",
    "        if inCommentRange == 0:\n",
    "            return\n",
    "        elif inCommentRange == 1:\n",
    "            self.addValidTODOes(self.beginDelimiter + self.endDelimiter, line)\n",
    "        elif inCommentRange == 2:\n",
    "            self.addValidTODOes(self.beginDelimiterBlock, line)\n",
    "        elif inCommentRange == 3:\n",
    "            self.addValidTODOes(\"\", line)\n",
    "        elif inCommentRange == 4:\n",
    "            self.addValidTODOes(self.endDelimiterBlock, line)\n",
    "            \n",
    "    def addValidTODOes(self, delimiter, line):\n",
    "        p = re.compile(\"todo\", re.IGNORECASE)\n",
    "        beginDelimiterIndex = line.find(self.beginDelimiter)\n",
    "        endDelimiterIndex = line.find(self.endDelimiter)\n",
    "        todoes = p.findall(line)\n",
    "        todoIndex = 0\n",
    "        for t in todoes:\n",
    "            todoIndex = line.find(t, todoIndex)\n",
    "            if delimiter == \"\":\n",
    "                self.TODOes.append(line[todoIndex:])\n",
    "            elif delimiter == self.endDelimiterBlock:\n",
    "                if todoIndex < endDelimiterIndex:\n",
    "                    self.TODOes.append(line[todoIndex:])\n",
    "            elif delimiter == self.beginDelimiter:\n",
    "                if todoIndex > beginDelimiterIndex:\n",
    "                    self.TODOes.append(line[todoIndex:])\n",
    "            else:\n",
    "                if todoIndex > beginDelimiterIndex and todoIndex < endDelimiterIndex:\n",
    "                    self.TODOes.append(line[todoIndex:])\n",
    "                \n",
    "                "
   ]
  },
  {
   "cell_type": "code",
   "execution_count": 57,
   "metadata": {},
   "outputs": [],
   "source": [
    "class FileCommentsDesc:\n",
    "    def __init__(self, fileName):\n",
    "        self.fileName = fileName\n",
    "        self.blockComments = []\n",
    "        self.singleLineComments = []\n",
    "        self.TODOes = []\n",
    "        self.numCommentsLines = 0\n",
    "        self.numLines = 0\n",
    "#         TODO\n",
    "#         self.checkFileName(self.fileName)\n",
    "#         TODO change \"\" to filetype\n",
    "        self.determineDelimiters(\"\")\n",
    "        self.readFileLineByLineAndCloseFile()\n",
    "        \n",
    "        \n",
    "#     # return bool => whether the file name has valid extention and not starting with .\n",
    "#     def checkFileName(self):\n",
    "# #         TODO check not starts with .\n",
    "# #         TODO check extensions\n",
    "#         p = re.compile()\n",
    "        \n",
    "#     def setFileType(self):\n",
    "#         if self.checkFileName() == True:\n",
    "# #             TODO\n",
    "        \n",
    "#     TODO based on fileType\n",
    "    def determineDelimiters(self, fileType):\n",
    "        self.beginDelimiterBlock = \"/*\"\n",
    "        self.endDelimiterBlock = \"*/\"\n",
    "        self.endOfLineDelimiter = \"//\"\n",
    "        \n",
    "    def getNumberOfLines(self):\n",
    "        return self.numLines\n",
    "    \n",
    "    def getNumberOfCommentsLines(self):\n",
    "        return self.numCommentsLines\n",
    "    \n",
    "    def getNumberOfSingleLineCommentsLines(self):\n",
    "        return len(self.singleLineComments)\n",
    "    \n",
    "    def getNumberOfBlockLineCommentsLines(self):\n",
    "        return self.getNumberOfCommentsLines() - self.getNumberOfSingleLineCommentsLines()\n",
    "    \n",
    "    def getNumberOfBlockLineComments(self):\n",
    "        return len(self.blockComments)\n",
    "    \n",
    "    def getNumberOfTODOes(self):\n",
    "        return len(self.TODOes)\n",
    "    \n",
    "    def setNumberOfLines(self, num):\n",
    "        self.numLines = num\n",
    "    \n",
    "#     TODO check whether delimiter in \"\", using regex\n",
    "    def isDelimiterValidInLine(self, delimiter, line):\n",
    "        return delimiter in line\n",
    "    \n",
    "    def addValidTODOes(self, delimiter, line):\n",
    "        p = re.compile(\"todo\", re.IGNORECASE)\n",
    "        delimiterIndex = line.find(delimiter)\n",
    "        todoes = p.findall(line)\n",
    "        todoIndex = 0\n",
    "        for t in todoes:\n",
    "            todoIndex = line.find(t, todoIndex)\n",
    "            if delimiter == \"\":\n",
    "                self.TODOes.append(line[todoIndex:])\n",
    "            elif delimiter == self.endDelimiterBlock:\n",
    "                if todoIndex < delimiterIndex:\n",
    "                    self.TODOes.append(line[todoIndex:])\n",
    "            else:\n",
    "                if todoIndex > delimiterIndex:\n",
    "                    self.TODOes.append(line[todoIndex:])\n",
    "                \n",
    "    def checkTODOes(self, inCommentRange, line):\n",
    "        if inCommentRange == 0:\n",
    "            return\n",
    "        elif inCommentRange == 1:\n",
    "            self.addValidTODOes(self.endOfLineDelimiter, line)\n",
    "        elif inCommentRange == 2:\n",
    "            self.addValidTODOes(self.beginDelimiterBlock, line)\n",
    "        elif inCommentRange == 3:\n",
    "            self.addValidTODOes(\"\", line)\n",
    "        elif inCommentRange == 4:\n",
    "            self.addValidTODOes(self.endDelimiterBlock, line)\n",
    "    \n",
    "    def readFileLineByLineAndCloseFile(self):\n",
    "        f = open(self.fileName, \"r\")\n",
    "        \n",
    "        tempBlockComment = BlockComment()\n",
    "        blockCommentHasStarted = False\n",
    "        \n",
    "        for line in f:\n",
    "            self.numLines += 1\n",
    "            inCommentRange = 0\n",
    "#             0 => line is not comment\n",
    "#             1 => single line comment\n",
    "#             2 => first line of block comment\n",
    "#             3 => middle line of block comment\n",
    "#             4 => last line of block comment\n",
    "            if blockCommentHasStarted == True and self.isDelimiterValidInLine(self.endDelimiterBlock, line) == False:\n",
    "                self.numCommentsLines += 1\n",
    "                inCommentRange = 3\n",
    "                tempBlockComment.addLine(line)\n",
    "            if self.isDelimiterValidInLine(self.endOfLineDelimiter, line) == True:\n",
    "                self.numCommentsLines += 1\n",
    "                inCommentRange = 1\n",
    "                self.singleLineComments.append(line)\n",
    "            elif self.isDelimiterValidInLine(self.beginDelimiterBlock, line) == True:\n",
    "#                 TODO assume no nested block comments\n",
    "                self.numCommentsLines += 1\n",
    "                inCommentRange = 2\n",
    "                blockCommentHasStarted = True\n",
    "                tempBlockComment.addLine(line)\n",
    "            elif self.isDelimiterValidInLine(self.endDelimiterBlock, line) == True:\n",
    "                self.numCommentsLines += 1\n",
    "                inCommentRange = 4\n",
    "                blockCommentHasStarted = False\n",
    "                tempBlockComment.addLine(line)\n",
    "                self.blockComments.append(tempBlockComment)\n",
    "                tempBlockComment = BlockComment()\n",
    "            \n",
    "            self.checkTODOes(inCommentRange, line)\n",
    " \n",
    "        f.close()"
   ]
  },
  {
   "cell_type": "code",
   "execution_count": 11,
   "metadata": {},
   "outputs": [],
   "source": [
    "class BlockComment:\n",
    "    def __init__(self):\n",
    "        self.lines = []\n",
    "        \n",
    "    def addLine(self, line):\n",
    "        self.lines.append(line)\n",
    "        \n",
    "    def getNumberOfLines(self):\n",
    "        return len(self.lines)"
   ]
  },
  {
   "cell_type": "code",
   "execution_count": 58,
   "metadata": {},
   "outputs": [],
   "source": [
    "fi = FileCommentsDesc(\"PlaneFuelTest.java\")"
   ]
  },
  {
   "cell_type": "code",
   "execution_count": 54,
   "metadata": {},
   "outputs": [
    {
     "data": {
      "text/plain": [
       "2"
      ]
     },
     "execution_count": 54,
     "metadata": {},
     "output_type": "execute_result"
    }
   ],
   "source": [
    "fi.getNumberOfBlockLineComments()"
   ]
  },
  {
   "cell_type": "code",
   "execution_count": 59,
   "metadata": {},
   "outputs": [
    {
     "data": {
      "text/plain": [
       "8"
      ]
     },
     "execution_count": 59,
     "metadata": {},
     "output_type": "execute_result"
    }
   ],
   "source": [
    "fi.getNumberOfBlockLineCommentsLines()"
   ]
  },
  {
   "cell_type": "code",
   "execution_count": 61,
   "metadata": {},
   "outputs": [
    {
     "data": {
      "text/plain": [
       "4"
      ]
     },
     "execution_count": 61,
     "metadata": {},
     "output_type": "execute_result"
    }
   ],
   "source": [
    "fi.getNumberOfSingleLineCommentsLines()"
   ]
  },
  {
   "cell_type": "code",
   "execution_count": 62,
   "metadata": {},
   "outputs": [
    {
     "data": {
      "text/plain": [
       "6"
      ]
     },
     "execution_count": 62,
     "metadata": {},
     "output_type": "execute_result"
    }
   ],
   "source": [
    "fi.getNumberOfTODOes()"
   ]
  },
  {
   "cell_type": "code",
   "execution_count": 63,
   "metadata": {},
   "outputs": [
    {
     "name": "stdout",
     "output_type": "stream",
     "text": [
      "['Todo this file\\n', 'todo static*/ todo org.junit.jupiter.api.Assertions.*;\\n', 'todo static*/ todo org.junit.jupiter.api.Assertions.*;\\n', 'todo get todo plane.getRemainingFuelLiters(),TODO 0);\\n', 'todo get todo plane.getRemainingFuelLiters(),TODO 0);\\n', 'TODO 0);\\n']\n"
     ]
    }
   ],
   "source": [
    "print(fi.TODOes)"
   ]
  },
  {
   "cell_type": "code",
   "execution_count": 43,
   "metadata": {},
   "outputs": [
    {
     "data": {
      "text/plain": [
       "49"
      ]
     },
     "execution_count": 43,
     "metadata": {},
     "output_type": "execute_result"
    }
   ],
   "source": [
    "fi.getNumberOfLines()"
   ]
  },
  {
   "cell_type": "code",
   "execution_count": 53,
   "metadata": {},
   "outputs": [
    {
     "data": {
      "text/plain": [
       "12"
      ]
     },
     "execution_count": 53,
     "metadata": {},
     "output_type": "execute_result"
    }
   ],
   "source": [
    "fi.getNumberOfCommentsLines()"
   ]
  },
  {
   "cell_type": "code",
   "execution_count": null,
   "metadata": {},
   "outputs": [],
   "source": [
    "# TODO\n",
    "# endOfLineDelimiter and blockDelimiter in same line\n",
    "# delimiter in \"\""
   ]
  },
  {
   "cell_type": "code",
   "execution_count": null,
   "metadata": {},
   "outputs": [],
   "source": []
  },
  {
   "cell_type": "code",
   "execution_count": 15,
   "metadata": {},
   "outputs": [
    {
     "data": {
      "text/plain": [
       "['TODO', 'todo']"
      ]
     },
     "execution_count": 15,
     "metadata": {},
     "output_type": "execute_result"
    }
   ],
   "source": [
    "import re\n",
    "p = re.compile(\"todo\", re.IGNORECASE)\n",
    "p.findall(\"TODO todo\")"
   ]
  },
  {
   "cell_type": "code",
   "execution_count": 27,
   "metadata": {},
   "outputs": [],
   "source": []
  },
  {
   "cell_type": "code",
   "execution_count": null,
   "metadata": {},
   "outputs": [],
   "source": []
  },
  {
   "cell_type": "code",
   "execution_count": 23,
   "metadata": {},
   "outputs": [],
   "source": [
    "class FileCommentsDesc:\n",
    "    def __init__(self, fileName):\n",
    "        self.fileName = fileName\n",
    "        self.blockComments = []\n",
    "        self.singleLineComments = []\n",
    "        self.TODOes = []\n",
    "        self.numCommentsLines = 0\n",
    "        self.numLines = 0\n",
    "#         TODO\n",
    "#         self.checkFileName(self.fileName)\n",
    "#         TODO change \"\" to filetype\n",
    "        self.determineDelimiters(\"\")\n",
    "        self.readFileLineByLineAndCloseFile()\n",
    "        \n",
    "        \n",
    "#     # return bool => whether the file name has valid extention and not starting with .\n",
    "#     def checkFileName(self):\n",
    "# #         TODO check not starts with .\n",
    "# #         TODO check extensions\n",
    "#         p = re.compile()\n",
    "        \n",
    "#     def setFileType(self):\n",
    "#         if self.checkFileName() == True:\n",
    "# #             TODO\n",
    "        \n",
    "#     TODO based on fileType\n",
    "    def determineDelimiters(self, fileType):\n",
    "        self.delimiter = \"#\"\n",
    "#         self.endDelimiterBlock = \"*/\"\n",
    "#         self.endOfLineDelimiter = \"//\"\n",
    "        \n",
    "    def getNumberOfLines(self):\n",
    "        return self.numLines\n",
    "    \n",
    "    def getNumberOfCommentsLines(self):\n",
    "        return self.numCommentsLines\n",
    "    \n",
    "    def getNumberOfSingleLineCommentsLines(self):\n",
    "        return len(self.singleLineComments)\n",
    "    \n",
    "    def getNumberOfBlockLineCommentsLines(self):\n",
    "        return self.getNumberOfCommentsLines() - self.getNumberOfSingleLineCommentsLines()\n",
    "    \n",
    "    def getNumberOfBlockLineComments(self):\n",
    "        return len(self.blockComments)\n",
    "    \n",
    "    def getNumberOfTODOes(self):\n",
    "        return len(self.TODOes)\n",
    "    \n",
    "    def setNumberOfLines(self, num):\n",
    "        self.numLines = num\n",
    "    \n",
    "#     TODO check whether delimiter in \"\", using regex\n",
    "    def isDelimiterValidInLine(self, delimiter, line):\n",
    "        return delimiter in line\n",
    "    \n",
    "    def isPotentialBlockCommentLine(self, delimiter, line):\n",
    "        return delimiter in line and line.lstrip().find(delimiter) == 0\n",
    "    \n",
    "#     TODO oop, 2 arg => 1 arg\n",
    "    def addValidTODOes(self, line):\n",
    "        p = re.compile(\"todo\", re.IGNORECASE)\n",
    "        delimiterIndex = line.find(self.delimiter)\n",
    "        todoes = p.findall(line)\n",
    "        todoIndex = 0\n",
    "        for t in todoes:\n",
    "            todoIndex = line.find(t, todoIndex)\n",
    "            if todoIndex > delimiterIndex:\n",
    "                self.TODOes.append(line[todoIndex:])\n",
    "                \n",
    "    def checkTODOes(self, inCommentRange, line):\n",
    "        if inCommentRange == 0:\n",
    "            return\n",
    "        else:\n",
    "            self.addValidTODOes(line)\n",
    "\n",
    "    \n",
    "    def readFileLineByLineAndCloseFile(self):\n",
    "        f = open(self.fileName, \"r\")\n",
    "        \n",
    "        tempBlockComment = BlockComment()\n",
    "        blockCommentHasStarted = False\n",
    "        \n",
    "        for line in f:\n",
    "            self.numLines += 1\n",
    "            inCommentRange = 0\n",
    "#             0 => line is not comment\n",
    "#             1 => single line comment\n",
    "#             2 => first line of block comment\n",
    "#             3 => middle line of block comment\n",
    "#             4 => last line of block comment\n",
    "            if blockCommentHasStarted == True and self.isPotentialBlockCommentLine(self.delimiter, line) == True:\n",
    "                self.numCommentsLines += 1\n",
    "                if tempBlockComment.getNumberOfLines() == 0:\n",
    "                    firstLine = self.singleLineComments.pop()\n",
    "                    tempBlockComment.addLine(firstLine)\n",
    "                inCommentRange = 3\n",
    "                tempBlockComment.addLine(line)\n",
    "            else:\n",
    "                if self.isDelimiterValidInLine(self.delimiter, line) == True:\n",
    "                    blockCommentHasStarted = self.isPotentialBlockCommentLine(self.delimiter, line)\n",
    "                    self.numCommentsLines += 1\n",
    "                    inCommentRange = 1\n",
    "                    self.singleLineComments.append(line)\n",
    "                else:\n",
    "                    if tempBlockComment.getNumberOfLines() > 0:\n",
    "                        self.blockComments.append(tempBlockComment)\n",
    "                        tempBlockComment = BlockComment()\n",
    "                    blockCommentHasStarted = False\n",
    "#                 elif self.isDelimiterValidInLine(self.beginDelimiterBlock, line) == True:\n",
    "#     #                 TODO assume no nested block comments\n",
    "#                     self.numCommentsLines += 1\n",
    "#                     inCommentRange = 2\n",
    "#                     blockCommentHasStarted = True\n",
    "#                     tempBlockComment.addLine(line)\n",
    "#                 elif self.isDelimiterValidInLine(self.endDelimiterBlock, line) == True:\n",
    "#                     self.numCommentsLines += 1\n",
    "#                     inCommentRange = 4\n",
    "#                     blockCommentHasStarted = False\n",
    "#                     tempBlockComment.addLine(line)\n",
    "#                     self.blockComments.append(tempBlockComment)\n",
    "#                     tempBlockComment = BlockComment()\n",
    "\n",
    "#             self.checkTODOes(line)\n",
    "            self.checkTODOes(inCommentRange, line)\n",
    " \n",
    "        f.close()"
   ]
  },
  {
   "cell_type": "code",
   "execution_count": null,
   "metadata": {},
   "outputs": [],
   "source": []
  },
  {
   "cell_type": "code",
   "execution_count": 32,
   "metadata": {},
   "outputs": [],
   "source": [
    "f = FileCommentsDesc(\"python.py\")"
   ]
  },
  {
   "cell_type": "code",
   "execution_count": 9,
   "metadata": {},
   "outputs": [
    {
     "data": {
      "text/plain": [
       "21"
      ]
     },
     "execution_count": 9,
     "metadata": {},
     "output_type": "execute_result"
    }
   ],
   "source": [
    "f.getNumberOfLines()"
   ]
  },
  {
   "cell_type": "code",
   "execution_count": 33,
   "metadata": {},
   "outputs": [
    {
     "data": {
      "text/plain": [
       "2"
      ]
     },
     "execution_count": 33,
     "metadata": {},
     "output_type": "execute_result"
    }
   ],
   "source": [
    "f.getNumberOfBlockLineComments()\n",
    "f.getNumberOfCommentsLines()\n",
    "f.getNumberOfSingleLineCommentsLines()\n",
    "f.getNumberOfTODOes()"
   ]
  },
  {
   "cell_type": "code",
   "execution_count": 26,
   "metadata": {},
   "outputs": [
    {
     "data": {
      "text/plain": [
       "3"
      ]
     },
     "execution_count": 26,
     "metadata": {},
     "output_type": "execute_result"
    }
   ],
   "source": [
    "f.getNumberOfBlockLineCommentsLines()"
   ]
  },
  {
   "cell_type": "code",
   "execution_count": 25,
   "metadata": {},
   "outputs": [
    {
     "data": {
      "text/plain": [
       "['#     [6,7,3],\\n', '#     [4,5,9]]\\n', '# result = [[0,0,0],\\n']"
      ]
     },
     "execution_count": 25,
     "metadata": {},
     "output_type": "execute_result"
    }
   ],
   "source": [
    "f.blockComments[0].lines"
   ]
  }
 ],
 "metadata": {
  "kernelspec": {
   "display_name": "Python 3",
   "language": "python",
   "name": "python3"
  },
  "language_info": {
   "codemirror_mode": {
    "name": "ipython",
    "version": 3
   },
   "file_extension": ".py",
   "mimetype": "text/x-python",
   "name": "python",
   "nbconvert_exporter": "python",
   "pygments_lexer": "ipython3",
   "version": "3.7.3"
  }
 },
 "nbformat": 4,
 "nbformat_minor": 2
}
