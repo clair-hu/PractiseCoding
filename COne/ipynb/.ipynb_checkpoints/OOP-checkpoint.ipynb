{
 "cells": [
  {
   "cell_type": "code",
   "execution_count": 2,
   "metadata": {},
   "outputs": [],
   "source": [
    "import re"
   ]
  },
  {
   "cell_type": "code",
   "execution_count": 3,
   "metadata": {},
   "outputs": [],
   "source": [
    "class HiddenFileError(Exception):\n",
    "    def __init__(self, fileName):\n",
    "        self.fileName = fileName\n",
    "        self.message = \"'\" + self.fileName + \"' is a hidden file, pass.\"\n",
    "        \n",
    "class NoExtentionError(Exception):\n",
    "    def __init__(self, fileName):\n",
    "        self.fileName = fileName\n",
    "        self.message = \"'\" + self.fileName + \"' file has no extention, invalid file type.\""
   ]
  },
  {
   "cell_type": "code",
   "execution_count": 86,
   "metadata": {},
   "outputs": [],
   "source": [
    "def getFileType(fileName):\n",
    "    try:\n",
    "        if (fileName.split(\"/\")[-1].find(\".\") == 0):\n",
    "            raise HiddenFileError(fileName)\n",
    "        if (fileName.split(\"/\")[-1].find(\".\") == -1):\n",
    "            raise NoExtentionError(fileName)\n",
    "        extention = fileName.split(\".\")[-1]\n",
    "        return extention\n",
    "    except HiddenFileError as e:\n",
    "        print(e.message)\n",
    "    except NoExtentionError as e:\n",
    "        print(e.message)"
   ]
  },
  {
   "cell_type": "code",
   "execution_count": 5,
   "metadata": {},
   "outputs": [],
   "source": [
    "BlockCommentDiffSingleCommentType = [\"java\", \"cpp\", \"c\"]\n",
    "SingleCommentType = [\"py\"]\n",
    "BlockCommentType = [\"xml\", \"html\"]\n",
    "def getFileCommentsDesc(fileName):\n",
    "    fileType = getFileType(fileName)\n",
    "    if fileType in BlockCommentDiffSingleCommentType:\n",
    "        return BlockCommentDiffSingleCommentFileCommentsDesc(fileName, \"/*\", \"*/\", \"//\")\n",
    "    elif fileType in SingleCommentType:\n",
    "        return SingleCommentFileCommentsDesc(fileName, \"#\")\n",
    "    elif fileType in BlockCommentType:\n",
    "        return BlockCommentFileCommentsDesc(fileName, \"<!--\", \"-->\")"
   ]
  },
  {
   "cell_type": "code",
   "execution_count": 6,
   "metadata": {},
   "outputs": [],
   "source": [
    "class BlockComment:\n",
    "    def __init__(self):\n",
    "        self.lines = []\n",
    "        \n",
    "    def addLine(self, line):\n",
    "        self.lines.append(line)\n",
    "        \n",
    "    def getNumberOfLines(self):\n",
    "        return len(self.lines)"
   ]
  },
  {
   "cell_type": "code",
   "execution_count": 7,
   "metadata": {},
   "outputs": [],
   "source": [
    "class FileCommentsDesc:\n",
    "    def __init__(self, fileName):\n",
    "        self.fileName = fileName\n",
    "        self.blockComments = []\n",
    "        self.singleLineComments = []\n",
    "        self.TODOes = []\n",
    "        self.numCommentsLines = 0\n",
    "        self.numLines = 0\n",
    "        \n",
    "    def getNumberOfLines(self):\n",
    "        return self.numLines\n",
    "    \n",
    "    def getNumberOfCommentsLines(self):\n",
    "        return self.numCommentsLines\n",
    "    \n",
    "    def getNumberOfSingleLineCommentsLines(self):\n",
    "        return len(self.singleLineComments)\n",
    "    \n",
    "    def getNumberOfBlockLineCommentsLines(self):\n",
    "        return self.getNumberOfCommentsLines() - self.getNumberOfSingleLineCommentsLines()\n",
    "    \n",
    "    def getNumberOfBlockLineComments(self):\n",
    "        return len(self.blockComments)\n",
    "    \n",
    "    def getNumberOfTODOes(self):\n",
    "        return len(self.TODOes)\n",
    "    \n",
    "    def setNumberOfLines(self, num):\n",
    "        self.numLines = num\n",
    "    \n",
    "#     check whether delimiter in \"\", using regex\n",
    "    def isDelimiterValidInLine(self, delimiter, line):\n",
    "        p = r'\"([^\"]*)\"'\n",
    "        removeQuotesText = re.sub(p, \"\", line)\n",
    "        return delimiter in removeQuotesText\n",
    "    \n",
    "# #     virtual methods to be implemented by child classes\n",
    "#     def addValidTODOes()\n",
    "#     def checkTODOes()\n",
    "#     def readFileAndCloseFile()\n",
    "    "
   ]
  },
  {
   "cell_type": "code",
   "execution_count": 79,
   "metadata": {},
   "outputs": [],
   "source": [
    "class BlockCommentFileCommentsDesc(FileCommentsDesc):\n",
    "    def __init__(self, fileName, beginDelimiter, endDelimiter):\n",
    "        super().__init__(fileName)\n",
    "        \n",
    "        self.beginDelimiter = beginDelimiter\n",
    "        self.endDelimiter = endDelimiter\n",
    "        self.readFileAndCloseFile()\n",
    "        \n",
    "    def readFileAndCloseFile(self):\n",
    "        f = open(self.fileName, \"r\")\n",
    "        \n",
    "        tempBlockComment = BlockComment()\n",
    "        blockCommentHasStarted = False\n",
    "        \n",
    "        for line in f:\n",
    "            self.numLines += 1\n",
    "            inCommentRange = 0\n",
    "#             0 => line is not comment\n",
    "#             1 => single line comment\n",
    "#             2 => first line of block comment\n",
    "#             3 => middle line of block comment\n",
    "#             4 => last line of block comment\n",
    "            if blockCommentHasStarted == True and self.isDelimiterValidInLine(self.endDelimiter, line) == False:\n",
    "                self.numCommentsLines += 1\n",
    "                inCommentRange = 3\n",
    "                tempBlockComment.addLine(line)\n",
    "            if self.isDelimiterValidInLine(self.beginDelimiter, line) == True\\\n",
    "            and self.isDelimiterValidInLine(self.endDelimiter, line) == True:\n",
    "                self.numCommentsLines += 1\n",
    "                inCommentRange = 1\n",
    "                self.singleLineComments.append(line)\n",
    "            elif self.isDelimiterValidInLine(self.beginDelimiter, line) == True:\n",
    "#                 TODO assume no nested block comments\n",
    "                self.numCommentsLines += 1\n",
    "                inCommentRange = 2\n",
    "                blockCommentHasStarted = True\n",
    "                tempBlockComment.addLine(line)\n",
    "            elif self.isDelimiterValidInLine(self.endDelimiter, line) == True:\n",
    "                self.numCommentsLines += 1\n",
    "                inCommentRange = 4\n",
    "                blockCommentHasStarted = False\n",
    "                tempBlockComment.addLine(line)\n",
    "                self.blockComments.append(tempBlockComment)\n",
    "                tempBlockComment = BlockComment()\n",
    "            \n",
    "            self.checkTODOes(inCommentRange, line)\n",
    " \n",
    "        f.close()\n",
    "    \n",
    "    def checkTODOes(self, inCommentRange, line):\n",
    "        if inCommentRange == 0:\n",
    "            return\n",
    "        p = re.compile(\"todo\", re.IGNORECASE)\n",
    "        beginDelimiterIndex = line.find(self.beginDelimiter)\n",
    "        endDelimiterIndex = line.find(self.endDelimiter)\n",
    "        todoes = p.findall(line)\n",
    "        todoIndex = 0\n",
    "        for t in todoes:\n",
    "            todoIndex = line.find(t, todoIndex + 1)\n",
    "            if inCommentRange == 3:\n",
    "                self.TODOes.append(line[todoIndex:])\n",
    "            elif inCommentRange == 4:\n",
    "                if todoIndex < endDelimiterIndex:\n",
    "                    self.TODOes.append(line[todoIndex:])\n",
    "            elif inCommentRange == 2:\n",
    "                if todoIndex > beginDelimiterIndex:\n",
    "                    self.TODOes.append(line[todoIndex:])\n",
    "            elif inCommentRange == 1:\n",
    "                if todoIndex > beginDelimiterIndex and todoIndex < endDelimiterIndex:\n",
    "                    self.TODOes.append(line[todoIndex:])"
   ]
  },
  {
   "cell_type": "code",
   "execution_count": 96,
   "metadata": {},
   "outputs": [],
   "source": [
    "bbf = getFileCommentsDesc(\"../data/agents.xml\")"
   ]
  },
  {
   "cell_type": "code",
   "execution_count": 91,
   "metadata": {},
   "outputs": [
    {
     "data": {
      "text/plain": [
       "20"
      ]
     },
     "execution_count": 91,
     "metadata": {},
     "output_type": "execute_result"
    }
   ],
   "source": [
    "bbf.getNumberOfLines()"
   ]
  },
  {
   "cell_type": "code",
   "execution_count": 92,
   "metadata": {},
   "outputs": [
    {
     "data": {
      "text/plain": [
       "1"
      ]
     },
     "execution_count": 92,
     "metadata": {},
     "output_type": "execute_result"
    }
   ],
   "source": [
    "bbf.getNumberOfBlockLineComments()"
   ]
  },
  {
   "cell_type": "code",
   "execution_count": 93,
   "metadata": {},
   "outputs": [
    {
     "data": {
      "text/plain": [
       "3"
      ]
     },
     "execution_count": 93,
     "metadata": {},
     "output_type": "execute_result"
    }
   ],
   "source": [
    "bbf.getNumberOfBlockLineCommentsLines()"
   ]
  },
  {
   "cell_type": "code",
   "execution_count": 97,
   "metadata": {},
   "outputs": [
    {
     "data": {
      "text/plain": [
       "4"
      ]
     },
     "execution_count": 97,
     "metadata": {},
     "output_type": "execute_result"
    }
   ],
   "source": [
    "bbf.getNumberOfTODOes()"
   ]
  },
  {
   "cell_type": "code",
   "execution_count": 95,
   "metadata": {},
   "outputs": [
    {
     "data": {
      "text/plain": [
       "6"
      ]
     },
     "execution_count": 95,
     "metadata": {},
     "output_type": "execute_result"
    }
   ],
   "source": [
    "bbf.getNumberOfCommentsLines()"
   ]
  },
  {
   "cell_type": "code",
   "execution_count": 30,
   "metadata": {},
   "outputs": [],
   "source": [
    "class BlockCommentSameSingleCommentFileCommentsDesc(FileCommentsDesc):\n",
    "    def __init__(self, fileName, blockDelimiter, singleAndBlockDelimiter):\n",
    "        super().__init__(fileName)\n",
    "\n",
    "        self.blockDelimiter = blockDelimiter\n",
    "        self.singleAndBlockDelimiter = singleAndBlockDelimiter\n",
    "        self.readFileAndCloseFile()\n",
    "  \n",
    "    def addValidTODOesInBlockComment(self, inCommentRange, line):\n",
    "        p = re.compile(\"todo\", re.IGNORECASE)\n",
    "        delimiterIndex = line.find(self.blockDelimiter)\n",
    "        todoes = p.findall(line)\n",
    "        todoIndex = 0\n",
    "        for t in todoes:\n",
    "            todoIndex = line.find(t, todoIndex + 1)\n",
    "            if inCommentRange == 3:\n",
    "                self.TODOes.append(line[todoIndex:])\n",
    "            elif inCommentRange == 4:\n",
    "                if todoIndex < delimiterIndex:\n",
    "                    self.TODOes.append(line[todoIndex:])\n",
    "            elif inCommentRange == 2:\n",
    "                if todoIndex > delimiterIndex:\n",
    "                    self.TODOes.append(line[todoIndex:])\n",
    "                \n",
    "    def checkTODOesInBlockComment(self, inCommentRange, line):\n",
    "        if inCommentRange == 0:\n",
    "            return\n",
    "        p = re.compile(\"todo\", re.IGNORECASE)\n",
    "        delimiterIndex = line.find(self.blockDelimiter)\n",
    "        todoes = p.findall(line)\n",
    "        todoIndex = 0\n",
    "        for t in todoes:\n",
    "            todoIndex = line.find(t, todoIndex + 1)\n",
    "            if inCommentRange == 3:\n",
    "                self.TODOes.append(line[todoIndex:])\n",
    "            elif inCommentRange == 4:\n",
    "                if todoIndex < delimiterIndex:\n",
    "                    self.TODOes.append(line[todoIndex:])\n",
    "            elif inCommentRange == 2:\n",
    "                if todoIndex > delimiterIndex:\n",
    "                    self.TODOes.append(line[todoIndex:])\n",
    "                    \n",
    "        elif inCommentRange == 2:\n",
    "            self.addValidTODOesInBlockComment(inCommentRange, line)\n",
    "        elif inCommentRange == 3:\n",
    "            self.addValidTODOesInBlockComment(inCommentRange, line)\n",
    "        elif inCommentRange == 4:\n",
    "            self.addValidTODOesInBlockComment(inCommentRange, line)\n",
    "    \n",
    "    def addValidTODOesInSingleAndBlockComment(self, line):\n",
    "        p = re.compile(\"todo\", re.IGNORECASE)\n",
    "        delimiterIndex = line.find(self.singleAndBlockDelimiter)\n",
    "        todoes = p.findall(line)\n",
    "        todoIndex = 0\n",
    "        for t in todoes:\n",
    "            todoIndex = line.find(t, todoIndex + 1)\n",
    "            if todoIndex > delimiterIndex:\n",
    "                self.TODOes.append(line[todoIndex:])\n",
    "    \n",
    "    def checkTODOesInSingleAndBlockComment(self, inCommentRange, line):\n",
    "        if inCommentRange == 0:\n",
    "            return\n",
    "        else:\n",
    "            self.addValidTODOesInSingleAndBlockComment(line)\n",
    "    \n",
    "    def readFileAndCloseFile(self):\n",
    "        f = open(self.fileName, \"r\")\n",
    "        \n",
    "        tempBlockComment = BlockComment()\n",
    "        blockCommentHasStarted = False\n",
    "        singleAndBlockCommentHasStarted = False\n",
    "        \n",
    "        for line in f:\n",
    "            self.numLines += 1\n",
    "            inCommentRange = 0\n",
    "            if self.isDelimiterValidInLine(self.blockDelimiter, line) == True or blockCommentHasStarted == True:\n",
    "                inCommentRange = 0\n",
    "#                 0 => line is not comment\n",
    "#                 1 => single line comment\n",
    "#                 2 => first line of block comment\n",
    "#                 3 => middle line of block comment\n",
    "#                 4 => last line of block comment\n",
    "                if blockCommentHasStarted == False:\n",
    "#                 first line of block comment\n",
    "                    self.numCommentsLines += 1\n",
    "                    inCommentRange = 2\n",
    "                    blockCommentHasStarted = True\n",
    "                    tempBlockComment.addLine(line)\n",
    "                else:\n",
    "                    if self.isDelimiterValidInLine(self.blockDelimiter, line) == True:\n",
    "#                         last line of block comment\n",
    "                        self.numCommentsLines += 1\n",
    "                        inCommentRange = 4\n",
    "                        blockCommentHasStarted = False\n",
    "                        tempBlockComment.addLine(line)\n",
    "                        self.blockComments.append(tempBlockComment)\n",
    "                        tempBlockComment = BlockComment()\n",
    "                    else:\n",
    "#                         middle line of block comment\n",
    "                        self.numCommentsLines += 1\n",
    "                        inCommentRange = 3\n",
    "                        tempBlockComment.addLine(line)\n",
    "                self.checkTODOesInBlockComment(inCommentRange, line)\n",
    "            else:\n",
    "                inCommentRange = 0\n",
    "#                 0 => line is not comment\n",
    "#                 1 => line is a comment\n",
    "                if singleAndBlockCommentHasStarted == True and self.isPotentialBlockCommentLine(self.singleAndBlockDelimiter, line) == True:\n",
    "                    self.numCommentsLines += 1\n",
    "                    if tempBlockComment.getNumberOfLines() == 0:\n",
    "                        firstLine = self.singleLineComments.pop()\n",
    "                        tempBlockComment.addLine(firstLine)\n",
    "                    inCommentRange = 1\n",
    "                    tempBlockComment.addLine(line)\n",
    "                else:\n",
    "                    if self.isDelimiterValidInLine(self.singleAndBlockDelimiter, line) == True:\n",
    "                        singleAndBlockCommentHasStarted = self.isPotentialBlockCommentLine(self.singleAndBlockDelimiter, line)\n",
    "                        self.numCommentsLines += 1\n",
    "                        inCommentRange = 1\n",
    "                        self.singleLineComments.append(line)\n",
    "                    else:\n",
    "                        if tempBlockComment.getNumberOfLines() > 0:\n",
    "                            self.blockComments.append(tempBlockComment)\n",
    "                            tempBlockComment = BlockComment()\n",
    "                        singleAndBlockCommentHasStarted = False\n",
    "\n",
    "                self.checkTODOesInSingleAndBlockComment(inCommentRange, line)\n",
    " \n",
    "        f.close()\n",
    "    \n",
    "    def isPotentialBlockCommentLine(self, delimiter, line):\n",
    "        return super().isDelimiterValidInLine(delimiter, line) and line.lstrip().find(delimiter) == 0\n",
    "    "
   ]
  },
  {
   "cell_type": "code",
   "execution_count": 31,
   "metadata": {},
   "outputs": [],
   "source": [
    "bsf = BlockCommentSameSingleCommentFileCommentsDesc(\"../data/example.py\", \"'''\", \"#\")"
   ]
  },
  {
   "cell_type": "code",
   "execution_count": 32,
   "metadata": {},
   "outputs": [
    {
     "data": {
      "text/plain": [
       "2"
      ]
     },
     "execution_count": 32,
     "metadata": {},
     "output_type": "execute_result"
    }
   ],
   "source": [
    "bsf.getNumberOfCommentsLines()\n",
    "bsf.getNumberOfBlockLineComments()"
   ]
  },
  {
   "cell_type": "code",
   "execution_count": 35,
   "metadata": {},
   "outputs": [
    {
     "data": {
      "text/plain": [
       "3"
      ]
     },
     "execution_count": 35,
     "metadata": {},
     "output_type": "execute_result"
    }
   ],
   "source": [
    "bsf.getNumberOfTODOes()\n",
    "bsf.getNumberOfSingleLineCommentsLines()"
   ]
  },
  {
   "cell_type": "code",
   "execution_count": 69,
   "metadata": {},
   "outputs": [],
   "source": [
    "class BlockCommentDiffSingleCommentFileCommentsDesc(FileCommentsDesc):\n",
    "    def __init__(self, fileName, beginDelimiterBlock, endDelimiterBlock, endOfLineDelimiter):\n",
    "        super().__init__(fileName)\n",
    "\n",
    "        self.beginDelimiterBlock = beginDelimiterBlock\n",
    "        self.endDelimiterBlock = endDelimiterBlock\n",
    "        self.endOfLineDelimiter = endOfLineDelimiter\n",
    "        self.readFileAndCloseFile()\n",
    "  \n",
    "    def addValidTODOes(self, delimiter, line):\n",
    "        p = re.compile(\"todo\", re.IGNORECASE)\n",
    "        delimiterIndex = line.find(delimiter)\n",
    "        todoes = p.findall(line)\n",
    "        todoIndex = 0\n",
    "        for t in todoes:\n",
    "            todoIndex = line.find(t, todoIndex)\n",
    "            if delimiter == \"\":\n",
    "                self.TODOes.append(line[todoIndex:])\n",
    "            elif delimiter == self.endDelimiterBlock:\n",
    "                if todoIndex < delimiterIndex:\n",
    "                    self.TODOes.append(line[todoIndex:])\n",
    "            else:\n",
    "                if todoIndex > delimiterIndex:\n",
    "                    self.TODOes.append(line[todoIndex:])\n",
    "                \n",
    "    def checkTODOes(self, inCommentRange, line):\n",
    "        if inCommentRange == 0:\n",
    "            return\n",
    "        p = re.compile(\"todo\", re.IGNORECASE)\n",
    "        todoes = p.findall(line)\n",
    "        todoIndex = 0\n",
    "        for t in todoes:\n",
    "            todoIndex = line.find(t, todoIndex + 1)\n",
    "            if inCommentRange == 3:\n",
    "                self.TODOes.append(line[todoIndex:])\n",
    "            elif inCommentRange == 4:\n",
    "                delimiterIndex = line.find(self.endDelimiterBlock)\n",
    "                if todoIndex < delimiterIndex:\n",
    "                    self.TODOes.append(line[todoIndex:])\n",
    "            elif inCommentRange == 2:\n",
    "                delimiterIndex = line.find(self.beginDelimiterBlock)\n",
    "                if todoIndex > delimiterIndex:\n",
    "                    self.TODOes.append(line[todoIndex:])\n",
    "            elif inCommentRange == 1:\n",
    "                delimiterIndex = line.find(self.endOfLineDelimiter)\n",
    "                if todoIndex > delimiterIndex:\n",
    "                    self.TODOes.append(line[todoIndex:])\n",
    "            elif inCommentRange == 5:\n",
    "                beginDelimiterIndex = line.find(self.beginDelimiterBlock)\n",
    "                endDelimiterIndex = line.find(self.endDelimiterBlock)\n",
    "                if todoIndex > beginDelimiterIndex and todoIndex < endDelimiterIndex:\n",
    "                    self.TODOes.append(line[todoIndex:])\n",
    "    \n",
    "    def readFileAndCloseFile(self):\n",
    "        f = open(self.fileName, \"r\")\n",
    "        \n",
    "        tempBlockComment = BlockComment()\n",
    "        blockCommentHasStarted = False\n",
    "        \n",
    "        for line in f:\n",
    "            self.numLines += 1\n",
    "            inCommentRange = 0\n",
    "#             0 => line is not comment\n",
    "#             1 => single line comment\n",
    "#             2 => first line of block comment\n",
    "#             3 => middle line of block comment\n",
    "#             4 => last line of block comment\n",
    "#             5 => line of block comment\n",
    "            if blockCommentHasStarted == True and self.isDelimiterValidInLine(self.endDelimiterBlock, line) == False:\n",
    "                self.numCommentsLines += 1\n",
    "                inCommentRange = 3\n",
    "                tempBlockComment.addLine(line)\n",
    "            if self.isDelimiterValidInLine(self.endOfLineDelimiter, line) == True:\n",
    "                self.numCommentsLines += 1\n",
    "                inCommentRange = 1\n",
    "                self.singleLineComments.append(line)\n",
    "            elif self.isDelimiterValidInLine(self.beginDelimiterBlock, line) == True:\n",
    "                if self.isDelimiterValidInLine(self.endDelimiterBlock, line) == True\\\n",
    "                and blockCommentHasStarted == False:\n",
    "#                     line of block comment\n",
    "                    self.numCommentsLines += 1\n",
    "                    inCommentRange = 5\n",
    "                    tempBlockComment.addLine(line)\n",
    "                    self.blockComments.append(tempBlockComment)\n",
    "                    tempBlockComment = BlockComment()\n",
    "                else:\n",
    "#                     first line of block comment\n",
    "                    self.numCommentsLines += 1\n",
    "                    inCommentRange = 2\n",
    "                    blockCommentHasStarted = True\n",
    "                    tempBlockComment.addLine(line)\n",
    "            elif self.isDelimiterValidInLine(self.endDelimiterBlock, line) == True:\n",
    "                self.numCommentsLines += 1\n",
    "                inCommentRange = 4\n",
    "                blockCommentHasStarted = False\n",
    "                tempBlockComment.addLine(line)\n",
    "                self.blockComments.append(tempBlockComment)\n",
    "                tempBlockComment = BlockComment()\n",
    "            \n",
    "            self.checkTODOes(inCommentRange, line)\n",
    " \n",
    "        f.close()"
   ]
  },
  {
   "cell_type": "code",
   "execution_count": null,
   "metadata": {},
   "outputs": [],
   "source": []
  },
  {
   "cell_type": "code",
   "execution_count": 77,
   "metadata": {},
   "outputs": [],
   "source": [
    "bf = BlockCommentDiffSingleCommentFileCommentsDesc(\"../data/PlaneFuelTest.java\", \"/*\", \"*/\", \"//\")"
   ]
  },
  {
   "cell_type": "code",
   "execution_count": 71,
   "metadata": {},
   "outputs": [
    {
     "data": {
      "text/plain": [
       "49"
      ]
     },
     "execution_count": 71,
     "metadata": {},
     "output_type": "execute_result"
    }
   ],
   "source": [
    "bf.getNumberOfLines()"
   ]
  },
  {
   "cell_type": "code",
   "execution_count": 72,
   "metadata": {},
   "outputs": [
    {
     "data": {
      "text/plain": [
       "3"
      ]
     },
     "execution_count": 72,
     "metadata": {},
     "output_type": "execute_result"
    }
   ],
   "source": [
    "bf.getNumberOfBlockLineComments()"
   ]
  },
  {
   "cell_type": "code",
   "execution_count": 73,
   "metadata": {},
   "outputs": [
    {
     "data": {
      "text/plain": [
       "9"
      ]
     },
     "execution_count": 73,
     "metadata": {},
     "output_type": "execute_result"
    }
   ],
   "source": [
    "bf.getNumberOfBlockLineCommentsLines()"
   ]
  },
  {
   "cell_type": "code",
   "execution_count": 74,
   "metadata": {},
   "outputs": [
    {
     "data": {
      "text/plain": [
       "13"
      ]
     },
     "execution_count": 74,
     "metadata": {},
     "output_type": "execute_result"
    }
   ],
   "source": [
    "bf.getNumberOfCommentsLines()"
   ]
  },
  {
   "cell_type": "code",
   "execution_count": 75,
   "metadata": {},
   "outputs": [
    {
     "data": {
      "text/plain": [
       "4"
      ]
     },
     "execution_count": 75,
     "metadata": {},
     "output_type": "execute_result"
    }
   ],
   "source": [
    "bf.getNumberOfSingleLineCommentsLines()"
   ]
  },
  {
   "cell_type": "code",
   "execution_count": 78,
   "metadata": {},
   "outputs": [
    {
     "data": {
      "text/plain": [
       "6"
      ]
     },
     "execution_count": 78,
     "metadata": {},
     "output_type": "execute_result"
    }
   ],
   "source": [
    "bf.getNumberOfTODOes()"
   ]
  },
  {
   "cell_type": "code",
   "execution_count": 98,
   "metadata": {},
   "outputs": [],
   "source": [
    "class SingleCommentFileCommentsDesc(FileCommentsDesc):\n",
    "    def __init__(self, fileName, delimiter):\n",
    "        super().__init__(fileName)\n",
    "\n",
    "        self.delimiter = delimiter\n",
    "        self.readFileAndCloseFile()\n",
    "    \n",
    "    def isPotentialBlockCommentLine(self, delimiter, line):\n",
    "        return super().isDelimiterValidInLine(delimiter, line) and line.lstrip().find(delimiter) == 0\n",
    "    \n",
    "    def addValidTODOes(self, line):\n",
    "        p = re.compile(\"todo\", re.IGNORECASE)\n",
    "        delimiterIndex = line.find(self.delimiter)\n",
    "        todoes = p.findall(line)\n",
    "        todoIndex = 0\n",
    "        for t in todoes:\n",
    "            todoIndex = line.find(t, todoIndex)\n",
    "            if todoIndex > delimiterIndex:\n",
    "                self.TODOes.append(line[todoIndex:])\n",
    "                \n",
    "    def checkTODOes(self, inCommentRange, line):\n",
    "        if inCommentRange == 0:\n",
    "            return\n",
    "        else:\n",
    "            p = re.compile(\"todo\", re.IGNORECASE)\n",
    "            delimiterIndex = line.find(self.delimiter)\n",
    "            todoes = p.findall(line)\n",
    "            todoIndex = 0\n",
    "            for t in todoes:\n",
    "                todoIndex = line.find(t, todoIndex)\n",
    "                if todoIndex > delimiterIndex:\n",
    "                    self.TODOes.append(line[todoIndex:])\n",
    "    \n",
    "    def readFileAndCloseFile(self):\n",
    "        f = open(self.fileName, \"r\")\n",
    "        \n",
    "        tempBlockComment = BlockComment()\n",
    "        blockCommentHasStarted = False\n",
    "        \n",
    "        for line in f:\n",
    "            self.numLines += 1\n",
    "            inCommentRange = 0\n",
    "#             0 => line is not comment\n",
    "#             1 => line is a comment\n",
    "            if blockCommentHasStarted == True and self.isPotentialBlockCommentLine(self.delimiter, line) == True:\n",
    "                self.numCommentsLines += 1\n",
    "                if tempBlockComment.getNumberOfLines() == 0:\n",
    "                    firstLine = self.singleLineComments.pop()\n",
    "                    tempBlockComment.addLine(firstLine)\n",
    "                inCommentRange = 1\n",
    "                tempBlockComment.addLine(line)\n",
    "            else:\n",
    "                if self.isDelimiterValidInLine(self.delimiter, line) == True:\n",
    "                    blockCommentHasStarted = self.isPotentialBlockCommentLine(self.delimiter, line)\n",
    "                    self.numCommentsLines += 1\n",
    "                    inCommentRange = 1\n",
    "                    self.singleLineComments.append(line)\n",
    "                else:\n",
    "                    if tempBlockComment.getNumberOfLines() > 0:\n",
    "                        self.blockComments.append(tempBlockComment)\n",
    "                        tempBlockComment = BlockComment()\n",
    "                    blockCommentHasStarted = False\n",
    "\n",
    "            self.checkTODOes(inCommentRange, line)\n",
    " \n",
    "        f.close()"
   ]
  },
  {
   "cell_type": "code",
   "execution_count": 100,
   "metadata": {},
   "outputs": [],
   "source": [
    "sf = SingleCommentFileCommentsDesc(\"../data/example.py\", \"#\")"
   ]
  },
  {
   "cell_type": "code",
   "execution_count": 101,
   "metadata": {},
   "outputs": [
    {
     "data": {
      "text/plain": [
       "21"
      ]
     },
     "execution_count": 101,
     "metadata": {},
     "output_type": "execute_result"
    }
   ],
   "source": [
    "sf.getNumberOfLines()"
   ]
  },
  {
   "cell_type": "code",
   "execution_count": 102,
   "metadata": {},
   "outputs": [
    {
     "data": {
      "text/plain": [
       "1"
      ]
     },
     "execution_count": 102,
     "metadata": {},
     "output_type": "execute_result"
    }
   ],
   "source": [
    "sf.getNumberOfBlockLineComments()"
   ]
  },
  {
   "cell_type": "code",
   "execution_count": 103,
   "metadata": {},
   "outputs": [
    {
     "data": {
      "text/plain": [
       "3"
      ]
     },
     "execution_count": 103,
     "metadata": {},
     "output_type": "execute_result"
    }
   ],
   "source": [
    "sf.getNumberOfBlockLineCommentsLines()"
   ]
  },
  {
   "cell_type": "code",
   "execution_count": 104,
   "metadata": {},
   "outputs": [
    {
     "data": {
      "text/plain": [
       "6"
      ]
     },
     "execution_count": 104,
     "metadata": {},
     "output_type": "execute_result"
    }
   ],
   "source": [
    "sf.getNumberOfCommentsLines()"
   ]
  },
  {
   "cell_type": "code",
   "execution_count": 105,
   "metadata": {},
   "outputs": [
    {
     "data": {
      "text/plain": [
       "3"
      ]
     },
     "execution_count": 105,
     "metadata": {},
     "output_type": "execute_result"
    }
   ],
   "source": [
    "sf.getNumberOfSingleLineCommentsLines()"
   ]
  },
  {
   "cell_type": "code",
   "execution_count": 106,
   "metadata": {},
   "outputs": [
    {
     "data": {
      "text/plain": [
       "2"
      ]
     },
     "execution_count": 106,
     "metadata": {},
     "output_type": "execute_result"
    }
   ],
   "source": [
    "sf.getNumberOfTODOes()"
   ]
  },
  {
   "cell_type": "code",
   "execution_count": null,
   "metadata": {},
   "outputs": [],
   "source": []
  },
  {
   "cell_type": "code",
   "execution_count": null,
   "metadata": {},
   "outputs": [],
   "source": []
  }
 ],
 "metadata": {
  "kernelspec": {
   "display_name": "Python 3",
   "language": "python",
   "name": "python3"
  },
  "language_info": {
   "codemirror_mode": {
    "name": "ipython",
    "version": 3
   },
   "file_extension": ".py",
   "mimetype": "text/x-python",
   "name": "python",
   "nbconvert_exporter": "python",
   "pygments_lexer": "ipython3",
   "version": "3.7.3"
  }
 },
 "nbformat": 4,
 "nbformat_minor": 2
}
