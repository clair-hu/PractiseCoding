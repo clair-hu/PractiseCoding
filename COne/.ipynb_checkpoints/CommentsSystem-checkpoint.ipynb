{
 "cells": [
  {
   "cell_type": "code",
   "execution_count": 29,
   "metadata": {},
   "outputs": [],
   "source": [
    "import re"
   ]
  },
  {
   "cell_type": "code",
   "execution_count": 57,
   "metadata": {},
   "outputs": [],
   "source": [
    "class FileCommentsDesc:\n",
    "    def __init__(self, fileName):\n",
    "        self.fileName = fileName\n",
    "        self.blockComments = []\n",
    "        self.singleLineComments = []\n",
    "        self.TODOes = []\n",
    "        self.numCommentsLines = 0\n",
    "        self.numLines = 0\n",
    "#         TODO\n",
    "#         self.checkFileName(self.fileName)\n",
    "#         TODO change \"\" to filetype\n",
    "        self.determineDelimiters(\"\")\n",
    "        self.readFileLineByLineAndCloseFile()\n",
    "        \n",
    "        \n",
    "#     # return bool => whether the file name has valid extention and not starting with .\n",
    "#     def checkFileName(self):\n",
    "# #         TODO check not starts with .\n",
    "# #         TODO check extensions\n",
    "#         p = re.compile()\n",
    "        \n",
    "#     def setFileType(self):\n",
    "#         if self.checkFileName() == True:\n",
    "# #             TODO\n",
    "        \n",
    "#     TODO based on fileType\n",
    "    def determineDelimiters(self, fileType):\n",
    "        self.beginDelimiterBlock = \"/*\"\n",
    "        self.endDelimiterBlock = \"*/\"\n",
    "        self.endOfLineDelimiter = \"//\"\n",
    "        \n",
    "    def getNumberOfLines(self):\n",
    "        return self.numLines\n",
    "    \n",
    "    def getNumberOfCommentsLines(self):\n",
    "        return self.numCommentsLines\n",
    "    \n",
    "    def getNumberOfSingleLineCommentsLines(self):\n",
    "        return len(self.singleLineComments)\n",
    "    \n",
    "    def getNumberOfBlockLineCommentsLines(self):\n",
    "        return self.getNumberOfCommentsLines() - self.getNumberOfSingleLineCommentsLines()\n",
    "    \n",
    "    def getNumberOfBlockLineComments(self):\n",
    "        return len(self.blockComments)\n",
    "    \n",
    "    def getNumberOfTODOes(self):\n",
    "        return len(self.TODOes)\n",
    "    \n",
    "    def setNumberOfLines(self, num):\n",
    "        self.numLines = num\n",
    "    \n",
    "#     TODO check whether delimiter in \"\", using regex\n",
    "    def isDelimiterValidInLine(self, delimiter, line):\n",
    "        return delimiter in line\n",
    "    \n",
    "    def addValidTODOes(self, delimiter, line):\n",
    "        p = re.compile(\"todo\", re.IGNORECASE)\n",
    "        delimiterIndex = line.find(delimiter)\n",
    "        todoes = p.findall(line)\n",
    "        todoIndex = 0\n",
    "        for t in todoes:\n",
    "            todoIndex = line.find(t, todoIndex)\n",
    "            if delimiter == \"\":\n",
    "                self.TODOes.append(line[todoIndex:])\n",
    "            elif delimiter == self.endDelimiterBlock:\n",
    "                if todoIndex < delimiterIndex:\n",
    "                    self.TODOes.append(line[todoIndex:])\n",
    "            else:\n",
    "                if todoIndex > delimiterIndex:\n",
    "                    self.TODOes.append(line[todoIndex:])\n",
    "                \n",
    "    def checkTODOes(self, inCommentRange, line):\n",
    "        if inCommentRange == 0:\n",
    "            return\n",
    "        elif inCommentRange == 1:\n",
    "            self.addValidTODOes(self.endOfLineDelimiter, line)\n",
    "        elif inCommentRange == 2:\n",
    "            self.addValidTODOes(self.beginDelimiterBlock, line)\n",
    "        elif inCommentRange == 3:\n",
    "            self.addValidTODOes(\"\", line)\n",
    "        elif inCommentRange == 4:\n",
    "            self.addValidTODOes(self.endDelimiterBlock, line)\n",
    "    \n",
    "    def readFileLineByLineAndCloseFile(self):\n",
    "        f = open(self.fileName, \"r\")\n",
    "        \n",
    "        tempBlockComment = BlockComment()\n",
    "        blockCommentHasStarted = False\n",
    "        \n",
    "        for line in f:\n",
    "            self.numLines += 1\n",
    "            inCommentRange = 0\n",
    "#             0 => line is not comment\n",
    "#             1 => single line comment\n",
    "#             2 => first line of block comment\n",
    "#             3 => middle line of block comment\n",
    "#             4 => last line of block comment\n",
    "            if blockCommentHasStarted == True and self.isDelimiterValidInLine(self.endDelimiterBlock, line) == False:\n",
    "                self.numCommentsLines += 1\n",
    "                inCommentRange = 3\n",
    "                tempBlockComment.addLine(line)\n",
    "            if self.isDelimiterValidInLine(self.endOfLineDelimiter, line) == True:\n",
    "                self.numCommentsLines += 1\n",
    "                inCommentRange = 1\n",
    "                self.singleLineComments.append(line)\n",
    "            elif self.isDelimiterValidInLine(self.beginDelimiterBlock, line) == True:\n",
    "#                 TODO assume no nested block comments\n",
    "                self.numCommentsLines += 1\n",
    "                inCommentRange = 2\n",
    "                blockCommentHasStarted = True\n",
    "                tempBlockComment.addLine(line)\n",
    "            elif self.isDelimiterValidInLine(self.endDelimiterBlock, line) == True:\n",
    "                self.numCommentsLines += 1\n",
    "                inCommentRange = 4\n",
    "                blockCommentHasStarted = False\n",
    "                tempBlockComment.addLine(line)\n",
    "                self.blockComments.append(tempBlockComment)\n",
    "                tempBlockComment = BlockComment()\n",
    "            \n",
    "            self.checkTODOes(inCommentRange, line)\n",
    " \n",
    "        f.close()"
   ]
  },
  {
   "cell_type": "code",
   "execution_count": 31,
   "metadata": {},
   "outputs": [],
   "source": [
    "class BlockComment:\n",
    "    def __init__(self):\n",
    "        self.lines = []\n",
    "    \n",
    "    def addLine(self, line):\n",
    "        self.lines.append(line)"
   ]
  },
  {
   "cell_type": "code",
   "execution_count": 58,
   "metadata": {},
   "outputs": [],
   "source": [
    "fi = FileCommentsDesc(\"PlaneFuelTest.java\")"
   ]
  },
  {
   "cell_type": "code",
   "execution_count": 54,
   "metadata": {},
   "outputs": [
    {
     "data": {
      "text/plain": [
       "2"
      ]
     },
     "execution_count": 54,
     "metadata": {},
     "output_type": "execute_result"
    }
   ],
   "source": [
    "fi.getNumberOfBlockLineComments()"
   ]
  },
  {
   "cell_type": "code",
   "execution_count": 59,
   "metadata": {},
   "outputs": [
    {
     "data": {
      "text/plain": [
       "8"
      ]
     },
     "execution_count": 59,
     "metadata": {},
     "output_type": "execute_result"
    }
   ],
   "source": [
    "fi.getNumberOfBlockLineCommentsLines()"
   ]
  },
  {
   "cell_type": "code",
   "execution_count": 61,
   "metadata": {},
   "outputs": [
    {
     "data": {
      "text/plain": [
       "4"
      ]
     },
     "execution_count": 61,
     "metadata": {},
     "output_type": "execute_result"
    }
   ],
   "source": [
    "fi.getNumberOfSingleLineCommentsLines()"
   ]
  },
  {
   "cell_type": "code",
   "execution_count": 62,
   "metadata": {},
   "outputs": [
    {
     "data": {
      "text/plain": [
       "6"
      ]
     },
     "execution_count": 62,
     "metadata": {},
     "output_type": "execute_result"
    }
   ],
   "source": [
    "fi.getNumberOfTODOes()"
   ]
  },
  {
   "cell_type": "code",
   "execution_count": 63,
   "metadata": {},
   "outputs": [
    {
     "name": "stdout",
     "output_type": "stream",
     "text": [
      "['Todo this file\\n', 'todo static*/ todo org.junit.jupiter.api.Assertions.*;\\n', 'todo static*/ todo org.junit.jupiter.api.Assertions.*;\\n', 'todo get todo plane.getRemainingFuelLiters(),TODO 0);\\n', 'todo get todo plane.getRemainingFuelLiters(),TODO 0);\\n', 'TODO 0);\\n']\n"
     ]
    }
   ],
   "source": [
    "print(fi.TODOes)"
   ]
  },
  {
   "cell_type": "code",
   "execution_count": 43,
   "metadata": {},
   "outputs": [
    {
     "data": {
      "text/plain": [
       "49"
      ]
     },
     "execution_count": 43,
     "metadata": {},
     "output_type": "execute_result"
    }
   ],
   "source": [
    "fi.getNumberOfLines()"
   ]
  },
  {
   "cell_type": "code",
   "execution_count": 53,
   "metadata": {},
   "outputs": [
    {
     "data": {
      "text/plain": [
       "12"
      ]
     },
     "execution_count": 53,
     "metadata": {},
     "output_type": "execute_result"
    }
   ],
   "source": [
    "fi.getNumberOfCommentsLines()"
   ]
  },
  {
   "cell_type": "code",
   "execution_count": null,
   "metadata": {},
   "outputs": [],
   "source": [
    "# TODO\n",
    "# endOfLineDelimiter and blockDelimiter in same line\n",
    "# delimiter in \"\""
   ]
  },
  {
   "cell_type": "code",
   "execution_count": 9,
   "metadata": {},
   "outputs": [],
   "source": [
    "def readFileLineByLineAndCloseFile():\n",
    "    f = open(\"PlaneFuelTest.java\", \"r\")\n",
    "    numLin = 0\n",
    "    for line in f:\n",
    "        numLin += 1\n",
    "        print(line)\n",
    "    f.close()\n",
    "    print(numLin)"
   ]
  },
  {
   "cell_type": "code",
   "execution_count": 15,
   "metadata": {},
   "outputs": [
    {
     "data": {
      "text/plain": [
       "['TODO', 'todo']"
      ]
     },
     "execution_count": 15,
     "metadata": {},
     "output_type": "execute_result"
    }
   ],
   "source": [
    "import re\n",
    "p = re.compile(\"todo\", re.IGNORECASE)\n",
    "p.findall(\"TODO todo\")"
   ]
  },
  {
   "cell_type": "code",
   "execution_count": 27,
   "metadata": {},
   "outputs": [],
   "source": [
    "TODOes = []\n",
    "def containValidTODO(inCommentRange, line):\n",
    "    p = re.compile(\"todo\", re.IGNORECASE)\n",
    "    if inCommentRange == 0:\n",
    "        return False\n",
    "    elif inCommentRange == 1:\n",
    "        delimiterIndex = line.find(\"#\")\n",
    "        \n",
    "        todoes = p.findall(line)\n",
    "        todoIndex = 0\n",
    "        for t in todoes:\n",
    "            print(\"t\")\n",
    "            todoIndex = line.find(t, todoIndex)\n",
    "            print(todoIndex)\n",
    "            if todoIndex > delimiterIndex:\n",
    "                TODOes.append(line[todoIndex:])\n",
    "    print(TODOes)"
   ]
  },
  {
   "cell_type": "code",
   "execution_count": 28,
   "metadata": {},
   "outputs": [
    {
     "name": "stdout",
     "output_type": "stream",
     "text": [
      "t\n",
      "7\n",
      "t\n",
      "18\n",
      "['TODoes EST TODO', 'TODO']\n"
     ]
    }
   ],
   "source": [
    "containValidTODO(1, \"er#2421TODoes EST TODO\")"
   ]
  },
  {
   "cell_type": "code",
   "execution_count": 20,
   "metadata": {},
   "outputs": [
    {
     "data": {
      "text/plain": [
       "[]"
      ]
     },
     "execution_count": 20,
     "metadata": {},
     "output_type": "execute_result"
    }
   ],
   "source": [
    "TODOes"
   ]
  },
  {
   "cell_type": "code",
   "execution_count": null,
   "metadata": {},
   "outputs": [],
   "source": []
  },
  {
   "cell_type": "code",
   "execution_count": null,
   "metadata": {},
   "outputs": [],
   "source": []
  },
  {
   "cell_type": "code",
   "execution_count": null,
   "metadata": {},
   "outputs": [],
   "source": []
  },
  {
   "cell_type": "code",
   "execution_count": null,
   "metadata": {},
   "outputs": [],
   "source": []
  }
 ],
 "metadata": {
  "kernelspec": {
   "display_name": "Python 3",
   "language": "python",
   "name": "python3"
  },
  "language_info": {
   "codemirror_mode": {
    "name": "ipython",
    "version": 3
   },
   "file_extension": ".py",
   "mimetype": "text/x-python",
   "name": "python",
   "nbconvert_exporter": "python",
   "pygments_lexer": "ipython3",
   "version": "3.7.3"
  }
 },
 "nbformat": 4,
 "nbformat_minor": 2
}
